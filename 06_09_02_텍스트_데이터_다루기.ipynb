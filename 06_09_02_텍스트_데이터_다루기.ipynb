{
  "nbformat": 4,
  "nbformat_minor": 0,
  "metadata": {
    "colab": {
      "name": "06.09_02_텍스트 데이터 다루기.ipynb",
      "provenance": [],
      "collapsed_sections": [],
      "authorship_tag": "ABX9TyOzV3jUD2pVt7s4xU98T5Hg",
      "include_colab_link": true
    },
    "kernelspec": {
      "name": "python3",
      "display_name": "Python 3"
    },
    "language_info": {
      "name": "python"
    }
  },
  "cells": [
    {
      "cell_type": "markdown",
      "metadata": {
        "id": "view-in-github",
        "colab_type": "text"
      },
      "source": [
        "<a href=\"https://colab.research.google.com/github/ChungJaeYeom/DataScienceLife/blob/main/06_09_02_%ED%85%8D%EC%8A%A4%ED%8A%B8_%EB%8D%B0%EC%9D%B4%ED%84%B0_%EB%8B%A4%EB%A3%A8%EA%B8%B0.ipynb\" target=\"_parent\"><img src=\"https://colab.research.google.com/assets/colab-badge.svg\" alt=\"Open In Colab\"/></a>"
      ]
    },
    {
      "cell_type": "markdown",
      "metadata": {
        "id": "js6o4_CFApFY"
      },
      "source": [
        "BeautifulSoup 사용하여 HTML 파싱"
      ]
    },
    {
      "cell_type": "code",
      "metadata": {
        "id": "ccTLAsz6A3t0"
      },
      "source": [
        "from bs4 import BeautifulSoup\n",
        "from urllib.request import urlopen\n",
        "\n",
        "# 문자열에서 soup을 생성한다.\n",
        "soup1 = BeautifulSoup(\"<HTML><HEAD><<headers>></HEAD><<body>></HTML>\")\n",
        "\n",
        "# 로컬 파일에서 soup을 생성한다. -> myDoc.html 파일을 사용\n",
        "soup2 = BeautifulSoup(open(\"myDoc.html\"))\n",
        "\n",
        "# 웹문서에서 soup을 생성한다. -> 크롤링의 기초\n",
        "soup3 = BeautifulSoup(urlopen(\"http://www.networksciencelab.com/\"))"
      ],
      "execution_count": null,
      "outputs": []
    },
    {
      "cell_type": "code",
      "metadata": {
        "colab": {
          "base_uri": "https://localhost:8080/"
        },
        "id": "cf-KeIWQC5zS",
        "outputId": "472e053c-a104-4af6-d9b4-4cefa3b3a6a5"
      },
      "source": [
        "soup1"
      ],
      "execution_count": null,
      "outputs": [
        {
          "output_type": "execute_result",
          "data": {
            "text/plain": [
              "<html><head></head><body><p>&lt;<headers>&gt;&lt;&gt;</headers></p></body></html>"
            ]
          },
          "metadata": {
            "tags": []
          },
          "execution_count": 2
        }
      ]
    },
    {
      "cell_type": "code",
      "metadata": {
        "colab": {
          "base_uri": "https://localhost:8080/"
        },
        "id": "Yiv7zfGJC7VC",
        "outputId": "952b8736-df47-4e59-d9a4-d8a1415cc329"
      },
      "source": [
        "soup2"
      ],
      "execution_count": null,
      "outputs": [
        {
          "output_type": "execute_result",
          "data": {
            "text/plain": [
              "<html><head></head><body><p>&lt;<headers>&gt;&lt;&gt;</headers></p></body></html>"
            ]
          },
          "metadata": {
            "tags": []
          },
          "execution_count": 3
        }
      ]
    },
    {
      "cell_type": "code",
      "metadata": {
        "colab": {
          "base_uri": "https://localhost:8080/"
        },
        "id": "qF0tjySVDDk7",
        "outputId": "83ea58c8-bd99-4087-9390-3ab9fa3b2a9a"
      },
      "source": [
        "soup3"
      ],
      "execution_count": null,
      "outputs": [
        {
          "output_type": "execute_result",
          "data": {
            "text/plain": [
              "<html>\n",
              "<head>\n",
              "<title>My Little Network Science Lab</title>\n",
              "<link href=\"style.css\" rel=\"stylesheet\" type=\"text/css\"/>\n",
              "<meta charset=\"utf-8\"/>\n",
              "</head>\n",
              "<body>\n",
              "<h1>My Little Network Science Lab</h1>\n",
              "<h2>By Dmitry Zinoviev</h2>\n",
              "<p>\n",
              "</p><table class=\"hdr\"><tr><td><h3 class=\"nomargin\">Books</h3></td></tr></table>\n",
              "<p>\n",
              "<a href=\"https://pragprog.com/book/dzpyds/data-science-essentials-in-python\"><img align=\"left\" border=\"1\" src=\"https://imagery.pragprog.com/products/490/dzpyds_xlargecover.jpg?1468006361\"/></a>\n",
              "<a href=\"https://pragprog.com/book/dzcnapy/complex-network-analysis-in-python\"><img align=\"left\" border=\"1\" src=\"https://imagery.pragprog.com/products/541/dzcnapy_xlargecover.jpg?1508250011\"/></a>\n",
              "\n",
              "\n",
              "I am excited to announce my books, \"Data Science Essentials in Python. Collect →  Organize →  Explore →  Predict →  Value\" (a.k.a. DZPYDS) and \"Complex Network Analysis in Python. Recognize → Construct → Visualize → Analyze → Interpret\" (a.k.a. DZCNAPY), published by the Pragmatic Bookshelf.\n",
              "</p><p>\n",
              "The <b>first book</b> is intended for seasoned data scientists and statisticians migrating from R to Python, as well as for beginners willing to learn elements of data science in Python.\n",
              "</p><p>\n",
              "The book leads you from messy, unstructured artifacts stored in SQL and NoSQL databases to a neat, well-organized dataset. It covers text mining, machine learning, and network analysis; processing numeric data with the NumPy and Pandas modules; and describing and analyzing data using statistical and network-theoretical methods. It has actual examples of data analysis at work, as well as mini-projects for you to enjoy. \n",
              "</p><p>\n",
              "  The <b>second book</b> shows how, starting with simple networks, one can convert real-life and synthetic network graphs into Networkx data structures. The reader will look at more sophisticated networks and learn more powerful machinery to handle centrality calculation, blockmodeling, and clique and community detection. Get familiar with presentation-quality network visualization tools, both programmable and interactive--such as Gephi, a CNA explorer. The reader will  adapt the patterns from the case studies to your problems, explore big networks with NetworKit, a high-performance networkx substitute. Each part in the book gives an overview of a class of networks, includes a practical study of networkx functions and techniques, and concludes with case studies from various fields, including social networking, anthropology, marketing, and sports analytics.\n",
              "</p><p>\n",
              "  \n",
              "The books are available for purchase at the publisher's site, and on Amazon (<a href=\"https://www.amazon.com/gp/product/1680501844\">DZPYDS</a>, <a href=\"https://www.amazon.com/gp/product/1680502697\">DZCNAPY</a>).\n",
              "</p><p>\n",
              "</p><table class=\"hdr\"><tr><td><h3 class=\"nomargin\">Presentations</h3></td></tr></table>\n",
              "<ul>\n",
              "<li><a href=\"http://www.slideshare.net/DmitryZinoviev/networks-of-music-groups-as-success-predictors\">Networks of Music Groups as Success Predictors</a> - Social networks, digital humanities\n",
              "</li><li><a href=\"http://www.slideshare.net/DmitryZinoviev/workshop-20212296\">Network Science Workshop</a> - General networks\n",
              "</li><li><a href=\"http://www.slideshare.net/DmitryZinoviev/resilience-in-transactional-networks\">Resilience in Transaction-Oriented Networks</a> - Communication networks\n",
              "</li><li><a href=\"http://www.slideshare.net/DmitryZinoviev/peer-ratings-in-massive-online-social-networks\">Peer Ratings in Massive Online Social Networks</a> - Social networks\n",
              "</li><li><a href=\"http://www.slideshare.net/DmitryZinoviev/presentation-31680572\">Semantic Networks of Interests in Online NSSI Communities</a> - Semantic networks\n",
              "</li><li><a href=\"http://www.slideshare.net/DmitryZinoviev/10-monthsymposiumbeta\">Towards an Ideal Store</a> - Product networks\n",
              "</li></ul>\n",
              "<table class=\"hdr\"><tr><td><h3 class=\"nomargin\">Publications</h3></td></tr></table>\n",
              "<ul>\n",
              "<li><a href=\"https://media.pragprog.com/newsletters/2016-04-06.html\">D.Zinoviev, \"Analyzing Cultural Domains with Python,\"</a> <i>PragPub</i>, 82, pp. 26-33, Apr 2016\n",
              "</li><li><a href=\"http://dhj.sagepub.com/content/2/2055207616642118.full\">D. Zinoviev, D. Stefanescu, G. Fireman, and L. Swenson, \"Semantic networks of interests in online non-suicidal self-injury communities,\"</a> <i>Digital Health</i>, doi:10.1177/2055207616642118, SAGE, Apr 2016\n",
              "</li><li><a href=\"http://www.mitpressjournals.org/doi/abs/10.1162/LEON_a_01271#.VzOvwHUrKzc\">D.Zinoviev, \"The Pain of Complexity,\"</a>, <i>Leonardo</i>, 2016\n",
              "</li><li><a href=\"http://link.springer.com/chapter/10.1007/978-3-319-16112-9_18\">D.Zinoviev, Z.Zhu, and K.Li, \"Building mini-categories in product networks,\"</a> in <i>Studies in Computational Intelligence</i>, vol. 597, pp. 179-190, Springer, Mar 2015\n",
              "</li><li><a href=\"http://arxiv.org/abs/1409.6771\">D.Zinoviev, H.Benbrahim, G.Meszoely, and D.Stefanescu, \"Mitigation of delayed management costs in transaction-oriented systems,\"</a> Sep 2014\n",
              "</li><li><a href=\"http://dl.acm.org/citation.cfm?id=2499974\">D.Zinoviev, H.Benbrahim, G.Meszoely, and D.Stefanescu, \"Simulating resilience in transaction-oriented networks,\"</a> in <i>Proc. Spring Simulation Multi-Conference</i>, (San Diego, CA), Apr. 2013\n",
              "</li><li><a href=\"http://arxiv.org/abs/1206.5520\">D.Zinoviev, D.Stefanescu, L.Swenson, and G.Fireman, \"Semantic networks of interests in online NSSI communities,\"</a> in <i>Proc. Workshop \"Words and Networks\"</i> (Evanston, IL), June 2012\n",
              "</li><li><a href=\"http://arxiv.org/abs/1401.6964\">D.Zinoviev and S.Llewelyn, \"Co-Evolution of Friendship and Publishing in Online Blogging Social Networks,\"</a> <i>WebSci-2012</i> (poster)\n",
              "</li><li><a href=\"http://dl.acm.org/citation.cfm?id=2208181\">D.Zinoviev, \"Information diffusion in social networks,\"</a> in <i>Social Networking and Community Behavior Modeling: Qualitative and Quantitative Measures</i> (M. Safar, ed.), Hershey, PA: IGI Global, Dec. 2011\n",
              "</li><li><a href=\"http://dl.acm.org/citation.cfm?id=2048377\">D.Zinoviev and V.Duong, \"A game theoretical approach to broadcast  information diffusion in social networks,\"</a> 6. in <i>Proc. 44th Annual Simulation Symp.</i>, (Boston, MA), pp. 47-52, Apr. 2011\n",
              "</li><li><a href=\"http://dl.acm.org/citation.cfm?id=1999462\">D.Zinoviev and V.Duong, \"A game theoretical approach to modeling full-duplex information dissemination,\"</a> in <i>Proc. Summer Simulation Multi-Conference</i>, (Ottawa, Canada), pp. 358-363, July 2010\n",
              "</li><li><a href=\"http://arxiv.org/abs/1006.5493\">D.Zinoviev, V.Duong, and H.Zhang, \"A game theoretical approach to modeling information dissemination in social networks,\"</a> in <i>Proc. Int. Multi-Conference on Complexity, Informatics and Cybernetics</i>, vol. I, pp. 407-412, IIIS, Apr. 2010\n",
              "</li><li><a href=\"http://arxiv.org/abs/0902.4658\">D.Zinoviev and V.Duong, \"Toward Understanding Friendship in Online Social Networks,\"</a> <i>The Intl J. of Technology, Knowledge, and Society</i>, pp. 1-8, May 2009\n",
              "</li><li><a href=\"http://arxiv.org/abs/0807.3996\">D.Zinoviev, \"Topology and Geometry of Online Social Networks,\"</a> in <i>Proc. 12th World Multi-Conference on Systemics, Cybernetics and Informatics</i>, vol. VI, pp. 138-143, 2008\n",
              "</li></ul>\n",
              "<table class=\"hdr\"><tr><td><h3 class=\"nomargin\">Other Projects</h3></td></tr></table>\n",
              "<ul>\n",
              "<li><a href=\"/vixi/html5/\">Vixi: The Game of Meaning</a>, produced in collaboration with <a href=\"http://meaningoflife.cherkasova.org/\">Evgenia Cherkasova</a> from Philosophy Department.\n",
              "</li><li><a href=\"v2.jpg\">All Characters from War and Peace by L.Tolstoy</a>\n",
              "</li><li><a href=\"bible-networks.pdf\">Mapping the Bible: Social Networks in the Holy Book</a>. A book of graphs.\n",
              "</li><li><a href=\"wc2014.gif\">FIFA World Cup 2014: Who Beat Whom?</a>\n",
              "</li><li><a href=\"facebook_spread.gif\">The seed post \"9 American habits I lost when I moved to Germany\" and its 125 \"likes\" and \"shares\" on Facebook</a>. Nodes represent Facebook users, node sizes - number of friends/followers. Two nodes are connected if they are friends/followers and both reacted to the seed post. Red nodes denote shares. The post was originally published at the yellow node.\n",
              "</li></ul>\n",
              "<table class=\"hdr\"><tr><td><h3 class=\"nomargin\">Contacts</h3></td></tr></table>\n",
              "<ul>\n",
              "<li><a href=\"mailto:dzinoviev@suffolk.edu\">Email</a>\n",
              "</li><li><a href=\"https://www.suffolk.edu/academics/faculty/z/i/dmitry-zinoviev\">Suffolk University</a>\n",
              "</li><li><a href=\"https://scholar.google.com/citations?hl=en&amp;user=j5GjuIkAAAAJ&amp;sortby=pubdate&amp;view_op=list_works&amp;pagesize=100\">Google Scholar</a>\n",
              "</li><li><a href=\"https://www.linkedin.com/pub/dmitry-zinoviev/4/a78/27b\">LinkedIn</a>\n",
              "</li><li><a href=\"https://suffolk.academia.edu/DmitryZinoviev\">Academia.edu</a>\n",
              "</li><li><a href=\"https://www.researchgate.net/profile/Dmitry_Zinoviev\">ResearchGate</a>\n",
              "</li></ul>\n",
              "</body>\n",
              "</html>"
            ]
          },
          "metadata": {
            "tags": []
          },
          "execution_count": 4
        }
      ]
    },
    {
      "cell_type": "markdown",
      "metadata": {
        "id": "3sX7ddWJDdBP"
      },
      "source": [
        "find(),find_all() 특정 속성 (href= 파이퍼링크 정보) 값 찾기"
      ]
    },
    {
      "cell_type": "code",
      "metadata": {
        "colab": {
          "base_uri": "https://localhost:8080/"
        },
        "id": "ty6ET_WuD6Bk",
        "outputId": "6e671d79-cd98-44a7-d1bd-0322fa4f95ac"
      },
      "source": [
        "# http://www.networksciencelab.com/ 사이트에서 하이퍼 링크 정보 모두 가져오기\n",
        "\n",
        "with urlopen(\"http://www.networksciencelab.com/\") as doc:\n",
        "  soup = BeautifulSoup(doc)\n",
        "\n",
        "# 하이퍼 링크 추출\n",
        "links = [(link.string, link[\"href\"]) for link in soup.find_all(\"a\") if link.has_attr(\"href\")]\n",
        "links\n",
        "# 튜플 리스트로 가져옴"
      ],
      "execution_count": null,
      "outputs": [
        {
          "output_type": "execute_result",
          "data": {
            "text/plain": [
              "[(None, 'https://pragprog.com/book/dzpyds/data-science-essentials-in-python'),\n",
              " (None,\n",
              "  'https://pragprog.com/book/dzcnapy/complex-network-analysis-in-python'),\n",
              " ('DZPYDS', 'https://www.amazon.com/gp/product/1680501844'),\n",
              " ('DZCNAPY', 'https://www.amazon.com/gp/product/1680502697'),\n",
              " ('Networks of Music Groups as Success Predictors',\n",
              "  'http://www.slideshare.net/DmitryZinoviev/networks-of-music-groups-as-success-predictors'),\n",
              " ('Network Science Workshop',\n",
              "  'http://www.slideshare.net/DmitryZinoviev/workshop-20212296'),\n",
              " ('Resilience in Transaction-Oriented Networks',\n",
              "  'http://www.slideshare.net/DmitryZinoviev/resilience-in-transactional-networks'),\n",
              " ('Peer Ratings in Massive Online Social Networks',\n",
              "  'http://www.slideshare.net/DmitryZinoviev/peer-ratings-in-massive-online-social-networks'),\n",
              " ('Semantic Networks of Interests in Online NSSI Communities',\n",
              "  'http://www.slideshare.net/DmitryZinoviev/presentation-31680572'),\n",
              " ('Towards an Ideal Store',\n",
              "  'http://www.slideshare.net/DmitryZinoviev/10-monthsymposiumbeta'),\n",
              " ('D.Zinoviev, \"Analyzing Cultural Domains with Python,\"',\n",
              "  'https://media.pragprog.com/newsletters/2016-04-06.html'),\n",
              " ('D. Zinoviev, D. Stefanescu, G. Fireman, and L. Swenson, \"Semantic networks of interests in online non-suicidal self-injury communities,\"',\n",
              "  'http://dhj.sagepub.com/content/2/2055207616642118.full'),\n",
              " ('D.Zinoviev, \"The Pain of Complexity,\"',\n",
              "  'http://www.mitpressjournals.org/doi/abs/10.1162/LEON_a_01271#.VzOvwHUrKzc'),\n",
              " ('D.Zinoviev, Z.Zhu, and K.Li, \"Building mini-categories in product networks,\"',\n",
              "  'http://link.springer.com/chapter/10.1007/978-3-319-16112-9_18'),\n",
              " ('D.Zinoviev, H.Benbrahim, G.Meszoely, and D.Stefanescu, \"Mitigation of delayed management costs in transaction-oriented systems,\"',\n",
              "  'http://arxiv.org/abs/1409.6771'),\n",
              " ('D.Zinoviev, H.Benbrahim, G.Meszoely, and D.Stefanescu, \"Simulating resilience in transaction-oriented networks,\"',\n",
              "  'http://dl.acm.org/citation.cfm?id=2499974'),\n",
              " ('D.Zinoviev, D.Stefanescu, L.Swenson, and G.Fireman, \"Semantic networks of interests in online NSSI communities,\"',\n",
              "  'http://arxiv.org/abs/1206.5520'),\n",
              " ('D.Zinoviev and S.Llewelyn, \"Co-Evolution of Friendship and Publishing in Online Blogging Social Networks,\"',\n",
              "  'http://arxiv.org/abs/1401.6964'),\n",
              " ('D.Zinoviev, \"Information diffusion in social networks,\"',\n",
              "  'http://dl.acm.org/citation.cfm?id=2208181'),\n",
              " ('D.Zinoviev and V.Duong, \"A game theoretical approach to broadcast  information diffusion in social networks,\"',\n",
              "  'http://dl.acm.org/citation.cfm?id=2048377'),\n",
              " ('D.Zinoviev and V.Duong, \"A game theoretical approach to modeling full-duplex information dissemination,\"',\n",
              "  'http://dl.acm.org/citation.cfm?id=1999462'),\n",
              " ('D.Zinoviev, V.Duong, and H.Zhang, \"A game theoretical approach to modeling information dissemination in social networks,\"',\n",
              "  'http://arxiv.org/abs/1006.5493'),\n",
              " ('D.Zinoviev and V.Duong, \"Toward Understanding Friendship in Online Social Networks,\"',\n",
              "  'http://arxiv.org/abs/0902.4658'),\n",
              " ('D.Zinoviev, \"Topology and Geometry of Online Social Networks,\"',\n",
              "  'http://arxiv.org/abs/0807.3996'),\n",
              " ('Vixi: The Game of Meaning', '/vixi/html5/'),\n",
              " ('Evgenia Cherkasova', 'http://meaningoflife.cherkasova.org/'),\n",
              " ('All Characters from War and Peace by L.Tolstoy', 'v2.jpg'),\n",
              " ('Mapping the Bible: Social Networks in the Holy Book', 'bible-networks.pdf'),\n",
              " ('FIFA World Cup 2014: Who Beat Whom?', 'wc2014.gif'),\n",
              " ('The seed post \"9 American habits I lost when I moved to Germany\" and its 125 \"likes\" and \"shares\" on Facebook',\n",
              "  'facebook_spread.gif'),\n",
              " ('Email', 'mailto:dzinoviev@suffolk.edu'),\n",
              " ('Suffolk University',\n",
              "  'https://www.suffolk.edu/academics/faculty/z/i/dmitry-zinoviev'),\n",
              " ('Google Scholar',\n",
              "  'https://scholar.google.com/citations?hl=en&user=j5GjuIkAAAAJ&sortby=pubdate&view_op=list_works&pagesize=100'),\n",
              " ('LinkedIn', 'https://www.linkedin.com/pub/dmitry-zinoviev/4/a78/27b'),\n",
              " ('Academia.edu', 'https://suffolk.academia.edu/DmitryZinoviev'),\n",
              " ('ResearchGate', 'https://www.researchgate.net/profile/Dmitry_Zinoviev')]"
            ]
          },
          "metadata": {
            "tags": []
          },
          "execution_count": 8
        }
      ]
    },
    {
      "cell_type": "code",
      "metadata": {
        "id": "6KOvau9aF_np"
      },
      "source": [
        "# http://www.networksciencelab.com/ 사이트에서 하이퍼 링크 정보 모두 가져오기\n",
        "\n",
        "with urlopen(\"https://sejong.korea.ac.kr/kr\") as doc:\n",
        "  soup = BeautifulSoup(doc)\n",
        "\n",
        "# 하이퍼 링크 추\n",
        "links = [(link.string, link[\"href\"]) for link in soup.find_all(\"a\") if link.has_attr(\"href\")]\n",
        "links\n",
        "# 튜플 리스트로 가져옴"
      ],
      "execution_count": null,
      "outputs": []
    },
    {
      "cell_type": "markdown",
      "metadata": {
        "id": "ZfsORGsLiu1L"
      },
      "source": [
        "CSV 파일 다루기\n",
        "\n",
        "statistics 모듈을 사용해서 나이 변수의 평균과 표준편차 구하기\n",
        "\n",
        "데이터 가져오기\n",
        "\n",
        "\n",
        "\n"
      ]
    },
    {
      "cell_type": "code",
      "metadata": {
        "id": "QunMR8rOjYxD"
      },
      "source": [
        ""
      ],
      "execution_count": null,
      "outputs": []
    },
    {
      "cell_type": "code",
      "metadata": {
        "id": "gqHWASaXi1TQ"
      },
      "source": [
        "import csv\n",
        "\n",
        "with open(\"/content/Demographic_Statistics_By_Zip_Code.csv\") as infile:\n",
        "  data = list(csv.reader(infile))"
      ],
      "execution_count": null,
      "outputs": []
    },
    {
      "cell_type": "code",
      "metadata": {
        "colab": {
          "base_uri": "https://localhost:8080/"
        },
        "id": "aBI68nXVjyxL",
        "outputId": "2cc57cf2-70c4-449e-df5a-f4c59febdf4a"
      },
      "source": [
        "#data 다 확인\n",
        "# 첫번째 레코드에 COUNT PARTICIPANTS 데이터 인덱스 값 추출 data[0] 컬럼 값\n",
        "countParticipantsIndex = data[0].index(\"COUNT PARTICIPANTS\")\n",
        "countParticipantsIndex\n"
      ],
      "execution_count": null,
      "outputs": [
        {
          "output_type": "execute_result",
          "data": {
            "text/plain": [
              "1"
            ]
          },
          "metadata": {
            "tags": []
          },
          "execution_count": 4
        }
      ]
    },
    {
      "cell_type": "code",
      "metadata": {
        "id": "KTt-Btvgj85o"
      },
      "source": [
        "# COUNT PARTICIPANTS 데이터 추출\n",
        "\n",
        "countParticipants = [int(row[countParticipantsIndex]) for row in data[1:]] #리스트 내포\n",
        "countParticipants #작은 따옴표가 없다 -> 숫자로 잘 들어왔다."
      ],
      "execution_count": null,
      "outputs": []
    },
    {
      "cell_type": "markdown",
      "metadata": {
        "id": "LrSmauKpmwGk"
      },
      "source": [
        "나이의 평균과 표준편차"
      ]
    },
    {
      "cell_type": "code",
      "metadata": {
        "colab": {
          "base_uri": "https://localhost:8080/"
        },
        "id": "l2wHV0szmcv3",
        "outputId": "49a0587c-4b70-4cde-e672-7c4b4d21b0d9"
      },
      "source": [
        "import statistics\n",
        "\n",
        "print(statistics.mean(countParticipants), statistics.stdev(countParticipants))"
      ],
      "execution_count": null,
      "outputs": [
        {
          "output_type": "stream",
          "text": [
            "17.661016949152543 43.27973735299687\n"
          ],
          "name": "stdout"
        }
      ]
    },
    {
      "cell_type": "markdown",
      "metadata": {
        "id": "GBUVIoAHvWKN"
      },
      "source": [
        "자연어 처리하기"
      ]
    },
    {
      "cell_type": "code",
      "metadata": {
        "colab": {
          "base_uri": "https://localhost:8080/"
        },
        "id": "28GhBzROnLSj",
        "outputId": "2200fe87-d9c4-4d5a-9d5f-fbc52b30c610"
      },
      "source": [
        "pip install nltk"
      ],
      "execution_count": null,
      "outputs": [
        {
          "output_type": "stream",
          "text": [
            "Requirement already satisfied: nltk in /usr/local/lib/python3.7/dist-packages (3.2.5)\n",
            "Requirement already satisfied: six in /usr/local/lib/python3.7/dist-packages (from nltk) (1.15.0)\n"
          ],
          "name": "stdout"
        }
      ]
    },
    {
      "cell_type": "code",
      "metadata": {
        "colab": {
          "base_uri": "https://localhost:8080/",
          "height": 35
        },
        "id": "79a-l3Gnva-s",
        "outputId": "57e0f121-5502-4ad3-bdeb-a58a4881e92c"
      },
      "source": [
        "import nltk\n",
        "nltk.__version__"
      ],
      "execution_count": null,
      "outputs": [
        {
          "output_type": "execute_result",
          "data": {
            "application/vnd.google.colaboratory.intrinsic+json": {
              "type": "string"
            },
            "text/plain": [
              "'3.2.5'"
            ]
          },
          "metadata": {
            "tags": []
          },
          "execution_count": 9
        }
      ]
    },
    {
      "cell_type": "markdown",
      "metadata": {
        "id": "7AOWcs5Rw-gG"
      },
      "source": [
        "nltk 에서 영단어 온톨로지(wordnet) 사용하기"
      ]
    },
    {
      "cell_type": "code",
      "metadata": {
        "colab": {
          "base_uri": "https://localhost:8080/"
        },
        "id": "tz5ZRUlqvpVm",
        "outputId": "3aa092fe-86b8-419c-d57d-b65687928856"
      },
      "source": [
        "#https://frhyme.github.io/python-lib/nltk-wordnet/\n",
        "nltk.download('wordnet')"
      ],
      "execution_count": null,
      "outputs": [
        {
          "output_type": "stream",
          "text": [
            "[nltk_data] Downloading package wordnet to /root/nltk_data...\n",
            "[nltk_data]   Unzipping corpora/wordnet.zip.\n"
          ],
          "name": "stdout"
        },
        {
          "output_type": "execute_result",
          "data": {
            "text/plain": [
              "True"
            ]
          },
          "metadata": {
            "tags": []
          },
          "execution_count": 10
        }
      ]
    },
    {
      "cell_type": "code",
      "metadata": {
        "colab": {
          "base_uri": "https://localhost:8080/"
        },
        "id": "vFlChCWJxNfc",
        "outputId": "aeed5fc8-b399-4603-cfa1-48acd1a5c09b"
      },
      "source": [
        "wn = nltk.corpus.wordnet #코퍼스 리더(reader)\n",
        "\n",
        "#sysnet: 유의어 묶음으로 단어-품사-순번 으로 구성\n",
        "wn.synsets(\"cat\") #sets는 목차 여러개.."
      ],
      "execution_count": null,
      "outputs": [
        {
          "output_type": "execute_result",
          "data": {
            "text/plain": [
              "[Synset('cat.n.01'),\n",
              " Synset('guy.n.01'),\n",
              " Synset('cat.n.03'),\n",
              " Synset('kat.n.01'),\n",
              " Synset('cat-o'-nine-tails.n.01'),\n",
              " Synset('caterpillar.n.02'),\n",
              " Synset('big_cat.n.01'),\n",
              " Synset('computerized_tomography.n.01'),\n",
              " Synset('cat.v.01'),\n",
              " Synset('vomit.v.01')]"
            ]
          },
          "metadata": {
            "tags": []
          },
          "execution_count": 12
        }
      ]
    },
    {
      "cell_type": "code",
      "metadata": {
        "colab": {
          "base_uri": "https://localhost:8080/"
        },
        "id": "1VlwtreVxwaE",
        "outputId": "09753521-f3c5-46a4-ccc4-588604a04054"
      },
      "source": [
        "wn.synset('cat.n.01').hypernyms() #hypernyms 상위어"
      ],
      "execution_count": null,
      "outputs": [
        {
          "output_type": "execute_result",
          "data": {
            "text/plain": [
              "[Synset('feline.n.01')]"
            ]
          },
          "metadata": {
            "tags": []
          },
          "execution_count": 13
        }
      ]
    },
    {
      "cell_type": "code",
      "metadata": {
        "colab": {
          "base_uri": "https://localhost:8080/"
        },
        "id": "IvBQJT1yyCrS",
        "outputId": "3111b1ba-2b71-499a-de04-814e06d4285b"
      },
      "source": [
        "wn.synset('cat.n.01').hyponyms() #hyponyms 하위어"
      ],
      "execution_count": null,
      "outputs": [
        {
          "output_type": "execute_result",
          "data": {
            "text/plain": [
              "[Synset('domestic_cat.n.01'), Synset('wildcat.n.03')]"
            ]
          },
          "metadata": {
            "tags": []
          },
          "execution_count": 14
        }
      ]
    },
    {
      "cell_type": "markdown",
      "metadata": {
        "id": "fK_5wW68y_RO"
      },
      "source": [
        "WordNet 사용해서 synset간 의미론적 유사도 계산하기 (0-1사이 실수)\n",
        "\n",
        "0이면 두 단어 서로 관계 없음\n",
        "1이면 완전한 유의어"
      ]
    },
    {
      "cell_type": "code",
      "metadata": {
        "colab": {
          "base_uri": "https://localhost:8080/"
        },
        "id": "bD2R_6_uzJ1K",
        "outputId": "d9a5edb1-71f0-456f-9cd4-79bddeb550a1"
      },
      "source": [
        "# 고양이, 링스; 시라소니 유사도 계산\n",
        "x = wn.synset('cat.n.01') # 고양이\n",
        "y = wn.synset('lynx.n.01') # 시라소니\n",
        "\n",
        "# x,y 유사도 계산\n",
        "x.path_similarity(y)"
      ],
      "execution_count": null,
      "outputs": [
        {
          "output_type": "execute_result",
          "data": {
            "text/plain": [
              "0.04"
            ]
          },
          "metadata": {
            "tags": []
          },
          "execution_count": 16
        }
      ]
    },
    {
      "cell_type": "code",
      "metadata": {
        "colab": {
          "base_uri": "https://localhost:8080/"
        },
        "id": "VbHUT7dvzjx1",
        "outputId": "fe7e8c3b-691d-4471-da86-a64dcae8dced"
      },
      "source": [
        "x = wn.synset('cat.n.01') #고양이\n",
        "y = wn.synset('domestic_cat.n.01') #집고양이\n",
        "x.path_similarity(y)"
      ],
      "execution_count": null,
      "outputs": [
        {
          "output_type": "execute_result",
          "data": {
            "text/plain": [
              "0.5"
            ]
          },
          "metadata": {
            "tags": []
          },
          "execution_count": 17
        }
      ]
    },
    {
      "cell_type": "code",
      "metadata": {
        "colab": {
          "base_uri": "https://localhost:8080/"
        },
        "id": "FFywAYsZz7-a",
        "outputId": "6bcb31af-07a5-4ef1-aa66-cdb914ea6e54"
      },
      "source": [
        "x = wn.synset('cat.n.01') #고양이\n",
        "y = wn.synset('cat.n.01') #고양이\n",
        "x.path_similarity(y)"
      ],
      "execution_count": null,
      "outputs": [
        {
          "output_type": "execute_result",
          "data": {
            "text/plain": [
              "1.0"
            ]
          },
          "metadata": {
            "tags": []
          },
          "execution_count": 18
        }
      ]
    },
    {
      "cell_type": "code",
      "metadata": {
        "colab": {
          "base_uri": "https://localhost:8080/"
        },
        "id": "4qcEBv0z0ALN",
        "outputId": "3ff5d2ae-e9c3-45ed-d18b-2b18ceb1c9e1"
      },
      "source": [
        "x = wn.synset('cat.n.01') #고양이\n",
        "y = wn.synset('dog.n.01') #강아지\n",
        "x.path_similarity(y)"
      ],
      "execution_count": null,
      "outputs": [
        {
          "output_type": "execute_result",
          "data": {
            "text/plain": [
              "0.2"
            ]
          },
          "metadata": {
            "tags": []
          },
          "execution_count": 20
        }
      ]
    },
    {
      "cell_type": "code",
      "metadata": {
        "colab": {
          "base_uri": "https://localhost:8080/"
        },
        "id": "CioLevD_0RUQ",
        "outputId": "799f42ef-2094-4b4e-8cc0-b3f7fc0ef278"
      },
      "source": [
        "wn.synset('dog.n.01').hyponyms()"
      ],
      "execution_count": null,
      "outputs": [
        {
          "output_type": "execute_result",
          "data": {
            "text/plain": [
              "[Synset('basenji.n.01'),\n",
              " Synset('corgi.n.01'),\n",
              " Synset('cur.n.01'),\n",
              " Synset('dalmatian.n.02'),\n",
              " Synset('great_pyrenees.n.01'),\n",
              " Synset('griffon.n.02'),\n",
              " Synset('hunting_dog.n.01'),\n",
              " Synset('lapdog.n.01'),\n",
              " Synset('leonberg.n.01'),\n",
              " Synset('mexican_hairless.n.01'),\n",
              " Synset('newfoundland.n.01'),\n",
              " Synset('pooch.n.01'),\n",
              " Synset('poodle.n.01'),\n",
              " Synset('pug.n.01'),\n",
              " Synset('puppy.n.01'),\n",
              " Synset('spitz.n.01'),\n",
              " Synset('toy_dog.n.01'),\n",
              " Synset('working_dog.n.01')]"
            ]
          },
          "metadata": {
            "tags": []
          },
          "execution_count": 22
        }
      ]
    },
    {
      "cell_type": "code",
      "metadata": {
        "colab": {
          "base_uri": "https://localhost:8080/"
        },
        "id": "OE-FIC190YdL",
        "outputId": "cbcbf9e3-f161-4072-fc28-73cab652daf5"
      },
      "source": [
        "from nltk.tokenize import WordPunctTokenizer\n",
        "word_punct = WordPunctTokenizer()\n",
        "\n",
        "text = \"}Help! :))) :[ ..... :D{\"\n",
        "\n",
        "# Tokenizer는 모든 구두점(punctuation: 문장부호)을 기준으로 분리\n",
        "# -> 이모티콘을 이용한 감성 분석 등 문장구조 깊이 분석 할 때 사용\n",
        "\n",
        "word_punct.tokenize(text)"
      ],
      "execution_count": null,
      "outputs": [
        {
          "output_type": "execute_result",
          "data": {
            "text/plain": [
              "['}', 'Help', '!', ':)))', ':[', '.....', ':', 'D', '{']"
            ]
          },
          "metadata": {
            "tags": []
          },
          "execution_count": 23
        }
      ]
    },
    {
      "cell_type": "code",
      "metadata": {
        "colab": {
          "base_uri": "https://localhost:8080/"
        },
        "id": "9gAOrSZw5eMo",
        "outputId": "a3e7b4d7-61ee-41bb-de7d-bd53399c1f9d"
      },
      "source": [
        "import nltk\n",
        "nltk.download('punkt')"
      ],
      "execution_count": null,
      "outputs": [
        {
          "output_type": "stream",
          "text": [
            "[nltk_data] Downloading package punkt to /root/nltk_data...\n",
            "[nltk_data]   Package punkt is already up-to-date!\n"
          ],
          "name": "stdout"
        },
        {
          "output_type": "execute_result",
          "data": {
            "text/plain": [
              "True"
            ]
          },
          "metadata": {
            "tags": []
          },
          "execution_count": 26
        }
      ]
    },
    {
      "cell_type": "code",
      "metadata": {
        "colab": {
          "base_uri": "https://localhost:8080/"
        },
        "id": "eCCqlP0N6qZp",
        "outputId": "4d403574-d21f-4d91-bba3-4a7b914e0b25"
      },
      "source": [
        "# word 토크나이저는 다 분비시킨다.\n",
        "nltk.word_tokenize(text)"
      ],
      "execution_count": null,
      "outputs": [
        {
          "output_type": "execute_result",
          "data": {
            "text/plain": [
              "['}', 'Help', '!', ':', ')', ')', ')', ':', '[', '...', '..', ':', 'D', '{']"
            ]
          },
          "metadata": {
            "tags": []
          },
          "execution_count": 27
        }
      ]
    },
    {
      "cell_type": "code",
      "metadata": {
        "colab": {
          "base_uri": "https://localhost:8080/",
          "height": 35
        },
        "id": "YSUO3jep60kG",
        "outputId": "76ec23d3-a7a3-4f9c-8d34-a9395adc6551"
      },
      "source": [
        "# 2. 단어의 대소문자를 통일한다 (전부 다 대문자 or 소문자)\n",
        "# 3. 불용어 제거 (stopwords 리스트 참조 THE 같은 것들 제거)\n",
        "# 4. 형태소 분석(stemming) 단어를 형태소로 변환\n",
        "\n",
        "#포터 형태소 분석기 (보수적)\n",
        "\n",
        "pstemmer = nltk.PorterStemmer()\n",
        "pstemmer.stem(\"wonderful\")"
      ],
      "execution_count": null,
      "outputs": [
        {
          "output_type": "execute_result",
          "data": {
            "application/vnd.google.colaboratory.intrinsic+json": {
              "type": "string"
            },
            "text/plain": [
              "'wonder'"
            ]
          },
          "metadata": {
            "tags": []
          },
          "execution_count": 28
        }
      ]
    },
    {
      "cell_type": "code",
      "metadata": {
        "colab": {
          "base_uri": "https://localhost:8080/",
          "height": 35
        },
        "id": "eUvJpKAs7iFP",
        "outputId": "fc97e6f9-9680-4995-b982-0b33429a5380"
      },
      "source": [
        "#랭커스터 형태소 분석기 (적극적) - 더 많은 동음이의어 형태소 생산\n",
        "\n",
        "lstemmer = nltk.LancasterStemmer()\n",
        "lstemmer.stem(\"wonderful\")"
      ],
      "execution_count": null,
      "outputs": [
        {
          "output_type": "execute_result",
          "data": {
            "application/vnd.google.colaboratory.intrinsic+json": {
              "type": "string"
            },
            "text/plain": [
              "'wond'"
            ]
          },
          "metadata": {
            "tags": []
          },
          "execution_count": 29
        }
      ]
    },
    {
      "cell_type": "code",
      "metadata": {
        "colab": {
          "base_uri": "https://localhost:8080/",
          "height": 35
        },
        "id": "4Sr2F-_-7yhB",
        "outputId": "0196ce86-d893-43cc-c7b6-34eefbec6e86"
      },
      "source": [
        "#5. 원형 추출\n",
        "\n",
        "lemmatizer = nltk.WordNetLemmatizer()\n",
        "lemmatizer.lemmatize(\"wonderful\")"
      ],
      "execution_count": null,
      "outputs": [
        {
          "output_type": "execute_result",
          "data": {
            "application/vnd.google.colaboratory.intrinsic+json": {
              "type": "string"
            },
            "text/plain": [
              "'wonderful'"
            ]
          },
          "metadata": {
            "tags": []
          },
          "execution_count": 30
        }
      ]
    },
    {
      "cell_type": "code",
      "metadata": {
        "colab": {
          "base_uri": "https://localhost:8080/"
        },
        "id": "CkX2Xfa78Sn2",
        "outputId": "255783ae-2c28-4f76-a051-d576d3030f79"
      },
      "source": [
        "# 그외 품사 태깅\n",
        "\n",
        "nltk.download('averaged_perceptron_tagger')\n",
        "nltk.pos_tag([\"beautiful\", \"world\"]) # JJ\tadjective(형용사), NN\tnoun(명사)\n"
      ],
      "execution_count": null,
      "outputs": [
        {
          "output_type": "stream",
          "text": [
            "[nltk_data] Downloading package averaged_perceptron_tagger to\n",
            "[nltk_data]     /root/nltk_data...\n",
            "[nltk_data]   Unzipping taggers/averaged_perceptron_tagger.zip.\n"
          ],
          "name": "stdout"
        },
        {
          "output_type": "execute_result",
          "data": {
            "text/plain": [
              "[('beautiful', 'JJ'), ('world', 'NN')]"
            ]
          },
          "metadata": {
            "tags": []
          },
          "execution_count": 31
        }
      ]
    },
    {
      "cell_type": "markdown",
      "metadata": {
        "id": "ow6gb9di84w9"
      },
      "source": [
        "index.html 파일에서(불용어 제외) 가장 많이 등장한 단어 원형 찾아보기"
      ]
    },
    {
      "cell_type": "code",
      "metadata": {
        "colab": {
          "base_uri": "https://localhost:8080/",
          "height": 178
        },
        "id": "MVFTrlnl8aJ9",
        "outputId": "cc5ee38c-7ce5-4130-8e96-600c190dbd4a"
      },
      "source": [
        "# www.networksciencelab.com 사이트에서 하이퍼 링크 정보 모두 가져오기\n",
        "\n",
        "from bs4 import BeautifulSoup\n",
        "from urllib.request import urlopen\n",
        "\n",
        "with urlopen(\"http://www.networksciencelab.com/\") as doc:\n",
        "  soup = BeautifulSoup(doc)\n",
        "\n",
        "# 하이퍼 링크 추출\n",
        "links = [(link.string, link[\"href\"]) for link in soup.find_all(\"a\") if link.has_attr(\"href\")]\n",
        "\n",
        "# 책 제목만 추출\n",
        "html_text = [i[0] for i in links]\n",
        "\n",
        "# None 데이터 제거\n",
        "html_text = \" \".join(html_text[2:])\n",
        "html_text"
      ],
      "execution_count": null,
      "outputs": [
        {
          "output_type": "execute_result",
          "data": {
            "application/vnd.google.colaboratory.intrinsic+json": {
              "type": "string"
            },
            "text/plain": [
              "'DZPYDS DZCNAPY Networks of Music Groups as Success Predictors Network Science Workshop Resilience in Transaction-Oriented Networks Peer Ratings in Massive Online Social Networks Semantic Networks of Interests in Online NSSI Communities Towards an Ideal Store D.Zinoviev, \"Analyzing Cultural Domains with Python,\" D. Zinoviev, D. Stefanescu, G. Fireman, and L. Swenson, \"Semantic networks of interests in online non-suicidal self-injury communities,\" D.Zinoviev, \"The Pain of Complexity,\" D.Zinoviev, Z.Zhu, and K.Li, \"Building mini-categories in product networks,\" D.Zinoviev, H.Benbrahim, G.Meszoely, and D.Stefanescu, \"Mitigation of delayed management costs in transaction-oriented systems,\" D.Zinoviev, H.Benbrahim, G.Meszoely, and D.Stefanescu, \"Simulating resilience in transaction-oriented networks,\" D.Zinoviev, D.Stefanescu, L.Swenson, and G.Fireman, \"Semantic networks of interests in online NSSI communities,\" D.Zinoviev and S.Llewelyn, \"Co-Evolution of Friendship and Publishing in Online Blogging Social Networks,\" D.Zinoviev, \"Information diffusion in social networks,\" D.Zinoviev and V.Duong, \"A game theoretical approach to broadcast  information diffusion in social networks,\" D.Zinoviev and V.Duong, \"A game theoretical approach to modeling full-duplex information dissemination,\" D.Zinoviev, V.Duong, and H.Zhang, \"A game theoretical approach to modeling information dissemination in social networks,\" D.Zinoviev and V.Duong, \"Toward Understanding Friendship in Online Social Networks,\" D.Zinoviev, \"Topology and Geometry of Online Social Networks,\" Vixi: The Game of Meaning Evgenia Cherkasova All Characters from War and Peace by L.Tolstoy Mapping the Bible: Social Networks in the Holy Book FIFA World Cup 2014: Who Beat Whom? The seed post \"9 American habits I lost when I moved to Germany\" and its 125 \"likes\" and \"shares\" on Facebook Email Suffolk University Google Scholar LinkedIn Academia.edu ResearchGate'"
            ]
          },
          "metadata": {
            "tags": []
          },
          "execution_count": 36
        }
      ]
    },
    {
      "cell_type": "code",
      "metadata": {
        "id": "sLeSa5vS98tG"
      },
      "source": [
        "# index.html 파일로 저장\n",
        "html_file = open(\"index.html\",'w')\n",
        "html_file.write(html_text)\n",
        "html_file.close()"
      ],
      "execution_count": null,
      "outputs": []
    },
    {
      "cell_type": "markdown",
      "metadata": {
        "id": "-HlT-vtNW1ME"
      },
      "source": [
        "index.html 파일에서(불용어 제외) 가장 많이 등장한 단어 원형 찾아보기 "
      ]
    },
    {
      "cell_type": "code",
      "metadata": {
        "id": "x0571orj-6LA"
      },
      "source": [
        "from bs4 import BeautifulSoup\n",
        "from collections import Counter\n",
        "from nltk.corpus import stopwords\n",
        "from nltk import LancasterStemmer\n",
        "\n",
        "# 형태소 분류기를 생성한다.\n",
        "ls = nltk.LancasterStemmer()\n",
        "\n",
        "# 파일을 읽고 soup을 만든다.\n",
        "with open(\"/content/index.html\") as infile:\n",
        "  soup = BeautifulSoup(infile)"
      ],
      "execution_count": null,
      "outputs": []
    },
    {
      "cell_type": "code",
      "metadata": {
        "colab": {
          "base_uri": "https://localhost:8080/"
        },
        "id": "M7ACKGzCYm1l",
        "outputId": "69b2e4ef-4093-4e0a-b50b-48fc33f5229b"
      },
      "source": [
        "soup"
      ],
      "execution_count": null,
      "outputs": [
        {
          "output_type": "execute_result",
          "data": {
            "text/plain": [
              "<html><body><p>DZPYDS DZCNAPY Networks of Music Groups as Success Predictors Network Science Workshop Resilience in Transaction-Oriented Networks Peer Ratings in Massive Online Social Networks Semantic Networks of Interests in Online NSSI Communities Towards an Ideal Store D.Zinoviev, \"Analyzing Cultural Domains with Python,\" D. Zinoviev, D. Stefanescu, G. Fireman, and L. Swenson, \"Semantic networks of interests in online non-suicidal self-injury communities,\" D.Zinoviev, \"The Pain of Complexity,\" D.Zinoviev, Z.Zhu, and K.Li, \"Building mini-categories in product networks,\" D.Zinoviev, H.Benbrahim, G.Meszoely, and D.Stefanescu, \"Mitigation of delayed management costs in transaction-oriented systems,\" D.Zinoviev, H.Benbrahim, G.Meszoely, and D.Stefanescu, \"Simulating resilience in transaction-oriented networks,\" D.Zinoviev, D.Stefanescu, L.Swenson, and G.Fireman, \"Semantic networks of interests in online NSSI communities,\" D.Zinoviev and S.Llewelyn, \"Co-Evolution of Friendship and Publishing in Online Blogging Social Networks,\" D.Zinoviev, \"Information diffusion in social networks,\" D.Zinoviev and V.Duong, \"A game theoretical approach to broadcast  information diffusion in social networks,\" D.Zinoviev and V.Duong, \"A game theoretical approach to modeling full-duplex information dissemination,\" D.Zinoviev, V.Duong, and H.Zhang, \"A game theoretical approach to modeling information dissemination in social networks,\" D.Zinoviev and V.Duong, \"Toward Understanding Friendship in Online Social Networks,\" D.Zinoviev, \"Topology and Geometry of Online Social Networks,\" Vixi: The Game of Meaning Evgenia Cherkasova All Characters from War and Peace by L.Tolstoy Mapping the Bible: Social Networks in the Holy Book FIFA World Cup 2014: Who Beat Whom? The seed post \"9 American habits I lost when I moved to Germany\" and its 125 \"likes\" and \"shares\" on Facebook Email Suffolk University Google Scholar LinkedIn Academia.edu ResearchGate</p></body></html>"
            ]
          },
          "metadata": {
            "tags": []
          },
          "execution_count": 50
        }
      ]
    },
    {
      "cell_type": "code",
      "metadata": {
        "colab": {
          "base_uri": "https://localhost:8080/",
          "height": 178
        },
        "id": "s9bVeNFWYooB",
        "outputId": "7d05715d-ce9f-4704-e804-5e08d9a4fa73"
      },
      "source": [
        "soup.text #html로 받았지만 text로 접근할 수 있다."
      ],
      "execution_count": null,
      "outputs": [
        {
          "output_type": "execute_result",
          "data": {
            "application/vnd.google.colaboratory.intrinsic+json": {
              "type": "string"
            },
            "text/plain": [
              "'DZPYDS DZCNAPY Networks of Music Groups as Success Predictors Network Science Workshop Resilience in Transaction-Oriented Networks Peer Ratings in Massive Online Social Networks Semantic Networks of Interests in Online NSSI Communities Towards an Ideal Store D.Zinoviev, \"Analyzing Cultural Domains with Python,\" D. Zinoviev, D. Stefanescu, G. Fireman, and L. Swenson, \"Semantic networks of interests in online non-suicidal self-injury communities,\" D.Zinoviev, \"The Pain of Complexity,\" D.Zinoviev, Z.Zhu, and K.Li, \"Building mini-categories in product networks,\" D.Zinoviev, H.Benbrahim, G.Meszoely, and D.Stefanescu, \"Mitigation of delayed management costs in transaction-oriented systems,\" D.Zinoviev, H.Benbrahim, G.Meszoely, and D.Stefanescu, \"Simulating resilience in transaction-oriented networks,\" D.Zinoviev, D.Stefanescu, L.Swenson, and G.Fireman, \"Semantic networks of interests in online NSSI communities,\" D.Zinoviev and S.Llewelyn, \"Co-Evolution of Friendship and Publishing in Online Blogging Social Networks,\" D.Zinoviev, \"Information diffusion in social networks,\" D.Zinoviev and V.Duong, \"A game theoretical approach to broadcast  information diffusion in social networks,\" D.Zinoviev and V.Duong, \"A game theoretical approach to modeling full-duplex information dissemination,\" D.Zinoviev, V.Duong, and H.Zhang, \"A game theoretical approach to modeling information dissemination in social networks,\" D.Zinoviev and V.Duong, \"Toward Understanding Friendship in Online Social Networks,\" D.Zinoviev, \"Topology and Geometry of Online Social Networks,\" Vixi: The Game of Meaning Evgenia Cherkasova All Characters from War and Peace by L.Tolstoy Mapping the Bible: Social Networks in the Holy Book FIFA World Cup 2014: Who Beat Whom? The seed post \"9 American habits I lost when I moved to Germany\" and its 125 \"likes\" and \"shares\" on Facebook Email Suffolk University Google Scholar LinkedIn Academia.edu ResearchGate'"
            ]
          },
          "metadata": {
            "tags": []
          },
          "execution_count": 51
        }
      ]
    },
    {
      "cell_type": "code",
      "metadata": {
        "id": "b6uiFf6MYqqx"
      },
      "source": [
        "# 1) 텍스트 추출 -> 토큰화\n",
        "words = nltk.word_tokenize(soup.text)\n",
        "words"
      ],
      "execution_count": null,
      "outputs": []
    },
    {
      "cell_type": "code",
      "metadata": {
        "id": "jekUvnJyaRMw"
      },
      "source": [
        "# 2) 단어를 소문자로 변환 > 첫글자가 대문자로 되어있다. \n",
        "words = [w.lower() for w in words]\n",
        "words"
      ],
      "execution_count": null,
      "outputs": []
    },
    {
      "cell_type": "code",
      "metadata": {
        "colab": {
          "base_uri": "https://localhost:8080/"
        },
        "id": "FlfySDX2dbLP",
        "outputId": "c1f88c8c-e7a5-4024-caea-2991aff289cd"
      },
      "source": [
        "import nltk\n",
        "\n",
        "nltk.download('stopwords')"
      ],
      "execution_count": null,
      "outputs": [
        {
          "output_type": "stream",
          "text": [
            "[nltk_data] Downloading package stopwords to /root/nltk_data...\n",
            "[nltk_data]   Package stopwords is already up-to-date!\n"
          ],
          "name": "stdout"
        },
        {
          "output_type": "execute_result",
          "data": {
            "text/plain": [
              "True"
            ]
          },
          "metadata": {
            "tags": []
          },
          "execution_count": 61
        }
      ]
    },
    {
      "cell_type": "code",
      "metadata": {
        "id": "NrZrnCh6a_JI"
      },
      "source": [
        "# 3) 불용어를 제거하고 단어의 형태소를 추출\n",
        "# isalnum() 함수는 알파벳 소문자-대문자, 알파벳([a-zA-Z])와 숫자[0-9]로만 구성되었는지 확인함\n",
        "# 3-1) 불영어 제거 stopwords.words(\"english\")\n",
        "# 3-2) 특수기호 제거 isalnum()\n",
        "words = [ls.stem(w) for w in words if w not in stopwords.words(\"english\") and w.isalnum()]"
      ],
      "execution_count": null,
      "outputs": []
    },
    {
      "cell_type": "code",
      "metadata": {
        "colab": {
          "base_uri": "https://localhost:8080/"
        },
        "id": "cSjVdy5odTEW",
        "outputId": "14751a54-4df0-47de-d859-f1ba88ad19c7"
      },
      "source": [
        "#4 ) 가장 빈번하게 등장하는 단어 10개 추출\n",
        "freqs = Counter(words)\n",
        "print(freqs.most_common(5))"
      ],
      "execution_count": null,
      "outputs": [
        {
          "output_type": "stream",
          "text": [
            "[('network', 16), ('soc', 8), ('onlin', 7), ('inform', 4), ('gam', 4)]\n"
          ],
          "name": "stdout"
        }
      ]
    },
    {
      "cell_type": "markdown",
      "metadata": {
        "id": "PTUNra5Yi5hM"
      },
      "source": [
        "10개의 양수로 된 간단한 numpy 배열 만들기"
      ]
    },
    {
      "cell_type": "code",
      "metadata": {
        "colab": {
          "base_uri": "https://localhost:8080/"
        },
        "id": "Ra6E6RHjd7GH",
        "outputId": "97183e4a-a505-44ac-83ca-97b839d59350"
      },
      "source": [
        "import numpy as np\n",
        "\n",
        "numbers = np.array(range(1,11), copy=True)\n",
        "numbers"
      ],
      "execution_count": null,
      "outputs": [
        {
          "output_type": "execute_result",
          "data": {
            "text/plain": [
              "array([ 1,  2,  3,  4,  5,  6,  7,  8,  9, 10])"
            ]
          },
          "metadata": {
            "tags": []
          },
          "execution_count": 67
        }
      ]
    },
    {
      "cell_type": "markdown",
      "metadata": {
        "id": "WIw9FXW6kncv"
      },
      "source": [
        "ones() -> 1, zeros() -> 0, empty() -> 아직 생성되지 않은 엔트리로 구성\n",
        "\n",
        "https://numpy.org/doc/stable/reference/generated/numpy.array.html\n",
        "\n",
        "\n"
      ]
    },
    {
      "cell_type": "code",
      "metadata": {
        "colab": {
          "base_uri": "https://localhost:8080/"
        },
        "id": "0U6pz5L4jP8e",
        "outputId": "8da45c1e-8927-490f-d909-48bcc8d8e114"
      },
      "source": [
        "# 아직 생성되지 않은 엔트리로 구성된 배열을 1로 채움\n",
        "ones = np.ones([2,4], dtype = np.int64)\n",
        "ones"
      ],
      "execution_count": null,
      "outputs": [
        {
          "output_type": "execute_result",
          "data": {
            "text/plain": [
              "array([[1, 1, 1, 1],\n",
              "       [1, 1, 1, 1]])"
            ]
          },
          "metadata": {
            "tags": []
          },
          "execution_count": 69
        }
      ]
    },
    {
      "cell_type": "code",
      "metadata": {
        "colab": {
          "base_uri": "https://localhost:8080/"
        },
        "id": "Nd3H4sx-lKDS",
        "outputId": "ff50503e-1bb1-4628-9302-c699a2156e62"
      },
      "source": [
        "# 아직 생성되지 않은 엔트리로 구성된 배열을 0으로 채움\n",
        "zeros = np.zeros([2,4], dtype = np.float64)\n",
        "zeros"
      ],
      "execution_count": null,
      "outputs": [
        {
          "output_type": "execute_result",
          "data": {
            "text/plain": [
              "array([[0., 0., 0., 0.],\n",
              "       [0., 0., 0., 0.]])"
            ]
          },
          "metadata": {
            "tags": []
          },
          "execution_count": 71
        }
      ]
    },
    {
      "cell_type": "code",
      "metadata": {
        "colab": {
          "base_uri": "https://localhost:8080/"
        },
        "id": "pyag0bSoleFK",
        "outputId": "474167b4-c743-4fd9-ea25-87ef5fc242e8"
      },
      "source": [
        "# 아직 생성되지 않은 엔트리로 구성된 배열\n",
        "empty = np.empty([2,4], dtype = np.int64)\n",
        "empty"
      ],
      "execution_count": null,
      "outputs": [
        {
          "output_type": "execute_result",
          "data": {
            "text/plain": [
              "array([[0, 0, 0, 0],\n",
              "       [0, 0, 0, 0]])"
            ]
          },
          "metadata": {
            "tags": []
          },
          "execution_count": 72
        }
      ]
    },
    {
      "cell_type": "markdown",
      "metadata": {
        "id": "r8zlQ0VclwPH"
      },
      "source": [
        "데이터 확인하기"
      ]
    },
    {
      "cell_type": "code",
      "metadata": {
        "colab": {
          "base_uri": "https://localhost:8080/"
        },
        "id": "p20oXxlCltzv",
        "outputId": "ca8d2063-f8f2-49a1-bb55-c8a75a1d9884"
      },
      "source": [
        "ones.shape"
      ],
      "execution_count": null,
      "outputs": [
        {
          "output_type": "execute_result",
          "data": {
            "text/plain": [
              "(2, 4)"
            ]
          },
          "metadata": {
            "tags": []
          },
          "execution_count": 73
        }
      ]
    },
    {
      "cell_type": "code",
      "metadata": {
        "colab": {
          "base_uri": "https://localhost:8080/"
        },
        "id": "ineTt2SImuY7",
        "outputId": "09c1ce31-1ef3-4a05-abab-daf67803cce3"
      },
      "source": [
        "ones.ndim"
      ],
      "execution_count": null,
      "outputs": [
        {
          "output_type": "execute_result",
          "data": {
            "text/plain": [
              "2"
            ]
          },
          "metadata": {
            "tags": []
          },
          "execution_count": 74
        }
      ]
    },
    {
      "cell_type": "code",
      "metadata": {
        "colab": {
          "base_uri": "https://localhost:8080/"
        },
        "id": "WCQ7Toa0mvvx",
        "outputId": "486855a6-b3f1-4da4-b38c-c7cb098a5471"
      },
      "source": [
        "ones.dtype"
      ],
      "execution_count": null,
      "outputs": [
        {
          "output_type": "execute_result",
          "data": {
            "text/plain": [
              "dtype('float64')"
            ]
          },
          "metadata": {
            "tags": []
          },
          "execution_count": 75
        }
      ]
    },
    {
      "cell_type": "code",
      "metadata": {
        "colab": {
          "base_uri": "https://localhost:8080/"
        },
        "id": "L8APLcTGmxki",
        "outputId": "d5bf9688-3ca5-4b50-ead1-31f959d66398"
      },
      "source": [
        "numbers.dtype"
      ],
      "execution_count": null,
      "outputs": [
        {
          "output_type": "execute_result",
          "data": {
            "text/plain": [
              "dtype('int64')"
            ]
          },
          "metadata": {
            "tags": []
          },
          "execution_count": 76
        }
      ]
    },
    {
      "cell_type": "markdown",
      "metadata": {
        "id": "KzHYJ1qSnbPy"
      },
      "source": [
        "arange(start,stop,step,dtype=None) 일정 간격으로 배열 생성하는 함수"
      ]
    },
    {
      "cell_type": "code",
      "metadata": {
        "colab": {
          "base_uri": "https://localhost:8080/"
        },
        "id": "OhxZI48Dm0LM",
        "outputId": "e541f3af-e301-4613-8d52-75b137350041"
      },
      "source": [
        "np_numbers = np.arange(2,5,0.25)\n",
        "np_numbers"
      ],
      "execution_count": null,
      "outputs": [
        {
          "output_type": "execute_result",
          "data": {
            "text/plain": [
              "array([2.  , 2.25, 2.5 , 2.75, 3.  , 3.25, 3.5 , 3.75, 4.  , 4.25, 4.5 ,\n",
              "       4.75])"
            ]
          },
          "metadata": {
            "tags": []
          },
          "execution_count": 77
        }
      ]
    },
    {
      "cell_type": "markdown",
      "metadata": {
        "id": "6xSWlHt9nt6p"
      },
      "source": [
        "astype(dtype, casting=\"unsafe\", copy=True) 아이템의 타입 변경해 주는 함수\n"
      ]
    },
    {
      "cell_type": "code",
      "metadata": {
        "colab": {
          "base_uri": "https://localhost:8080/"
        },
        "id": "ee2owCVUnuUT",
        "outputId": "38d8f8e4-3b32-41bd-d805-6f54609626c2"
      },
      "source": [
        "np_numbers.dtype"
      ],
      "execution_count": null,
      "outputs": [
        {
          "output_type": "execute_result",
          "data": {
            "text/plain": [
              "dtype('float64')"
            ]
          },
          "metadata": {
            "tags": []
          },
          "execution_count": 78
        }
      ]
    },
    {
      "cell_type": "code",
      "metadata": {
        "colab": {
          "base_uri": "https://localhost:8080/"
        },
        "id": "LPzEN3Z8oIBQ",
        "outputId": "ced04d9e-fb15-42fc-d119-f953f1f3232f"
      },
      "source": [
        "np_numbers = np_numbers.astype(np.int)\n",
        "np_numbers.dtype"
      ],
      "execution_count": null,
      "outputs": [
        {
          "output_type": "execute_result",
          "data": {
            "text/plain": [
              "dtype('int64')"
            ]
          },
          "metadata": {
            "tags": []
          },
          "execution_count": 79
        }
      ]
    },
    {
      "cell_type": "markdown",
      "metadata": {
        "id": "5rfsgTPaoypq"
      },
      "source": [
        "reshape(d0, d1, ...) 대상 배열의 모양을 바꿔주는 함수\n"
      ]
    },
    {
      "cell_type": "code",
      "metadata": {
        "colab": {
          "base_uri": "https://localhost:8080/"
        },
        "id": "eov1ohhZoRXj",
        "outputId": "abe580ef-cd8a-49f0-9b61-74cfa2dec09c"
      },
      "source": [
        "# 몇 가지 S&P 주식 기호들\n",
        "sap = np.array([\"MMM\", \"ABT\", \"ABBV\", \"ACN\", \"ACE\", \"ATVI\", \"ADBE\", \"ADT\"])\n",
        "sap #U4 는 4글자 유니코드"
      ],
      "execution_count": null,
      "outputs": [
        {
          "output_type": "execute_result",
          "data": {
            "text/plain": [
              "array(['MMM', 'ABT', 'ABBV', 'ACN', 'ACE', 'ATVI', 'ADBE', 'ADT'],\n",
              "      dtype='<U4')"
            ]
          },
          "metadata": {
            "tags": []
          },
          "execution_count": 80
        }
      ]
    },
    {
      "cell_type": "code",
      "metadata": {
        "colab": {
          "base_uri": "https://localhost:8080/"
        },
        "id": "ULGdnn-ro1t2",
        "outputId": "1867ef10-62fa-4d22-e8f4-ab11c3bde53c"
      },
      "source": [
        "sap.shape #(8,) 1차원 배열을 뜻한당"
      ],
      "execution_count": null,
      "outputs": [
        {
          "output_type": "execute_result",
          "data": {
            "text/plain": [
              "(8,)"
            ]
          },
          "metadata": {
            "tags": []
          },
          "execution_count": 81
        }
      ]
    },
    {
      "cell_type": "code",
      "metadata": {
        "colab": {
          "base_uri": "https://localhost:8080/"
        },
        "id": "ypjNihippM20",
        "outputId": "b6f6c8d7-a2d7-4e49-8077-94d2bd706728"
      },
      "source": [
        "sap2d = sap.reshape(2,4)\n",
        "sap2d"
      ],
      "execution_count": null,
      "outputs": [
        {
          "output_type": "execute_result",
          "data": {
            "text/plain": [
              "array([['MMM', 'ABT', 'ABBV', 'ACN'],\n",
              "       ['ACE', 'ATVI', 'ADBE', 'ADT']], dtype='<U4')"
            ]
          },
          "metadata": {
            "tags": []
          },
          "execution_count": 83
        }
      ]
    },
    {
      "cell_type": "code",
      "metadata": {
        "colab": {
          "base_uri": "https://localhost:8080/"
        },
        "id": "hvBxJvTwpQb0",
        "outputId": "823412f5-0d48-49bf-c88b-2588ffa693de"
      },
      "source": [
        "# 기존 배열과 새로운 배열의 아이템의 개수는 항상 동일 해야 함\n",
        "# numpy 보존의 법칙 성립\n",
        "\n",
        "sap3d = sap.reshape(2,2,2)\n",
        "sap3d"
      ],
      "execution_count": null,
      "outputs": [
        {
          "output_type": "execute_result",
          "data": {
            "text/plain": [
              "array([[['MMM', 'ABT'],\n",
              "        ['ABBV', 'ACN']],\n",
              "\n",
              "       [['ACE', 'ATVI'],\n",
              "        ['ADBE', 'ADT']]], dtype='<U4')"
            ]
          },
          "metadata": {
            "tags": []
          },
          "execution_count": 84
        }
      ]
    },
    {
      "cell_type": "code",
      "metadata": {
        "colab": {
          "base_uri": "https://localhost:8080/"
        },
        "id": "6dAfS3XNptWm",
        "outputId": "a1b837c2-6449-4ba8-809b-0cad621a4456"
      },
      "source": [
        "sap3d[0] # 1차원"
      ],
      "execution_count": null,
      "outputs": [
        {
          "output_type": "execute_result",
          "data": {
            "text/plain": [
              "array([['MMM', 'ABT'],\n",
              "       ['ABBV', 'ACN']], dtype='<U4')"
            ]
          },
          "metadata": {
            "tags": []
          },
          "execution_count": 86
        }
      ]
    },
    {
      "cell_type": "code",
      "metadata": {
        "colab": {
          "base_uri": "https://localhost:8080/"
        },
        "id": "4t-dujtBp6Ny",
        "outputId": "1f53a75f-eaf5-4c71-f00d-66fd5f52d2c3"
      },
      "source": [
        "sap3d[1] # 2차원"
      ],
      "execution_count": null,
      "outputs": [
        {
          "output_type": "execute_result",
          "data": {
            "text/plain": [
              "array([['ACE', 'ATVI'],\n",
              "       ['ADBE', 'ADT']], dtype='<U4')"
            ]
          },
          "metadata": {
            "tags": []
          },
          "execution_count": 87
        }
      ]
    },
    {
      "cell_type": "markdown",
      "metadata": {
        "id": "lLdrln4arvEu"
      },
      "source": [
        "데이터 클리닝(data cleaning)을 위해 사용 되는 boolean indexing\n"
      ]
    },
    {
      "cell_type": "code",
      "metadata": {
        "colab": {
          "base_uri": "https://localhost:8080/"
        },
        "id": "JA5PfnptqDXF",
        "outputId": "75bdba1f-c418-4228-f4eb-c7243252dbc7"
      },
      "source": [
        "# 절대 음수 값이 와서는 안되는 데이터 셋 \n",
        "\n",
        "dirty = np.array([9,4,1,-0.01,-0.02,-0.001])\n",
        "whos_dirty = dirty < 0\n",
        "whos_dirty"
      ],
      "execution_count": null,
      "outputs": [
        {
          "output_type": "execute_result",
          "data": {
            "text/plain": [
              "array([False, False, False,  True,  True,  True])"
            ]
          },
          "metadata": {
            "tags": []
          },
          "execution_count": 88
        }
      ]
    },
    {
      "cell_type": "code",
      "metadata": {
        "colab": {
          "base_uri": "https://localhost:8080/"
        },
        "id": "aqLdtHn9sfWY",
        "outputId": "7b845826-a3ae-4e54-f56d-5c929b8c2c57"
      },
      "source": [
        "dirty[whos_dirty] = 0 # 모든 음수값을 0으로 바꿈\n",
        "dirty"
      ],
      "execution_count": null,
      "outputs": [
        {
          "output_type": "execute_result",
          "data": {
            "text/plain": [
              "array([9., 4., 1., 0., 0., 0.])"
            ]
          },
          "metadata": {
            "tags": []
          },
          "execution_count": 89
        }
      ]
    },
    {
      "cell_type": "markdown",
      "metadata": {
        "id": "wF5jhoCIxl6Z"
      },
      "source": [
        "논리 연산자 | or, & and, - not 결합하여 boolean indexing 사용\n"
      ]
    },
    {
      "cell_type": "code",
      "metadata": {
        "colab": {
          "base_uri": "https://localhost:8080/"
        },
        "id": "Ldlu84_us1WD",
        "outputId": "4c79a422-9e8c-47bc-dbab-8e522652406a"
      },
      "source": [
        "linear = np.arange(-1,1.1,0.2)\n",
        "linear"
      ],
      "execution_count": null,
      "outputs": [
        {
          "output_type": "execute_result",
          "data": {
            "text/plain": [
              "array([-1.00000000e+00, -8.00000000e-01, -6.00000000e-01, -4.00000000e-01,\n",
              "       -2.00000000e-01, -2.22044605e-16,  2.00000000e-01,  4.00000000e-01,\n",
              "        6.00000000e-01,  8.00000000e-01,  1.00000000e+00])"
            ]
          },
          "metadata": {
            "tags": []
          },
          "execution_count": 90
        }
      ]
    },
    {
      "cell_type": "code",
      "metadata": {
        "colab": {
          "base_uri": "https://localhost:8080/"
        },
        "id": "oQLX-Vs9xuww",
        "outputId": "e113e195-f84d-40a7-c5c5-998cfd693f65"
      },
      "source": [
        "# -0.5 ~ 0.5 사이의 값만 -> 0으로 변경하고 싶음\n",
        "\n",
        "whos_linear = (linear <= 0.5) & (linear >= -0.5)\n",
        "whos_linear"
      ],
      "execution_count": null,
      "outputs": [
        {
          "output_type": "execute_result",
          "data": {
            "text/plain": [
              "array([False, False, False,  True,  True,  True,  True,  True, False,\n",
              "       False, False])"
            ]
          },
          "metadata": {
            "tags": []
          },
          "execution_count": 92
        }
      ]
    },
    {
      "cell_type": "code",
      "metadata": {
        "colab": {
          "base_uri": "https://localhost:8080/"
        },
        "id": "BzvQ7mYqyzJb",
        "outputId": "07a191c6-107e-4586-a4ca-eb0fa13837f4"
      },
      "source": [
        "linear[whos_linear] = 0\n",
        "linear"
      ],
      "execution_count": null,
      "outputs": [
        {
          "output_type": "execute_result",
          "data": {
            "text/plain": [
              "array([-1. , -0.8, -0.6,  0. ,  0. ,  0. ,  0. ,  0. ,  0.6,  0.8,  1. ])"
            ]
          },
          "metadata": {
            "tags": []
          },
          "execution_count": 93
        }
      ]
    },
    {
      "cell_type": "markdown",
      "metadata": {
        "id": "C1zL5I_LzLwe"
      },
      "source": [
        "스마트 인덱싱"
      ]
    },
    {
      "cell_type": "code",
      "metadata": {
        "colab": {
          "base_uri": "https://localhost:8080/"
        },
        "id": "QO0HYQIZzZaY",
        "outputId": "0f43f8d5-39de-4f62-c517-9431da2e42bf"
      },
      "source": [
        "sap"
      ],
      "execution_count": null,
      "outputs": [
        {
          "output_type": "execute_result",
          "data": {
            "text/plain": [
              "array(['MMM', 'ABT', 'ABBV', 'ACN', 'ACE', 'ATVI', 'ADBE', 'ADT'],\n",
              "      dtype='<U4')"
            ]
          },
          "metadata": {
            "tags": []
          },
          "execution_count": 95
        }
      ]
    },
    {
      "cell_type": "code",
      "metadata": {
        "colab": {
          "base_uri": "https://localhost:8080/"
        },
        "id": "AmLUxqt2y5_0",
        "outputId": "2d2d5a69-78e1-42c7-93d6-5fcde410634d"
      },
      "source": [
        "# S&P 리스트에서 두번째, 세번째, 마지막 주식 기호를 추출\n",
        "sap[[1,2,-1]] # 인덱싱 1 , 2, 마지막"
      ],
      "execution_count": null,
      "outputs": [
        {
          "output_type": "execute_result",
          "data": {
            "text/plain": [
              "array(['ABT', 'ABBV', 'ADT'], dtype='<U4')"
            ]
          },
          "metadata": {
            "tags": []
          },
          "execution_count": 96
        }
      ]
    },
    {
      "cell_type": "code",
      "metadata": {
        "colab": {
          "base_uri": "https://localhost:8080/"
        },
        "id": "7yoQHVApzWJs",
        "outputId": "32f39a91-9d68-4881-e6a4-90103cb31f1c"
      },
      "source": [
        "sap2d"
      ],
      "execution_count": null,
      "outputs": [
        {
          "output_type": "execute_result",
          "data": {
            "text/plain": [
              "array([['MMM', 'ABT', 'ABBV', 'ACN'],\n",
              "       ['ACE', 'ATVI', 'ADBE', 'ADT']], dtype='<U4')"
            ]
          },
          "metadata": {
            "tags": []
          },
          "execution_count": 97
        }
      ]
    },
    {
      "cell_type": "code",
      "metadata": {
        "colab": {
          "base_uri": "https://localhost:8080/"
        },
        "id": "Q9N65HbCzgpd",
        "outputId": "78f89e4c-7c28-41ca-f60f-885c2406f8dd"
      },
      "source": [
        "sap2d[:,[1]] # 대괄호 해주면 2차원 배열"
      ],
      "execution_count": null,
      "outputs": [
        {
          "output_type": "execute_result",
          "data": {
            "text/plain": [
              "array([['ABT'],\n",
              "       ['ATVI']], dtype='<U4')"
            ]
          },
          "metadata": {
            "tags": []
          },
          "execution_count": 100
        }
      ]
    },
    {
      "cell_type": "code",
      "metadata": {
        "colab": {
          "base_uri": "https://localhost:8080/"
        },
        "id": "rtPwoioCzx5U",
        "outputId": "78d67ba5-b6e4-4b21-ca8d-13decbf1beec"
      },
      "source": [
        "sap2d[:,1] # 대괄호 안해주면 1차원 배열"
      ],
      "execution_count": null,
      "outputs": [
        {
          "output_type": "execute_result",
          "data": {
            "text/plain": [
              "array(['ABT', 'ATVI'], dtype='<U4')"
            ]
          },
          "metadata": {
            "tags": []
          },
          "execution_count": 101
        }
      ]
    },
    {
      "cell_type": "markdown",
      "metadata": {
        "id": "-wvWwpEz0iJz"
      },
      "source": [
        "차원만 같다면 numpy에서는 사칙연산 가능 (그낭 더하기) -> 브로드캐스팅\n"
      ]
    },
    {
      "cell_type": "code",
      "metadata": {
        "colab": {
          "base_uri": "https://localhost:8080/"
        },
        "id": "9vnEg5pCz245",
        "outputId": "d472b5ec-965c-45fb-9040-977af3925c0a"
      },
      "source": [
        "a = np.arange(4)\n",
        "b = np.arange(1,5)\n",
        "\n",
        "print(a)\n",
        "print(b)"
      ],
      "execution_count": null,
      "outputs": [
        {
          "output_type": "stream",
          "text": [
            "[0 1 2 3]\n",
            "[1 2 3 4]\n"
          ],
          "name": "stdout"
        }
      ]
    },
    {
      "cell_type": "code",
      "metadata": {
        "colab": {
          "base_uri": "https://localhost:8080/"
        },
        "id": "UMOfAHY80qlw",
        "outputId": "d521b0ce-2229-455a-9184-ac9109569f87"
      },
      "source": [
        "a+b"
      ],
      "execution_count": null,
      "outputs": [
        {
          "output_type": "execute_result",
          "data": {
            "text/plain": [
              "array([1, 3, 5, 7])"
            ]
          },
          "metadata": {
            "tags": []
          },
          "execution_count": 103
        }
      ]
    },
    {
      "cell_type": "code",
      "metadata": {
        "colab": {
          "base_uri": "https://localhost:8080/"
        },
        "id": "Jo983REw0roR",
        "outputId": "9724e0d7-d767-4272-fd37-159e207144ac"
      },
      "source": [
        "a*5"
      ],
      "execution_count": null,
      "outputs": [
        {
          "output_type": "execute_result",
          "data": {
            "text/plain": [
              "array([ 0,  5, 10, 15])"
            ]
          },
          "metadata": {
            "tags": []
          },
          "execution_count": 104
        }
      ]
    },
    {
      "cell_type": "code",
      "metadata": {
        "colab": {
          "base_uri": "https://localhost:8080/"
        },
        "id": "EinH-h4G0snx",
        "outputId": "fc651644-eeed-4e0a-cf87-930352601959"
      },
      "source": [
        "noise = np.eye(4) # I 행렬 (단위행렬)\n",
        "noise"
      ],
      "execution_count": null,
      "outputs": [
        {
          "output_type": "execute_result",
          "data": {
            "text/plain": [
              "array([[1., 0., 0., 0.],\n",
              "       [0., 1., 0., 0.],\n",
              "       [0., 0., 1., 0.],\n",
              "       [0., 0., 0., 1.]])"
            ]
          },
          "metadata": {
            "tags": []
          },
          "execution_count": 106
        }
      ]
    },
    {
      "cell_type": "code",
      "metadata": {
        "colab": {
          "base_uri": "https://localhost:8080/"
        },
        "id": "cS4vPcKv1Trl",
        "outputId": "83883e68-b167-47d8-ce5b-db966060f4db"
      },
      "source": [
        "noise = np.eye(4) + 0.01 * np.random.random([4,4]) # I 행렬 (단위행렬)\n",
        "noise"
      ],
      "execution_count": null,
      "outputs": [
        {
          "output_type": "execute_result",
          "data": {
            "text/plain": [
              "array([[1.00414629, 0.0069077 , 0.00973191, 0.00153786],\n",
              "       [0.00463409, 1.00717833, 0.00771507, 0.00995135],\n",
              "       [0.00273957, 0.00310762, 1.00455983, 0.004331  ],\n",
              "       [0.00908686, 0.0047749 , 0.00839886, 1.0007955 ]])"
            ]
          },
          "metadata": {
            "tags": []
          },
          "execution_count": 110
        }
      ]
    },
    {
      "cell_type": "code",
      "metadata": {
        "id": "7vOumohk2I7g"
      },
      "source": [
        ""
      ],
      "execution_count": null,
      "outputs": []
    }
  ]
}