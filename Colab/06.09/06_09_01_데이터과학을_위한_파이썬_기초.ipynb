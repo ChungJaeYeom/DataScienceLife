{
  "nbformat": 4,
  "nbformat_minor": 0,
  "metadata": {
    "colab": {
      "name": "06.09_01_데이터과학을 위한 파이썬 기초.ipynb",
      "provenance": [],
      "collapsed_sections": []
    },
    "kernelspec": {
      "name": "python3",
      "display_name": "Python 3"
    },
    "language_info": {
      "name": "python"
    }
  },
  "cells": [
    {
      "cell_type": "code",
      "metadata": {
        "colab": {
          "base_uri": "https://localhost:8080/",
          "height": 35
        },
        "id": "X_gr8EYvvkKd",
        "outputId": "8603e886-da88-4486-8398-57e14aa44487"
      },
      "source": [
        "st = \"Hello, world! \\t\\t\\n\" # 모든 줄 바꿈과 탭 (\\n \\r \\t)\n",
        "st"
      ],
      "execution_count": null,
      "outputs": [
        {
          "output_type": "execute_result",
          "data": {
            "application/vnd.google.colaboratory.intrinsic+json": {
              "type": "string"
            },
            "text/plain": [
              "'Hello, world! \\t\\t\\n'"
            ]
          },
          "metadata": {
            "tags": []
          },
          "execution_count": 2
        }
      ]
    },
    {
      "cell_type": "code",
      "metadata": {
        "colab": {
          "base_uri": "https://localhost:8080/",
          "height": 35
        },
        "id": "GZANvxdNwXlM",
        "outputId": "173d49c1-33d9-4b9b-fe9b-84c9042a9e95"
      },
      "source": [
        "st.strip() # 모든 공백 제거"
      ],
      "execution_count": null,
      "outputs": [
        {
          "output_type": "execute_result",
          "data": {
            "application/vnd.google.colaboratory.intrinsic+json": {
              "type": "string"
            },
            "text/plain": [
              "'Hello, world!'"
            ]
          },
          "metadata": {
            "tags": []
          },
          "execution_count": 4
        }
      ]
    },
    {
      "cell_type": "code",
      "metadata": {
        "colab": {
          "base_uri": "https://localhost:8080/",
          "height": 35
        },
        "id": "J7N-_bTawwOw",
        "outputId": "78aec509-db88-4c5c-ed8d-d6ee4d00b426"
      },
      "source": [
        "st.lstrip() # 왼쪽 공백 제거"
      ],
      "execution_count": null,
      "outputs": [
        {
          "output_type": "execute_result",
          "data": {
            "application/vnd.google.colaboratory.intrinsic+json": {
              "type": "string"
            },
            "text/plain": [
              "'Hello, world! \\t\\t\\n'"
            ]
          },
          "metadata": {
            "tags": []
          },
          "execution_count": 6
        }
      ]
    },
    {
      "cell_type": "code",
      "metadata": {
        "colab": {
          "base_uri": "https://localhost:8080/",
          "height": 35
        },
        "id": "wqAxMAxjxBj8",
        "outputId": "18d04f11-10b6-4522-d429-50f7193504b2"
      },
      "source": [
        "st.rstrip() # 오른 공백 제거"
      ],
      "execution_count": null,
      "outputs": [
        {
          "output_type": "execute_result",
          "data": {
            "application/vnd.google.colaboratory.intrinsic+json": {
              "type": "string"
            },
            "text/plain": [
              "'Hello, world!'"
            ]
          },
          "metadata": {
            "tags": []
          },
          "execution_count": 7
        }
      ]
    },
    {
      "cell_type": "markdown",
      "metadata": {
        "id": "W86pOjiHxLgq"
      },
      "source": [
        "split(delim=\"\") 문자열 자르기 함수"
      ]
    },
    {
      "cell_type": "code",
      "metadata": {
        "colab": {
          "base_uri": "https://localhost:8080/"
        },
        "id": "mpefiDLMxSh2",
        "outputId": "36be2a0c-4f92-4667-de2c-7f3f2816b2b8"
      },
      "source": [
        "\"Hello, world!\".split() #delim 구분자 -> default 공백 # 함수안에 ( )을 고민하자, 디폴트를 알고 있자"
      ],
      "execution_count": null,
      "outputs": [
        {
          "output_type": "execute_result",
          "data": {
            "text/plain": [
              "['Hello,', 'world!']"
            ]
          },
          "metadata": {
            "tags": []
          },
          "execution_count": 10
        }
      ]
    },
    {
      "cell_type": "code",
      "metadata": {
        "colab": {
          "base_uri": "https://localhost:8080/"
        },
        "id": "MUSpQimRxxs7",
        "outputId": "6cd145f1-9e00-4e90-dfb1-908f9f1a7ab7"
      },
      "source": [
        "\"Hello, world!\".split(\",\") # 구분자 -> , (콤마)"
      ],
      "execution_count": null,
      "outputs": [
        {
          "output_type": "execute_result",
          "data": {
            "text/plain": [
              "['Hello', ' world!']"
            ]
          },
          "metadata": {
            "tags": []
          },
          "execution_count": 11
        }
      ]
    },
    {
      "cell_type": "code",
      "metadata": {
        "colab": {
          "base_uri": "https://localhost:8080/"
        },
        "id": "FuLjjcuAx6MD",
        "outputId": "f21b784a-0c40-4ceb-a6e4-da9bd7694136"
      },
      "source": [
        "\"www.networksciencelab.com\".split(\".\")"
      ],
      "execution_count": null,
      "outputs": [
        {
          "output_type": "execute_result",
          "data": {
            "text/plain": [
              "['www', 'networksciencelab', 'com']"
            ]
          },
          "metadata": {
            "tags": []
          },
          "execution_count": 13
        }
      ]
    },
    {
      "cell_type": "markdown",
      "metadata": {
        "id": "M8_UCix4yxqz"
      },
      "source": [
        "join(Is) 문자열을 연결시키는 함수"
      ]
    },
    {
      "cell_type": "code",
      "metadata": {
        "colab": {
          "base_uri": "https://localhost:8080/",
          "height": 35
        },
        "id": "8jxGL5v4y2nN",
        "outputId": "e04668a7-94fa-4998-c070-170b81ff0533"
      },
      "source": [
        "\",\".join(['black','pink','in the','Area']) # 문자열 리스트 ls 하나의 문자열로 붙임 -> 문자열 조각을 재조합"
      ],
      "execution_count": null,
      "outputs": [
        {
          "output_type": "execute_result",
          "data": {
            "application/vnd.google.colaboratory.intrinsic+json": {
              "type": "string"
            },
            "text/plain": [
              "'black,pink,in the,Area'"
            ]
          },
          "metadata": {
            "tags": []
          },
          "execution_count": 16
        }
      ]
    },
    {
      "cell_type": "code",
      "metadata": {
        "colab": {
          "base_uri": "https://localhost:8080/",
          "height": 35
        },
        "id": "bIy-iVybzCfw",
        "outputId": "9c9f7f6d-2421-45e5-dcfa-987d95d9ffb5"
      },
      "source": [
        "\" \".join(['black','pink','in the','Area'])"
      ],
      "execution_count": null,
      "outputs": [
        {
          "output_type": "execute_result",
          "data": {
            "application/vnd.google.colaboratory.intrinsic+json": {
              "type": "string"
            },
            "text/plain": [
              "'black pink in the Area'"
            ]
          },
          "metadata": {
            "tags": []
          },
          "execution_count": 17
        }
      ]
    },
    {
      "cell_type": "markdown",
      "metadata": {
        "id": "f701qBdhzK4W"
      },
      "source": [
        "전화번호나 주민번호에 \"-\" 넣을 때 사용하면 좋을 듯.. ㅎㅎ"
      ]
    },
    {
      "cell_type": "code",
      "metadata": {
        "colab": {
          "base_uri": "https://localhost:8080/",
          "height": 35
        },
        "id": "KWuAcxGGzRNT",
        "outputId": "0ff92fbd-397b-46ae-d5bd-c91555e653a5"
      },
      "source": [
        "\"-\".join(\"010.9416.2234\".split(\".\"))"
      ],
      "execution_count": null,
      "outputs": [
        {
          "output_type": "execute_result",
          "data": {
            "application/vnd.google.colaboratory.intrinsic+json": {
              "type": "string"
            },
            "text/plain": [
              "'010-9416-2234'"
            ]
          },
          "metadata": {
            "tags": []
          },
          "execution_count": 21
        }
      ]
    },
    {
      "cell_type": "code",
      "metadata": {
        "id": "4onIxvAozoPX"
      },
      "source": [
        "#1) ls = \"010.9416.2234\".split(\".\") 구분자로 자른다\n",
        "#2) \"-\".join(Is) ls를 - 구분자로 붙인다"
      ],
      "execution_count": null,
      "outputs": []
    },
    {
      "cell_type": "code",
      "metadata": {
        "colab": {
          "base_uri": "https://localhost:8080/",
          "height": 35
        },
        "id": "qROlBXW30P88",
        "outputId": "276eef83-1e9c-4523-fc76-e54908f062cf"
      },
      "source": [
        "\" \".join(\"This string\\n\\r has many\\t\\tspaces\".split())"
      ],
      "execution_count": null,
      "outputs": [
        {
          "output_type": "execute_result",
          "data": {
            "application/vnd.google.colaboratory.intrinsic+json": {
              "type": "string"
            },
            "text/plain": [
              "'This string has many spaces'"
            ]
          },
          "metadata": {
            "tags": []
          },
          "execution_count": 23
        }
      ]
    },
    {
      "cell_type": "code",
      "metadata": {
        "colab": {
          "base_uri": "https://localhost:8080/",
          "height": 53
        },
        "id": "v3anPVQJ0p8z",
        "outputId": "85f18298-2e4e-408d-e3e8-7689d87bc085"
      },
      "source": [
        "#1) \\n\\r 공백 데이터 기준으로 자르기\n",
        "ls = \"This string\\n\\r has many\\t\\tspaces\".split()\n",
        "print(ls)\n",
        "\n",
        "#2) 공백 한칸으로 재조합\n",
        "\" \".join(ls)"
      ],
      "execution_count": null,
      "outputs": [
        {
          "output_type": "stream",
          "text": [
            "['This', 'string', 'has', 'many', 'spaces']\n"
          ],
          "name": "stdout"
        },
        {
          "output_type": "execute_result",
          "data": {
            "application/vnd.google.colaboratory.intrinsic+json": {
              "type": "string"
            },
            "text/plain": [
              "'This string has many spaces'"
            ]
          },
          "metadata": {
            "tags": []
          },
          "execution_count": 27
        }
      ]
    },
    {
      "cell_type": "markdown",
      "metadata": {
        "id": "dljIt4e61oxL"
      },
      "source": [
        "find(needle) 해당 문자열에 부분 문자열 needle 처음 등장하는 인덱스 반환(위치)\n",
        "\n",
        "없으면 -1 반환하는 함수 (대소문자 구분)"
      ]
    },
    {
      "cell_type": "code",
      "metadata": {
        "colab": {
          "base_uri": "https://localhost:8080/"
        },
        "id": "tnhgxSf110PP",
        "outputId": "3425bfd6-4af1-439c-bbb5-1c0ab4ab3f14"
      },
      "source": [
        "\"www.networksciencelab.com\".find(\".com\")"
      ],
      "execution_count": null,
      "outputs": [
        {
          "output_type": "execute_result",
          "data": {
            "text/plain": [
              "21"
            ]
          },
          "metadata": {
            "tags": []
          },
          "execution_count": 28
        }
      ]
    },
    {
      "cell_type": "code",
      "metadata": {
        "colab": {
          "base_uri": "https://localhost:8080/"
        },
        "id": "nS4rat2i2Obh",
        "outputId": "18379dbc-8534-48cc-b989-d47ad90ade57"
      },
      "source": [
        "\"www.networksciencelab.Com\".find(\".com\")"
      ],
      "execution_count": null,
      "outputs": [
        {
          "output_type": "execute_result",
          "data": {
            "text/plain": [
              "-1"
            ]
          },
          "metadata": {
            "tags": []
          },
          "execution_count": 29
        }
      ]
    },
    {
      "cell_type": "markdown",
      "metadata": {
        "id": "SInvB5Cf2jBW"
      },
      "source": [
        "count(needle) 해당 문자열에서 등장하는 횟수를 반환하는 함수\n",
        "\n",
        "없으면 0 반환하는 함수 (대소문자 구분)\n",
        "\n"
      ]
    },
    {
      "cell_type": "code",
      "metadata": {
        "colab": {
          "base_uri": "https://localhost:8080/"
        },
        "id": "r2zIQFfk2yco",
        "outputId": "6c672f54-f9ec-4284-cdb9-e176502676c4"
      },
      "source": [
        "\"www.networksciencelab.Com\".count(\".\")"
      ],
      "execution_count": null,
      "outputs": [
        {
          "output_type": "execute_result",
          "data": {
            "text/plain": [
              "2"
            ]
          },
          "metadata": {
            "tags": []
          },
          "execution_count": 32
        }
      ]
    },
    {
      "cell_type": "code",
      "metadata": {
        "colab": {
          "base_uri": "https://localhost:8080/"
        },
        "id": "dZZ4wuVB26j_",
        "outputId": "76864349-6d7b-4163-ec34-121b65ad8016"
      },
      "source": [
        "\"www.networksciencelab.Com\".count(\"w\")"
      ],
      "execution_count": null,
      "outputs": [
        {
          "output_type": "execute_result",
          "data": {
            "text/plain": [
              "4"
            ]
          },
          "metadata": {
            "tags": []
          },
          "execution_count": 33
        }
      ]
    },
    {
      "cell_type": "code",
      "metadata": {
        "colab": {
          "base_uri": "https://localhost:8080/"
        },
        "id": "CHYenSMG3BMx",
        "outputId": "1bff92d5-3eff-4123-fa3c-86ce248c0c29"
      },
      "source": [
        "\"www.networksciencelab.Com\".count(\"N\")"
      ],
      "execution_count": null,
      "outputs": [
        {
          "output_type": "execute_result",
          "data": {
            "text/plain": [
              "0"
            ]
          },
          "metadata": {
            "tags": []
          },
          "execution_count": 34
        }
      ]
    },
    {
      "cell_type": "markdown",
      "metadata": {
        "id": "bbfWekXW3SZ-"
      },
      "source": [
        "프레디케이트 함수 -> 문자열 s가 특정 클래스에 속하는지 True, False로 반환"
      ]
    },
    {
      "cell_type": "code",
      "metadata": {
        "colab": {
          "base_uri": "https://localhost:8080/"
        },
        "id": "8F8o9Gxm3aGr",
        "outputId": "588789a8-1d44-414f-ecad-0cc0474a96fb"
      },
      "source": [
        "\"www.networksciencelab.com\".islower() # 모든 알파벳 문자가 소문자인지 체크"
      ],
      "execution_count": null,
      "outputs": [
        {
          "output_type": "execute_result",
          "data": {
            "text/plain": [
              "True"
            ]
          },
          "metadata": {
            "tags": []
          },
          "execution_count": 37
        }
      ]
    },
    {
      "cell_type": "code",
      "metadata": {
        "colab": {
          "base_uri": "https://localhost:8080/"
        },
        "id": "znAF5Z3l3peT",
        "outputId": "8dbe3322-8bb9-45ac-d04b-ff4fc6a7814d"
      },
      "source": [
        "\"www.networksciencelab.com\".isupper() # 모든 알파벳 문자가 대문자인지 체크"
      ],
      "execution_count": null,
      "outputs": [
        {
          "output_type": "execute_result",
          "data": {
            "text/plain": [
              "False"
            ]
          },
          "metadata": {
            "tags": []
          },
          "execution_count": 39
        }
      ]
    },
    {
      "cell_type": "code",
      "metadata": {
        "colab": {
          "base_uri": "https://localhost:8080/"
        },
        "id": "AATQrCGc3yA1",
        "outputId": "115ef688-abc1-448a-de5e-1d1280acfdca"
      },
      "source": [
        "\"www.networksciencelab.com\".isdigit() # 0-9 사이 숫자인지 확인"
      ],
      "execution_count": null,
      "outputs": [
        {
          "output_type": "execute_result",
          "data": {
            "text/plain": [
              "False"
            ]
          },
          "metadata": {
            "tags": []
          },
          "execution_count": 40
        }
      ]
    },
    {
      "cell_type": "code",
      "metadata": {
        "colab": {
          "base_uri": "https://localhost:8080/"
        },
        "id": "A7Rb9_ts4dnE",
        "outputId": "8951d39f-b5c4-49d3-f221-93b2ae144637"
      },
      "source": [
        "\"www.networksciencelab.com\".isalpha() # dot(.) 제거 해야 만 True -> 알파벳(숫자,특수기호 X) 인지 체크"
      ],
      "execution_count": null,
      "outputs": [
        {
          "output_type": "execute_result",
          "data": {
            "text/plain": [
              "False"
            ]
          },
          "metadata": {
            "tags": []
          },
          "execution_count": 41
        }
      ]
    },
    {
      "cell_type": "code",
      "metadata": {
        "colab": {
          "base_uri": "https://localhost:8080/"
        },
        "id": "7BK9sM4o4pV6",
        "outputId": "da6462d7-1660-4d68-b52d-06aa119bf2f8"
      },
      "source": [
        "\"wwwnetworksciencelabcom\".isalpha()"
      ],
      "execution_count": null,
      "outputs": [
        {
          "output_type": "execute_result",
          "data": {
            "text/plain": [
              "True"
            ]
          },
          "metadata": {
            "tags": []
          },
          "execution_count": 42
        }
      ]
    },
    {
      "cell_type": "markdown",
      "metadata": {
        "id": "IrMxUKNO5O2L"
      },
      "source": [
        "대*소문자 변환 함수 -> 모든 문자 대*소문자 변환 (문자열 s의 복사본 반환)"
      ]
    },
    {
      "cell_type": "markdown",
      "metadata": {
        "id": "XOU4QGpqNx9H"
      },
      "source": [
        "2. 올바른 자료구조 선택하기"
      ]
    },
    {
      "cell_type": "code",
      "metadata": {
        "colab": {
          "base_uri": "https://localhost:8080/"
        },
        "id": "cFM8ixKhNyg9",
        "outputId": "17162b2d-70ba-4b8e-eb36-ebd8c77dd4ed"
      },
      "source": [
        "myList = \"This string\\n\\r has many\\t\\tspaces\\tThis string\\n\\r has many\\t\\tspaces\".split()\n",
        "myList"
      ],
      "execution_count": null,
      "outputs": [
        {
          "output_type": "execute_result",
          "data": {
            "text/plain": [
              "['This',\n",
              " 'string',\n",
              " 'has',\n",
              " 'many',\n",
              " 'spaces',\n",
              " 'This',\n",
              " 'string',\n",
              " 'has',\n",
              " 'many',\n",
              " 'spaces']"
            ]
          },
          "metadata": {
            "tags": []
          },
          "execution_count": 45
        }
      ]
    },
    {
      "cell_type": "markdown",
      "metadata": {
        "id": "YbD4f7L3OPI6"
      },
      "source": [
        "리스트 -> 셋 변환 -> 다시 리스트로 변환"
      ]
    },
    {
      "cell_type": "code",
      "metadata": {
        "id": "eHhKGxlJOTVK"
      },
      "source": [
        "#1) 셋 변환 (중복 제거)\n",
        "set(myList)\n",
        "\n",
        "#) 중복 제거한 데이터를 리스트로 변환\n",
        "myList = list(set(myList))"
      ],
      "execution_count": null,
      "outputs": []
    },
    {
      "cell_type": "markdown",
      "metadata": {
        "id": "HzcV8lcQPv3a"
      },
      "source": [
        "리스트 vs 셋 회원 명단 조회하기"
      ]
    },
    {
      "cell_type": "code",
      "metadata": {
        "colab": {
          "base_uri": "https://localhost:8080/"
        },
        "id": "_wkdz05xPyyS",
        "outputId": "0c9ba594-6ce7-48d2-a8bd-2119214aecd8"
      },
      "source": [
        "bigList = [str(i) for i in range(10000000)]\n",
        "\"abc\" in bigList # 빅리스트에 abc 데이터 IN(포함) 되어 있는지 확인, 2초"
      ],
      "execution_count": null,
      "outputs": [
        {
          "output_type": "execute_result",
          "data": {
            "text/plain": [
              "False"
            ]
          },
          "metadata": {
            "tags": []
          },
          "execution_count": 48
        }
      ]
    },
    {
      "cell_type": "code",
      "metadata": {
        "colab": {
          "base_uri": "https://localhost:8080/"
        },
        "id": "7S6gy_B-QEJy",
        "outputId": "165e914b-7f95-4e7b-bb0d-a0b857b1c612"
      },
      "source": [
        "bigList = set(bigList)\n",
        "\"abc\" in bigList # 0초 걸림, 중복을 제외하고 나열한 목록에서 선택했기 때문에 1부터 끝까지 뒤지는 리스트보다 쉬움"
      ],
      "execution_count": null,
      "outputs": [
        {
          "output_type": "execute_result",
          "data": {
            "text/plain": [
              "False"
            ]
          },
          "metadata": {
            "tags": []
          },
          "execution_count": 50
        }
      ]
    },
    {
      "cell_type": "markdown",
      "metadata": {
        "id": "1DgdzQBWRYsK"
      },
      "source": [
        "딕셔너리 (키-값으로 검색해야 할 때 매우 유용)"
      ]
    },
    {
      "cell_type": "markdown",
      "metadata": {
        "id": "j--rCb8eSh2L"
      },
      "source": [
        "리스트를 딕셔너리로 만들기 - enumerate 사용"
      ]
    },
    {
      "cell_type": "code",
      "metadata": {
        "colab": {
          "base_uri": "https://localhost:8080/"
        },
        "id": "AD03MLmVRd4i",
        "outputId": "c7d2d67f-45bd-4210-a9c7-d902cd2b575f"
      },
      "source": [
        "#1) 리스트 준비\n",
        "seq = ['black','pink','in the','Area'] #value 값일 것이다.\n",
        "\n",
        "#2) 딕셔너리 만들기 -> 인덱스 정보를 key, Data를 value\n",
        "#enumerate(seq)\n",
        "dict(enumerate(seq)) #리스트가 가지고 있는 고유의 인덱스를 키로 만든다. "
      ],
      "execution_count": null,
      "outputs": [
        {
          "output_type": "execute_result",
          "data": {
            "text/plain": [
              "{0: 'black', 1: 'pink', 2: 'in the', 3: 'Area'}"
            ]
          },
          "metadata": {
            "tags": []
          },
          "execution_count": 57
        }
      ]
    },
    {
      "cell_type": "markdown",
      "metadata": {
        "id": "YbTYidqcTuSv"
      },
      "source": [
        "리스트 딕셔너리 만들기 - 키순서열과 값 순서열에 클래스 생성자인 zip(key,value) 사용"
      ]
    },
    {
      "cell_type": "code",
      "metadata": {
        "colab": {
          "base_uri": "https://localhost:8080/"
        },
        "id": "jDL6omoGTu_l",
        "outputId": "9eead357-e0bc-4676-84cc-016ce12bb6b8"
      },
      "source": [
        "kseq = \"abcd\" # 문사열 또한, 순서열이다. \n",
        "vseq = ['black','pink','in the','Area']\n",
        "\n",
        "dict(zip(kseq,vseq))"
      ],
      "execution_count": null,
      "outputs": [
        {
          "output_type": "execute_result",
          "data": {
            "text/plain": [
              "{'a': 'black', 'b': 'pink', 'c': 'in the', 'd': 'Area'}"
            ]
          },
          "metadata": {
            "tags": []
          },
          "execution_count": 58
        }
      ]
    },
    {
      "cell_type": "code",
      "metadata": {
        "colab": {
          "base_uri": "https://localhost:8080/"
        },
        "id": "bxrxYWNDT5o-",
        "outputId": "fd82ac6b-5be4-4175-b794-5f797d30bfbd"
      },
      "source": [
        "kseq = \"aaaa\" # 중복되면 덮어써서 마지막이 남는다. / 딕셔너리는 중복되지 않는다. 같은 열쇠를 복사해서 사용하면 슬퍼하지마 NoNoNo, 사전도 중복이 읎다. \n",
        "vseq = ['black','pink','in the','Area']\n",
        "\n",
        "dict(zip(kseq,vseq))"
      ],
      "execution_count": null,
      "outputs": [
        {
          "output_type": "execute_result",
          "data": {
            "text/plain": [
              "{'a': 'Area'}"
            ]
          },
          "metadata": {
            "tags": []
          },
          "execution_count": 59
        }
      ]
    },
    {
      "cell_type": "markdown",
      "metadata": {
        "id": "VDt-RfIsaXVC"
      },
      "source": [
        "카운터(counter)는 딕셔너리 스타일의 컬렉션에서 다른 컬렉션 안의 아이템 개수 셀 때 사용"
      ]
    },
    {
      "cell_type": "code",
      "metadata": {
        "colab": {
          "base_uri": "https://localhost:8080/"
        },
        "id": "MB9gGQ1ZaX33",
        "outputId": "8f43eabf-004d-4ab7-8005-40c09c5f0018"
      },
      "source": [
        "from collections import Counter\n",
        "\n",
        "phrase = \"a man a plan a canal panama\"\n",
        "cntr = Counter(phrase.split())\n",
        "\n",
        "cntr.most_common(4) #가장 빈번하게 등장한 n개의 아이템과 빈도 추출, 동일 순위일 때 방 순서대로"
      ],
      "execution_count": null,
      "outputs": [
        {
          "output_type": "execute_result",
          "data": {
            "text/plain": [
              "[('a', 3), ('man', 1), ('plan', 1), ('canal', 1)]"
            ]
          },
          "metadata": {
            "tags": []
          },
          "execution_count": 66
        }
      ]
    },
    {
      "cell_type": "code",
      "metadata": {
        "colab": {
          "base_uri": "https://localhost:8080/"
        },
        "id": "glMpP0KMaqzD",
        "outputId": "ce212175-c4f6-4b61-cfab-39dce68a004e"
      },
      "source": [
        "cntr # 키는 문자열로 value는 횟수로"
      ],
      "execution_count": null,
      "outputs": [
        {
          "output_type": "execute_result",
          "data": {
            "text/plain": [
              "Counter({'a': 3, 'canal': 1, 'man': 1, 'panama': 1, 'plan': 1})"
            ]
          },
          "metadata": {
            "tags": []
          },
          "execution_count": 68
        }
      ]
    },
    {
      "cell_type": "code",
      "metadata": {
        "colab": {
          "base_uri": "https://localhost:8080/"
        },
        "id": "MN1TNS5WbLBd",
        "outputId": "e799f68c-5a93-4f52-9783-561b5a0b68aa"
      },
      "source": [
        "from collections import Counter\n",
        "\n",
        "phrase = \"a man a plan a canal panama\"\n",
        "Is = phrase.split()\n",
        "Is"
      ],
      "execution_count": null,
      "outputs": [
        {
          "output_type": "execute_result",
          "data": {
            "text/plain": [
              "['a', 'man', 'a', 'plan', 'a', 'canal', 'panama']"
            ]
          },
          "metadata": {
            "tags": []
          },
          "execution_count": 69
        }
      ]
    },
    {
      "cell_type": "code",
      "metadata": {
        "colab": {
          "base_uri": "https://localhost:8080/"
        },
        "id": "3kGzEiJFb-_N",
        "outputId": "18ddf643-c07b-4a40-e2a5-c36a632857f0"
      },
      "source": [
        "cntr = Counter(Is)\n",
        "cntr.most_common()"
      ],
      "execution_count": null,
      "outputs": [
        {
          "output_type": "execute_result",
          "data": {
            "text/plain": [
              "[('a', 3), ('man', 1), ('plan', 1), ('canal', 1), ('panama', 1)]"
            ]
          },
          "metadata": {
            "tags": []
          },
          "execution_count": 70
        }
      ]
    },
    {
      "cell_type": "code",
      "metadata": {
        "colab": {
          "base_uri": "https://localhost:8080/"
        },
        "id": "uxznLCchcF5b",
        "outputId": "27854e89-ba67-468d-89d9-4bdbd8cb6578"
      },
      "source": [
        "cntr"
      ],
      "execution_count": null,
      "outputs": [
        {
          "output_type": "execute_result",
          "data": {
            "text/plain": [
              "Counter({'a': 3, 'canal': 1, 'man': 1, 'panama': 1, 'plan': 1})"
            ]
          },
          "metadata": {
            "tags": []
          },
          "execution_count": 71
        }
      ]
    },
    {
      "cell_type": "markdown",
      "metadata": {
        "id": "OnfXpKZsccbX"
      },
      "source": [
        "출력한 리스트를 딕셔너리로 변환하면 가독성 좋아짐"
      ]
    },
    {
      "cell_type": "code",
      "metadata": {
        "colab": {
          "base_uri": "https://localhost:8080/"
        },
        "id": "BittwwxXcgKs",
        "outputId": "d6ae817c-2032-4dc3-85b1-44fdbad6017c"
      },
      "source": [
        "cntrDict = dict(cntr.most_common()) #key: 추출된 아이템, value: 아이템 빈도\n",
        "cntrDict"
      ],
      "execution_count": null,
      "outputs": [
        {
          "output_type": "execute_result",
          "data": {
            "text/plain": [
              "{'a': 3, 'canal': 1, 'man': 1, 'panama': 1, 'plan': 1}"
            ]
          },
          "metadata": {
            "tags": []
          },
          "execution_count": 73
        }
      ]
    },
    {
      "cell_type": "code",
      "metadata": {
        "colab": {
          "base_uri": "https://localhost:8080/"
        },
        "id": "X7cD9MUJcpcf",
        "outputId": "472eb1c5-c9b5-4ad5-f099-0ab4a7b2bea7"
      },
      "source": [
        "cntrDict['plan']"
      ],
      "execution_count": null,
      "outputs": [
        {
          "output_type": "execute_result",
          "data": {
            "text/plain": [
              "1"
            ]
          },
          "metadata": {
            "tags": []
          },
          "execution_count": 74
        }
      ]
    },
    {
      "cell_type": "markdown",
      "metadata": {
        "id": "7O7xERaEeEHO"
      },
      "source": [
        "웹에 접근하기"
      ]
    },
    {
      "cell_type": "code",
      "metadata": {
        "colab": {
          "base_uri": "https://localhost:8080/"
        },
        "id": "GR-KiXppeFPs",
        "outputId": "8b605de2-483f-445d-a27e-8e8145c104b7"
      },
      "source": [
        "import urllib.request\n",
        "\n",
        "try:\n",
        "  with urllib.urlopen(\"http://networksciencelab.com\") as doc:\n",
        "    html = doc.read()\n",
        "    print(html)\n",
        "\n",
        "except:\n",
        "  print(\"Could not open\")"
      ],
      "execution_count": null,
      "outputs": [
        {
          "output_type": "stream",
          "text": [
            "Could not open\n"
          ],
          "name": "stdout"
        }
      ]
    },
    {
      "cell_type": "code",
      "metadata": {
        "colab": {
          "base_uri": "https://localhost:8080/",
          "height": 239
        },
        "id": "7cSpbAdlfsqd",
        "outputId": "6cc1f6b5-88a4-4af3-f84a-6f14df2916de"
      },
      "source": [
        "'''\n",
        "EX) 해당페이지를 찾을 수 없습니다. 예시, try를 하는 이유, 우회시키는 방법\n",
        "import urllib.request\n",
        "\n",
        "with urllib.urlopen(\"http://networksciencelab.com\") as doc:\n",
        "  html = doc.read()\n",
        "  print(html)\n",
        "'''"
      ],
      "execution_count": null,
      "outputs": [
        {
          "output_type": "error",
          "ename": "AttributeError",
          "evalue": "ignored",
          "traceback": [
            "\u001b[0;31m---------------------------------------------------------------------------\u001b[0m",
            "\u001b[0;31mAttributeError\u001b[0m                            Traceback (most recent call last)",
            "\u001b[0;32m<ipython-input-76-806e5367c1c2>\u001b[0m in \u001b[0;36m<module>\u001b[0;34m()\u001b[0m\n\u001b[1;32m      1\u001b[0m \u001b[0;32mimport\u001b[0m \u001b[0murllib\u001b[0m\u001b[0;34m.\u001b[0m\u001b[0mrequest\u001b[0m\u001b[0;34m\u001b[0m\u001b[0;34m\u001b[0m\u001b[0m\n\u001b[1;32m      2\u001b[0m \u001b[0;34m\u001b[0m\u001b[0m\n\u001b[0;32m----> 3\u001b[0;31m \u001b[0;32mwith\u001b[0m \u001b[0murllib\u001b[0m\u001b[0;34m.\u001b[0m\u001b[0murlopen\u001b[0m\u001b[0;34m(\u001b[0m\u001b[0;34m\"http://networksciencelab.com\"\u001b[0m\u001b[0;34m)\u001b[0m \u001b[0;32mas\u001b[0m \u001b[0mdoc\u001b[0m\u001b[0;34m:\u001b[0m\u001b[0;34m\u001b[0m\u001b[0;34m\u001b[0m\u001b[0m\n\u001b[0m\u001b[1;32m      4\u001b[0m   \u001b[0mhtml\u001b[0m \u001b[0;34m=\u001b[0m \u001b[0mdoc\u001b[0m\u001b[0;34m.\u001b[0m\u001b[0mread\u001b[0m\u001b[0;34m(\u001b[0m\u001b[0;34m)\u001b[0m\u001b[0;34m\u001b[0m\u001b[0;34m\u001b[0m\u001b[0m\n\u001b[1;32m      5\u001b[0m   \u001b[0mprint\u001b[0m\u001b[0;34m(\u001b[0m\u001b[0mhtml\u001b[0m\u001b[0;34m)\u001b[0m\u001b[0;34m\u001b[0m\u001b[0;34m\u001b[0m\u001b[0m\n",
            "\u001b[0;31mAttributeError\u001b[0m: module 'urllib' has no attribute 'urlopen'"
          ]
        }
      ]
    },
    {
      "cell_type": "code",
      "metadata": {
        "colab": {
          "base_uri": "https://localhost:8080/"
        },
        "id": "5p7NhmOygzJS",
        "outputId": "ff7a1a0a-ff00-4fda-a886-f420f620439a"
      },
      "source": [
        "import urllib.parse\n",
        "\n",
        "URL = \"http://networksciencelab.com/index.html;param?foo=bar#content\" # url 파싱하여 6개의 아이템으로 구성된 튜플로 분리 스키마 네트워크 주소, 파일 시스템 경로, 파라미터, 쿼리, 플래그먼트\n",
        "\n",
        "urllib.parse.urlparse(URL) #url을 잘라주는 역할"
      ],
      "execution_count": null,
      "outputs": [
        {
          "output_type": "execute_result",
          "data": {
            "text/plain": [
              "ParseResult(scheme='http', netloc='networksciencelab.com', path='/index.html', params='param', query='foo=bar', fragment='content')"
            ]
          },
          "metadata": {
            "tags": []
          },
          "execution_count": 78
        }
      ]
    },
    {
      "cell_type": "markdown",
      "metadata": {
        "id": "ykzQ_OIkogvf"
      },
      "source": [
        "정규식"
      ]
    },
    {
      "cell_type": "code",
      "metadata": {
        "colab": {
          "base_uri": "https://localhost:8080/"
        },
        "id": "8YjWNQs9oh59",
        "outputId": "ee44924d-19ed-4848-ee48-dbbec6d19010"
      },
      "source": [
        "a = 'abcdef\\n'\n",
        "print(a)\n",
        "\n",
        "b = r'abcdef\\n' #원천 문자열(raw string)로 인식\n",
        "print(b)\n",
        "\n",
        "c = r'abcdef\\t'\n",
        "print(c)"
      ],
      "execution_count": null,
      "outputs": [
        {
          "output_type": "stream",
          "text": [
            "abcdef\n",
            "\n",
            "abcdef\\n\n",
            "abcdef\\t\n"
          ],
          "name": "stdout"
        }
      ]
    },
    {
      "cell_type": "code",
      "metadata": {
        "colab": {
          "base_uri": "https://localhost:8080/"
        },
        "id": "yCEZU-Ctph1-",
        "outputId": "cef5c95b-8c19-4145-8414-589fa78dd62c"
      },
      "source": [
        "import re\n",
        "\n",
        "re.compile(r'(\\d+)/(\\d+)/(\\d+)') # raw string - > 0/0/0 1/1/1 3/3/3"
      ],
      "execution_count": null,
      "outputs": [
        {
          "output_type": "execute_result",
          "data": {
            "text/plain": [
              "re.compile(r'(\\d+)/(\\d+)/(\\d+)', re.UNICODE)"
            ]
          },
          "metadata": {
            "tags": []
          },
          "execution_count": 80
        }
      ]
    },
    {
      "cell_type": "code",
      "metadata": {
        "colab": {
          "base_uri": "https://localhost:8080/"
        },
        "id": "Rmj5qECMp7XX",
        "outputId": "e6795156-e99e-4f06-9aed-573cd1d302a5"
      },
      "source": [
        "re.compile('(\\\\d+)/(\\\\d+)/(\\\\d+)') # raw string 사용하지 않으면, 슬래시를 두 번 사용해야 하는 불편함 -> 그래서 보통 r문자를 붙여줌"
      ],
      "execution_count": null,
      "outputs": [
        {
          "output_type": "execute_result",
          "data": {
            "text/plain": [
              "re.compile(r'(\\d+)/(\\d+)/(\\d+)', re.UNICODE)"
            ]
          },
          "metadata": {
            "tags": []
          },
          "execution_count": 81
        }
      ]
    },
    {
      "cell_type": "markdown",
      "metadata": {
        "id": "4b6HblCpqSeV"
      },
      "source": [
        "정규 표현식으로 패턴 매칭하기\n",
        "\n",
        "re.split() 함수 단어 분석을 위한 기본적인 단어 토크나이저로 사용할 수 있음\n",
        "\n"
      ]
    },
    {
      "cell_type": "code",
      "metadata": {
        "colab": {
          "base_uri": "https://localhost:8080/"
        },
        "id": "F_u-IuJAqOFC",
        "outputId": "97475019-3431-4138-a91c-48db63838f3e"
      },
      "source": [
        "import re\n",
        "\n",
        "re.split(r\"\\W\",\"Hello, world!\") # 책p.37 r\"\\W\" -> 숫자, 알파벳 제외 한 개체 1개 -> 잘라라 \n",
        "                                # 숫자와 알파벳이 아닌 ,와 !로 자른 것"
      ],
      "execution_count": null,
      "outputs": [
        {
          "output_type": "execute_result",
          "data": {
            "text/plain": [
              "['Hello', '', 'world', '']"
            ]
          },
          "metadata": {
            "tags": []
          },
          "execution_count": 83
        }
      ]
    },
    {
      "cell_type": "code",
      "metadata": {
        "colab": {
          "base_uri": "https://localhost:8080/"
        },
        "id": "iTWkDwFBraHq",
        "outputId": "5e465900-c82c-4cd4-cc7e-99d3d7411b48"
      },
      "source": [
        "import re\n",
        "\n",
        "# 인근에 위치한 비문자(non-letter) (,)를 합친다.\n",
        "re.split(r\"\\W+\",\"Hello, world!\") # r\"\\W+\" 알파벳이나 숫자가 아닌 개체 1개 합친다(+)\n",
        "#but !는 흡수되지 않는다. 다른 패턴의 방법으로 가야지 !도 없어진다."
      ],
      "execution_count": null,
      "outputs": [
        {
          "output_type": "execute_result",
          "data": {
            "text/plain": [
              "['Hello', 'world', '']"
            ]
          },
          "metadata": {
            "tags": []
          },
          "execution_count": 84
        }
      ]
    },
    {
      "cell_type": "code",
      "metadata": {
        "colab": {
          "base_uri": "https://localhost:8080/"
        },
        "id": "4PFLg1QpsVsv",
        "outputId": "7a0e6aab-6441-460b-a746-ea0269e74b01"
      },
      "source": [
        "mo = re.match(r\"\\d+\",\"0670000 Starts with a number\") #\\는 숫자한개를 찾음(0), +는 숫자 끝까지(6), 그리고 공백이 나와서 끝\n",
        "mo"
      ],
      "execution_count": null,
      "outputs": [
        {
          "output_type": "execute_result",
          "data": {
            "text/plain": [
              "<re.Match object; span=(0, 7), match='0670000'>"
            ]
          },
          "metadata": {
            "tags": []
          },
          "execution_count": 87
        }
      ]
    },
    {
      "cell_type": "code",
      "metadata": {
        "colab": {
          "base_uri": "https://localhost:8080/",
          "height": 35
        },
        "id": "5HaAFS89thrt",
        "outputId": "b7e81b5b-3df7-4b40-ecd4-1baeb9305289"
      },
      "source": [
        "mo.group()"
      ],
      "execution_count": null,
      "outputs": [
        {
          "output_type": "execute_result",
          "data": {
            "application/vnd.google.colaboratory.intrinsic+json": {
              "type": "string"
            },
            "text/plain": [
              "'0670000'"
            ]
          },
          "metadata": {
            "tags": []
          },
          "execution_count": 89
        }
      ]
    },
    {
      "cell_type": "code",
      "metadata": {
        "colab": {
          "base_uri": "https://localhost:8080/"
        },
        "id": "Pn9KZJoot380",
        "outputId": "3c3ea8cd-ffad-4681-b49f-d6be15e3315c"
      },
      "source": [
        "print(re.match(r\"\\d+\",\"Does not Starts with a number\"))"
      ],
      "execution_count": null,
      "outputs": [
        {
          "output_type": "stream",
          "text": [
            "None\n"
          ],
          "name": "stdout"
        }
      ]
    },
    {
      "cell_type": "code",
      "metadata": {
        "colab": {
          "base_uri": "https://localhost:8080/",
          "height": 35
        },
        "id": "_MLJxeFvuDQr",
        "outputId": "cade618a-8bfa-4cec-cca8-ddfd40d6b6e5"
      },
      "source": [
        "#search 문자열 일부분이 정규식과 매칭되는지 확인(매칭되는게 앞부분에 없다면 이 함수 사용)\n",
        "# [a-z]: 소문자들만 일치\n",
        "# re.I: 대소문자 구분 하지 않음\n",
        "\n",
        "re.search(r\"[a-z]\",\"0010010 Has at least one 010 letter 0010010\").group()"
      ],
      "execution_count": null,
      "outputs": [
        {
          "output_type": "execute_result",
          "data": {
            "application/vnd.google.colaboratory.intrinsic+json": {
              "type": "string"
            },
            "text/plain": [
              "'a'"
            ]
          },
          "metadata": {
            "tags": []
          },
          "execution_count": 97
        }
      ]
    },
    {
      "cell_type": "code",
      "metadata": {
        "colab": {
          "base_uri": "https://localhost:8080/",
          "height": 35
        },
        "id": "Yt7LXf7dvH8U",
        "outputId": "a172760e-fbc1-4d67-cbb7-288762513dbb"
      },
      "source": [
        "re.search(r\"[a-z]+\",\"0010010 Has at least one 010 letter 0010010\").group()"
      ],
      "execution_count": null,
      "outputs": [
        {
          "output_type": "execute_result",
          "data": {
            "application/vnd.google.colaboratory.intrinsic+json": {
              "type": "string"
            },
            "text/plain": [
              "'as'"
            ]
          },
          "metadata": {
            "tags": []
          },
          "execution_count": 98
        }
      ]
    },
    {
      "cell_type": "code",
      "metadata": {
        "colab": {
          "base_uri": "https://localhost:8080/",
          "height": 35
        },
        "id": "MDCWq6-RvTDt",
        "outputId": "ef2cae9c-6fe9-4ba0-a64c-f37c52c4335d"
      },
      "source": [
        "re.search(r\"[a-z]+\",\"0010010 Has at least one 010 letter 0010010\",re.I).group()"
      ],
      "execution_count": null,
      "outputs": [
        {
          "output_type": "execute_result",
          "data": {
            "application/vnd.google.colaboratory.intrinsic+json": {
              "type": "string"
            },
            "text/plain": [
              "'Has'"
            ]
          },
          "metadata": {
            "tags": []
          },
          "execution_count": 99
        }
      ]
    },
    {
      "cell_type": "code",
      "metadata": {
        "colab": {
          "base_uri": "https://localhost:8080/"
        },
        "id": "LUnkP3ct1x7w",
        "outputId": "37d067b4-95d8-4d2e-8031-4c4b1a8925ad"
      },
      "source": [
        "#findall: 정규식에 부합하는 모든 문자열 찾기 -> 모든 소문자 들어 있는 토큰 찾기\n",
        "re.findall(r\"[a-z]+\",\"0010010 Has at least one 010 letter 0010010\")"
      ],
      "execution_count": null,
      "outputs": [
        {
          "output_type": "execute_result",
          "data": {
            "text/plain": [
              "['as', 'at', 'least', 'one', 'letter']"
            ]
          },
          "metadata": {
            "tags": []
          },
          "execution_count": 105
        }
      ]
    },
    {
      "cell_type": "code",
      "metadata": {
        "colab": {
          "base_uri": "https://localhost:8080/"
        },
        "id": "Ra9tNiPI18xo",
        "outputId": "1906cd84-ce19-4c8d-9305-f6c45810fcbc"
      },
      "source": [
        "#findall: 정규식에 부합하는 모든 문자열 찾기 -> 모든 소문자 들어 있는 토큰 찾기\n",
        "re.findall(r\"[a-z]+\",\"0010010 Has at least one 010 letter 0010010\",re.I)"
      ],
      "execution_count": null,
      "outputs": [
        {
          "output_type": "execute_result",
          "data": {
            "text/plain": [
              "['Has', 'at', 'least', 'one', 'letter']"
            ]
          },
          "metadata": {
            "tags": []
          },
          "execution_count": 106
        }
      ]
    },
    {
      "cell_type": "code",
      "metadata": {
        "colab": {
          "base_uri": "https://localhost:8080/"
        },
        "id": "_iWF32KJ0bnQ",
        "outputId": "7a923e20-1632-4089-dfb8-caab3a5ea9ce"
      },
      "source": [
        "#findall: 정규식에 부합하는 모든 문자열 찾기 -> 모든 소문자 들어 있는 토큰 찾기\n",
        "re.findall(r\"\\d+\",\"0010010 Has at least one 010 letter 0010010\") #숫자"
      ],
      "execution_count": null,
      "outputs": [
        {
          "output_type": "execute_result",
          "data": {
            "text/plain": [
              "['0010010', '010', '0010010']"
            ]
          },
          "metadata": {
            "tags": []
          },
          "execution_count": 104
        }
      ]
    },
    {
      "cell_type": "code",
      "metadata": {
        "colab": {
          "base_uri": "https://localhost:8080/"
        },
        "id": "A8bUM-WczeAR",
        "outputId": "a1de19e0-ca2b-4f9e-f498-81628292eee5"
      },
      "source": [
        "#findall: 정규식에 부합하는 모든 문자열 찾기 -> 모든 소문자 들어 있는 토큰 찾기\n",
        "re.findall(r\"\\D+\",\"0010010 Has at least one 010 letter 0010010\") #숫자가 아닌 객체 D"
      ],
      "execution_count": null,
      "outputs": [
        {
          "output_type": "execute_result",
          "data": {
            "text/plain": [
              "[' Has at least one ', ' letter ']"
            ]
          },
          "metadata": {
            "tags": []
          },
          "execution_count": 102
        }
      ]
    },
    {
      "cell_type": "code",
      "metadata": {
        "colab": {
          "base_uri": "https://localhost:8080/"
        },
        "id": "HYyPkyFV0PQD",
        "outputId": "a0a1f8be-fc5f-4e53-a8f0-659bf7f5a934"
      },
      "source": [
        "#findall: 정규식에 부합하는 모든 문자열 찾기 -> 모든 소문자 들어 있는 토큰 찾기\n",
        "re.findall(r\"[^a-z]+\",\"0010010 Has at least one 010 letter 0010010\") #^ 은 not을 의미 즉 알파벳 소문자 빼고 다 찾기"
      ],
      "execution_count": null,
      "outputs": [
        {
          "output_type": "execute_result",
          "data": {
            "text/plain": [
              "['0010010 H', ' ', ' ', ' ', ' 010 ', ' 0010010']"
            ]
          },
          "metadata": {
            "tags": []
          },
          "execution_count": 107
        }
      ]
    },
    {
      "cell_type": "code",
      "metadata": {
        "colab": {
          "base_uri": "https://localhost:8080/",
          "height": 35
        },
        "id": "MHlYTalUvcu5",
        "outputId": "0b465ecd-040b-4083-f178-8b31a52f6be9"
      },
      "source": [
        "# sub: string으로 매칭되는 부분 문자열을 repl로 치환\n",
        "re.sub(r\"[a-z]+\",'[...]',\"0010010 Has at least one 010 letter 0010010\", flags=re.I) #카운트를 안쓰고 싶으면,카운트를 디폴트로 하고 싶으면 flag로 명시해라"
      ],
      "execution_count": null,
      "outputs": [
        {
          "output_type": "execute_result",
          "data": {
            "application/vnd.google.colaboratory.intrinsic+json": {
              "type": "string"
            },
            "text/plain": [
              "'0010010 [...] [...] [...] [...] 010 [...] 0010010'"
            ]
          },
          "metadata": {
            "tags": []
          },
          "execution_count": 108
        }
      ]
    },
    {
      "cell_type": "code",
      "metadata": {
        "colab": {
          "base_uri": "https://localhost:8080/",
          "height": 35
        },
        "id": "SNggST2E4_mn",
        "outputId": "f7df748e-8c77-4dd1-9aa5-212c1d165c0c"
      },
      "source": [
        "# 010-abcd-0100 -> abcd 값을 **** 으로 치환\n",
        "re.sub(r\"[a-z]+\",'****',\"010-abcd-0100\", flags=re.I)"
      ],
      "execution_count": null,
      "outputs": [
        {
          "output_type": "execute_result",
          "data": {
            "application/vnd.google.colaboratory.intrinsic+json": {
              "type": "string"
            },
            "text/plain": [
              "'010-****-0100'"
            ]
          },
          "metadata": {
            "tags": []
          },
          "execution_count": 112
        }
      ]
    },
    {
      "cell_type": "code",
      "metadata": {
        "colab": {
          "base_uri": "https://localhost:8080/",
          "height": 35
        },
        "id": "HNgIfajw5Rr0",
        "outputId": "902cf9e0-db75-4299-8f14-e51db02dc319"
      },
      "source": [
        "re.sub(r\"[a-z]\",'*',\"010-abcd-0100\", flags=re.I)"
      ],
      "execution_count": null,
      "outputs": [
        {
          "output_type": "execute_result",
          "data": {
            "application/vnd.google.colaboratory.intrinsic+json": {
              "type": "string"
            },
            "text/plain": [
              "'010-****-0100'"
            ]
          },
          "metadata": {
            "tags": []
          },
          "execution_count": 113
        }
      ]
    },
    {
      "cell_type": "code",
      "metadata": {
        "colab": {
          "base_uri": "https://localhost:8080/",
          "height": 35
        },
        "id": "zSuDQRPA5tjr",
        "outputId": "00d59c6c-0b5e-44d6-98a9-7bce92e2153f"
      },
      "source": [
        "re.sub(r\"\\D+\",'****',\"010-abcd-0100\", flags=re.I)"
      ],
      "execution_count": null,
      "outputs": [
        {
          "output_type": "execute_result",
          "data": {
            "application/vnd.google.colaboratory.intrinsic+json": {
              "type": "string"
            },
            "text/plain": [
              "'010****0100'"
            ]
          },
          "metadata": {
            "tags": []
          },
          "execution_count": 118
        }
      ]
    },
    {
      "cell_type": "code",
      "metadata": {
        "colab": {
          "base_uri": "https://localhost:8080/",
          "height": 35
        },
        "id": "L9uNDYCY5dPx",
        "outputId": "e90cb892-dad7-4df5-cf5e-157ca6821896"
      },
      "source": [
        "# 010-abcd-0100 -> 숫자 값을 **** 으로 치환\n",
        "re.sub(r\"\\d+\",'****',\"010-abcd-0100\", flags=re.I)"
      ],
      "execution_count": null,
      "outputs": [
        {
          "output_type": "execute_result",
          "data": {
            "application/vnd.google.colaboratory.intrinsic+json": {
              "type": "string"
            },
            "text/plain": [
              "'****-abcd-****'"
            ]
          },
          "metadata": {
            "tags": []
          },
          "execution_count": 116
        }
      ]
    },
    {
      "cell_type": "code",
      "metadata": {
        "colab": {
          "base_uri": "https://localhost:8080/",
          "height": 35
        },
        "id": "nKI1g3KR5hbO",
        "outputId": "8f2990e9-6893-4c1e-b30a-422ac439b3b5"
      },
      "source": [
        "re.sub(r\"[0-9]+\",'****',\"010-abcd-0100\", flags=re.I)"
      ],
      "execution_count": null,
      "outputs": [
        {
          "output_type": "execute_result",
          "data": {
            "application/vnd.google.colaboratory.intrinsic+json": {
              "type": "string"
            },
            "text/plain": [
              "'****-abcd-****'"
            ]
          },
          "metadata": {
            "tags": []
          },
          "execution_count": 117
        }
      ]
    },
    {
      "cell_type": "code",
      "metadata": {
        "colab": {
          "base_uri": "https://localhost:8080/",
          "height": 35
        },
        "id": "HhkitOgi5zI7",
        "outputId": "80b3a03a-e4b8-4694-d23c-1309acff7bc3"
      },
      "source": [
        "re.sub(r\"[^a-z]+\",'****',\"010-abcd-0100\", flags=re.I)"
      ],
      "execution_count": null,
      "outputs": [
        {
          "output_type": "execute_result",
          "data": {
            "application/vnd.google.colaboratory.intrinsic+json": {
              "type": "string"
            },
            "text/plain": [
              "'****abcd****'"
            ]
          },
          "metadata": {
            "tags": []
          },
          "execution_count": 119
        }
      ]
    },
    {
      "cell_type": "code",
      "metadata": {
        "id": "bO-ybPVw5-HW"
      },
      "source": [
        ""
      ],
      "execution_count": null,
      "outputs": []
    }
  ]
}