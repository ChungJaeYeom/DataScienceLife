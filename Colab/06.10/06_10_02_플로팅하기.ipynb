{
  "nbformat": 4,
  "nbformat_minor": 0,
  "metadata": {
    "colab": {
      "name": "06.10_02_플로팅하기.ipynb",
      "provenance": [],
      "collapsed_sections": []
    },
    "kernelspec": {
      "name": "python3",
      "display_name": "Python 3"
    },
    "language_info": {
      "name": "python"
    }
  },
  "cells": [
    {
      "cell_type": "markdown",
      "metadata": {
        "id": "ouCaTaqmDQWE"
      },
      "source": [
        "numpy pandas에서는 matplotlib 모듈에서 플로팅 제공\n"
      ]
    },
    {
      "cell_type": "code",
      "metadata": {
        "colab": {
          "base_uri": "https://localhost:8080/",
          "height": 447
        },
        "id": "7zRGjU9HDR4t",
        "outputId": "7984efe6-5e4f-4ec8-d13e-a3937790fc78"
      },
      "source": [
        "# matplotlib은 pyplot 하위 모듈\n",
        "# NIAAA 현황 보고서를 통해 시간 흐름에 따라 주와 알코올 종류에 따른 소비량이 어떻게 달라지는지 플로팅\n",
        "\n",
        "import matplotlib, matplotlib.pyplot as plt\n",
        "import pandas as pd\n",
        "import pickle\n",
        "\n",
        "alco = pd.read_pickle(\"/content/alco.pickle\")\n",
        "alco"
      ],
      "execution_count": null,
      "outputs": [
        {
          "output_type": "execute_result",
          "data": {
            "text/html": [
              "<div>\n",
              "<style scoped>\n",
              "    .dataframe tbody tr th:only-of-type {\n",
              "        vertical-align: middle;\n",
              "    }\n",
              "\n",
              "    .dataframe tbody tr th {\n",
              "        vertical-align: top;\n",
              "    }\n",
              "\n",
              "    .dataframe thead th {\n",
              "        text-align: right;\n",
              "    }\n",
              "</style>\n",
              "<table border=\"1\" class=\"dataframe\">\n",
              "  <thead>\n",
              "    <tr style=\"text-align: right;\">\n",
              "      <th></th>\n",
              "      <th></th>\n",
              "      <th>Beer</th>\n",
              "      <th>Wine</th>\n",
              "      <th>Spirits</th>\n",
              "      <th>Total</th>\n",
              "    </tr>\n",
              "    <tr>\n",
              "      <th>State</th>\n",
              "      <th>Year</th>\n",
              "      <th></th>\n",
              "      <th></th>\n",
              "      <th></th>\n",
              "      <th></th>\n",
              "    </tr>\n",
              "  </thead>\n",
              "  <tbody>\n",
              "    <tr>\n",
              "      <th rowspan=\"5\" valign=\"top\">Alabama</th>\n",
              "      <th>1977</th>\n",
              "      <td>0.99</td>\n",
              "      <td>0.13</td>\n",
              "      <td>0.84</td>\n",
              "      <td>1.96</td>\n",
              "    </tr>\n",
              "    <tr>\n",
              "      <th>1978</th>\n",
              "      <td>0.98</td>\n",
              "      <td>0.12</td>\n",
              "      <td>0.88</td>\n",
              "      <td>1.98</td>\n",
              "    </tr>\n",
              "    <tr>\n",
              "      <th>1979</th>\n",
              "      <td>0.98</td>\n",
              "      <td>0.12</td>\n",
              "      <td>0.84</td>\n",
              "      <td>1.94</td>\n",
              "    </tr>\n",
              "    <tr>\n",
              "      <th>1980</th>\n",
              "      <td>0.96</td>\n",
              "      <td>0.16</td>\n",
              "      <td>0.74</td>\n",
              "      <td>1.86</td>\n",
              "    </tr>\n",
              "    <tr>\n",
              "      <th>1981</th>\n",
              "      <td>1.00</td>\n",
              "      <td>0.19</td>\n",
              "      <td>0.73</td>\n",
              "      <td>1.92</td>\n",
              "    </tr>\n",
              "    <tr>\n",
              "      <th>...</th>\n",
              "      <th>...</th>\n",
              "      <td>...</td>\n",
              "      <td>...</td>\n",
              "      <td>...</td>\n",
              "      <td>...</td>\n",
              "    </tr>\n",
              "    <tr>\n",
              "      <th rowspan=\"5\" valign=\"top\">Wyoming</th>\n",
              "      <th>2005</th>\n",
              "      <td>1.21</td>\n",
              "      <td>0.23</td>\n",
              "      <td>0.97</td>\n",
              "      <td>2.41</td>\n",
              "    </tr>\n",
              "    <tr>\n",
              "      <th>2006</th>\n",
              "      <td>1.47</td>\n",
              "      <td>0.23</td>\n",
              "      <td>1.05</td>\n",
              "      <td>2.75</td>\n",
              "    </tr>\n",
              "    <tr>\n",
              "      <th>2007</th>\n",
              "      <td>1.49</td>\n",
              "      <td>0.23</td>\n",
              "      <td>1.10</td>\n",
              "      <td>2.82</td>\n",
              "    </tr>\n",
              "    <tr>\n",
              "      <th>2008</th>\n",
              "      <td>1.54</td>\n",
              "      <td>0.23</td>\n",
              "      <td>1.12</td>\n",
              "      <td>2.89</td>\n",
              "    </tr>\n",
              "    <tr>\n",
              "      <th>2009</th>\n",
              "      <td>1.45</td>\n",
              "      <td>0.22</td>\n",
              "      <td>1.10</td>\n",
              "      <td>2.77</td>\n",
              "    </tr>\n",
              "  </tbody>\n",
              "</table>\n",
              "<p>1683 rows × 4 columns</p>\n",
              "</div>"
            ],
            "text/plain": [
              "              Beer  Wine  Spirits  Total\n",
              "State   Year                            \n",
              "Alabama 1977  0.99  0.13     0.84   1.96\n",
              "        1978  0.98  0.12     0.88   1.98\n",
              "        1979  0.98  0.12     0.84   1.94\n",
              "        1980  0.96  0.16     0.74   1.86\n",
              "        1981  1.00  0.19     0.73   1.92\n",
              "...            ...   ...      ...    ...\n",
              "Wyoming 2005  1.21  0.23     0.97   2.41\n",
              "        2006  1.47  0.23     1.05   2.75\n",
              "        2007  1.49  0.23     1.10   2.82\n",
              "        2008  1.54  0.23     1.12   2.89\n",
              "        2009  1.45  0.22     1.10   2.77\n",
              "\n",
              "[1683 rows x 4 columns]"
            ]
          },
          "metadata": {
            "tags": []
          },
          "execution_count": 26
        }
      ]
    },
    {
      "cell_type": "code",
      "metadata": {
        "id": "XaYsoK2AF72N"
      },
      "source": [
        "#alco.head(10)"
      ],
      "execution_count": null,
      "outputs": []
    },
    {
      "cell_type": "code",
      "metadata": {
        "id": "j_ZPxE1DtQQi"
      },
      "source": [
        "columns, years=alco.unstack().columns.levels"
      ],
      "execution_count": null,
      "outputs": []
    },
    {
      "cell_type": "code",
      "metadata": {
        "id": "FvmqLrwPFfFT"
      },
      "source": [
        "#del alco[\"Total\"]\n",
        "#colunms, years = alco.unstack().columns.levels"
      ],
      "execution_count": null,
      "outputs": []
    },
    {
      "cell_type": "code",
      "metadata": {
        "colab": {
          "base_uri": "https://localhost:8080/",
          "height": 234
        },
        "id": "5dN3h4CfGsRu",
        "outputId": "e5483743-f260-4b91-df86-d4da3bdda52e"
      },
      "source": [
        "# 파일에서 축약된 주 이름을 읽어온다.\n",
        "states = pd.read_csv(\"states.csv\",index_col=\"State\")\n",
        "states.head(5)"
      ],
      "execution_count": null,
      "outputs": [
        {
          "output_type": "execute_result",
          "data": {
            "text/html": [
              "<div>\n",
              "<style scoped>\n",
              "    .dataframe tbody tr th:only-of-type {\n",
              "        vertical-align: middle;\n",
              "    }\n",
              "\n",
              "    .dataframe tbody tr th {\n",
              "        vertical-align: top;\n",
              "    }\n",
              "\n",
              "    .dataframe thead th {\n",
              "        text-align: right;\n",
              "    }\n",
              "</style>\n",
              "<table border=\"1\" class=\"dataframe\">\n",
              "  <thead>\n",
              "    <tr style=\"text-align: right;\">\n",
              "      <th></th>\n",
              "      <th>Postal</th>\n",
              "    </tr>\n",
              "    <tr>\n",
              "      <th>State</th>\n",
              "      <th></th>\n",
              "    </tr>\n",
              "  </thead>\n",
              "  <tbody>\n",
              "    <tr>\n",
              "      <th>Alabama</th>\n",
              "      <td>AL</td>\n",
              "    </tr>\n",
              "    <tr>\n",
              "      <th>Alaska</th>\n",
              "      <td>AK</td>\n",
              "    </tr>\n",
              "    <tr>\n",
              "      <th>Arizona</th>\n",
              "      <td>AZ</td>\n",
              "    </tr>\n",
              "    <tr>\n",
              "      <th>Arkansas</th>\n",
              "      <td>AR</td>\n",
              "    </tr>\n",
              "    <tr>\n",
              "      <th>California</th>\n",
              "      <td>CA</td>\n",
              "    </tr>\n",
              "  </tbody>\n",
              "</table>\n",
              "</div>"
            ],
            "text/plain": [
              "           Postal\n",
              "State            \n",
              "Alabama        AL\n",
              "Alaska         AK\n",
              "Arizona        AZ\n",
              "Arkansas       AR\n",
              "California     CA"
            ]
          },
          "metadata": {
            "tags": []
          },
          "execution_count": 38
        }
      ]
    },
    {
      "cell_type": "code",
      "metadata": {
        "colab": {
          "base_uri": "https://localhost:8080/"
        },
        "id": "mfri4NrOFsDV",
        "outputId": "df093e38-a3db-4665-e0d2-66b601df323f"
      },
      "source": [
        "# 2009년을 기준으로 아코올 소비량을 정렬\n",
        "# 가로축으로 년도를 바꾸고 싶다\n",
        "# unit 41 해보기\n",
        "\n",
        "# 2009년을 기준으로 알코올 소비량을 정렬한다.\n",
        "frames = [pd.merge(alco[column].unstack(), states,\n",
        "                   left_index=True, right_index=True).sort_values(2009) \n",
        "          for column in columns]\n",
        "frames\n"
      ],
      "execution_count": null,
      "outputs": [
        {
          "output_type": "execute_result",
          "data": {
            "text/plain": [
              "[               1977  1978  1979  1980  1981  ...  2006  2007  2008  2009  Postal\n",
              " State                                        ...                                \n",
              " Utah           0.97  0.96  0.97  0.96  1.01  ...  0.71  0.75  0.75  0.70      UT\n",
              " Connecticut    1.05  1.07  1.13  1.06  1.05  ...  0.93  0.93  0.94  0.89      CT\n",
              " Maryland       1.37  1.41  1.43  1.42  1.39  ...  1.02  1.01  0.99  0.97      MD\n",
              " Massachusetts  1.34  1.37  1.39  1.47  1.44  ...  1.10  1.01  1.07  1.02      MA\n",
              " California     1.31  1.36  1.42  1.42  1.43  ...  1.05  1.07  1.07  1.05      CA\n",
              " Idaho          1.50  1.50  1.55  1.53  1.54  ...  1.14  1.18  1.15  1.05      ID\n",
              " Tennessee      1.10  1.16  1.14  1.10  1.14  ...  1.14  1.13  1.10  1.05      TN\n",
              " Arkansas       0.92  0.97  0.93  1.00  1.06  ...  1.07  1.07  1.11  1.07      AR\n",
              " Georgia        1.08  1.14  1.17  1.07  1.10  ...  1.17  1.16  1.13  1.08      GA\n",
              " Washington     1.36  1.39  1.41  1.52  1.38  ...  1.05  1.11  1.09  1.09      WA\n",
              " Indiana        1.14  1.19  1.23  1.26  1.29  ...  1.10  1.14  1.11  1.09      IN\n",
              " Michigan       1.45  1.43  1.37  1.34  1.34  ...  1.12  1.12  1.12  1.10      MI\n",
              " Virginia       1.19  1.22  1.23  1.23  1.23  ...  1.14  1.13  1.14  1.11      VA\n",
              " Kentucky       1.19  1.07  1.10  1.08  1.13  ...  1.04  1.05  1.03  1.11      KY\n",
              " Oklahoma       1.07  1.08  1.05  1.08  1.14  ...  1.15  1.18  1.23  1.18      OK\n",
              " Kansas         1.13  1.14  1.17  1.23  1.23  ...  1.14  1.17  1.21  1.18      KS\n",
              " Arizona        1.70  1.77  1.86  1.69  1.78  ...  1.31  1.36  1.27  1.19      AZ\n",
              " Minnesota      1.30  1.31  1.35  1.40  1.39  ...  1.15  1.16  1.21  1.19      MN\n",
              " Alabama        0.99  0.98  0.98  0.96  1.00  ...  1.22  1.24  1.24  1.20      AL\n",
              " Florida        1.33  1.41  1.47  1.42  1.55  ...  1.33  1.30  1.25  1.21      FL\n",
              " Illinois       1.35  1.38  1.45  1.43  1.43  ...  1.23  1.22  1.21  1.22      IL\n",
              " Colorado       1.43  1.64  1.68  1.57  1.63  ...  1.27  1.29  1.27  1.22      CO\n",
              " Maine          1.37  1.31  1.30  1.32  1.24  ...  1.26  1.27  1.26  1.24      ME\n",
              " Ohio           1.17  1.19  1.36  1.39  1.35  ...  1.32  1.33  1.32  1.28      OH\n",
              " Oregon         1.33  1.34  1.39  1.37  1.38  ...  1.26  1.29  1.21  1.28      OR\n",
              " Hawaii         1.61  1.38  1.60  1.65  1.74  ...  1.30  1.34  1.35  1.30      HI\n",
              " Missouri       1.23  1.31  1.37  1.39  1.40  ...  1.33  1.33  1.32  1.30      MO\n",
              " Alaska         1.19  1.39  1.50  1.55  1.71  ...  1.24  1.13  1.20  1.31      AK\n",
              " Delaware       1.32  1.33  1.38  1.45  1.51  ...  1.43  1.39  1.36  1.31      DE\n",
              " Pennsylvania   1.35  1.36  1.42  1.45  1.42  ...  1.30  1.34  1.36  1.35      PA\n",
              " Vermont        1.42  1.53  1.57  1.43  1.49  ...  1.35  1.37  1.37  1.36      VT\n",
              " Mississippi    1.08  1.16  1.15  1.13  1.19  ...  1.46  1.46  1.45  1.41      MS\n",
              " Iowa           1.33  1.38  1.40  1.41  1.44  ...  1.38  1.40  1.41  1.42      IA\n",
              " Texas          1.63  1.70  1.76  1.77  1.84  ...  1.43  1.41  1.44  1.42      TX\n",
              " Wyoming        1.79  1.82  1.86  1.85  1.91  ...  1.47  1.49  1.54  1.45      WY\n",
              " Nebraska       1.45  1.47  1.50  1.56  1.57  ...  1.43  1.45  1.47  1.46      NE\n",
              " Wisconsin      1.78  1.80  1.88  1.96  1.95  ...  1.56  1.54  1.53  1.49      WI\n",
              " Louisiana      1.30  1.35  1.36  1.41  1.48  ...  1.61  1.57  1.56  1.50      LA\n",
              " Nevada         2.15  2.20  2.28  2.09  2.08  ...  1.74  1.71  1.68  1.57      NV\n",
              " Montana        1.83  1.82  1.83  1.82  1.90  ...  1.64  1.68  1.68  1.66      MT\n",
              " \n",
              " [40 rows x 34 columns],\n",
              "                1977  1978  1979  1980  1981  ...  2006  2007  2008  2009  Postal\n",
              " State                                        ...                                \n",
              " Mississippi    0.11  0.10  0.10  0.10  0.11  ...  0.12  0.12  0.12  0.11      MS\n",
              " Kansas         0.10  0.12  0.11  0.11  0.12  ...  0.18  0.15  0.14  0.14      KS\n",
              " Utah           0.14  0.15  0.16  0.14  0.15  ...  0.16  0.16  0.17  0.17      UT\n",
              " Arkansas       0.10  0.11  0.10  0.12  0.12  ...  0.17  0.17  0.17  0.17      AR\n",
              " Oklahoma       0.14  0.14  0.13  0.16  0.16  ...  0.17  0.17  0.18  0.18      OK\n",
              " Kentucky       0.09  0.09  0.09  0.10  0.11  ...  0.17  0.17  0.18  0.18      KY\n",
              " Iowa           0.10  0.11  0.11  0.13  0.13  ...  0.16  0.17  0.17  0.18      IA\n",
              " Nebraska       0.17  0.18  0.18  0.19  0.20  ...  0.21  0.21  0.21  0.20      NE\n",
              " Tennessee      0.10  0.11  0.11  0.12  0.13  ...  0.19  0.20  0.20  0.21      TN\n",
              " Alabama        0.13  0.12  0.12  0.16  0.19  ...  0.21  0.22  0.22  0.22      AL\n",
              " Wyoming        0.21  0.22  0.22  0.24  0.24  ...  0.23  0.23  0.23  0.22      WY\n",
              " Pennsylvania   0.20  0.21  0.22  0.22  0.23  ...  0.24  0.24  0.23  0.23      PA\n",
              " Indiana        0.14  0.16  0.15  0.17  0.18  ...  0.25  0.24  0.24  0.25      IN\n",
              " Georgia        0.16  0.19  0.19  0.19  0.18  ...  0.26  0.26  0.25  0.25      GA\n",
              " Ohio           0.18  0.20  0.20  0.22  0.22  ...  0.24  0.25  0.26  0.26      OH\n",
              " Texas          0.14  0.14  0.14  0.22  0.24  ...  0.26  0.27  0.27  0.28      TX\n",
              " Louisiana      0.25  0.25  0.26  0.27  0.27  ...  0.25  0.28  0.27  0.28      LA\n",
              " Missouri       0.19  0.20  0.20  0.20  0.21  ...  0.28  0.30  0.30  0.30      MO\n",
              " Wisconsin      0.27  0.28  0.28  0.31  0.31  ...  0.32  0.33  0.34  0.31      WI\n",
              " Michigan       0.24  0.25  0.25  0.28  0.29  ...  0.29  0.30  0.30  0.31      MI\n",
              " Maryland       0.30  0.31  0.31  0.33  0.34  ...  0.34  0.36  0.36  0.37      MD\n",
              " Minnesota      0.20  0.23  0.24  0.26  0.27  ...  0.32  0.36  0.37  0.37      MN\n",
              " Arizona        0.34  0.37  0.39  0.36  0.42  ...  0.37  0.33  0.40  0.38      AZ\n",
              " Illinois       0.30  0.31  0.33  0.33  0.35  ...  0.37  0.41  0.38  0.39      IL\n",
              " Maine          0.23  0.27  0.27  0.29  0.28  ...  0.42  0.43  0.42  0.42      ME\n",
              " Virginia       0.21  0.21  0.25  0.25  0.27  ...  0.39  0.41  0.42  0.43      VA\n",
              " Montana        0.20  0.20  0.41  0.35  0.33  ...  0.41  0.43  0.44  0.45      MT\n",
              " Colorado       0.36  0.47  0.47  0.47  0.44  ...  0.45  0.47  0.46  0.46      CO\n",
              " Florida        0.33  0.34  0.37  0.37  0.39  ...  0.48  0.49  0.49  0.48      FL\n",
              " Oregon         0.46  0.47  0.47  0.51  0.50  ...  0.49  0.49  0.49  0.49      OR\n",
              " Washington     0.45  0.48  0.48  0.52  0.54  ...  0.48  0.50  0.50  0.51      WA\n",
              " Hawaii         0.36  0.46  0.44  0.46  0.44  ...  0.48  0.49  0.52  0.53      HI\n",
              " Alaska         0.42  0.45  0.47  0.50  0.57  ...  0.46  0.44  0.49  0.54      AK\n",
              " California     0.67  0.68  0.70  0.71  0.72  ...  0.54  0.55  0.55  0.55      CA\n",
              " Delaware       0.24  0.25  0.27  0.29  0.32  ...  0.60  0.59  0.58  0.57      DE\n",
              " Nevada         0.83  0.85  0.88  0.79  0.80  ...  0.66  0.64  0.63  0.58      NV\n",
              " Connecticut    0.35  0.38  0.40  0.43  0.44  ...  0.55  0.58  0.59  0.59      CT\n",
              " Massachusetts  0.37  0.40  0.42  0.45  0.49  ...  0.61  0.61  0.62  0.61      MA\n",
              " Vermont        0.44  0.47  0.47  0.48  0.50  ...  0.58  0.61  0.62  0.63      VT\n",
              " Idaho          0.22  0.26  0.27  0.30  0.33  ...  0.74  0.74  0.81  0.92      ID\n",
              " \n",
              " [40 rows x 34 columns],\n",
              "                1977  1978  1979  1980  1981  ...  2006  2007  2008  2009  Postal\n",
              " State                                        ...                                \n",
              " Utah           0.59  0.61  0.62  0.60  0.58  ...  0.43  0.43  0.46  0.46      UT\n",
              " Ohio           0.70  0.70  0.71  0.72  0.68  ...  0.44  0.45  0.46  0.47      OH\n",
              " Tennessee      0.71  0.72  0.73  0.69  0.72  ...  0.56  0.56  0.57  0.57      TN\n",
              " Alabama        0.84  0.88  0.84  0.74  0.73  ...  0.55  0.56  0.58  0.58      AL\n",
              " Texas          0.81  0.84  0.87  0.81  0.85  ...  0.55  0.56  0.58  0.58      TX\n",
              " Oklahoma       0.78  0.82  0.80  0.71  0.83  ...  0.57  0.58  0.58  0.58      OK\n",
              " Virginia       0.90  0.90  0.92  0.91  0.89  ...  0.57  0.58  0.59  0.59      VA\n",
              " Arkansas       0.63  0.73  0.57  0.69  0.68  ...  0.59  0.60  0.60  0.60      AR\n",
              " Pennsylvania   0.74  0.74  0.73  0.71  0.72  ...  0.57  0.59  0.60  0.61      PA\n",
              " Georgia        1.23  1.26  1.22  1.09  1.09  ...  0.64  0.64  0.64  0.64      GA\n",
              " Kentucky       0.75  0.77  0.77  0.74  0.75  ...  0.62  0.63  0.65  0.65      KY\n",
              " Kansas         0.65  0.64  0.73  0.62  0.70  ...  0.61  0.64  0.65  0.67      KS\n",
              " Nebraska       0.91  0.89  0.88  0.89  0.88  ...  0.71  0.67  0.68  0.68      NE\n",
              " Vermont        1.58  1.59  1.50  1.39  1.33  ...  0.69  0.70  0.71  0.70      VT\n",
              " Idaho          0.79  0.80  0.84  0.77  0.83  ...  0.65  0.67  0.69  0.70      ID\n",
              " Mississippi    0.86  0.91  0.84  0.86  0.84  ...  0.67  0.68  0.70  0.71      MS\n",
              " Iowa           0.74  0.74  0.71  0.71  0.69  ...  0.65  0.67  0.70  0.72      IA\n",
              " Illinois       1.22  1.19  1.17  1.24  1.12  ...  0.73  0.73  0.73  0.73      IL\n",
              " California     1.28  1.32  1.28  1.25  1.21  ...  0.70  0.72  0.72  0.73      CA\n",
              " Indiana        0.77  0.79  0.79  0.77  0.78  ...  0.66  0.72  0.74  0.73      IN\n",
              " Arizona        1.05  1.10  1.17  0.98  1.01  ...  0.78  0.76  0.75  0.74      AZ\n",
              " Washington     1.08  1.09  1.10  1.08  1.05  ...  0.71  0.74  0.76  0.74      WA\n",
              " Hawaii         1.26  1.30  1.28  1.21  1.16  ...  0.78  0.80  0.74  0.75      HI\n",
              " Michigan       1.02  1.05  1.03  1.03  1.00  ...  0.76  0.78  0.80  0.80      MI\n",
              " Oregon         0.96  0.98  0.96  0.94  0.92  ...  0.78  0.81  0.82  0.82      OR\n",
              " Maine          1.04  1.05  1.08  1.06  1.05  ...  0.79  0.80  0.82  0.83      ME\n",
              " Missouri       0.83  0.89  0.86  0.84  0.83  ...  0.76  0.78  0.80  0.83      MO\n",
              " Massachusetts  1.24  1.25  1.23  1.27  1.24  ...  0.84  0.86  0.84  0.84      MA\n",
              " Louisiana      1.03  1.07  1.08  1.04  1.02  ...  0.80  0.81  0.83  0.85      LA\n",
              " Connecticut    1.21  1.20  1.20  1.21  1.18  ...  0.84  0.85  0.86  0.86      CT\n",
              " Maryland       1.39  1.38  1.39  1.35  1.33  ...  0.83  0.84  0.85  0.87      MD\n",
              " Montana        1.10  1.07  1.05  1.04  1.05  ...  0.83  0.86  0.87  0.88      MT\n",
              " Florida        1.47  1.48  1.51  1.43  1.38  ...  0.92  0.93  0.90  0.92      FL\n",
              " Colorado       1.22  1.43  1.37  1.31  1.26  ...  0.97  1.00  1.01  1.00      CO\n",
              " Minnesota      1.15  1.15  1.16  1.20  1.18  ...  0.93  0.97  1.03  1.04      MN\n",
              " Wyoming        1.32  1.36  1.30  1.32  1.27  ...  1.05  1.10  1.12  1.10      WY\n",
              " Nevada         3.85  3.65  3.28  2.94  2.71  ...  1.30  1.27  1.33  1.15      NV\n",
              " Wisconsin      1.26  1.18  1.17  1.20  1.20  ...  1.09  1.11  1.12  1.16      WI\n",
              " Alaska         1.70  1.68  1.65  1.70  1.82  ...  1.02  1.07  1.09  1.16      AK\n",
              " Delaware       1.35  1.33  1.34  1.38  1.39  ...  1.28  1.25  1.25  1.25      DE\n",
              " \n",
              " [40 rows x 34 columns]]"
            ]
          },
          "metadata": {
            "tags": []
          },
          "execution_count": 39
        }
      ]
    },
    {
      "cell_type": "code",
      "metadata": {
        "id": "a2oedYtcGm3x",
        "colab": {
          "base_uri": "https://localhost:8080/"
        },
        "outputId": "22be7471-b1fc-4160-e63a-324feea1bacc"
      },
      "source": [
        "#데이터의 총 기간은 몇 년인가?\n",
        "span = max(years) - min(years) + 1\n",
        "span"
      ],
      "execution_count": null,
      "outputs": [
        {
          "output_type": "execute_result",
          "data": {
            "text/plain": [
              "33"
            ]
          },
          "metadata": {
            "tags": []
          },
          "execution_count": 40
        }
      ]
    },
    {
      "cell_type": "code",
      "metadata": {
        "id": "TffH53CftqEl"
      },
      "source": [
        "#적절해보이는 스타일을 선택한다.\n",
        "matplotlib.style.use(\"ggplot\")"
      ],
      "execution_count": null,
      "outputs": []
    },
    {
      "cell_type": "code",
      "metadata": {
        "id": "86dpCiwDt0vU"
      },
      "source": [
        ""
      ],
      "execution_count": null,
      "outputs": []
    }
  ]
}