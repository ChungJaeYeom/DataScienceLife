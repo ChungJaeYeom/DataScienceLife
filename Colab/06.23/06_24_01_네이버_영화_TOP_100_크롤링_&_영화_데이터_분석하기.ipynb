{
  "nbformat": 4,
  "nbformat_minor": 0,
  "metadata": {
    "colab": {
      "name": "06.24_01_네이버 영화 TOP 100 크롤링 & 영화 데이터 분석하기.ipynb",
      "provenance": [],
      "collapsed_sections": []
    },
    "kernelspec": {
      "name": "python3",
      "display_name": "Python 3"
    },
    "language_info": {
      "name": "python"
    }
  },
  "cells": [
    {
      "cell_type": "markdown",
      "metadata": {
        "id": "ClceD8yizfFf"
      },
      "source": [
        "크롤링한 TOP 100 영화 데이터 랭킹 시각화"
      ]
    },
    {
      "cell_type": "markdown",
      "metadata": {
        "id": "I6iGjivLzn-s"
      },
      "source": [
        "라이브러리 임포트"
      ]
    },
    {
      "cell_type": "code",
      "metadata": {
        "id": "K5a7XquqovCz"
      },
      "source": [
        "import numpy as np\n",
        "import pandas as pd\n",
        "\n",
        "import plotly.express as px\n",
        "import plotly.graph_objects as go"
      ],
      "execution_count": 1,
      "outputs": []
    },
    {
      "cell_type": "markdown",
      "metadata": {
        "id": "Bxov4D1Qzs8j"
      },
      "source": [
        "데이터 준비하기"
      ]
    },
    {
      "cell_type": "markdown",
      "metadata": {
        "id": "8Btp1YpBzzGY"
      },
      "source": [
        "실시간 TOP 100 시각화"
      ]
    },
    {
      "cell_type": "code",
      "metadata": {
        "colab": {
          "base_uri": "https://localhost:8080/"
        },
        "id": "Vh8sWEH9pEC0",
        "outputId": "1ee32636-9348-4514-9c7a-52599c1abc14"
      },
      "source": [
        "df = pd.read_csv('/content/movie_my_data_75csv',encoding='euc-kr')\n",
        "df.info()"
      ],
      "execution_count": 8,
      "outputs": [
        {
          "output_type": "stream",
          "text": [
            "<class 'pandas.core.frame.DataFrame'>\n",
            "RangeIndex: 75 entries, 0 to 74\n",
            "Data columns (total 5 columns):\n",
            " #   Column      Non-Null Count  Dtype \n",
            "---  ------      --------------  ----- \n",
            " 0   Unnamed: 0  75 non-null     int64 \n",
            " 1   제목          75 non-null     object\n",
            " 2   평점          75 non-null     int64 \n",
            " 3   장르          75 non-null     object\n",
            " 4   줄거리         75 non-null     object\n",
            "dtypes: int64(2), object(3)\n",
            "memory usage: 3.1+ KB\n"
          ],
          "name": "stdout"
        }
      ]
    },
    {
      "cell_type": "code",
      "metadata": {
        "colab": {
          "base_uri": "https://localhost:8080/",
          "height": 304
        },
        "id": "Yp_yd5230IKB",
        "outputId": "f5fe8f0d-718b-4b61-ab61-1e4327b26396"
      },
      "source": [
        "df.head()"
      ],
      "execution_count": 9,
      "outputs": [
        {
          "output_type": "execute_result",
          "data": {
            "text/html": [
              "<div>\n",
              "<style scoped>\n",
              "    .dataframe tbody tr th:only-of-type {\n",
              "        vertical-align: middle;\n",
              "    }\n",
              "\n",
              "    .dataframe tbody tr th {\n",
              "        vertical-align: top;\n",
              "    }\n",
              "\n",
              "    .dataframe thead th {\n",
              "        text-align: right;\n",
              "    }\n",
              "</style>\n",
              "<table border=\"1\" class=\"dataframe\">\n",
              "  <thead>\n",
              "    <tr style=\"text-align: right;\">\n",
              "      <th></th>\n",
              "      <th>Unnamed: 0</th>\n",
              "      <th>제목</th>\n",
              "      <th>평점</th>\n",
              "      <th>장르</th>\n",
              "      <th>줄거리</th>\n",
              "    </tr>\n",
              "  </thead>\n",
              "  <tbody>\n",
              "    <tr>\n",
              "      <th>0</th>\n",
              "      <td>0</td>\n",
              "      <td>콰이어트 플레이스</td>\n",
              "      <td>7</td>\n",
              "      <td>공포/스릴러</td>\n",
              "      <td>소리를 내는 순간 공격받는 극한의 상황 속에서 살아남기 위한 한 가족의 숨막히는 사...</td>\n",
              "    </tr>\n",
              "    <tr>\n",
              "      <th>1</th>\n",
              "      <td>1</td>\n",
              "      <td>극장판 귀멸의 칼날: 무한열차편</td>\n",
              "      <td>9</td>\n",
              "      <td>애니메이션</td>\n",
              "      <td>혈귀로 변해버린 여동생 ‘네즈코’를 인간으로 되돌릴 단서를 찾아 비밀조직 귀살대에 ...</td>\n",
              "    </tr>\n",
              "    <tr>\n",
              "      <th>2</th>\n",
              "      <td>2</td>\n",
              "      <td>킬러의 보디가드</td>\n",
              "      <td>8</td>\n",
              "      <td>액션</td>\n",
              "      <td>세상 제일 잘난 맛에 사는 섭외 1순위 앵그리 보디가드가지명수배 1순위 구강 액션 ...</td>\n",
              "    </tr>\n",
              "    <tr>\n",
              "      <th>3</th>\n",
              "      <td>3</td>\n",
              "      <td>크루엘라</td>\n",
              "      <td>9</td>\n",
              "      <td>드라마</td>\n",
              "      <td>처음부터 난 알았어. 내가 특별하단 걸그게 불편한 인간들도 있겠지만 모두의 비위를 ...</td>\n",
              "    </tr>\n",
              "    <tr>\n",
              "      <th>4</th>\n",
              "      <td>4</td>\n",
              "      <td>조커</td>\n",
              "      <td>8</td>\n",
              "      <td>드라마</td>\n",
              "      <td>고담시의 광대 아서 플렉은 코미디언을 꿈꾸는 남자.하지만 모두가 미쳐가는 코미디 같...</td>\n",
              "    </tr>\n",
              "  </tbody>\n",
              "</table>\n",
              "</div>"
            ],
            "text/plain": [
              "   Unnamed: 0  ...                                                줄거리\n",
              "0           0  ...  소리를 내는 순간 공격받는 극한의 상황 속에서 살아남기 위한 한 가족의 숨막히는 사...\n",
              "1           1  ...  혈귀로 변해버린 여동생 ‘네즈코’를 인간으로 되돌릴 단서를 찾아 비밀조직 귀살대에 ...\n",
              "2           2  ...  세상 제일 잘난 맛에 사는 섭외 1순위 앵그리 보디가드가지명수배 1순위 구강 액션 ...\n",
              "3           3  ...  처음부터 난 알았어. 내가 특별하단 걸그게 불편한 인간들도 있겠지만 모두의 비위를 ...\n",
              "4           4  ...  고담시의 광대 아서 플렉은 코미디언을 꿈꾸는 남자.하지만 모두가 미쳐가는 코미디 같...\n",
              "\n",
              "[5 rows x 5 columns]"
            ]
          },
          "metadata": {
            "tags": []
          },
          "execution_count": 9
        }
      ]
    },
    {
      "cell_type": "code",
      "metadata": {
        "colab": {
          "base_uri": "https://localhost:8080/",
          "height": 542
        },
        "id": "zFR4gMLkptjL",
        "outputId": "6e3cb1f2-79b3-49c5-e41e-e8be66775324"
      },
      "source": [
        "fig = px.scatter(df,x='제목',y='평점',color='장르')\n",
        "fig.show()"
      ],
      "execution_count": 4,
      "outputs": [
        {
          "output_type": "display_data",
          "data": {
            "text/html": [
              "<html>\n",
              "<head><meta charset=\"utf-8\" /></head>\n",
              "<body>\n",
              "    <div>\n",
              "            <script src=\"https://cdnjs.cloudflare.com/ajax/libs/mathjax/2.7.5/MathJax.js?config=TeX-AMS-MML_SVG\"></script><script type=\"text/javascript\">if (window.MathJax) {MathJax.Hub.Config({SVG: {font: \"STIX-Web\"}});}</script>\n",
              "                <script type=\"text/javascript\">window.PlotlyConfig = {MathJaxConfig: 'local'};</script>\n",
              "        <script src=\"https://cdn.plot.ly/plotly-latest.min.js\"></script>    \n",
              "            <div id=\"7c4a3af5-4dc1-45d5-b6cb-f14031d165e5\" class=\"plotly-graph-div\" style=\"height:525px; width:100%;\"></div>\n",
              "            <script type=\"text/javascript\">\n",
              "                \n",
              "                    window.PLOTLYENV=window.PLOTLYENV || {};\n",
              "                    \n",
              "                if (document.getElementById(\"7c4a3af5-4dc1-45d5-b6cb-f14031d165e5\")) {\n",
              "                    Plotly.newPlot(\n",
              "                        '7c4a3af5-4dc1-45d5-b6cb-f14031d165e5',\n",
              "                        [{\"hoverlabel\": {\"namelength\": 0}, \"hovertemplate\": \"\\uc7a5\\ub974=\\uacf5\\ud3ec/\\uc2a4\\ub9b4\\ub7ec<br>\\uc81c\\ubaa9=%{x}<br>\\ud3c9\\uc810=%{y}\", \"legendgroup\": \"\\uc7a5\\ub974=\\uacf5\\ud3ec/\\uc2a4\\ub9b4\\ub7ec\", \"marker\": {\"color\": \"#636efa\", \"symbol\": \"circle\"}, \"mode\": \"markers\", \"name\": \"\\uc7a5\\ub974=\\uacf5\\ud3ec/\\uc2a4\\ub9b4\\ub7ec\", \"showlegend\": true, \"type\": \"scatter\", \"x\": [\"\\ucf70\\uc774\\uc5b4\\ud2b8 \\ud50c\\ub808\\uc774\\uc2a4\", \"\\ub354 \\uc2a4\\ud30c\\uc774\", \"\\uae30\\uae30\\uad34\\uad34 \\uc131\\ud615\\uc218\", \"\\uc5b8\\ub354\\uc6cc\\ud130\", \"\\uce90\\ube48 \\uc624\\ube0c \\ub354 \\ucee8\\uc800\\ub9c1\", \"\\uc560\\ub4dc \\uc544\\uc2a4\\ud2b8\\ub77c\", \"\\uadf8\\uac83: \\ub450 \\ubc88\\uc9f8 \\uc774\\uc57c\\uae30\", \"\\ub8e9 \\uc5b4\\uc6e8\\uc774\"], \"xaxis\": \"x\", \"y\": [7, 8, 6, 7, 3, 7, 6, 7], \"yaxis\": \"y\"}, {\"hoverlabel\": {\"namelength\": 0}, \"hovertemplate\": \"\\uc7a5\\ub974=\\uc560\\ub2c8\\uba54\\uc774\\uc158<br>\\uc81c\\ubaa9=%{x}<br>\\ud3c9\\uc810=%{y}\", \"legendgroup\": \"\\uc7a5\\ub974=\\uc560\\ub2c8\\uba54\\uc774\\uc158\", \"marker\": {\"color\": \"#EF553B\", \"symbol\": \"circle\"}, \"mode\": \"markers\", \"name\": \"\\uc7a5\\ub974=\\uc560\\ub2c8\\uba54\\uc774\\uc158\", \"showlegend\": true, \"type\": \"scatter\", \"x\": [\"\\uadf9\\uc7a5\\ud310 \\uadc0\\uba78\\uc758 \\uce7c\\ub0a0: \\ubb34\\ud55c\\uc5f4\\ucc28\\ud3b8\", \"\\uc18c\\uc6b8\", \"\\ubf40\\ub85c\\ub85c \\uadf9\\uc7a5\\ud310 \\ubcf4\\ubb3c\\uc12c \\ub300\\ubaa8\\ud5d8\", \"\\ud558\\uc6b8\\uc758 \\uc6c0\\uc9c1\\uc774\\ub294 \\uc131\", \"\\ud398\\uc774\\ud2b8 \\uc2a4\\ud14c\\uc774 \\ub098\\uc774\\ud2b8 \\ud5e4\\ube10\\uc988\\ud544 \\uc81c3\\uc7a5 \\uc2a4\\ud504\\ub9c1 \\uc1a1\", \"\\ub77c\\uc57c\\uc640 \\ub9c8\\uc9c0\\ub9c9 \\ub4dc\\ub798\\uace4\", \"\\uba85\\ud0d0\\uc815 \\ucf54\\ub09c: \\uc9c4\\ud64d\\uc758 \\uc218\\ud559\\uc5ec\\ud589\", \"\\ube45\\ud48b \\uc8fc\\ub2c8\\uc5b42: \\ud328\\ubc00\\ub9ac\\uac00 \\ub5b4\\ub2e4\"], \"xaxis\": \"x\", \"y\": [9, 9, 9, 9, 9, 9, 7, 9], \"yaxis\": \"y\"}, {\"hoverlabel\": {\"namelength\": 0}, \"hovertemplate\": \"\\uc7a5\\ub974=\\uc561\\uc158<br>\\uc81c\\ubaa9=%{x}<br>\\ud3c9\\uc810=%{y}\", \"legendgroup\": \"\\uc7a5\\ub974=\\uc561\\uc158\", \"marker\": {\"color\": \"#00cc96\", \"symbol\": \"circle\"}, \"mode\": \"markers\", \"name\": \"\\uc7a5\\ub974=\\uc561\\uc158\", \"showlegend\": true, \"type\": \"scatter\", \"x\": [\"\\ud0ac\\ub7ec\\uc758 \\ubcf4\\ub514\\uac00\\ub4dc\", \"\\ud06c\\ub8e8\\uc988 \\ud328\\ubc00\\ub9ac: \\ub274 \\uc5d0\\uc774\\uc9c0\", \"\\ub178\\ubc14\\ub514 \", \"\\ud14c\\ub137\", \"\\uc5b4\\ubca4\\uc838\\uc2a4: \\uc5d4\\ub4dc\\uac8c\\uc784\", \"\\uc7ad \\uc2a4\\ub098\\uc774\\ub354\\uc758 \\uc800\\uc2a4\\ud2f0\\uc2a4 \\ub9ac\\uadf8\", \"\\ub808\\ub514 \\ud50c\\ub808\\uc774\\uc5b4 \\uc6d0\", \"\\ud5dd\\uac70\\uac8c\\uc784 : \\ub354 \\ud30c\\uc774\\ub110\", \"\\ud5dd\\uac70\\uac8c\\uc784:\\ubaa8\\ud0b9\\uc81c\\uc774\", \"\\ud30c\\uc774\\ud504\\ub77c\\uc778\", \"\\ubbac\\ub780\", \"\\uc544\\uc77c\\ub77c\", \"\\uc5b4\\ubca4\\uc838\\uc2a4: \\uc778\\ud53c\\ub2c8\\ud2f0 \\uc6cc\", \"\\ubc14\\ub78c\\uc758 \\uac80\\uc2ec : \\uc804\\uc124\\uc758 \\ucd5c\\ud6c4\\ud3b8\", \"\\ubd84\\ub178\\uc758 \\uc9c8\\uc8fc: \\ub354 \\ub9e5\\uc2dc\\uba48\", \"\\uc774\\ud0dc\\uc6d0 \\uc0b4\\uc778\\uc0ac\\uac74\", \"\\ud06c\\ub85c\\uc6b0\\uc988 \\uc81c\\ub85c\", \"\\ud0b9\\ub364 \\uc624\\ube0c \\ud5e4\\ube10\", \"\\ub77c\\uc774\\ub354\\uc2a4 \\uc624\\ube0c \\uc800\\uc2a4\\ud2f0\\uc2a4\", \"\\uc1fc\\ud06c \\uc6e8\\uc774\\ube0c 2\", \"\\ub9c8\\ud06c\\ub9e8\", \"\\uace0\\uc9c8\\ub77c VS. \\ucf69\", \"\\ud504\\ub77c\\ubbf8\\uc2f1 \\uc601 \\uc6b0\\uba3c\", \"\\uac15\\ucca0\\ube442: \\uc815\\uc0c1\\ud68c\\ub2f4\", \"\\uc18c\\ub144\\uc2dc\\uc808\\uc758 \\ub108\", \"\\uc628\\uc6cc\\ub4dc: \\ub2e8 \\ud558\\ub8e8\\uc758 \\uae30\\uc801\", \"\\ucf5c \\uc624\\ube0c \\uc640\\uc77c\\ub4dc\", \"\\ud0b9\\ub364\", \"\\uc880\\ube44\\ub79c\\ub4dc: \\ub354\\ube14 \\ud0ed\", \"\\ubd09\\uc624\\ub3d9 \\uc804\\ud22c\", \"\\uc2a4\\ud30c\\uc774\\ub354\\ub9e8: \\ud30c \\ud504\\ub86c \\ud648\"], \"xaxis\": \"x\", \"y\": [8, 9, 8, 8, 9, 0, 8, 7, 7, 6, 4, 9, 8, 8, 8, 5, 7, 8, 7, 9, 5, 8, 8, 4, 9, 9, 8, 6, 7, 7, 8], \"yaxis\": \"y\"}, {\"hoverlabel\": {\"namelength\": 0}, \"hovertemplate\": \"\\uc7a5\\ub974=\\ub4dc\\ub77c\\ub9c8<br>\\uc81c\\ubaa9=%{x}<br>\\ud3c9\\uc810=%{y}\", \"legendgroup\": \"\\uc7a5\\ub974=\\ub4dc\\ub77c\\ub9c8\", \"marker\": {\"color\": \"#ab63fa\", \"symbol\": \"circle\"}, \"mode\": \"markers\", \"name\": \"\\uc7a5\\ub974=\\ub4dc\\ub77c\\ub9c8\", \"showlegend\": true, \"type\": \"scatter\", \"x\": [\"\\ud06c\\ub8e8\\uc5d8\\ub77c\", \"\\uc870\\ucee4\", \"\\ubbf8\\ub098\\ub9ac\", \"\\uc790\\uc0b0\\uc5b4\\ubcf4\", \"\\ubdf0\\ud2f0\\ud480 \\ubcf4\\uc774\", \"\\ube44\\uc640 \\ub2f9\\uc2e0\\uc758 \\uc774\\uc57c\\uae30\", \"\\uc138\\uc790\\ub9e4\", \"\\ubc14\\ub2f7\\ub9c8\\uc744 \\ub2e4\\uc774\\uc5b4\\ub9ac\", \"\\uc911\\uacbd\\uc0bc\\ub9bc\", \"\\uc544\\ub4e4\\uc758 \\uc774\\ub984\\uc73c\\ub85c\", \"\\uc544\\uc774\\ub4e4\\uc740 \\uc990\\uac81\\ub2e4\", \"\\ub178\\ub9e4\\ub4dc\\ub79c\\ub4dc\", \"\\ud0c0\\uc778\\uc758 \\uce5c\\uc808\", \"\\ub354 \\ud30c\\ub354\", \"\\ub0a8\\ub9e4\\uc758 \\uc5ec\\ub984\\ubc24\", \"\\uae30\\ub3c4\\uc758 \\ud798\", \"\\uc0ac\\ub791\\uc774 \\ubb58\\uae4c\", \"\\uad7f\\ubc14\\uc774 \\uc378\\uba38\"], \"xaxis\": \"x\", \"y\": [9, 8, 7, 9, 8, 6, 8, 8, 8, 6, 9, 8, 8, 8, 8, 9, 7, 6], \"yaxis\": \"y\"}, {\"hoverlabel\": {\"namelength\": 0}, \"hovertemplate\": \"\\uc7a5\\ub974=\\uacf5\\uc5f0\\uc2e4\\ud669<br>\\uc81c\\ubaa9=%{x}<br>\\ud3c9\\uc810=%{y}\", \"legendgroup\": \"\\uc7a5\\ub974=\\uacf5\\uc5f0\\uc2e4\\ud669\", \"marker\": {\"color\": \"#FFA15A\", \"symbol\": \"circle\"}, \"mode\": \"markers\", \"name\": \"\\uc7a5\\ub974=\\uacf5\\uc5f0\\uc2e4\\ud669\", \"showlegend\": true, \"type\": \"scatter\", \"x\": [\"\\ubaac\\ud14c\\ud06c\\ub9ac\\uc2a4\\ud1a0: \\ub354 \\ubba4\\uc9c0\\uceec \\ub77c\\uc774\\ube0c\"], \"xaxis\": \"x\", \"y\": [9], \"yaxis\": \"y\"}, {\"hoverlabel\": {\"namelength\": 0}, \"hovertemplate\": \"\\uc7a5\\ub974=\\uba5c\\ub85c<br>\\uc81c\\ubaa9=%{x}<br>\\ud3c9\\uc810=%{y}\", \"legendgroup\": \"\\uc7a5\\ub974=\\uba5c\\ub85c\", \"marker\": {\"color\": \"#19d3f3\", \"symbol\": \"circle\"}, \"mode\": \"markers\", \"name\": \"\\uc7a5\\ub974=\\uba5c\\ub85c\", \"showlegend\": true, \"type\": \"scatter\", \"x\": [\"\\uc560\\ud504\\ud130: \\uadf8 \\ud6c4\", \"\\uc720\\uc5b4 \\uc544\\uc774\\uc988 \\ud154\", \"\\uc624\\ud0c0\\ucfe0\\uc5d0\\uac8c \\uc0ac\\ub791\\uc740 \\uc5b4\\ub824\\uc6cc\"], \"xaxis\": \"x\", \"y\": [8, 9, 5], \"yaxis\": \"y\"}, {\"hoverlabel\": {\"namelength\": 0}, \"hovertemplate\": \"\\uc7a5\\ub974=\\uac10\\ub3c5\\uc6b0\\ub514 \\uc568\\ub7f0<br>\\uc81c\\ubaa9=%{x}<br>\\ud3c9\\uc810=%{y}\", \"legendgroup\": \"\\uc7a5\\ub974=\\uac10\\ub3c5\\uc6b0\\ub514 \\uc568\\ub7f0\", \"marker\": {\"color\": \"#FF6692\", \"symbol\": \"circle\"}, \"mode\": \"markers\", \"name\": \"\\uc7a5\\ub974=\\uac10\\ub3c5\\uc6b0\\ub514 \\uc568\\ub7f0\", \"showlegend\": true, \"type\": \"scatter\", \"x\": [\"\\ub808\\uc774\\ub2c8 \\ub370\\uc774 \\uc778 \\ub274\\uc695\"], \"xaxis\": \"x\", \"y\": [5], \"yaxis\": \"y\"}, {\"hoverlabel\": {\"namelength\": 0}, \"hovertemplate\": \"\\uc7a5\\ub974=\\ucf54\\ubbf8\\ub514<br>\\uc81c\\ubaa9=%{x}<br>\\ud3c9\\uc810=%{y}\", \"legendgroup\": \"\\uc7a5\\ub974=\\ucf54\\ubbf8\\ub514\", \"marker\": {\"color\": \"#B6E880\", \"symbol\": \"circle\"}, \"mode\": \"markers\", \"name\": \"\\uc7a5\\ub974=\\ucf54\\ubbf8\\ub514\", \"showlegend\": true, \"type\": \"scatter\", \"x\": [\"\\ud589\\ubcf5\\ud55c \\uc0ac\\uc804\", \"\\uace0\\ubd09\\uc218 \\uac10\\ub3c5 \\ub2e8\\ud3b8\\uc120\"], \"xaxis\": \"x\", \"y\": [8, 8], \"yaxis\": \"y\"}, {\"hoverlabel\": {\"namelength\": 0}, \"hovertemplate\": \"\\uc7a5\\ub974=\\ub2e4\\ud050\\uba58\\ud130\\ub9ac<br>\\uc81c\\ubaa9=%{x}<br>\\ud3c9\\uc810=%{y}\", \"legendgroup\": \"\\uc7a5\\ub974=\\ub2e4\\ud050\\uba58\\ud130\\ub9ac\", \"marker\": {\"color\": \"#FF97FF\", \"symbol\": \"circle\"}, \"mode\": \"markers\", \"name\": \"\\uc7a5\\ub974=\\ub2e4\\ud050\\uba58\\ud130\\ub9ac\", \"showlegend\": true, \"type\": \"scatter\", \"x\": [\"\\uc694\\uc694\\ud604\\uc0c1\", \"\\ubc25\\uc815\", \"\\uc6b8\\uc9c0\\ub9c8 \\ud1a4\\uc988 2 : \\uc288\\ud06c\\ub780 \\ubc14\\ubc14\"], \"xaxis\": \"x\", \"y\": [9, 9, 9], \"yaxis\": \"y\"}],\n",
              "                        {\"legend\": {\"tracegroupgap\": 0}, \"margin\": {\"t\": 60}, \"template\": {\"data\": {\"bar\": [{\"error_x\": {\"color\": \"#2a3f5f\"}, \"error_y\": {\"color\": \"#2a3f5f\"}, \"marker\": {\"line\": {\"color\": \"#E5ECF6\", \"width\": 0.5}}, \"type\": \"bar\"}], \"barpolar\": [{\"marker\": {\"line\": {\"color\": \"#E5ECF6\", \"width\": 0.5}}, \"type\": \"barpolar\"}], \"carpet\": [{\"aaxis\": {\"endlinecolor\": \"#2a3f5f\", \"gridcolor\": \"white\", \"linecolor\": \"white\", \"minorgridcolor\": \"white\", \"startlinecolor\": \"#2a3f5f\"}, \"baxis\": {\"endlinecolor\": \"#2a3f5f\", \"gridcolor\": \"white\", \"linecolor\": \"white\", \"minorgridcolor\": \"white\", \"startlinecolor\": \"#2a3f5f\"}, \"type\": \"carpet\"}], \"choropleth\": [{\"colorbar\": {\"outlinewidth\": 0, \"ticks\": \"\"}, \"type\": \"choropleth\"}], \"contour\": [{\"colorbar\": {\"outlinewidth\": 0, \"ticks\": \"\"}, \"colorscale\": [[0.0, \"#0d0887\"], [0.1111111111111111, \"#46039f\"], [0.2222222222222222, \"#7201a8\"], [0.3333333333333333, \"#9c179e\"], [0.4444444444444444, \"#bd3786\"], [0.5555555555555556, \"#d8576b\"], [0.6666666666666666, \"#ed7953\"], [0.7777777777777778, \"#fb9f3a\"], [0.8888888888888888, \"#fdca26\"], [1.0, \"#f0f921\"]], \"type\": \"contour\"}], \"contourcarpet\": [{\"colorbar\": {\"outlinewidth\": 0, \"ticks\": \"\"}, \"type\": \"contourcarpet\"}], \"heatmap\": [{\"colorbar\": {\"outlinewidth\": 0, \"ticks\": \"\"}, \"colorscale\": [[0.0, \"#0d0887\"], [0.1111111111111111, \"#46039f\"], [0.2222222222222222, \"#7201a8\"], [0.3333333333333333, \"#9c179e\"], [0.4444444444444444, \"#bd3786\"], [0.5555555555555556, \"#d8576b\"], [0.6666666666666666, \"#ed7953\"], [0.7777777777777778, \"#fb9f3a\"], [0.8888888888888888, \"#fdca26\"], [1.0, \"#f0f921\"]], \"type\": \"heatmap\"}], \"heatmapgl\": [{\"colorbar\": {\"outlinewidth\": 0, \"ticks\": \"\"}, \"colorscale\": [[0.0, \"#0d0887\"], [0.1111111111111111, \"#46039f\"], [0.2222222222222222, \"#7201a8\"], [0.3333333333333333, \"#9c179e\"], [0.4444444444444444, \"#bd3786\"], [0.5555555555555556, \"#d8576b\"], [0.6666666666666666, \"#ed7953\"], [0.7777777777777778, \"#fb9f3a\"], [0.8888888888888888, \"#fdca26\"], [1.0, \"#f0f921\"]], \"type\": \"heatmapgl\"}], \"histogram\": [{\"marker\": {\"colorbar\": {\"outlinewidth\": 0, \"ticks\": \"\"}}, \"type\": \"histogram\"}], \"histogram2d\": [{\"colorbar\": {\"outlinewidth\": 0, \"ticks\": \"\"}, \"colorscale\": [[0.0, \"#0d0887\"], [0.1111111111111111, \"#46039f\"], [0.2222222222222222, \"#7201a8\"], [0.3333333333333333, \"#9c179e\"], [0.4444444444444444, \"#bd3786\"], [0.5555555555555556, \"#d8576b\"], [0.6666666666666666, \"#ed7953\"], [0.7777777777777778, \"#fb9f3a\"], [0.8888888888888888, \"#fdca26\"], [1.0, \"#f0f921\"]], \"type\": \"histogram2d\"}], \"histogram2dcontour\": [{\"colorbar\": {\"outlinewidth\": 0, \"ticks\": \"\"}, \"colorscale\": [[0.0, \"#0d0887\"], [0.1111111111111111, \"#46039f\"], [0.2222222222222222, \"#7201a8\"], [0.3333333333333333, \"#9c179e\"], [0.4444444444444444, \"#bd3786\"], [0.5555555555555556, \"#d8576b\"], [0.6666666666666666, \"#ed7953\"], [0.7777777777777778, \"#fb9f3a\"], [0.8888888888888888, \"#fdca26\"], [1.0, \"#f0f921\"]], \"type\": \"histogram2dcontour\"}], \"mesh3d\": [{\"colorbar\": {\"outlinewidth\": 0, \"ticks\": \"\"}, \"type\": \"mesh3d\"}], \"parcoords\": [{\"line\": {\"colorbar\": {\"outlinewidth\": 0, \"ticks\": \"\"}}, \"type\": \"parcoords\"}], \"pie\": [{\"automargin\": true, \"type\": \"pie\"}], \"scatter\": [{\"marker\": {\"colorbar\": {\"outlinewidth\": 0, \"ticks\": \"\"}}, \"type\": \"scatter\"}], \"scatter3d\": [{\"line\": {\"colorbar\": {\"outlinewidth\": 0, \"ticks\": \"\"}}, \"marker\": {\"colorbar\": {\"outlinewidth\": 0, \"ticks\": \"\"}}, \"type\": \"scatter3d\"}], \"scattercarpet\": [{\"marker\": {\"colorbar\": {\"outlinewidth\": 0, \"ticks\": \"\"}}, \"type\": \"scattercarpet\"}], \"scattergeo\": [{\"marker\": {\"colorbar\": {\"outlinewidth\": 0, \"ticks\": \"\"}}, \"type\": \"scattergeo\"}], \"scattergl\": [{\"marker\": {\"colorbar\": {\"outlinewidth\": 0, \"ticks\": \"\"}}, \"type\": \"scattergl\"}], \"scattermapbox\": [{\"marker\": {\"colorbar\": {\"outlinewidth\": 0, \"ticks\": \"\"}}, \"type\": \"scattermapbox\"}], \"scatterpolar\": [{\"marker\": {\"colorbar\": {\"outlinewidth\": 0, \"ticks\": \"\"}}, \"type\": \"scatterpolar\"}], \"scatterpolargl\": [{\"marker\": {\"colorbar\": {\"outlinewidth\": 0, \"ticks\": \"\"}}, \"type\": \"scatterpolargl\"}], \"scatterternary\": [{\"marker\": {\"colorbar\": {\"outlinewidth\": 0, \"ticks\": \"\"}}, \"type\": \"scatterternary\"}], \"surface\": [{\"colorbar\": {\"outlinewidth\": 0, \"ticks\": \"\"}, \"colorscale\": [[0.0, \"#0d0887\"], [0.1111111111111111, \"#46039f\"], [0.2222222222222222, \"#7201a8\"], [0.3333333333333333, \"#9c179e\"], [0.4444444444444444, \"#bd3786\"], [0.5555555555555556, \"#d8576b\"], [0.6666666666666666, \"#ed7953\"], [0.7777777777777778, \"#fb9f3a\"], [0.8888888888888888, \"#fdca26\"], [1.0, \"#f0f921\"]], \"type\": \"surface\"}], \"table\": [{\"cells\": {\"fill\": {\"color\": \"#EBF0F8\"}, \"line\": {\"color\": \"white\"}}, \"header\": {\"fill\": {\"color\": \"#C8D4E3\"}, \"line\": {\"color\": \"white\"}}, \"type\": \"table\"}]}, \"layout\": {\"annotationdefaults\": {\"arrowcolor\": \"#2a3f5f\", \"arrowhead\": 0, \"arrowwidth\": 1}, \"coloraxis\": {\"colorbar\": {\"outlinewidth\": 0, \"ticks\": \"\"}}, \"colorscale\": {\"diverging\": [[0, \"#8e0152\"], [0.1, \"#c51b7d\"], [0.2, \"#de77ae\"], [0.3, \"#f1b6da\"], [0.4, \"#fde0ef\"], [0.5, \"#f7f7f7\"], [0.6, \"#e6f5d0\"], [0.7, \"#b8e186\"], [0.8, \"#7fbc41\"], [0.9, \"#4d9221\"], [1, \"#276419\"]], \"sequential\": [[0.0, \"#0d0887\"], [0.1111111111111111, \"#46039f\"], [0.2222222222222222, \"#7201a8\"], [0.3333333333333333, \"#9c179e\"], [0.4444444444444444, \"#bd3786\"], [0.5555555555555556, \"#d8576b\"], [0.6666666666666666, \"#ed7953\"], [0.7777777777777778, \"#fb9f3a\"], [0.8888888888888888, \"#fdca26\"], [1.0, \"#f0f921\"]], \"sequentialminus\": [[0.0, \"#0d0887\"], [0.1111111111111111, \"#46039f\"], [0.2222222222222222, \"#7201a8\"], [0.3333333333333333, \"#9c179e\"], [0.4444444444444444, \"#bd3786\"], [0.5555555555555556, \"#d8576b\"], [0.6666666666666666, \"#ed7953\"], [0.7777777777777778, \"#fb9f3a\"], [0.8888888888888888, \"#fdca26\"], [1.0, \"#f0f921\"]]}, \"colorway\": [\"#636efa\", \"#EF553B\", \"#00cc96\", \"#ab63fa\", \"#FFA15A\", \"#19d3f3\", \"#FF6692\", \"#B6E880\", \"#FF97FF\", \"#FECB52\"], \"font\": {\"color\": \"#2a3f5f\"}, \"geo\": {\"bgcolor\": \"white\", \"lakecolor\": \"white\", \"landcolor\": \"#E5ECF6\", \"showlakes\": true, \"showland\": true, \"subunitcolor\": \"white\"}, \"hoverlabel\": {\"align\": \"left\"}, \"hovermode\": \"closest\", \"mapbox\": {\"style\": \"light\"}, \"paper_bgcolor\": \"white\", \"plot_bgcolor\": \"#E5ECF6\", \"polar\": {\"angularaxis\": {\"gridcolor\": \"white\", \"linecolor\": \"white\", \"ticks\": \"\"}, \"bgcolor\": \"#E5ECF6\", \"radialaxis\": {\"gridcolor\": \"white\", \"linecolor\": \"white\", \"ticks\": \"\"}}, \"scene\": {\"xaxis\": {\"backgroundcolor\": \"#E5ECF6\", \"gridcolor\": \"white\", \"gridwidth\": 2, \"linecolor\": \"white\", \"showbackground\": true, \"ticks\": \"\", \"zerolinecolor\": \"white\"}, \"yaxis\": {\"backgroundcolor\": \"#E5ECF6\", \"gridcolor\": \"white\", \"gridwidth\": 2, \"linecolor\": \"white\", \"showbackground\": true, \"ticks\": \"\", \"zerolinecolor\": \"white\"}, \"zaxis\": {\"backgroundcolor\": \"#E5ECF6\", \"gridcolor\": \"white\", \"gridwidth\": 2, \"linecolor\": \"white\", \"showbackground\": true, \"ticks\": \"\", \"zerolinecolor\": \"white\"}}, \"shapedefaults\": {\"line\": {\"color\": \"#2a3f5f\"}}, \"ternary\": {\"aaxis\": {\"gridcolor\": \"white\", \"linecolor\": \"white\", \"ticks\": \"\"}, \"baxis\": {\"gridcolor\": \"white\", \"linecolor\": \"white\", \"ticks\": \"\"}, \"bgcolor\": \"#E5ECF6\", \"caxis\": {\"gridcolor\": \"white\", \"linecolor\": \"white\", \"ticks\": \"\"}}, \"title\": {\"x\": 0.05}, \"xaxis\": {\"automargin\": true, \"gridcolor\": \"white\", \"linecolor\": \"white\", \"ticks\": \"\", \"title\": {\"standoff\": 15}, \"zerolinecolor\": \"white\", \"zerolinewidth\": 2}, \"yaxis\": {\"automargin\": true, \"gridcolor\": \"white\", \"linecolor\": \"white\", \"ticks\": \"\", \"title\": {\"standoff\": 15}, \"zerolinecolor\": \"white\", \"zerolinewidth\": 2}}}, \"xaxis\": {\"anchor\": \"y\", \"domain\": [0.0, 1.0], \"title\": {\"text\": \"\\uc81c\\ubaa9\"}}, \"yaxis\": {\"anchor\": \"x\", \"domain\": [0.0, 1.0], \"title\": {\"text\": \"\\ud3c9\\uc810\"}}},\n",
              "                        {\"responsive\": true}\n",
              "                    ).then(function(){\n",
              "                            \n",
              "var gd = document.getElementById('7c4a3af5-4dc1-45d5-b6cb-f14031d165e5');\n",
              "var x = new MutationObserver(function (mutations, observer) {{\n",
              "        var display = window.getComputedStyle(gd).display;\n",
              "        if (!display || display === 'none') {{\n",
              "            console.log([gd, 'removed!']);\n",
              "            Plotly.purge(gd);\n",
              "            observer.disconnect();\n",
              "        }}\n",
              "}});\n",
              "\n",
              "// Listen for the removal of the full notebook cells\n",
              "var notebookContainer = gd.closest('#notebook-container');\n",
              "if (notebookContainer) {{\n",
              "    x.observe(notebookContainer, {childList: true});\n",
              "}}\n",
              "\n",
              "// Listen for the clearing of the current output cell\n",
              "var outputEl = gd.closest('.output');\n",
              "if (outputEl) {{\n",
              "    x.observe(outputEl, {childList: true});\n",
              "}}\n",
              "\n",
              "                        })\n",
              "                };\n",
              "                \n",
              "            </script>\n",
              "        </div>\n",
              "</body>\n",
              "</html>"
            ]
          },
          "metadata": {
            "tags": []
          }
        }
      ]
    },
    {
      "cell_type": "code",
      "metadata": {
        "colab": {
          "base_uri": "https://localhost:8080/",
          "height": 304
        },
        "id": "4hjBIes2qWG3",
        "outputId": "ac7f5f8b-c454-4ceb-f06b-e42af661d84b"
      },
      "source": [
        "df_score = df[df.평점 == 9]\n",
        "df_score.tail(5)"
      ],
      "execution_count": 10,
      "outputs": [
        {
          "output_type": "execute_result",
          "data": {
            "text/html": [
              "<div>\n",
              "<style scoped>\n",
              "    .dataframe tbody tr th:only-of-type {\n",
              "        vertical-align: middle;\n",
              "    }\n",
              "\n",
              "    .dataframe tbody tr th {\n",
              "        vertical-align: top;\n",
              "    }\n",
              "\n",
              "    .dataframe thead th {\n",
              "        text-align: right;\n",
              "    }\n",
              "</style>\n",
              "<table border=\"1\" class=\"dataframe\">\n",
              "  <thead>\n",
              "    <tr style=\"text-align: right;\">\n",
              "      <th></th>\n",
              "      <th>Unnamed: 0</th>\n",
              "      <th>제목</th>\n",
              "      <th>평점</th>\n",
              "      <th>장르</th>\n",
              "      <th>줄거리</th>\n",
              "    </tr>\n",
              "  </thead>\n",
              "  <tbody>\n",
              "    <tr>\n",
              "      <th>54</th>\n",
              "      <td>65</td>\n",
              "      <td>밥정</td>\n",
              "      <td>9</td>\n",
              "      <td>다큐멘터리</td>\n",
              "      <td>잔디, 잡초, 이끼, 나뭇가지.. 자연을 재료 삼아 요리를 만드는 방랑식객 임지호 ...</td>\n",
              "    </tr>\n",
              "    <tr>\n",
              "      <th>58</th>\n",
              "      <td>69</td>\n",
              "      <td>소년시절의 너</td>\n",
              "      <td>9</td>\n",
              "      <td>액션</td>\n",
              "      <td>시험만 잘 치면 멋진 인생을 살 수 있다고 가르치는 세상에서기댈 곳 없이 세상에 내...</td>\n",
              "    </tr>\n",
              "    <tr>\n",
              "      <th>59</th>\n",
              "      <td>70</td>\n",
              "      <td>온워드: 단 하루의 기적</td>\n",
              "      <td>9</td>\n",
              "      <td>액션</td>\n",
              "      <td>마법이 사라진 세상에 살고 있는 취향과 성격 모두 정반대의 두 형제인철든 동생 ‘이...</td>\n",
              "    </tr>\n",
              "    <tr>\n",
              "      <th>63</th>\n",
              "      <td>74</td>\n",
              "      <td>기도의 힘</td>\n",
              "      <td>9</td>\n",
              "      <td>드라마</td>\n",
              "      <td>성공 가도를 달리고 있는 남편 ‘토니’, 사랑스러운 딸 ‘대니엘’과 함께남부럽지 않...</td>\n",
              "    </tr>\n",
              "    <tr>\n",
              "      <th>65</th>\n",
              "      <td>76</td>\n",
              "      <td>울지마 톤즈 2 : 슈크란 바바</td>\n",
              "      <td>9</td>\n",
              "      <td>다큐멘터리</td>\n",
              "      <td>가난과 전쟁으로 아무런 희망조차 없었던 수단 톤즈에서사제이자 의사, 교육자, 음악가...</td>\n",
              "    </tr>\n",
              "  </tbody>\n",
              "</table>\n",
              "</div>"
            ],
            "text/plain": [
              "    Unnamed: 0  ...                                                줄거리\n",
              "54          65  ...  잔디, 잡초, 이끼, 나뭇가지.. 자연을 재료 삼아 요리를 만드는 방랑식객 임지호 ...\n",
              "58          69  ...  시험만 잘 치면 멋진 인생을 살 수 있다고 가르치는 세상에서기댈 곳 없이 세상에 내...\n",
              "59          70  ...  마법이 사라진 세상에 살고 있는 취향과 성격 모두 정반대의 두 형제인철든 동생 ‘이...\n",
              "63          74  ...  성공 가도를 달리고 있는 남편 ‘토니’, 사랑스러운 딸 ‘대니엘’과 함께남부럽지 않...\n",
              "65          76  ...  가난과 전쟁으로 아무런 희망조차 없었던 수단 톤즈에서사제이자 의사, 교육자, 음악가...\n",
              "\n",
              "[5 rows x 5 columns]"
            ]
          },
          "metadata": {
            "tags": []
          },
          "execution_count": 10
        }
      ]
    },
    {
      "cell_type": "markdown",
      "metadata": {
        "id": "CVqhItRM0ZDL"
      },
      "source": [
        "9점 평점의 영화중 가장 큰 비율을 차지하고 있는 장르는?"
      ]
    },
    {
      "cell_type": "code",
      "metadata": {
        "colab": {
          "base_uri": "https://localhost:8080/",
          "height": 542
        },
        "id": "HfyjcXDpry2L",
        "outputId": "ca03a6e6-a4c4-406e-aca8-e5beb9f57cc3"
      },
      "source": [
        "fig = px.pie(df_score,values='평점',names='장르')\n",
        "fig.show()"
      ],
      "execution_count": 11,
      "outputs": [
        {
          "output_type": "display_data",
          "data": {
            "text/html": [
              "<html>\n",
              "<head><meta charset=\"utf-8\" /></head>\n",
              "<body>\n",
              "    <div>\n",
              "            <script src=\"https://cdnjs.cloudflare.com/ajax/libs/mathjax/2.7.5/MathJax.js?config=TeX-AMS-MML_SVG\"></script><script type=\"text/javascript\">if (window.MathJax) {MathJax.Hub.Config({SVG: {font: \"STIX-Web\"}});}</script>\n",
              "                <script type=\"text/javascript\">window.PlotlyConfig = {MathJaxConfig: 'local'};</script>\n",
              "        <script src=\"https://cdn.plot.ly/plotly-latest.min.js\"></script>    \n",
              "            <div id=\"e77af610-7cf7-45f4-820e-14149e5d1f92\" class=\"plotly-graph-div\" style=\"height:525px; width:100%;\"></div>\n",
              "            <script type=\"text/javascript\">\n",
              "                \n",
              "                    window.PLOTLYENV=window.PLOTLYENV || {};\n",
              "                    \n",
              "                if (document.getElementById(\"e77af610-7cf7-45f4-820e-14149e5d1f92\")) {\n",
              "                    Plotly.newPlot(\n",
              "                        'e77af610-7cf7-45f4-820e-14149e5d1f92',\n",
              "                        [{\"domain\": {\"x\": [0.0, 1.0], \"y\": [0.0, 1.0]}, \"hoverlabel\": {\"namelength\": 0}, \"hovertemplate\": \"\\uc7a5\\ub974=%{label}<br>\\ud3c9\\uc810=%{value}\", \"labels\": [\"\\uc560\\ub2c8\\uba54\\uc774\\uc158\", \"\\ub4dc\\ub77c\\ub9c8\", \"\\uc561\\uc158\", \"\\uc560\\ub2c8\\uba54\\uc774\\uc158\", \"\\uc561\\uc158\", \"\\ub4dc\\ub77c\\ub9c8\", \"\\uacf5\\uc5f0\\uc2e4\\ud669\", \"\\uc560\\ub2c8\\uba54\\uc774\\uc158\", \"\\uc561\\uc158\", \"\\uc560\\ub2c8\\uba54\\uc774\\uc158\", \"\\uc561\\uc158\", \"\\ub4dc\\ub77c\\ub9c8\", \"\\uc560\\ub2c8\\uba54\\uc774\\uc158\", \"\\uba5c\\ub85c\", \"\\uc560\\ub2c8\\uba54\\uc774\\uc158\", \"\\ub2e4\\ud050\\uba58\\ud130\\ub9ac\", \"\\uc560\\ub2c8\\uba54\\uc774\\uc158\", \"\\ub2e4\\ud050\\uba58\\ud130\\ub9ac\", \"\\uc561\\uc158\", \"\\uc561\\uc158\", \"\\ub4dc\\ub77c\\ub9c8\", \"\\ub2e4\\ud050\\uba58\\ud130\\ub9ac\"], \"legendgroup\": \"\", \"name\": \"\", \"showlegend\": true, \"type\": \"pie\", \"values\": [9, 9, 9, 9, 9, 9, 9, 9, 9, 9, 9, 9, 9, 9, 9, 9, 9, 9, 9, 9, 9, 9]}],\n",
              "                        {\"legend\": {\"tracegroupgap\": 0}, \"margin\": {\"t\": 60}, \"template\": {\"data\": {\"bar\": [{\"error_x\": {\"color\": \"#2a3f5f\"}, \"error_y\": {\"color\": \"#2a3f5f\"}, \"marker\": {\"line\": {\"color\": \"#E5ECF6\", \"width\": 0.5}}, \"type\": \"bar\"}], \"barpolar\": [{\"marker\": {\"line\": {\"color\": \"#E5ECF6\", \"width\": 0.5}}, \"type\": \"barpolar\"}], \"carpet\": [{\"aaxis\": {\"endlinecolor\": \"#2a3f5f\", \"gridcolor\": \"white\", \"linecolor\": \"white\", \"minorgridcolor\": \"white\", \"startlinecolor\": \"#2a3f5f\"}, \"baxis\": {\"endlinecolor\": \"#2a3f5f\", \"gridcolor\": \"white\", \"linecolor\": \"white\", \"minorgridcolor\": \"white\", \"startlinecolor\": \"#2a3f5f\"}, \"type\": \"carpet\"}], \"choropleth\": [{\"colorbar\": {\"outlinewidth\": 0, \"ticks\": \"\"}, \"type\": \"choropleth\"}], \"contour\": [{\"colorbar\": {\"outlinewidth\": 0, \"ticks\": \"\"}, \"colorscale\": [[0.0, \"#0d0887\"], [0.1111111111111111, \"#46039f\"], [0.2222222222222222, \"#7201a8\"], [0.3333333333333333, \"#9c179e\"], [0.4444444444444444, \"#bd3786\"], [0.5555555555555556, \"#d8576b\"], [0.6666666666666666, \"#ed7953\"], [0.7777777777777778, \"#fb9f3a\"], [0.8888888888888888, \"#fdca26\"], [1.0, \"#f0f921\"]], \"type\": \"contour\"}], \"contourcarpet\": [{\"colorbar\": {\"outlinewidth\": 0, \"ticks\": \"\"}, \"type\": \"contourcarpet\"}], \"heatmap\": [{\"colorbar\": {\"outlinewidth\": 0, \"ticks\": \"\"}, \"colorscale\": [[0.0, \"#0d0887\"], [0.1111111111111111, \"#46039f\"], [0.2222222222222222, \"#7201a8\"], [0.3333333333333333, \"#9c179e\"], [0.4444444444444444, \"#bd3786\"], [0.5555555555555556, \"#d8576b\"], [0.6666666666666666, \"#ed7953\"], [0.7777777777777778, \"#fb9f3a\"], [0.8888888888888888, \"#fdca26\"], [1.0, \"#f0f921\"]], \"type\": \"heatmap\"}], \"heatmapgl\": [{\"colorbar\": {\"outlinewidth\": 0, \"ticks\": \"\"}, \"colorscale\": [[0.0, \"#0d0887\"], [0.1111111111111111, \"#46039f\"], [0.2222222222222222, \"#7201a8\"], [0.3333333333333333, \"#9c179e\"], [0.4444444444444444, \"#bd3786\"], [0.5555555555555556, \"#d8576b\"], [0.6666666666666666, \"#ed7953\"], [0.7777777777777778, \"#fb9f3a\"], [0.8888888888888888, \"#fdca26\"], [1.0, \"#f0f921\"]], \"type\": \"heatmapgl\"}], \"histogram\": [{\"marker\": {\"colorbar\": {\"outlinewidth\": 0, \"ticks\": \"\"}}, \"type\": \"histogram\"}], \"histogram2d\": [{\"colorbar\": {\"outlinewidth\": 0, \"ticks\": \"\"}, \"colorscale\": [[0.0, \"#0d0887\"], [0.1111111111111111, \"#46039f\"], [0.2222222222222222, \"#7201a8\"], [0.3333333333333333, \"#9c179e\"], [0.4444444444444444, \"#bd3786\"], [0.5555555555555556, \"#d8576b\"], [0.6666666666666666, \"#ed7953\"], [0.7777777777777778, \"#fb9f3a\"], [0.8888888888888888, \"#fdca26\"], [1.0, \"#f0f921\"]], \"type\": \"histogram2d\"}], \"histogram2dcontour\": [{\"colorbar\": {\"outlinewidth\": 0, \"ticks\": \"\"}, \"colorscale\": [[0.0, \"#0d0887\"], [0.1111111111111111, \"#46039f\"], [0.2222222222222222, \"#7201a8\"], [0.3333333333333333, \"#9c179e\"], [0.4444444444444444, \"#bd3786\"], [0.5555555555555556, \"#d8576b\"], [0.6666666666666666, \"#ed7953\"], [0.7777777777777778, \"#fb9f3a\"], [0.8888888888888888, \"#fdca26\"], [1.0, \"#f0f921\"]], \"type\": \"histogram2dcontour\"}], \"mesh3d\": [{\"colorbar\": {\"outlinewidth\": 0, \"ticks\": \"\"}, \"type\": \"mesh3d\"}], \"parcoords\": [{\"line\": {\"colorbar\": {\"outlinewidth\": 0, \"ticks\": \"\"}}, \"type\": \"parcoords\"}], \"pie\": [{\"automargin\": true, \"type\": \"pie\"}], \"scatter\": [{\"marker\": {\"colorbar\": {\"outlinewidth\": 0, \"ticks\": \"\"}}, \"type\": \"scatter\"}], \"scatter3d\": [{\"line\": {\"colorbar\": {\"outlinewidth\": 0, \"ticks\": \"\"}}, \"marker\": {\"colorbar\": {\"outlinewidth\": 0, \"ticks\": \"\"}}, \"type\": \"scatter3d\"}], \"scattercarpet\": [{\"marker\": {\"colorbar\": {\"outlinewidth\": 0, \"ticks\": \"\"}}, \"type\": \"scattercarpet\"}], \"scattergeo\": [{\"marker\": {\"colorbar\": {\"outlinewidth\": 0, \"ticks\": \"\"}}, \"type\": \"scattergeo\"}], \"scattergl\": [{\"marker\": {\"colorbar\": {\"outlinewidth\": 0, \"ticks\": \"\"}}, \"type\": \"scattergl\"}], \"scattermapbox\": [{\"marker\": {\"colorbar\": {\"outlinewidth\": 0, \"ticks\": \"\"}}, \"type\": \"scattermapbox\"}], \"scatterpolar\": [{\"marker\": {\"colorbar\": {\"outlinewidth\": 0, \"ticks\": \"\"}}, \"type\": \"scatterpolar\"}], \"scatterpolargl\": [{\"marker\": {\"colorbar\": {\"outlinewidth\": 0, \"ticks\": \"\"}}, \"type\": \"scatterpolargl\"}], \"scatterternary\": [{\"marker\": {\"colorbar\": {\"outlinewidth\": 0, \"ticks\": \"\"}}, \"type\": \"scatterternary\"}], \"surface\": [{\"colorbar\": {\"outlinewidth\": 0, \"ticks\": \"\"}, \"colorscale\": [[0.0, \"#0d0887\"], [0.1111111111111111, \"#46039f\"], [0.2222222222222222, \"#7201a8\"], [0.3333333333333333, \"#9c179e\"], [0.4444444444444444, \"#bd3786\"], [0.5555555555555556, \"#d8576b\"], [0.6666666666666666, \"#ed7953\"], [0.7777777777777778, \"#fb9f3a\"], [0.8888888888888888, \"#fdca26\"], [1.0, \"#f0f921\"]], \"type\": \"surface\"}], \"table\": [{\"cells\": {\"fill\": {\"color\": \"#EBF0F8\"}, \"line\": {\"color\": \"white\"}}, \"header\": {\"fill\": {\"color\": \"#C8D4E3\"}, \"line\": {\"color\": \"white\"}}, \"type\": \"table\"}]}, \"layout\": {\"annotationdefaults\": {\"arrowcolor\": \"#2a3f5f\", \"arrowhead\": 0, \"arrowwidth\": 1}, \"coloraxis\": {\"colorbar\": {\"outlinewidth\": 0, \"ticks\": \"\"}}, \"colorscale\": {\"diverging\": [[0, \"#8e0152\"], [0.1, \"#c51b7d\"], [0.2, \"#de77ae\"], [0.3, \"#f1b6da\"], [0.4, \"#fde0ef\"], [0.5, \"#f7f7f7\"], [0.6, \"#e6f5d0\"], [0.7, \"#b8e186\"], [0.8, \"#7fbc41\"], [0.9, \"#4d9221\"], [1, \"#276419\"]], \"sequential\": [[0.0, \"#0d0887\"], [0.1111111111111111, \"#46039f\"], [0.2222222222222222, \"#7201a8\"], [0.3333333333333333, \"#9c179e\"], [0.4444444444444444, \"#bd3786\"], [0.5555555555555556, \"#d8576b\"], [0.6666666666666666, \"#ed7953\"], [0.7777777777777778, \"#fb9f3a\"], [0.8888888888888888, \"#fdca26\"], [1.0, \"#f0f921\"]], \"sequentialminus\": [[0.0, \"#0d0887\"], [0.1111111111111111, \"#46039f\"], [0.2222222222222222, \"#7201a8\"], [0.3333333333333333, \"#9c179e\"], [0.4444444444444444, \"#bd3786\"], [0.5555555555555556, \"#d8576b\"], [0.6666666666666666, \"#ed7953\"], [0.7777777777777778, \"#fb9f3a\"], [0.8888888888888888, \"#fdca26\"], [1.0, \"#f0f921\"]]}, \"colorway\": [\"#636efa\", \"#EF553B\", \"#00cc96\", \"#ab63fa\", \"#FFA15A\", \"#19d3f3\", \"#FF6692\", \"#B6E880\", \"#FF97FF\", \"#FECB52\"], \"font\": {\"color\": \"#2a3f5f\"}, \"geo\": {\"bgcolor\": \"white\", \"lakecolor\": \"white\", \"landcolor\": \"#E5ECF6\", \"showlakes\": true, \"showland\": true, \"subunitcolor\": \"white\"}, \"hoverlabel\": {\"align\": \"left\"}, \"hovermode\": \"closest\", \"mapbox\": {\"style\": \"light\"}, \"paper_bgcolor\": \"white\", \"plot_bgcolor\": \"#E5ECF6\", \"polar\": {\"angularaxis\": {\"gridcolor\": \"white\", \"linecolor\": \"white\", \"ticks\": \"\"}, \"bgcolor\": \"#E5ECF6\", \"radialaxis\": {\"gridcolor\": \"white\", \"linecolor\": \"white\", \"ticks\": \"\"}}, \"scene\": {\"xaxis\": {\"backgroundcolor\": \"#E5ECF6\", \"gridcolor\": \"white\", \"gridwidth\": 2, \"linecolor\": \"white\", \"showbackground\": true, \"ticks\": \"\", \"zerolinecolor\": \"white\"}, \"yaxis\": {\"backgroundcolor\": \"#E5ECF6\", \"gridcolor\": \"white\", \"gridwidth\": 2, \"linecolor\": \"white\", \"showbackground\": true, \"ticks\": \"\", \"zerolinecolor\": \"white\"}, \"zaxis\": {\"backgroundcolor\": \"#E5ECF6\", \"gridcolor\": \"white\", \"gridwidth\": 2, \"linecolor\": \"white\", \"showbackground\": true, \"ticks\": \"\", \"zerolinecolor\": \"white\"}}, \"shapedefaults\": {\"line\": {\"color\": \"#2a3f5f\"}}, \"ternary\": {\"aaxis\": {\"gridcolor\": \"white\", \"linecolor\": \"white\", \"ticks\": \"\"}, \"baxis\": {\"gridcolor\": \"white\", \"linecolor\": \"white\", \"ticks\": \"\"}, \"bgcolor\": \"#E5ECF6\", \"caxis\": {\"gridcolor\": \"white\", \"linecolor\": \"white\", \"ticks\": \"\"}}, \"title\": {\"x\": 0.05}, \"xaxis\": {\"automargin\": true, \"gridcolor\": \"white\", \"linecolor\": \"white\", \"ticks\": \"\", \"title\": {\"standoff\": 15}, \"zerolinecolor\": \"white\", \"zerolinewidth\": 2}, \"yaxis\": {\"automargin\": true, \"gridcolor\": \"white\", \"linecolor\": \"white\", \"ticks\": \"\", \"title\": {\"standoff\": 15}, \"zerolinecolor\": \"white\", \"zerolinewidth\": 2}}}},\n",
              "                        {\"responsive\": true}\n",
              "                    ).then(function(){\n",
              "                            \n",
              "var gd = document.getElementById('e77af610-7cf7-45f4-820e-14149e5d1f92');\n",
              "var x = new MutationObserver(function (mutations, observer) {{\n",
              "        var display = window.getComputedStyle(gd).display;\n",
              "        if (!display || display === 'none') {{\n",
              "            console.log([gd, 'removed!']);\n",
              "            Plotly.purge(gd);\n",
              "            observer.disconnect();\n",
              "        }}\n",
              "}});\n",
              "\n",
              "// Listen for the removal of the full notebook cells\n",
              "var notebookContainer = gd.closest('#notebook-container');\n",
              "if (notebookContainer) {{\n",
              "    x.observe(notebookContainer, {childList: true});\n",
              "}}\n",
              "\n",
              "// Listen for the clearing of the current output cell\n",
              "var outputEl = gd.closest('.output');\n",
              "if (outputEl) {{\n",
              "    x.observe(outputEl, {childList: true});\n",
              "}}\n",
              "\n",
              "                        })\n",
              "                };\n",
              "                \n",
              "            </script>\n",
              "        </div>\n",
              "</body>\n",
              "</html>"
            ]
          },
          "metadata": {
            "tags": []
          }
        }
      ]
    },
    {
      "cell_type": "markdown",
      "metadata": {
        "id": "hzGDu-CU0g4c"
      },
      "source": [
        "일간 TOP 100 시각화"
      ]
    },
    {
      "cell_type": "code",
      "metadata": {
        "colab": {
          "base_uri": "https://localhost:8080/"
        },
        "id": "DKlACW8Qr_0f",
        "outputId": "ee1d0a89-173d-445c-eb5c-09117ece0be3"
      },
      "source": [
        "df = pd.read_csv('/content/movie_my_data_61_D.csv',encoding='euc-kr')\n",
        "df.info()"
      ],
      "execution_count": 12,
      "outputs": [
        {
          "output_type": "stream",
          "text": [
            "<class 'pandas.core.frame.DataFrame'>\n",
            "RangeIndex: 61 entries, 0 to 60\n",
            "Data columns (total 5 columns):\n",
            " #   Column      Non-Null Count  Dtype \n",
            "---  ------      --------------  ----- \n",
            " 0   Unnamed: 0  61 non-null     int64 \n",
            " 1   제목          61 non-null     object\n",
            " 2   평점          61 non-null     int64 \n",
            " 3   장르          61 non-null     object\n",
            " 4   줄거리         61 non-null     object\n",
            "dtypes: int64(2), object(3)\n",
            "memory usage: 2.5+ KB\n"
          ],
          "name": "stdout"
        }
      ]
    },
    {
      "cell_type": "code",
      "metadata": {
        "colab": {
          "base_uri": "https://localhost:8080/",
          "height": 304
        },
        "id": "9pb7ahHs0vIN",
        "outputId": "4e9d66aa-2e57-4b11-f9c1-49075f8ac70c"
      },
      "source": [
        "df_score = df[df.평점 == 9.0]\n",
        "df_score.tail()"
      ],
      "execution_count": 14,
      "outputs": [
        {
          "output_type": "execute_result",
          "data": {
            "text/html": [
              "<div>\n",
              "<style scoped>\n",
              "    .dataframe tbody tr th:only-of-type {\n",
              "        vertical-align: middle;\n",
              "    }\n",
              "\n",
              "    .dataframe tbody tr th {\n",
              "        vertical-align: top;\n",
              "    }\n",
              "\n",
              "    .dataframe thead th {\n",
              "        text-align: right;\n",
              "    }\n",
              "</style>\n",
              "<table border=\"1\" class=\"dataframe\">\n",
              "  <thead>\n",
              "    <tr style=\"text-align: right;\">\n",
              "      <th></th>\n",
              "      <th>Unnamed: 0</th>\n",
              "      <th>제목</th>\n",
              "      <th>평점</th>\n",
              "      <th>장르</th>\n",
              "      <th>줄거리</th>\n",
              "    </tr>\n",
              "  </thead>\n",
              "  <tbody>\n",
              "    <tr>\n",
              "      <th>51</th>\n",
              "      <td>63</td>\n",
              "      <td>밥정</td>\n",
              "      <td>9</td>\n",
              "      <td>다큐멘터리</td>\n",
              "      <td>잔디, 잡초, 이끼, 나뭇가지.. 자연을 재료 삼아 요리를 만드는 방랑식객 임지호 ...</td>\n",
              "    </tr>\n",
              "    <tr>\n",
              "      <th>54</th>\n",
              "      <td>66</td>\n",
              "      <td>스타 이즈 본</td>\n",
              "      <td>9</td>\n",
              "      <td>드라마</td>\n",
              "      <td>노래에 놀라운 재능을 가졌지만 외모에는 자신이 없는 무명가수 앨리(레이디 가가)는공...</td>\n",
              "    </tr>\n",
              "    <tr>\n",
              "      <th>55</th>\n",
              "      <td>68</td>\n",
              "      <td>원더</td>\n",
              "      <td>9</td>\n",
              "      <td>드라마</td>\n",
              "      <td>누구보다 위트 있고 호기심 많은 매력 부자 ‘어기'(제이콥 트렘블레이).하지만 남들...</td>\n",
              "    </tr>\n",
              "    <tr>\n",
              "      <th>56</th>\n",
              "      <td>70</td>\n",
              "      <td>비긴 어게인</td>\n",
              "      <td>9</td>\n",
              "      <td>코미디</td>\n",
              "      <td>싱어송라이터인 ‘그레타’(키이라 나이틀리)는 남자친구 ‘데이브’(애덤 리바인)가 메...</td>\n",
              "    </tr>\n",
              "    <tr>\n",
              "      <th>57</th>\n",
              "      <td>71</td>\n",
              "      <td>내가 널 사랑할 수 없는 10가지 이유</td>\n",
              "      <td>9</td>\n",
              "      <td>코미디</td>\n",
              "      <td>상냥하고 얼굴도 예쁜 비앙카(Bianca Stratford: 라리사 오레이닉 분)는...</td>\n",
              "    </tr>\n",
              "  </tbody>\n",
              "</table>\n",
              "</div>"
            ],
            "text/plain": [
              "    Unnamed: 0  ...                                                줄거리\n",
              "51          63  ...  잔디, 잡초, 이끼, 나뭇가지.. 자연을 재료 삼아 요리를 만드는 방랑식객 임지호 ...\n",
              "54          66  ...  노래에 놀라운 재능을 가졌지만 외모에는 자신이 없는 무명가수 앨리(레이디 가가)는공...\n",
              "55          68  ...  누구보다 위트 있고 호기심 많은 매력 부자 ‘어기'(제이콥 트렘블레이).하지만 남들...\n",
              "56          70  ...  싱어송라이터인 ‘그레타’(키이라 나이틀리)는 남자친구 ‘데이브’(애덤 리바인)가 메...\n",
              "57          71  ...  상냥하고 얼굴도 예쁜 비앙카(Bianca Stratford: 라리사 오레이닉 분)는...\n",
              "\n",
              "[5 rows x 5 columns]"
            ]
          },
          "metadata": {
            "tags": []
          },
          "execution_count": 14
        }
      ]
    },
    {
      "cell_type": "code",
      "metadata": {
        "colab": {
          "base_uri": "https://localhost:8080/",
          "height": 542
        },
        "id": "QkYzz4G50x6o",
        "outputId": "d7d7bd9f-4291-4c24-b842-a1308ff1727b"
      },
      "source": [
        "fig = px.pie(df_score, values='평점', names='장르')\n",
        "fig.show()"
      ],
      "execution_count": 15,
      "outputs": [
        {
          "output_type": "display_data",
          "data": {
            "text/html": [
              "<html>\n",
              "<head><meta charset=\"utf-8\" /></head>\n",
              "<body>\n",
              "    <div>\n",
              "            <script src=\"https://cdnjs.cloudflare.com/ajax/libs/mathjax/2.7.5/MathJax.js?config=TeX-AMS-MML_SVG\"></script><script type=\"text/javascript\">if (window.MathJax) {MathJax.Hub.Config({SVG: {font: \"STIX-Web\"}});}</script>\n",
              "                <script type=\"text/javascript\">window.PlotlyConfig = {MathJaxConfig: 'local'};</script>\n",
              "        <script src=\"https://cdn.plot.ly/plotly-latest.min.js\"></script>    \n",
              "            <div id=\"1cbdd529-b6c0-43b8-afa7-d277e42fe08a\" class=\"plotly-graph-div\" style=\"height:525px; width:100%;\"></div>\n",
              "            <script type=\"text/javascript\">\n",
              "                \n",
              "                    window.PLOTLYENV=window.PLOTLYENV || {};\n",
              "                    \n",
              "                if (document.getElementById(\"1cbdd529-b6c0-43b8-afa7-d277e42fe08a\")) {\n",
              "                    Plotly.newPlot(\n",
              "                        '1cbdd529-b6c0-43b8-afa7-d277e42fe08a',\n",
              "                        [{\"domain\": {\"x\": [0.0, 1.0], \"y\": [0.0, 1.0]}, \"hoverlabel\": {\"namelength\": 0}, \"hovertemplate\": \"\\uc7a5\\ub974=%{label}<br>\\ud3c9\\uc810=%{value}\", \"labels\": [\"\\uc560\\ub2c8\\uba54\\uc774\\uc158\", \"\\ub4dc\\ub77c\\ub9c8\", \"\\uc560\\ub2c8\\uba54\\uc774\\uc158\", \"\\uc561\\uc158\", \"\\ub4dc\\ub77c\\ub9c8\", \"\\uc561\\uc158\", \"\\uc560\\ub2c8\\uba54\\uc774\\uc158\", \"\\uc561\\uc158\", \"\\uacf5\\uc5f0\\uc2e4\\ud669\", \"\\uc561\\uc158\", \"\\ub4dc\\ub77c\\ub9c8\", \"\\ucf54\\ubbf8\\ub514\", \"\\uc561\\uc158\", \"\\uc561\\uc158\", \"\\uc561\\uc158\", \"\\uc561\\uc158\", \"\\ub4dc\\ub77c\\ub9c8\", \"\\ub4dc\\ub77c\\ub9c8\", \"\\ub4dc\\ub77c\\ub9c8\", \"\\uc561\\uc158\", \"\\ub4dc\\ub77c\\ub9c8\", \"\\ub4dc\\ub77c\\ub9c8\", \"\\ub2e4\\ud050\\uba58\\ud130\\ub9ac\", \"\\ub4dc\\ub77c\\ub9c8\", \"\\ub4dc\\ub77c\\ub9c8\", \"\\ucf54\\ubbf8\\ub514\", \"\\ucf54\\ubbf8\\ub514\"], \"legendgroup\": \"\", \"name\": \"\", \"showlegend\": true, \"type\": \"pie\", \"values\": [9, 9, 9, 9, 9, 9, 9, 9, 9, 9, 9, 9, 9, 9, 9, 9, 9, 9, 9, 9, 9, 9, 9, 9, 9, 9, 9]}],\n",
              "                        {\"legend\": {\"tracegroupgap\": 0}, \"margin\": {\"t\": 60}, \"template\": {\"data\": {\"bar\": [{\"error_x\": {\"color\": \"#2a3f5f\"}, \"error_y\": {\"color\": \"#2a3f5f\"}, \"marker\": {\"line\": {\"color\": \"#E5ECF6\", \"width\": 0.5}}, \"type\": \"bar\"}], \"barpolar\": [{\"marker\": {\"line\": {\"color\": \"#E5ECF6\", \"width\": 0.5}}, \"type\": \"barpolar\"}], \"carpet\": [{\"aaxis\": {\"endlinecolor\": \"#2a3f5f\", \"gridcolor\": \"white\", \"linecolor\": \"white\", \"minorgridcolor\": \"white\", \"startlinecolor\": \"#2a3f5f\"}, \"baxis\": {\"endlinecolor\": \"#2a3f5f\", \"gridcolor\": \"white\", \"linecolor\": \"white\", \"minorgridcolor\": \"white\", \"startlinecolor\": \"#2a3f5f\"}, \"type\": \"carpet\"}], \"choropleth\": [{\"colorbar\": {\"outlinewidth\": 0, \"ticks\": \"\"}, \"type\": \"choropleth\"}], \"contour\": [{\"colorbar\": {\"outlinewidth\": 0, \"ticks\": \"\"}, \"colorscale\": [[0.0, \"#0d0887\"], [0.1111111111111111, \"#46039f\"], [0.2222222222222222, \"#7201a8\"], [0.3333333333333333, \"#9c179e\"], [0.4444444444444444, \"#bd3786\"], [0.5555555555555556, \"#d8576b\"], [0.6666666666666666, \"#ed7953\"], [0.7777777777777778, \"#fb9f3a\"], [0.8888888888888888, \"#fdca26\"], [1.0, \"#f0f921\"]], \"type\": \"contour\"}], \"contourcarpet\": [{\"colorbar\": {\"outlinewidth\": 0, \"ticks\": \"\"}, \"type\": \"contourcarpet\"}], \"heatmap\": [{\"colorbar\": {\"outlinewidth\": 0, \"ticks\": \"\"}, \"colorscale\": [[0.0, \"#0d0887\"], [0.1111111111111111, \"#46039f\"], [0.2222222222222222, \"#7201a8\"], [0.3333333333333333, \"#9c179e\"], [0.4444444444444444, \"#bd3786\"], [0.5555555555555556, \"#d8576b\"], [0.6666666666666666, \"#ed7953\"], [0.7777777777777778, \"#fb9f3a\"], [0.8888888888888888, \"#fdca26\"], [1.0, \"#f0f921\"]], \"type\": \"heatmap\"}], \"heatmapgl\": [{\"colorbar\": {\"outlinewidth\": 0, \"ticks\": \"\"}, \"colorscale\": [[0.0, \"#0d0887\"], [0.1111111111111111, \"#46039f\"], [0.2222222222222222, \"#7201a8\"], [0.3333333333333333, \"#9c179e\"], [0.4444444444444444, \"#bd3786\"], [0.5555555555555556, \"#d8576b\"], [0.6666666666666666, \"#ed7953\"], [0.7777777777777778, \"#fb9f3a\"], [0.8888888888888888, \"#fdca26\"], [1.0, \"#f0f921\"]], \"type\": \"heatmapgl\"}], \"histogram\": [{\"marker\": {\"colorbar\": {\"outlinewidth\": 0, \"ticks\": \"\"}}, \"type\": \"histogram\"}], \"histogram2d\": [{\"colorbar\": {\"outlinewidth\": 0, \"ticks\": \"\"}, \"colorscale\": [[0.0, \"#0d0887\"], [0.1111111111111111, \"#46039f\"], [0.2222222222222222, \"#7201a8\"], [0.3333333333333333, \"#9c179e\"], [0.4444444444444444, \"#bd3786\"], [0.5555555555555556, \"#d8576b\"], [0.6666666666666666, \"#ed7953\"], [0.7777777777777778, \"#fb9f3a\"], [0.8888888888888888, \"#fdca26\"], [1.0, \"#f0f921\"]], \"type\": \"histogram2d\"}], \"histogram2dcontour\": [{\"colorbar\": {\"outlinewidth\": 0, \"ticks\": \"\"}, \"colorscale\": [[0.0, \"#0d0887\"], [0.1111111111111111, \"#46039f\"], [0.2222222222222222, \"#7201a8\"], [0.3333333333333333, \"#9c179e\"], [0.4444444444444444, \"#bd3786\"], [0.5555555555555556, \"#d8576b\"], [0.6666666666666666, \"#ed7953\"], [0.7777777777777778, \"#fb9f3a\"], [0.8888888888888888, \"#fdca26\"], [1.0, \"#f0f921\"]], \"type\": \"histogram2dcontour\"}], \"mesh3d\": [{\"colorbar\": {\"outlinewidth\": 0, \"ticks\": \"\"}, \"type\": \"mesh3d\"}], \"parcoords\": [{\"line\": {\"colorbar\": {\"outlinewidth\": 0, \"ticks\": \"\"}}, \"type\": \"parcoords\"}], \"pie\": [{\"automargin\": true, \"type\": \"pie\"}], \"scatter\": [{\"marker\": {\"colorbar\": {\"outlinewidth\": 0, \"ticks\": \"\"}}, \"type\": \"scatter\"}], \"scatter3d\": [{\"line\": {\"colorbar\": {\"outlinewidth\": 0, \"ticks\": \"\"}}, \"marker\": {\"colorbar\": {\"outlinewidth\": 0, \"ticks\": \"\"}}, \"type\": \"scatter3d\"}], \"scattercarpet\": [{\"marker\": {\"colorbar\": {\"outlinewidth\": 0, \"ticks\": \"\"}}, \"type\": \"scattercarpet\"}], \"scattergeo\": [{\"marker\": {\"colorbar\": {\"outlinewidth\": 0, \"ticks\": \"\"}}, \"type\": \"scattergeo\"}], \"scattergl\": [{\"marker\": {\"colorbar\": {\"outlinewidth\": 0, \"ticks\": \"\"}}, \"type\": \"scattergl\"}], \"scattermapbox\": [{\"marker\": {\"colorbar\": {\"outlinewidth\": 0, \"ticks\": \"\"}}, \"type\": \"scattermapbox\"}], \"scatterpolar\": [{\"marker\": {\"colorbar\": {\"outlinewidth\": 0, \"ticks\": \"\"}}, \"type\": \"scatterpolar\"}], \"scatterpolargl\": [{\"marker\": {\"colorbar\": {\"outlinewidth\": 0, \"ticks\": \"\"}}, \"type\": \"scatterpolargl\"}], \"scatterternary\": [{\"marker\": {\"colorbar\": {\"outlinewidth\": 0, \"ticks\": \"\"}}, \"type\": \"scatterternary\"}], \"surface\": [{\"colorbar\": {\"outlinewidth\": 0, \"ticks\": \"\"}, \"colorscale\": [[0.0, \"#0d0887\"], [0.1111111111111111, \"#46039f\"], [0.2222222222222222, \"#7201a8\"], [0.3333333333333333, \"#9c179e\"], [0.4444444444444444, \"#bd3786\"], [0.5555555555555556, \"#d8576b\"], [0.6666666666666666, \"#ed7953\"], [0.7777777777777778, \"#fb9f3a\"], [0.8888888888888888, \"#fdca26\"], [1.0, \"#f0f921\"]], \"type\": \"surface\"}], \"table\": [{\"cells\": {\"fill\": {\"color\": \"#EBF0F8\"}, \"line\": {\"color\": \"white\"}}, \"header\": {\"fill\": {\"color\": \"#C8D4E3\"}, \"line\": {\"color\": \"white\"}}, \"type\": \"table\"}]}, \"layout\": {\"annotationdefaults\": {\"arrowcolor\": \"#2a3f5f\", \"arrowhead\": 0, \"arrowwidth\": 1}, \"coloraxis\": {\"colorbar\": {\"outlinewidth\": 0, \"ticks\": \"\"}}, \"colorscale\": {\"diverging\": [[0, \"#8e0152\"], [0.1, \"#c51b7d\"], [0.2, \"#de77ae\"], [0.3, \"#f1b6da\"], [0.4, \"#fde0ef\"], [0.5, \"#f7f7f7\"], [0.6, \"#e6f5d0\"], [0.7, \"#b8e186\"], [0.8, \"#7fbc41\"], [0.9, \"#4d9221\"], [1, \"#276419\"]], \"sequential\": [[0.0, \"#0d0887\"], [0.1111111111111111, \"#46039f\"], [0.2222222222222222, \"#7201a8\"], [0.3333333333333333, \"#9c179e\"], [0.4444444444444444, \"#bd3786\"], [0.5555555555555556, \"#d8576b\"], [0.6666666666666666, \"#ed7953\"], [0.7777777777777778, \"#fb9f3a\"], [0.8888888888888888, \"#fdca26\"], [1.0, \"#f0f921\"]], \"sequentialminus\": [[0.0, \"#0d0887\"], [0.1111111111111111, \"#46039f\"], [0.2222222222222222, \"#7201a8\"], [0.3333333333333333, \"#9c179e\"], [0.4444444444444444, \"#bd3786\"], [0.5555555555555556, \"#d8576b\"], [0.6666666666666666, \"#ed7953\"], [0.7777777777777778, \"#fb9f3a\"], [0.8888888888888888, \"#fdca26\"], [1.0, \"#f0f921\"]]}, \"colorway\": [\"#636efa\", \"#EF553B\", \"#00cc96\", \"#ab63fa\", \"#FFA15A\", \"#19d3f3\", \"#FF6692\", \"#B6E880\", \"#FF97FF\", \"#FECB52\"], \"font\": {\"color\": \"#2a3f5f\"}, \"geo\": {\"bgcolor\": \"white\", \"lakecolor\": \"white\", \"landcolor\": \"#E5ECF6\", \"showlakes\": true, \"showland\": true, \"subunitcolor\": \"white\"}, \"hoverlabel\": {\"align\": \"left\"}, \"hovermode\": \"closest\", \"mapbox\": {\"style\": \"light\"}, \"paper_bgcolor\": \"white\", \"plot_bgcolor\": \"#E5ECF6\", \"polar\": {\"angularaxis\": {\"gridcolor\": \"white\", \"linecolor\": \"white\", \"ticks\": \"\"}, \"bgcolor\": \"#E5ECF6\", \"radialaxis\": {\"gridcolor\": \"white\", \"linecolor\": \"white\", \"ticks\": \"\"}}, \"scene\": {\"xaxis\": {\"backgroundcolor\": \"#E5ECF6\", \"gridcolor\": \"white\", \"gridwidth\": 2, \"linecolor\": \"white\", \"showbackground\": true, \"ticks\": \"\", \"zerolinecolor\": \"white\"}, \"yaxis\": {\"backgroundcolor\": \"#E5ECF6\", \"gridcolor\": \"white\", \"gridwidth\": 2, \"linecolor\": \"white\", \"showbackground\": true, \"ticks\": \"\", \"zerolinecolor\": \"white\"}, \"zaxis\": {\"backgroundcolor\": \"#E5ECF6\", \"gridcolor\": \"white\", \"gridwidth\": 2, \"linecolor\": \"white\", \"showbackground\": true, \"ticks\": \"\", \"zerolinecolor\": \"white\"}}, \"shapedefaults\": {\"line\": {\"color\": \"#2a3f5f\"}}, \"ternary\": {\"aaxis\": {\"gridcolor\": \"white\", \"linecolor\": \"white\", \"ticks\": \"\"}, \"baxis\": {\"gridcolor\": \"white\", \"linecolor\": \"white\", \"ticks\": \"\"}, \"bgcolor\": \"#E5ECF6\", \"caxis\": {\"gridcolor\": \"white\", \"linecolor\": \"white\", \"ticks\": \"\"}}, \"title\": {\"x\": 0.05}, \"xaxis\": {\"automargin\": true, \"gridcolor\": \"white\", \"linecolor\": \"white\", \"ticks\": \"\", \"title\": {\"standoff\": 15}, \"zerolinecolor\": \"white\", \"zerolinewidth\": 2}, \"yaxis\": {\"automargin\": true, \"gridcolor\": \"white\", \"linecolor\": \"white\", \"ticks\": \"\", \"title\": {\"standoff\": 15}, \"zerolinecolor\": \"white\", \"zerolinewidth\": 2}}}},\n",
              "                        {\"responsive\": true}\n",
              "                    ).then(function(){\n",
              "                            \n",
              "var gd = document.getElementById('1cbdd529-b6c0-43b8-afa7-d277e42fe08a');\n",
              "var x = new MutationObserver(function (mutations, observer) {{\n",
              "        var display = window.getComputedStyle(gd).display;\n",
              "        if (!display || display === 'none') {{\n",
              "            console.log([gd, 'removed!']);\n",
              "            Plotly.purge(gd);\n",
              "            observer.disconnect();\n",
              "        }}\n",
              "}});\n",
              "\n",
              "// Listen for the removal of the full notebook cells\n",
              "var notebookContainer = gd.closest('#notebook-container');\n",
              "if (notebookContainer) {{\n",
              "    x.observe(notebookContainer, {childList: true});\n",
              "}}\n",
              "\n",
              "// Listen for the clearing of the current output cell\n",
              "var outputEl = gd.closest('.output');\n",
              "if (outputEl) {{\n",
              "    x.observe(outputEl, {childList: true});\n",
              "}}\n",
              "\n",
              "                        })\n",
              "                };\n",
              "                \n",
              "            </script>\n",
              "        </div>\n",
              "</body>\n",
              "</html>"
            ]
          },
          "metadata": {
            "tags": []
          }
        }
      ]
    },
    {
      "cell_type": "code",
      "metadata": {
        "colab": {
          "base_uri": "https://localhost:8080/",
          "height": 542
        },
        "id": "3TqDYNjg0-5p",
        "outputId": "d9570902-d964-4a05-fd65-7ae702e087f2"
      },
      "source": [
        "# 영화가 평점을 몇 번 받았는지 확인할 때 용이하고 평점을 표현할 때 사용!!\n",
        "fig = px.bar(df, x='제목', y='평점', color='장르')\n",
        "fig.show()"
      ],
      "execution_count": 16,
      "outputs": [
        {
          "output_type": "display_data",
          "data": {
            "text/html": [
              "<html>\n",
              "<head><meta charset=\"utf-8\" /></head>\n",
              "<body>\n",
              "    <div>\n",
              "            <script src=\"https://cdnjs.cloudflare.com/ajax/libs/mathjax/2.7.5/MathJax.js?config=TeX-AMS-MML_SVG\"></script><script type=\"text/javascript\">if (window.MathJax) {MathJax.Hub.Config({SVG: {font: \"STIX-Web\"}});}</script>\n",
              "                <script type=\"text/javascript\">window.PlotlyConfig = {MathJaxConfig: 'local'};</script>\n",
              "        <script src=\"https://cdn.plot.ly/plotly-latest.min.js\"></script>    \n",
              "            <div id=\"9f834558-58fe-4bb9-a0cd-9963d212d9ed\" class=\"plotly-graph-div\" style=\"height:525px; width:100%;\"></div>\n",
              "            <script type=\"text/javascript\">\n",
              "                \n",
              "                    window.PLOTLYENV=window.PLOTLYENV || {};\n",
              "                    \n",
              "                if (document.getElementById(\"9f834558-58fe-4bb9-a0cd-9963d212d9ed\")) {\n",
              "                    Plotly.newPlot(\n",
              "                        '9f834558-58fe-4bb9-a0cd-9963d212d9ed',\n",
              "                        [{\"alignmentgroup\": \"True\", \"hoverlabel\": {\"namelength\": 0}, \"hovertemplate\": \"\\uc7a5\\ub974=\\uc560\\ub2c8\\uba54\\uc774\\uc158<br>\\uc81c\\ubaa9=%{x}<br>\\ud3c9\\uc810=%{y}\", \"legendgroup\": \"\\uc7a5\\ub974=\\uc560\\ub2c8\\uba54\\uc774\\uc158\", \"marker\": {\"color\": \"#636efa\"}, \"name\": \"\\uc7a5\\ub974=\\uc560\\ub2c8\\uba54\\uc774\\uc158\", \"offsetgroup\": \"\\uc7a5\\ub974=\\uc560\\ub2c8\\uba54\\uc774\\uc158\", \"orientation\": \"v\", \"showlegend\": true, \"textposition\": \"auto\", \"type\": \"bar\", \"x\": [\"\\uadf9\\uc7a5\\ud310 \\uadc0\\uba78\\uc758 \\uce7c\\ub0a0: \\ubb34\\ud55c\\uc5f4\\ucc28\\ud3b8\", \"\\uc18c\\uc6b8\", \"\\ub77c\\uc57c\\uc640 \\ub9c8\\uc9c0\\ub9c9 \\ub4dc\\ub798\\uace4\", \"\\ub098\\uc758 \\ud788\\uc5b4\\ub85c \\uc544\\uce74\\ub370\\ubbf8\\uc544 \\ub354 \\ubb34\\ube44: \\ud788\\uc5b4\\ub85c\\uc988 \\ub77c\\uc774\\uc9d5\"], \"xaxis\": \"x\", \"y\": [9, 9, 9, 0], \"yaxis\": \"y\"}, {\"alignmentgroup\": \"True\", \"hoverlabel\": {\"namelength\": 0}, \"hovertemplate\": \"\\uc7a5\\ub974=\\uacf5\\ud3ec/\\uc2a4\\ub9b4\\ub7ec<br>\\uc81c\\ubaa9=%{x}<br>\\ud3c9\\uc810=%{y}\", \"legendgroup\": \"\\uc7a5\\ub974=\\uacf5\\ud3ec/\\uc2a4\\ub9b4\\ub7ec\", \"marker\": {\"color\": \"#EF553B\"}, \"name\": \"\\uc7a5\\ub974=\\uacf5\\ud3ec/\\uc2a4\\ub9b4\\ub7ec\", \"offsetgroup\": \"\\uc7a5\\ub974=\\uacf5\\ud3ec/\\uc2a4\\ub9b4\\ub7ec\", \"orientation\": \"v\", \"showlegend\": true, \"textposition\": \"auto\", \"type\": \"bar\", \"x\": [\"\\ucf70\\uc774\\uc5b4\\ud2b8 \\ud50c\\ub808\\uc774\\uc2a4\", \"\\ub354 \\uc2a4\\ud30c\\uc774\", \"\\uadf8\\uac83: \\ub450 \\ubc88\\uc9f8 \\uc774\\uc57c\\uae30\"], \"xaxis\": \"x\", \"y\": [7, 8, 6], \"yaxis\": \"y\"}, {\"alignmentgroup\": \"True\", \"hoverlabel\": {\"namelength\": 0}, \"hovertemplate\": \"\\uc7a5\\ub974=\\uc561\\uc158<br>\\uc81c\\ubaa9=%{x}<br>\\ud3c9\\uc810=%{y}\", \"legendgroup\": \"\\uc7a5\\ub974=\\uc561\\uc158\", \"marker\": {\"color\": \"#00cc96\"}, \"name\": \"\\uc7a5\\ub974=\\uc561\\uc158\", \"offsetgroup\": \"\\uc7a5\\ub974=\\uc561\\uc158\", \"orientation\": \"v\", \"showlegend\": true, \"textposition\": \"auto\", \"type\": \"bar\", \"x\": [\"\\ud0ac\\ub7ec\\uc758 \\ubcf4\\ub514\\uac00\\ub4dc\", \"\\ud30c\\uc774\\ud504\\ub77c\\uc778\", \"\\ud06c\\ub8e8\\uc988 \\ud328\\ubc00\\ub9ac: \\ub274 \\uc5d0\\uc774\\uc9c0\", \"\\ub178\\ubc14\\ub514 \", \"\\uc5b4\\ubca4\\uc838\\uc2a4: \\uc5d4\\ub4dc\\uac8c\\uc784\", \"\\ud5dd\\uac70\\uac8c\\uc784 : \\ub354 \\ud30c\\uc774\\ub110\", \"\\uace0\\uc9c8\\ub77c VS. \\ucf69\", \"\\ud14c\\ub137\", \"\\uc5b4\\ubca4\\uc838\\uc2a4: \\uc778\\ud53c\\ub2c8\\ud2f0 \\uc6cc\", \"\\ubc14\\ub78c\\uc758 \\uac80\\uc2ec : \\uad50\\ud1a0 \\ub300\\ud654\\uc7ac\\ud3b8\", \"\\ucf54\\ucf54\", \"\\uc7ad \\uc2a4\\ub098\\uc774\\ub354\\uc758 \\uc800\\uc2a4\\ud2f0\\uc2a4 \\ub9ac\\uadf8\", \"\\ubd84\\ub178\\uc758 \\uc9c8\\uc8fc: \\ub354 \\uc138\\ube10\", \"\\ud0b9\\ub364 \\uc624\\ube0c \\ud5e4\\ube10\", \"\\ud5dd\\uac70\\uac8c\\uc784:\\ubaa8\\ud0b9\\uc81c\\uc774\", \"\\ud0dc\\uadf9\\uae30 \\ud718\\ub0a0\\ub9ac\\uba70\", \"\\ub2e4\\ub9cc \\uc545\\uc5d0\\uc11c \\uad6c\\ud558\\uc18c\\uc11c\", \"\\ubd84\\ub178\\uc758 \\uc9c8\\uc8fc: \\ud649\\uc2a4&\\uc1fc\", \"\\uc544\\uc77c\\ub77c\", \"\\ud574\\ub9ac \\ud3ec\\ud130\\uc640 \\ub9c8\\ubc95\\uc0ac\\uc758 \\ub3cc\", \"\\ub3c4\\uad74\", \"\\uc54c\\ub77c\\ub518\", \"\\ubca0\\ub188\", \"\\uc18c\\ub144\\uc2dc\\uc808\\uc758 \\ub108\", \"\\ub808\\ub514 \\ud50c\\ub808\\uc774\\uc5b4 \\uc6d0\", \"\\uc774\\ud0dc\\uc6d0 \\uc0b4\\uc778\\uc0ac\\uac74\", \"\\uaca8\\uc6b8\\uc655\\uad6d 2\", \"\\ucea1\\ud2f4 \\ub9c8\\ube14\", \"\\ub0b4\\uac00 \\uc8fd\\uae30\\ub97c \\ubc14\\ub77c\\ub294 \\uc790\\ub4e4\"], \"xaxis\": \"x\", \"y\": [8, 6, 9, 8, 9, 7, 8, 8, 8, 8, 9, 0, 9, 8, 7, 9, 7, 7, 9, 9, 7, 9, 7, 9, 8, 5, 8, 6, 7], \"yaxis\": \"y\"}, {\"alignmentgroup\": \"True\", \"hoverlabel\": {\"namelength\": 0}, \"hovertemplate\": \"\\uc7a5\\ub974=\\ub4dc\\ub77c\\ub9c8<br>\\uc81c\\ubaa9=%{x}<br>\\ud3c9\\uc810=%{y}\", \"legendgroup\": \"\\uc7a5\\ub974=\\ub4dc\\ub77c\\ub9c8\", \"marker\": {\"color\": \"#ab63fa\"}, \"name\": \"\\uc7a5\\ub974=\\ub4dc\\ub77c\\ub9c8\", \"offsetgroup\": \"\\uc7a5\\ub974=\\ub4dc\\ub77c\\ub9c8\", \"orientation\": \"v\", \"showlegend\": true, \"textposition\": \"auto\", \"type\": \"bar\", \"x\": [\"\\ud06c\\ub8e8\\uc5d8\\ub77c\", \"\\ubbf8\\ub098\\ub9ac\", \"\\ub77c\\ub77c\\ub79c\\ub4dc\", \"\\uc870\\ucee4\", \"\\ub178\\ub9e4\\ub4dc\\ub79c\\ub4dc\", \"\\uc790\\uc0b0\\uc5b4\\ubcf4\", \"\\uace1\\uc131(\\u54ed\\u8072)\", \"\\ub178\\ud2b8\\ubd81\", \"\\ub108\\uc758 \\uc774\\ub984\\uc740.\", \"1987\", \"\\uc704\\ub300\\ud55c \\uc1fc\\ub9e8\", \"\\uc5f0\\ud3c9\\ud574\\uc804\", \"\\uadf8\\ub9b0 \\ubd81\", \"\\uc2dc\\uac04\\uc744 \\ub2ec\\ub9ac\\ub294 \\uc18c\\ub140\", \"\\uc2a4\\ud0c0 \\uc774\\uc988 \\ubcf8\", \"\\uc6d0\\ub354\", \"\\uc560\\ud504\\ud130\", \"\\ub9ac\\ud2c0 \\ud3ec\\ub808\\uc2a4\\ud2b8\"], \"xaxis\": \"x\", \"y\": [9, 7, 8, 8, 8, 9, 7, 9, 8, 9, 9, 9, 9, 9, 9, 9, 7, 8], \"yaxis\": \"y\"}, {\"alignmentgroup\": \"True\", \"hoverlabel\": {\"namelength\": 0}, \"hovertemplate\": \"\\uc7a5\\ub974=\\ucf54\\ubbf8\\ub514<br>\\uc81c\\ubaa9=%{x}<br>\\ud3c9\\uc810=%{y}\", \"legendgroup\": \"\\uc7a5\\ub974=\\ucf54\\ubbf8\\ub514\", \"marker\": {\"color\": \"#FFA15A\"}, \"name\": \"\\uc7a5\\ub974=\\ucf54\\ubbf8\\ub514\", \"offsetgroup\": \"\\uc7a5\\ub974=\\ucf54\\ubbf8\\ub514\", \"orientation\": \"v\", \"showlegend\": true, \"textposition\": \"auto\", \"type\": \"bar\", \"x\": [\"500\\uc77c\\uc758 \\uc378\\uba38\", \"\\uc778\\uc0ac\\uc774\\ub4dc \\uc544\\uc6c3\", \"\\ube44\\uae34 \\uc5b4\\uac8c\\uc778\", \"\\ub0b4\\uac00 \\ub110 \\uc0ac\\ub791\\ud560 \\uc218 \\uc5c6\\ub294 10\\uac00\\uc9c0 \\uc774\\uc720\"], \"xaxis\": \"x\", \"y\": [8, 9, 9, 9], \"yaxis\": \"y\"}, {\"alignmentgroup\": \"True\", \"hoverlabel\": {\"namelength\": 0}, \"hovertemplate\": \"\\uc7a5\\ub974=\\uba5c\\ub85c<br>\\uc81c\\ubaa9=%{x}<br>\\ud3c9\\uc810=%{y}\", \"legendgroup\": \"\\uc7a5\\ub974=\\uba5c\\ub85c\", \"marker\": {\"color\": \"#19d3f3\"}, \"name\": \"\\uc7a5\\ub974=\\uba5c\\ub85c\", \"offsetgroup\": \"\\uc7a5\\ub974=\\uba5c\\ub85c\", \"orientation\": \"v\", \"showlegend\": true, \"textposition\": \"auto\", \"type\": \"bar\", \"x\": [\"\\uc560\\ud504\\ud130: \\uadf8 \\ud6c4\"], \"xaxis\": \"x\", \"y\": [8], \"yaxis\": \"y\"}, {\"alignmentgroup\": \"True\", \"hoverlabel\": {\"namelength\": 0}, \"hovertemplate\": \"\\uc7a5\\ub974=\\uacf5\\uc5f0\\uc2e4\\ud669<br>\\uc81c\\ubaa9=%{x}<br>\\ud3c9\\uc810=%{y}\", \"legendgroup\": \"\\uc7a5\\ub974=\\uacf5\\uc5f0\\uc2e4\\ud669\", \"marker\": {\"color\": \"#FF6692\"}, \"name\": \"\\uc7a5\\ub974=\\uacf5\\uc5f0\\uc2e4\\ud669\", \"offsetgroup\": \"\\uc7a5\\ub974=\\uacf5\\uc5f0\\uc2e4\\ud669\", \"orientation\": \"v\", \"showlegend\": true, \"textposition\": \"auto\", \"type\": \"bar\", \"x\": [\"\\uc544\\uc774\\uc988 \\uc628 \\ubbf8 : \\ub354 \\ubb34\\ube44\"], \"xaxis\": \"x\", \"y\": [9], \"yaxis\": \"y\"}, {\"alignmentgroup\": \"True\", \"hoverlabel\": {\"namelength\": 0}, \"hovertemplate\": \"\\uc7a5\\ub974=\\ub2e4\\ud050\\uba58\\ud130\\ub9ac<br>\\uc81c\\ubaa9=%{x}<br>\\ud3c9\\uc810=%{y}\", \"legendgroup\": \"\\uc7a5\\ub974=\\ub2e4\\ud050\\uba58\\ud130\\ub9ac\", \"marker\": {\"color\": \"#B6E880\"}, \"name\": \"\\uc7a5\\ub974=\\ub2e4\\ud050\\uba58\\ud130\\ub9ac\", \"offsetgroup\": \"\\uc7a5\\ub974=\\ub2e4\\ud050\\uba58\\ud130\\ub9ac\", \"orientation\": \"v\", \"showlegend\": true, \"textposition\": \"auto\", \"type\": \"bar\", \"x\": [\"\\ubc25\\uc815\"], \"xaxis\": \"x\", \"y\": [9], \"yaxis\": \"y\"}],\n",
              "                        {\"barmode\": \"relative\", \"legend\": {\"tracegroupgap\": 0}, \"margin\": {\"t\": 60}, \"template\": {\"data\": {\"bar\": [{\"error_x\": {\"color\": \"#2a3f5f\"}, \"error_y\": {\"color\": \"#2a3f5f\"}, \"marker\": {\"line\": {\"color\": \"#E5ECF6\", \"width\": 0.5}}, \"type\": \"bar\"}], \"barpolar\": [{\"marker\": {\"line\": {\"color\": \"#E5ECF6\", \"width\": 0.5}}, \"type\": \"barpolar\"}], \"carpet\": [{\"aaxis\": {\"endlinecolor\": \"#2a3f5f\", \"gridcolor\": \"white\", \"linecolor\": \"white\", \"minorgridcolor\": \"white\", \"startlinecolor\": \"#2a3f5f\"}, \"baxis\": {\"endlinecolor\": \"#2a3f5f\", \"gridcolor\": \"white\", \"linecolor\": \"white\", \"minorgridcolor\": \"white\", \"startlinecolor\": \"#2a3f5f\"}, \"type\": \"carpet\"}], \"choropleth\": [{\"colorbar\": {\"outlinewidth\": 0, \"ticks\": \"\"}, \"type\": \"choropleth\"}], \"contour\": [{\"colorbar\": {\"outlinewidth\": 0, \"ticks\": \"\"}, \"colorscale\": [[0.0, \"#0d0887\"], [0.1111111111111111, \"#46039f\"], [0.2222222222222222, \"#7201a8\"], [0.3333333333333333, \"#9c179e\"], [0.4444444444444444, \"#bd3786\"], [0.5555555555555556, \"#d8576b\"], [0.6666666666666666, \"#ed7953\"], [0.7777777777777778, \"#fb9f3a\"], [0.8888888888888888, \"#fdca26\"], [1.0, \"#f0f921\"]], \"type\": \"contour\"}], \"contourcarpet\": [{\"colorbar\": {\"outlinewidth\": 0, \"ticks\": \"\"}, \"type\": \"contourcarpet\"}], \"heatmap\": [{\"colorbar\": {\"outlinewidth\": 0, \"ticks\": \"\"}, \"colorscale\": [[0.0, \"#0d0887\"], [0.1111111111111111, \"#46039f\"], [0.2222222222222222, \"#7201a8\"], [0.3333333333333333, \"#9c179e\"], [0.4444444444444444, \"#bd3786\"], [0.5555555555555556, \"#d8576b\"], [0.6666666666666666, \"#ed7953\"], [0.7777777777777778, \"#fb9f3a\"], [0.8888888888888888, \"#fdca26\"], [1.0, \"#f0f921\"]], \"type\": \"heatmap\"}], \"heatmapgl\": [{\"colorbar\": {\"outlinewidth\": 0, \"ticks\": \"\"}, \"colorscale\": [[0.0, \"#0d0887\"], [0.1111111111111111, \"#46039f\"], [0.2222222222222222, \"#7201a8\"], [0.3333333333333333, \"#9c179e\"], [0.4444444444444444, \"#bd3786\"], [0.5555555555555556, \"#d8576b\"], [0.6666666666666666, \"#ed7953\"], [0.7777777777777778, \"#fb9f3a\"], [0.8888888888888888, \"#fdca26\"], [1.0, \"#f0f921\"]], \"type\": \"heatmapgl\"}], \"histogram\": [{\"marker\": {\"colorbar\": {\"outlinewidth\": 0, \"ticks\": \"\"}}, \"type\": \"histogram\"}], \"histogram2d\": [{\"colorbar\": {\"outlinewidth\": 0, \"ticks\": \"\"}, \"colorscale\": [[0.0, \"#0d0887\"], [0.1111111111111111, \"#46039f\"], [0.2222222222222222, \"#7201a8\"], [0.3333333333333333, \"#9c179e\"], [0.4444444444444444, \"#bd3786\"], [0.5555555555555556, \"#d8576b\"], [0.6666666666666666, \"#ed7953\"], [0.7777777777777778, \"#fb9f3a\"], [0.8888888888888888, \"#fdca26\"], [1.0, \"#f0f921\"]], \"type\": \"histogram2d\"}], \"histogram2dcontour\": [{\"colorbar\": {\"outlinewidth\": 0, \"ticks\": \"\"}, \"colorscale\": [[0.0, \"#0d0887\"], [0.1111111111111111, \"#46039f\"], [0.2222222222222222, \"#7201a8\"], [0.3333333333333333, \"#9c179e\"], [0.4444444444444444, \"#bd3786\"], [0.5555555555555556, \"#d8576b\"], [0.6666666666666666, \"#ed7953\"], [0.7777777777777778, \"#fb9f3a\"], [0.8888888888888888, \"#fdca26\"], [1.0, \"#f0f921\"]], \"type\": \"histogram2dcontour\"}], \"mesh3d\": [{\"colorbar\": {\"outlinewidth\": 0, \"ticks\": \"\"}, \"type\": \"mesh3d\"}], \"parcoords\": [{\"line\": {\"colorbar\": {\"outlinewidth\": 0, \"ticks\": \"\"}}, \"type\": \"parcoords\"}], \"pie\": [{\"automargin\": true, \"type\": \"pie\"}], \"scatter\": [{\"marker\": {\"colorbar\": {\"outlinewidth\": 0, \"ticks\": \"\"}}, \"type\": \"scatter\"}], \"scatter3d\": [{\"line\": {\"colorbar\": {\"outlinewidth\": 0, \"ticks\": \"\"}}, \"marker\": {\"colorbar\": {\"outlinewidth\": 0, \"ticks\": \"\"}}, \"type\": \"scatter3d\"}], \"scattercarpet\": [{\"marker\": {\"colorbar\": {\"outlinewidth\": 0, \"ticks\": \"\"}}, \"type\": \"scattercarpet\"}], \"scattergeo\": [{\"marker\": {\"colorbar\": {\"outlinewidth\": 0, \"ticks\": \"\"}}, \"type\": \"scattergeo\"}], \"scattergl\": [{\"marker\": {\"colorbar\": {\"outlinewidth\": 0, \"ticks\": \"\"}}, \"type\": \"scattergl\"}], \"scattermapbox\": [{\"marker\": {\"colorbar\": {\"outlinewidth\": 0, \"ticks\": \"\"}}, \"type\": \"scattermapbox\"}], \"scatterpolar\": [{\"marker\": {\"colorbar\": {\"outlinewidth\": 0, \"ticks\": \"\"}}, \"type\": \"scatterpolar\"}], \"scatterpolargl\": [{\"marker\": {\"colorbar\": {\"outlinewidth\": 0, \"ticks\": \"\"}}, \"type\": \"scatterpolargl\"}], \"scatterternary\": [{\"marker\": {\"colorbar\": {\"outlinewidth\": 0, \"ticks\": \"\"}}, \"type\": \"scatterternary\"}], \"surface\": [{\"colorbar\": {\"outlinewidth\": 0, \"ticks\": \"\"}, \"colorscale\": [[0.0, \"#0d0887\"], [0.1111111111111111, \"#46039f\"], [0.2222222222222222, \"#7201a8\"], [0.3333333333333333, \"#9c179e\"], [0.4444444444444444, \"#bd3786\"], [0.5555555555555556, \"#d8576b\"], [0.6666666666666666, \"#ed7953\"], [0.7777777777777778, \"#fb9f3a\"], [0.8888888888888888, \"#fdca26\"], [1.0, \"#f0f921\"]], \"type\": \"surface\"}], \"table\": [{\"cells\": {\"fill\": {\"color\": \"#EBF0F8\"}, \"line\": {\"color\": \"white\"}}, \"header\": {\"fill\": {\"color\": \"#C8D4E3\"}, \"line\": {\"color\": \"white\"}}, \"type\": \"table\"}]}, \"layout\": {\"annotationdefaults\": {\"arrowcolor\": \"#2a3f5f\", \"arrowhead\": 0, \"arrowwidth\": 1}, \"coloraxis\": {\"colorbar\": {\"outlinewidth\": 0, \"ticks\": \"\"}}, \"colorscale\": {\"diverging\": [[0, \"#8e0152\"], [0.1, \"#c51b7d\"], [0.2, \"#de77ae\"], [0.3, \"#f1b6da\"], [0.4, \"#fde0ef\"], [0.5, \"#f7f7f7\"], [0.6, \"#e6f5d0\"], [0.7, \"#b8e186\"], [0.8, \"#7fbc41\"], [0.9, \"#4d9221\"], [1, \"#276419\"]], \"sequential\": [[0.0, \"#0d0887\"], [0.1111111111111111, \"#46039f\"], [0.2222222222222222, \"#7201a8\"], [0.3333333333333333, \"#9c179e\"], [0.4444444444444444, \"#bd3786\"], [0.5555555555555556, \"#d8576b\"], [0.6666666666666666, \"#ed7953\"], [0.7777777777777778, \"#fb9f3a\"], [0.8888888888888888, \"#fdca26\"], [1.0, \"#f0f921\"]], \"sequentialminus\": [[0.0, \"#0d0887\"], [0.1111111111111111, \"#46039f\"], [0.2222222222222222, \"#7201a8\"], [0.3333333333333333, \"#9c179e\"], [0.4444444444444444, \"#bd3786\"], [0.5555555555555556, \"#d8576b\"], [0.6666666666666666, \"#ed7953\"], [0.7777777777777778, \"#fb9f3a\"], [0.8888888888888888, \"#fdca26\"], [1.0, \"#f0f921\"]]}, \"colorway\": [\"#636efa\", \"#EF553B\", \"#00cc96\", \"#ab63fa\", \"#FFA15A\", \"#19d3f3\", \"#FF6692\", \"#B6E880\", \"#FF97FF\", \"#FECB52\"], \"font\": {\"color\": \"#2a3f5f\"}, \"geo\": {\"bgcolor\": \"white\", \"lakecolor\": \"white\", \"landcolor\": \"#E5ECF6\", \"showlakes\": true, \"showland\": true, \"subunitcolor\": \"white\"}, \"hoverlabel\": {\"align\": \"left\"}, \"hovermode\": \"closest\", \"mapbox\": {\"style\": \"light\"}, \"paper_bgcolor\": \"white\", \"plot_bgcolor\": \"#E5ECF6\", \"polar\": {\"angularaxis\": {\"gridcolor\": \"white\", \"linecolor\": \"white\", \"ticks\": \"\"}, \"bgcolor\": \"#E5ECF6\", \"radialaxis\": {\"gridcolor\": \"white\", \"linecolor\": \"white\", \"ticks\": \"\"}}, \"scene\": {\"xaxis\": {\"backgroundcolor\": \"#E5ECF6\", \"gridcolor\": \"white\", \"gridwidth\": 2, \"linecolor\": \"white\", \"showbackground\": true, \"ticks\": \"\", \"zerolinecolor\": \"white\"}, \"yaxis\": {\"backgroundcolor\": \"#E5ECF6\", \"gridcolor\": \"white\", \"gridwidth\": 2, \"linecolor\": \"white\", \"showbackground\": true, \"ticks\": \"\", \"zerolinecolor\": \"white\"}, \"zaxis\": {\"backgroundcolor\": \"#E5ECF6\", \"gridcolor\": \"white\", \"gridwidth\": 2, \"linecolor\": \"white\", \"showbackground\": true, \"ticks\": \"\", \"zerolinecolor\": \"white\"}}, \"shapedefaults\": {\"line\": {\"color\": \"#2a3f5f\"}}, \"ternary\": {\"aaxis\": {\"gridcolor\": \"white\", \"linecolor\": \"white\", \"ticks\": \"\"}, \"baxis\": {\"gridcolor\": \"white\", \"linecolor\": \"white\", \"ticks\": \"\"}, \"bgcolor\": \"#E5ECF6\", \"caxis\": {\"gridcolor\": \"white\", \"linecolor\": \"white\", \"ticks\": \"\"}}, \"title\": {\"x\": 0.05}, \"xaxis\": {\"automargin\": true, \"gridcolor\": \"white\", \"linecolor\": \"white\", \"ticks\": \"\", \"title\": {\"standoff\": 15}, \"zerolinecolor\": \"white\", \"zerolinewidth\": 2}, \"yaxis\": {\"automargin\": true, \"gridcolor\": \"white\", \"linecolor\": \"white\", \"ticks\": \"\", \"title\": {\"standoff\": 15}, \"zerolinecolor\": \"white\", \"zerolinewidth\": 2}}}, \"xaxis\": {\"anchor\": \"y\", \"domain\": [0.0, 1.0], \"title\": {\"text\": \"\\uc81c\\ubaa9\"}}, \"yaxis\": {\"anchor\": \"x\", \"domain\": [0.0, 1.0], \"title\": {\"text\": \"\\ud3c9\\uc810\"}}},\n",
              "                        {\"responsive\": true}\n",
              "                    ).then(function(){\n",
              "                            \n",
              "var gd = document.getElementById('9f834558-58fe-4bb9-a0cd-9963d212d9ed');\n",
              "var x = new MutationObserver(function (mutations, observer) {{\n",
              "        var display = window.getComputedStyle(gd).display;\n",
              "        if (!display || display === 'none') {{\n",
              "            console.log([gd, 'removed!']);\n",
              "            Plotly.purge(gd);\n",
              "            observer.disconnect();\n",
              "        }}\n",
              "}});\n",
              "\n",
              "// Listen for the removal of the full notebook cells\n",
              "var notebookContainer = gd.closest('#notebook-container');\n",
              "if (notebookContainer) {{\n",
              "    x.observe(notebookContainer, {childList: true});\n",
              "}}\n",
              "\n",
              "// Listen for the clearing of the current output cell\n",
              "var outputEl = gd.closest('.output');\n",
              "if (outputEl) {{\n",
              "    x.observe(outputEl, {childList: true});\n",
              "}}\n",
              "\n",
              "                        })\n",
              "                };\n",
              "                \n",
              "            </script>\n",
              "        </div>\n",
              "</body>\n",
              "</html>"
            ]
          },
          "metadata": {
            "tags": []
          }
        }
      ]
    },
    {
      "cell_type": "code",
      "metadata": {
        "colab": {
          "base_uri": "https://localhost:8080/",
          "height": 542
        },
        "id": "IrHNXyv_1Mk6",
        "outputId": "146e9e34-a65a-4f1a-e263-6222da7e708e"
      },
      "source": [
        "fig = px.bar(df, x='제목', y='평점')\n",
        "fig.show()"
      ],
      "execution_count": 17,
      "outputs": [
        {
          "output_type": "display_data",
          "data": {
            "text/html": [
              "<html>\n",
              "<head><meta charset=\"utf-8\" /></head>\n",
              "<body>\n",
              "    <div>\n",
              "            <script src=\"https://cdnjs.cloudflare.com/ajax/libs/mathjax/2.7.5/MathJax.js?config=TeX-AMS-MML_SVG\"></script><script type=\"text/javascript\">if (window.MathJax) {MathJax.Hub.Config({SVG: {font: \"STIX-Web\"}});}</script>\n",
              "                <script type=\"text/javascript\">window.PlotlyConfig = {MathJaxConfig: 'local'};</script>\n",
              "        <script src=\"https://cdn.plot.ly/plotly-latest.min.js\"></script>    \n",
              "            <div id=\"428d6d7a-dae8-4d9e-b03c-553f3670247f\" class=\"plotly-graph-div\" style=\"height:525px; width:100%;\"></div>\n",
              "            <script type=\"text/javascript\">\n",
              "                \n",
              "                    window.PLOTLYENV=window.PLOTLYENV || {};\n",
              "                    \n",
              "                if (document.getElementById(\"428d6d7a-dae8-4d9e-b03c-553f3670247f\")) {\n",
              "                    Plotly.newPlot(\n",
              "                        '428d6d7a-dae8-4d9e-b03c-553f3670247f',\n",
              "                        [{\"alignmentgroup\": \"True\", \"hoverlabel\": {\"namelength\": 0}, \"hovertemplate\": \"\\uc81c\\ubaa9=%{x}<br>\\ud3c9\\uc810=%{y}\", \"legendgroup\": \"\", \"marker\": {\"color\": \"#636efa\"}, \"name\": \"\", \"offsetgroup\": \"\", \"orientation\": \"v\", \"showlegend\": false, \"textposition\": \"auto\", \"type\": \"bar\", \"x\": [\"\\uadf9\\uc7a5\\ud310 \\uadc0\\uba78\\uc758 \\uce7c\\ub0a0: \\ubb34\\ud55c\\uc5f4\\ucc28\\ud3b8\", \"\\ucf70\\uc774\\uc5b4\\ud2b8 \\ud50c\\ub808\\uc774\\uc2a4\", \"\\ud0ac\\ub7ec\\uc758 \\ubcf4\\ub514\\uac00\\ub4dc\", \"\\ud06c\\ub8e8\\uc5d8\\ub77c\", \"\\uc18c\\uc6b8\", \"\\ud30c\\uc774\\ud504\\ub77c\\uc778\", \"\\ud06c\\ub8e8\\uc988 \\ud328\\ubc00\\ub9ac: \\ub274 \\uc5d0\\uc774\\uc9c0\", \"\\ubbf8\\ub098\\ub9ac\", \"\\ub77c\\ub77c\\ub79c\\ub4dc\", \"\\ub178\\ubc14\\ub514 \", \"\\uc870\\ucee4\", \"\\ub178\\ub9e4\\ub4dc\\ub79c\\ub4dc\", \"\\uc790\\uc0b0\\uc5b4\\ubcf4\", \"\\uc5b4\\ubca4\\uc838\\uc2a4: \\uc5d4\\ub4dc\\uac8c\\uc784\", \"\\ub354 \\uc2a4\\ud30c\\uc774\", \"\\ud5dd\\uac70\\uac8c\\uc784 : \\ub354 \\ud30c\\uc774\\ub110\", \"\\ub77c\\uc57c\\uc640 \\ub9c8\\uc9c0\\ub9c9 \\ub4dc\\ub798\\uace4\", \"500\\uc77c\\uc758 \\uc378\\uba38\", \"\\uace0\\uc9c8\\ub77c VS. \\ucf69\", \"\\ud14c\\ub137\", \"\\uc5b4\\ubca4\\uc838\\uc2a4: \\uc778\\ud53c\\ub2c8\\ud2f0 \\uc6cc\", \"\\ubc14\\ub78c\\uc758 \\uac80\\uc2ec : \\uad50\\ud1a0 \\ub300\\ud654\\uc7ac\\ud3b8\", \"\\uace1\\uc131(\\u54ed\\u8072)\", \"\\ucf54\\ucf54\", \"\\uc560\\ud504\\ud130: \\uadf8 \\ud6c4\", \"\\uc544\\uc774\\uc988 \\uc628 \\ubbf8 : \\ub354 \\ubb34\\ube44\", \"\\uc7ad \\uc2a4\\ub098\\uc774\\ub354\\uc758 \\uc800\\uc2a4\\ud2f0\\uc2a4 \\ub9ac\\uadf8\", \"\\uadf8\\uac83: \\ub450 \\ubc88\\uc9f8 \\uc774\\uc57c\\uae30\", \"\\ubd84\\ub178\\uc758 \\uc9c8\\uc8fc: \\ub354 \\uc138\\ube10\", \"\\ud0b9\\ub364 \\uc624\\ube0c \\ud5e4\\ube10\", \"\\ub178\\ud2b8\\ubd81\", \"\\uc778\\uc0ac\\uc774\\ub4dc \\uc544\\uc6c3\", \"\\ud5dd\\uac70\\uac8c\\uc784:\\ubaa8\\ud0b9\\uc81c\\uc774\", \"\\ud0dc\\uadf9\\uae30 \\ud718\\ub0a0\\ub9ac\\uba70\", \"\\ub2e4\\ub9cc \\uc545\\uc5d0\\uc11c \\uad6c\\ud558\\uc18c\\uc11c\", \"\\ubd84\\ub178\\uc758 \\uc9c8\\uc8fc: \\ud649\\uc2a4&\\uc1fc\", \"\\uc544\\uc77c\\ub77c\", \"\\ud574\\ub9ac \\ud3ec\\ud130\\uc640 \\ub9c8\\ubc95\\uc0ac\\uc758 \\ub3cc\", \"\\ub3c4\\uad74\", \"\\uc54c\\ub77c\\ub518\", \"\\ub108\\uc758 \\uc774\\ub984\\uc740.\", \"\\ubca0\\ub188\", \"1987\", \"\\uc704\\ub300\\ud55c \\uc1fc\\ub9e8\", \"\\uc5f0\\ud3c9\\ud574\\uc804\", \"\\uc18c\\ub144\\uc2dc\\uc808\\uc758 \\ub108\", \"\\uadf8\\ub9b0 \\ubd81\", \"\\ub808\\ub514 \\ud50c\\ub808\\uc774\\uc5b4 \\uc6d0\", \"\\uc774\\ud0dc\\uc6d0 \\uc0b4\\uc778\\uc0ac\\uac74\", \"\\uc2dc\\uac04\\uc744 \\ub2ec\\ub9ac\\ub294 \\uc18c\\ub140\", \"\\ub098\\uc758 \\ud788\\uc5b4\\ub85c \\uc544\\uce74\\ub370\\ubbf8\\uc544 \\ub354 \\ubb34\\ube44: \\ud788\\uc5b4\\ub85c\\uc988 \\ub77c\\uc774\\uc9d5\", \"\\ubc25\\uc815\", \"\\uaca8\\uc6b8\\uc655\\uad6d 2\", \"\\ucea1\\ud2f4 \\ub9c8\\ube14\", \"\\uc2a4\\ud0c0 \\uc774\\uc988 \\ubcf8\", \"\\uc6d0\\ub354\", \"\\ube44\\uae34 \\uc5b4\\uac8c\\uc778\", \"\\ub0b4\\uac00 \\ub110 \\uc0ac\\ub791\\ud560 \\uc218 \\uc5c6\\ub294 10\\uac00\\uc9c0 \\uc774\\uc720\", \"\\ub0b4\\uac00 \\uc8fd\\uae30\\ub97c \\ubc14\\ub77c\\ub294 \\uc790\\ub4e4\", \"\\uc560\\ud504\\ud130\", \"\\ub9ac\\ud2c0 \\ud3ec\\ub808\\uc2a4\\ud2b8\"], \"xaxis\": \"x\", \"y\": [9, 7, 8, 9, 9, 6, 9, 7, 8, 8, 8, 8, 9, 9, 8, 7, 9, 8, 8, 8, 8, 8, 7, 9, 8, 9, 0, 6, 9, 8, 9, 9, 7, 9, 7, 7, 9, 9, 7, 9, 8, 7, 9, 9, 9, 9, 9, 8, 5, 9, 0, 9, 8, 6, 9, 9, 9, 9, 7, 7, 8], \"yaxis\": \"y\"}],\n",
              "                        {\"barmode\": \"relative\", \"legend\": {\"tracegroupgap\": 0}, \"margin\": {\"t\": 60}, \"template\": {\"data\": {\"bar\": [{\"error_x\": {\"color\": \"#2a3f5f\"}, \"error_y\": {\"color\": \"#2a3f5f\"}, \"marker\": {\"line\": {\"color\": \"#E5ECF6\", \"width\": 0.5}}, \"type\": \"bar\"}], \"barpolar\": [{\"marker\": {\"line\": {\"color\": \"#E5ECF6\", \"width\": 0.5}}, \"type\": \"barpolar\"}], \"carpet\": [{\"aaxis\": {\"endlinecolor\": \"#2a3f5f\", \"gridcolor\": \"white\", \"linecolor\": \"white\", \"minorgridcolor\": \"white\", \"startlinecolor\": \"#2a3f5f\"}, \"baxis\": {\"endlinecolor\": \"#2a3f5f\", \"gridcolor\": \"white\", \"linecolor\": \"white\", \"minorgridcolor\": \"white\", \"startlinecolor\": \"#2a3f5f\"}, \"type\": \"carpet\"}], \"choropleth\": [{\"colorbar\": {\"outlinewidth\": 0, \"ticks\": \"\"}, \"type\": \"choropleth\"}], \"contour\": [{\"colorbar\": {\"outlinewidth\": 0, \"ticks\": \"\"}, \"colorscale\": [[0.0, \"#0d0887\"], [0.1111111111111111, \"#46039f\"], [0.2222222222222222, \"#7201a8\"], [0.3333333333333333, \"#9c179e\"], [0.4444444444444444, \"#bd3786\"], [0.5555555555555556, \"#d8576b\"], [0.6666666666666666, \"#ed7953\"], [0.7777777777777778, \"#fb9f3a\"], [0.8888888888888888, \"#fdca26\"], [1.0, \"#f0f921\"]], \"type\": \"contour\"}], \"contourcarpet\": [{\"colorbar\": {\"outlinewidth\": 0, \"ticks\": \"\"}, \"type\": \"contourcarpet\"}], \"heatmap\": [{\"colorbar\": {\"outlinewidth\": 0, \"ticks\": \"\"}, \"colorscale\": [[0.0, \"#0d0887\"], [0.1111111111111111, \"#46039f\"], [0.2222222222222222, \"#7201a8\"], [0.3333333333333333, \"#9c179e\"], [0.4444444444444444, \"#bd3786\"], [0.5555555555555556, \"#d8576b\"], [0.6666666666666666, \"#ed7953\"], [0.7777777777777778, \"#fb9f3a\"], [0.8888888888888888, \"#fdca26\"], [1.0, \"#f0f921\"]], \"type\": \"heatmap\"}], \"heatmapgl\": [{\"colorbar\": {\"outlinewidth\": 0, \"ticks\": \"\"}, \"colorscale\": [[0.0, \"#0d0887\"], [0.1111111111111111, \"#46039f\"], [0.2222222222222222, \"#7201a8\"], [0.3333333333333333, \"#9c179e\"], [0.4444444444444444, \"#bd3786\"], [0.5555555555555556, \"#d8576b\"], [0.6666666666666666, \"#ed7953\"], [0.7777777777777778, \"#fb9f3a\"], [0.8888888888888888, \"#fdca26\"], [1.0, \"#f0f921\"]], \"type\": \"heatmapgl\"}], \"histogram\": [{\"marker\": {\"colorbar\": {\"outlinewidth\": 0, \"ticks\": \"\"}}, \"type\": \"histogram\"}], \"histogram2d\": [{\"colorbar\": {\"outlinewidth\": 0, \"ticks\": \"\"}, \"colorscale\": [[0.0, \"#0d0887\"], [0.1111111111111111, \"#46039f\"], [0.2222222222222222, \"#7201a8\"], [0.3333333333333333, \"#9c179e\"], [0.4444444444444444, \"#bd3786\"], [0.5555555555555556, \"#d8576b\"], [0.6666666666666666, \"#ed7953\"], [0.7777777777777778, \"#fb9f3a\"], [0.8888888888888888, \"#fdca26\"], [1.0, \"#f0f921\"]], \"type\": \"histogram2d\"}], \"histogram2dcontour\": [{\"colorbar\": {\"outlinewidth\": 0, \"ticks\": \"\"}, \"colorscale\": [[0.0, \"#0d0887\"], [0.1111111111111111, \"#46039f\"], [0.2222222222222222, \"#7201a8\"], [0.3333333333333333, \"#9c179e\"], [0.4444444444444444, \"#bd3786\"], [0.5555555555555556, \"#d8576b\"], [0.6666666666666666, \"#ed7953\"], [0.7777777777777778, \"#fb9f3a\"], [0.8888888888888888, \"#fdca26\"], [1.0, \"#f0f921\"]], \"type\": \"histogram2dcontour\"}], \"mesh3d\": [{\"colorbar\": {\"outlinewidth\": 0, \"ticks\": \"\"}, \"type\": \"mesh3d\"}], \"parcoords\": [{\"line\": {\"colorbar\": {\"outlinewidth\": 0, \"ticks\": \"\"}}, \"type\": \"parcoords\"}], \"pie\": [{\"automargin\": true, \"type\": \"pie\"}], \"scatter\": [{\"marker\": {\"colorbar\": {\"outlinewidth\": 0, \"ticks\": \"\"}}, \"type\": \"scatter\"}], \"scatter3d\": [{\"line\": {\"colorbar\": {\"outlinewidth\": 0, \"ticks\": \"\"}}, \"marker\": {\"colorbar\": {\"outlinewidth\": 0, \"ticks\": \"\"}}, \"type\": \"scatter3d\"}], \"scattercarpet\": [{\"marker\": {\"colorbar\": {\"outlinewidth\": 0, \"ticks\": \"\"}}, \"type\": \"scattercarpet\"}], \"scattergeo\": [{\"marker\": {\"colorbar\": {\"outlinewidth\": 0, \"ticks\": \"\"}}, \"type\": \"scattergeo\"}], \"scattergl\": [{\"marker\": {\"colorbar\": {\"outlinewidth\": 0, \"ticks\": \"\"}}, \"type\": \"scattergl\"}], \"scattermapbox\": [{\"marker\": {\"colorbar\": {\"outlinewidth\": 0, \"ticks\": \"\"}}, \"type\": \"scattermapbox\"}], \"scatterpolar\": [{\"marker\": {\"colorbar\": {\"outlinewidth\": 0, \"ticks\": \"\"}}, \"type\": \"scatterpolar\"}], \"scatterpolargl\": [{\"marker\": {\"colorbar\": {\"outlinewidth\": 0, \"ticks\": \"\"}}, \"type\": \"scatterpolargl\"}], \"scatterternary\": [{\"marker\": {\"colorbar\": {\"outlinewidth\": 0, \"ticks\": \"\"}}, \"type\": \"scatterternary\"}], \"surface\": [{\"colorbar\": {\"outlinewidth\": 0, \"ticks\": \"\"}, \"colorscale\": [[0.0, \"#0d0887\"], [0.1111111111111111, \"#46039f\"], [0.2222222222222222, \"#7201a8\"], [0.3333333333333333, \"#9c179e\"], [0.4444444444444444, \"#bd3786\"], [0.5555555555555556, \"#d8576b\"], [0.6666666666666666, \"#ed7953\"], [0.7777777777777778, \"#fb9f3a\"], [0.8888888888888888, \"#fdca26\"], [1.0, \"#f0f921\"]], \"type\": \"surface\"}], \"table\": [{\"cells\": {\"fill\": {\"color\": \"#EBF0F8\"}, \"line\": {\"color\": \"white\"}}, \"header\": {\"fill\": {\"color\": \"#C8D4E3\"}, \"line\": {\"color\": \"white\"}}, \"type\": \"table\"}]}, \"layout\": {\"annotationdefaults\": {\"arrowcolor\": \"#2a3f5f\", \"arrowhead\": 0, \"arrowwidth\": 1}, \"coloraxis\": {\"colorbar\": {\"outlinewidth\": 0, \"ticks\": \"\"}}, \"colorscale\": {\"diverging\": [[0, \"#8e0152\"], [0.1, \"#c51b7d\"], [0.2, \"#de77ae\"], [0.3, \"#f1b6da\"], [0.4, \"#fde0ef\"], [0.5, \"#f7f7f7\"], [0.6, \"#e6f5d0\"], [0.7, \"#b8e186\"], [0.8, \"#7fbc41\"], [0.9, \"#4d9221\"], [1, \"#276419\"]], \"sequential\": [[0.0, \"#0d0887\"], [0.1111111111111111, \"#46039f\"], [0.2222222222222222, \"#7201a8\"], [0.3333333333333333, \"#9c179e\"], [0.4444444444444444, \"#bd3786\"], [0.5555555555555556, \"#d8576b\"], [0.6666666666666666, \"#ed7953\"], [0.7777777777777778, \"#fb9f3a\"], [0.8888888888888888, \"#fdca26\"], [1.0, \"#f0f921\"]], \"sequentialminus\": [[0.0, \"#0d0887\"], [0.1111111111111111, \"#46039f\"], [0.2222222222222222, \"#7201a8\"], [0.3333333333333333, \"#9c179e\"], [0.4444444444444444, \"#bd3786\"], [0.5555555555555556, \"#d8576b\"], [0.6666666666666666, \"#ed7953\"], [0.7777777777777778, \"#fb9f3a\"], [0.8888888888888888, \"#fdca26\"], [1.0, \"#f0f921\"]]}, \"colorway\": [\"#636efa\", \"#EF553B\", \"#00cc96\", \"#ab63fa\", \"#FFA15A\", \"#19d3f3\", \"#FF6692\", \"#B6E880\", \"#FF97FF\", \"#FECB52\"], \"font\": {\"color\": \"#2a3f5f\"}, \"geo\": {\"bgcolor\": \"white\", \"lakecolor\": \"white\", \"landcolor\": \"#E5ECF6\", \"showlakes\": true, \"showland\": true, \"subunitcolor\": \"white\"}, \"hoverlabel\": {\"align\": \"left\"}, \"hovermode\": \"closest\", \"mapbox\": {\"style\": \"light\"}, \"paper_bgcolor\": \"white\", \"plot_bgcolor\": \"#E5ECF6\", \"polar\": {\"angularaxis\": {\"gridcolor\": \"white\", \"linecolor\": \"white\", \"ticks\": \"\"}, \"bgcolor\": \"#E5ECF6\", \"radialaxis\": {\"gridcolor\": \"white\", \"linecolor\": \"white\", \"ticks\": \"\"}}, \"scene\": {\"xaxis\": {\"backgroundcolor\": \"#E5ECF6\", \"gridcolor\": \"white\", \"gridwidth\": 2, \"linecolor\": \"white\", \"showbackground\": true, \"ticks\": \"\", \"zerolinecolor\": \"white\"}, \"yaxis\": {\"backgroundcolor\": \"#E5ECF6\", \"gridcolor\": \"white\", \"gridwidth\": 2, \"linecolor\": \"white\", \"showbackground\": true, \"ticks\": \"\", \"zerolinecolor\": \"white\"}, \"zaxis\": {\"backgroundcolor\": \"#E5ECF6\", \"gridcolor\": \"white\", \"gridwidth\": 2, \"linecolor\": \"white\", \"showbackground\": true, \"ticks\": \"\", \"zerolinecolor\": \"white\"}}, \"shapedefaults\": {\"line\": {\"color\": \"#2a3f5f\"}}, \"ternary\": {\"aaxis\": {\"gridcolor\": \"white\", \"linecolor\": \"white\", \"ticks\": \"\"}, \"baxis\": {\"gridcolor\": \"white\", \"linecolor\": \"white\", \"ticks\": \"\"}, \"bgcolor\": \"#E5ECF6\", \"caxis\": {\"gridcolor\": \"white\", \"linecolor\": \"white\", \"ticks\": \"\"}}, \"title\": {\"x\": 0.05}, \"xaxis\": {\"automargin\": true, \"gridcolor\": \"white\", \"linecolor\": \"white\", \"ticks\": \"\", \"title\": {\"standoff\": 15}, \"zerolinecolor\": \"white\", \"zerolinewidth\": 2}, \"yaxis\": {\"automargin\": true, \"gridcolor\": \"white\", \"linecolor\": \"white\", \"ticks\": \"\", \"title\": {\"standoff\": 15}, \"zerolinecolor\": \"white\", \"zerolinewidth\": 2}}}, \"xaxis\": {\"anchor\": \"y\", \"domain\": [0.0, 1.0], \"title\": {\"text\": \"\\uc81c\\ubaa9\"}}, \"yaxis\": {\"anchor\": \"x\", \"domain\": [0.0, 1.0], \"title\": {\"text\": \"\\ud3c9\\uc810\"}}},\n",
              "                        {\"responsive\": true}\n",
              "                    ).then(function(){\n",
              "                            \n",
              "var gd = document.getElementById('428d6d7a-dae8-4d9e-b03c-553f3670247f');\n",
              "var x = new MutationObserver(function (mutations, observer) {{\n",
              "        var display = window.getComputedStyle(gd).display;\n",
              "        if (!display || display === 'none') {{\n",
              "            console.log([gd, 'removed!']);\n",
              "            Plotly.purge(gd);\n",
              "            observer.disconnect();\n",
              "        }}\n",
              "}});\n",
              "\n",
              "// Listen for the removal of the full notebook cells\n",
              "var notebookContainer = gd.closest('#notebook-container');\n",
              "if (notebookContainer) {{\n",
              "    x.observe(notebookContainer, {childList: true});\n",
              "}}\n",
              "\n",
              "// Listen for the clearing of the current output cell\n",
              "var outputEl = gd.closest('.output');\n",
              "if (outputEl) {{\n",
              "    x.observe(outputEl, {childList: true});\n",
              "}}\n",
              "\n",
              "                        })\n",
              "                };\n",
              "                \n",
              "            </script>\n",
              "        </div>\n",
              "</body>\n",
              "</html>"
            ]
          },
          "metadata": {
            "tags": []
          }
        }
      ]
    },
    {
      "cell_type": "code",
      "metadata": {
        "colab": {
          "base_uri": "https://localhost:8080/",
          "height": 542
        },
        "id": "6p9wTgFe1Pkk",
        "outputId": "d17bcb24-7e7f-4e86-8123-22831816efd7"
      },
      "source": [
        "# 시기별 선호 장르 확인에 응용\n",
        "fig = px.pie(df, values='평점', names='장르')\n",
        "fig.show()"
      ],
      "execution_count": 18,
      "outputs": [
        {
          "output_type": "display_data",
          "data": {
            "text/html": [
              "<html>\n",
              "<head><meta charset=\"utf-8\" /></head>\n",
              "<body>\n",
              "    <div>\n",
              "            <script src=\"https://cdnjs.cloudflare.com/ajax/libs/mathjax/2.7.5/MathJax.js?config=TeX-AMS-MML_SVG\"></script><script type=\"text/javascript\">if (window.MathJax) {MathJax.Hub.Config({SVG: {font: \"STIX-Web\"}});}</script>\n",
              "                <script type=\"text/javascript\">window.PlotlyConfig = {MathJaxConfig: 'local'};</script>\n",
              "        <script src=\"https://cdn.plot.ly/plotly-latest.min.js\"></script>    \n",
              "            <div id=\"399a8179-3090-45b9-807f-2c65d9a4a3ae\" class=\"plotly-graph-div\" style=\"height:525px; width:100%;\"></div>\n",
              "            <script type=\"text/javascript\">\n",
              "                \n",
              "                    window.PLOTLYENV=window.PLOTLYENV || {};\n",
              "                    \n",
              "                if (document.getElementById(\"399a8179-3090-45b9-807f-2c65d9a4a3ae\")) {\n",
              "                    Plotly.newPlot(\n",
              "                        '399a8179-3090-45b9-807f-2c65d9a4a3ae',\n",
              "                        [{\"domain\": {\"x\": [0.0, 1.0], \"y\": [0.0, 1.0]}, \"hoverlabel\": {\"namelength\": 0}, \"hovertemplate\": \"\\uc7a5\\ub974=%{label}<br>\\ud3c9\\uc810=%{value}\", \"labels\": [\"\\uc560\\ub2c8\\uba54\\uc774\\uc158\", \"\\uacf5\\ud3ec/\\uc2a4\\ub9b4\\ub7ec\", \"\\uc561\\uc158\", \"\\ub4dc\\ub77c\\ub9c8\", \"\\uc560\\ub2c8\\uba54\\uc774\\uc158\", \"\\uc561\\uc158\", \"\\uc561\\uc158\", \"\\ub4dc\\ub77c\\ub9c8\", \"\\ub4dc\\ub77c\\ub9c8\", \"\\uc561\\uc158\", \"\\ub4dc\\ub77c\\ub9c8\", \"\\ub4dc\\ub77c\\ub9c8\", \"\\ub4dc\\ub77c\\ub9c8\", \"\\uc561\\uc158\", \"\\uacf5\\ud3ec/\\uc2a4\\ub9b4\\ub7ec\", \"\\uc561\\uc158\", \"\\uc560\\ub2c8\\uba54\\uc774\\uc158\", \"\\ucf54\\ubbf8\\ub514\", \"\\uc561\\uc158\", \"\\uc561\\uc158\", \"\\uc561\\uc158\", \"\\uc561\\uc158\", \"\\ub4dc\\ub77c\\ub9c8\", \"\\uc561\\uc158\", \"\\uba5c\\ub85c\", \"\\uacf5\\uc5f0\\uc2e4\\ud669\", \"\\uc561\\uc158\", \"\\uacf5\\ud3ec/\\uc2a4\\ub9b4\\ub7ec\", \"\\uc561\\uc158\", \"\\uc561\\uc158\", \"\\ub4dc\\ub77c\\ub9c8\", \"\\ucf54\\ubbf8\\ub514\", \"\\uc561\\uc158\", \"\\uc561\\uc158\", \"\\uc561\\uc158\", \"\\uc561\\uc158\", \"\\uc561\\uc158\", \"\\uc561\\uc158\", \"\\uc561\\uc158\", \"\\uc561\\uc158\", \"\\ub4dc\\ub77c\\ub9c8\", \"\\uc561\\uc158\", \"\\ub4dc\\ub77c\\ub9c8\", \"\\ub4dc\\ub77c\\ub9c8\", \"\\ub4dc\\ub77c\\ub9c8\", \"\\uc561\\uc158\", \"\\ub4dc\\ub77c\\ub9c8\", \"\\uc561\\uc158\", \"\\uc561\\uc158\", \"\\ub4dc\\ub77c\\ub9c8\", \"\\uc560\\ub2c8\\uba54\\uc774\\uc158\", \"\\ub2e4\\ud050\\uba58\\ud130\\ub9ac\", \"\\uc561\\uc158\", \"\\uc561\\uc158\", \"\\ub4dc\\ub77c\\ub9c8\", \"\\ub4dc\\ub77c\\ub9c8\", \"\\ucf54\\ubbf8\\ub514\", \"\\ucf54\\ubbf8\\ub514\", \"\\uc561\\uc158\", \"\\ub4dc\\ub77c\\ub9c8\", \"\\ub4dc\\ub77c\\ub9c8\"], \"legendgroup\": \"\", \"name\": \"\", \"showlegend\": true, \"type\": \"pie\", \"values\": [9, 7, 8, 9, 9, 6, 9, 7, 8, 8, 8, 8, 9, 9, 8, 7, 9, 8, 8, 8, 8, 8, 7, 9, 8, 9, 0, 6, 9, 8, 9, 9, 7, 9, 7, 7, 9, 9, 7, 9, 8, 7, 9, 9, 9, 9, 9, 8, 5, 9, 0, 9, 8, 6, 9, 9, 9, 9, 7, 7, 8]}],\n",
              "                        {\"legend\": {\"tracegroupgap\": 0}, \"margin\": {\"t\": 60}, \"template\": {\"data\": {\"bar\": [{\"error_x\": {\"color\": \"#2a3f5f\"}, \"error_y\": {\"color\": \"#2a3f5f\"}, \"marker\": {\"line\": {\"color\": \"#E5ECF6\", \"width\": 0.5}}, \"type\": \"bar\"}], \"barpolar\": [{\"marker\": {\"line\": {\"color\": \"#E5ECF6\", \"width\": 0.5}}, \"type\": \"barpolar\"}], \"carpet\": [{\"aaxis\": {\"endlinecolor\": \"#2a3f5f\", \"gridcolor\": \"white\", \"linecolor\": \"white\", \"minorgridcolor\": \"white\", \"startlinecolor\": \"#2a3f5f\"}, \"baxis\": {\"endlinecolor\": \"#2a3f5f\", \"gridcolor\": \"white\", \"linecolor\": \"white\", \"minorgridcolor\": \"white\", \"startlinecolor\": \"#2a3f5f\"}, \"type\": \"carpet\"}], \"choropleth\": [{\"colorbar\": {\"outlinewidth\": 0, \"ticks\": \"\"}, \"type\": \"choropleth\"}], \"contour\": [{\"colorbar\": {\"outlinewidth\": 0, \"ticks\": \"\"}, \"colorscale\": [[0.0, \"#0d0887\"], [0.1111111111111111, \"#46039f\"], [0.2222222222222222, \"#7201a8\"], [0.3333333333333333, \"#9c179e\"], [0.4444444444444444, \"#bd3786\"], [0.5555555555555556, \"#d8576b\"], [0.6666666666666666, \"#ed7953\"], [0.7777777777777778, \"#fb9f3a\"], [0.8888888888888888, \"#fdca26\"], [1.0, \"#f0f921\"]], \"type\": \"contour\"}], \"contourcarpet\": [{\"colorbar\": {\"outlinewidth\": 0, \"ticks\": \"\"}, \"type\": \"contourcarpet\"}], \"heatmap\": [{\"colorbar\": {\"outlinewidth\": 0, \"ticks\": \"\"}, \"colorscale\": [[0.0, \"#0d0887\"], [0.1111111111111111, \"#46039f\"], [0.2222222222222222, \"#7201a8\"], [0.3333333333333333, \"#9c179e\"], [0.4444444444444444, \"#bd3786\"], [0.5555555555555556, \"#d8576b\"], [0.6666666666666666, \"#ed7953\"], [0.7777777777777778, \"#fb9f3a\"], [0.8888888888888888, \"#fdca26\"], [1.0, \"#f0f921\"]], \"type\": \"heatmap\"}], \"heatmapgl\": [{\"colorbar\": {\"outlinewidth\": 0, \"ticks\": \"\"}, \"colorscale\": [[0.0, \"#0d0887\"], [0.1111111111111111, \"#46039f\"], [0.2222222222222222, \"#7201a8\"], [0.3333333333333333, \"#9c179e\"], [0.4444444444444444, \"#bd3786\"], [0.5555555555555556, \"#d8576b\"], [0.6666666666666666, \"#ed7953\"], [0.7777777777777778, \"#fb9f3a\"], [0.8888888888888888, \"#fdca26\"], [1.0, \"#f0f921\"]], \"type\": \"heatmapgl\"}], \"histogram\": [{\"marker\": {\"colorbar\": {\"outlinewidth\": 0, \"ticks\": \"\"}}, \"type\": \"histogram\"}], \"histogram2d\": [{\"colorbar\": {\"outlinewidth\": 0, \"ticks\": \"\"}, \"colorscale\": [[0.0, \"#0d0887\"], [0.1111111111111111, \"#46039f\"], [0.2222222222222222, \"#7201a8\"], [0.3333333333333333, \"#9c179e\"], [0.4444444444444444, \"#bd3786\"], [0.5555555555555556, \"#d8576b\"], [0.6666666666666666, \"#ed7953\"], [0.7777777777777778, \"#fb9f3a\"], [0.8888888888888888, \"#fdca26\"], [1.0, \"#f0f921\"]], \"type\": \"histogram2d\"}], \"histogram2dcontour\": [{\"colorbar\": {\"outlinewidth\": 0, \"ticks\": \"\"}, \"colorscale\": [[0.0, \"#0d0887\"], [0.1111111111111111, \"#46039f\"], [0.2222222222222222, \"#7201a8\"], [0.3333333333333333, \"#9c179e\"], [0.4444444444444444, \"#bd3786\"], [0.5555555555555556, \"#d8576b\"], [0.6666666666666666, \"#ed7953\"], [0.7777777777777778, \"#fb9f3a\"], [0.8888888888888888, \"#fdca26\"], [1.0, \"#f0f921\"]], \"type\": \"histogram2dcontour\"}], \"mesh3d\": [{\"colorbar\": {\"outlinewidth\": 0, \"ticks\": \"\"}, \"type\": \"mesh3d\"}], \"parcoords\": [{\"line\": {\"colorbar\": {\"outlinewidth\": 0, \"ticks\": \"\"}}, \"type\": \"parcoords\"}], \"pie\": [{\"automargin\": true, \"type\": \"pie\"}], \"scatter\": [{\"marker\": {\"colorbar\": {\"outlinewidth\": 0, \"ticks\": \"\"}}, \"type\": \"scatter\"}], \"scatter3d\": [{\"line\": {\"colorbar\": {\"outlinewidth\": 0, \"ticks\": \"\"}}, \"marker\": {\"colorbar\": {\"outlinewidth\": 0, \"ticks\": \"\"}}, \"type\": \"scatter3d\"}], \"scattercarpet\": [{\"marker\": {\"colorbar\": {\"outlinewidth\": 0, \"ticks\": \"\"}}, \"type\": \"scattercarpet\"}], \"scattergeo\": [{\"marker\": {\"colorbar\": {\"outlinewidth\": 0, \"ticks\": \"\"}}, \"type\": \"scattergeo\"}], \"scattergl\": [{\"marker\": {\"colorbar\": {\"outlinewidth\": 0, \"ticks\": \"\"}}, \"type\": \"scattergl\"}], \"scattermapbox\": [{\"marker\": {\"colorbar\": {\"outlinewidth\": 0, \"ticks\": \"\"}}, \"type\": \"scattermapbox\"}], \"scatterpolar\": [{\"marker\": {\"colorbar\": {\"outlinewidth\": 0, \"ticks\": \"\"}}, \"type\": \"scatterpolar\"}], \"scatterpolargl\": [{\"marker\": {\"colorbar\": {\"outlinewidth\": 0, \"ticks\": \"\"}}, \"type\": \"scatterpolargl\"}], \"scatterternary\": [{\"marker\": {\"colorbar\": {\"outlinewidth\": 0, \"ticks\": \"\"}}, \"type\": \"scatterternary\"}], \"surface\": [{\"colorbar\": {\"outlinewidth\": 0, \"ticks\": \"\"}, \"colorscale\": [[0.0, \"#0d0887\"], [0.1111111111111111, \"#46039f\"], [0.2222222222222222, \"#7201a8\"], [0.3333333333333333, \"#9c179e\"], [0.4444444444444444, \"#bd3786\"], [0.5555555555555556, \"#d8576b\"], [0.6666666666666666, \"#ed7953\"], [0.7777777777777778, \"#fb9f3a\"], [0.8888888888888888, \"#fdca26\"], [1.0, \"#f0f921\"]], \"type\": \"surface\"}], \"table\": [{\"cells\": {\"fill\": {\"color\": \"#EBF0F8\"}, \"line\": {\"color\": \"white\"}}, \"header\": {\"fill\": {\"color\": \"#C8D4E3\"}, \"line\": {\"color\": \"white\"}}, \"type\": \"table\"}]}, \"layout\": {\"annotationdefaults\": {\"arrowcolor\": \"#2a3f5f\", \"arrowhead\": 0, \"arrowwidth\": 1}, \"coloraxis\": {\"colorbar\": {\"outlinewidth\": 0, \"ticks\": \"\"}}, \"colorscale\": {\"diverging\": [[0, \"#8e0152\"], [0.1, \"#c51b7d\"], [0.2, \"#de77ae\"], [0.3, \"#f1b6da\"], [0.4, \"#fde0ef\"], [0.5, \"#f7f7f7\"], [0.6, \"#e6f5d0\"], [0.7, \"#b8e186\"], [0.8, \"#7fbc41\"], [0.9, \"#4d9221\"], [1, \"#276419\"]], \"sequential\": [[0.0, \"#0d0887\"], [0.1111111111111111, \"#46039f\"], [0.2222222222222222, \"#7201a8\"], [0.3333333333333333, \"#9c179e\"], [0.4444444444444444, \"#bd3786\"], [0.5555555555555556, \"#d8576b\"], [0.6666666666666666, \"#ed7953\"], [0.7777777777777778, \"#fb9f3a\"], [0.8888888888888888, \"#fdca26\"], [1.0, \"#f0f921\"]], \"sequentialminus\": [[0.0, \"#0d0887\"], [0.1111111111111111, \"#46039f\"], [0.2222222222222222, \"#7201a8\"], [0.3333333333333333, \"#9c179e\"], [0.4444444444444444, \"#bd3786\"], [0.5555555555555556, \"#d8576b\"], [0.6666666666666666, \"#ed7953\"], [0.7777777777777778, \"#fb9f3a\"], [0.8888888888888888, \"#fdca26\"], [1.0, \"#f0f921\"]]}, \"colorway\": [\"#636efa\", \"#EF553B\", \"#00cc96\", \"#ab63fa\", \"#FFA15A\", \"#19d3f3\", \"#FF6692\", \"#B6E880\", \"#FF97FF\", \"#FECB52\"], \"font\": {\"color\": \"#2a3f5f\"}, \"geo\": {\"bgcolor\": \"white\", \"lakecolor\": \"white\", \"landcolor\": \"#E5ECF6\", \"showlakes\": true, \"showland\": true, \"subunitcolor\": \"white\"}, \"hoverlabel\": {\"align\": \"left\"}, \"hovermode\": \"closest\", \"mapbox\": {\"style\": \"light\"}, \"paper_bgcolor\": \"white\", \"plot_bgcolor\": \"#E5ECF6\", \"polar\": {\"angularaxis\": {\"gridcolor\": \"white\", \"linecolor\": \"white\", \"ticks\": \"\"}, \"bgcolor\": \"#E5ECF6\", \"radialaxis\": {\"gridcolor\": \"white\", \"linecolor\": \"white\", \"ticks\": \"\"}}, \"scene\": {\"xaxis\": {\"backgroundcolor\": \"#E5ECF6\", \"gridcolor\": \"white\", \"gridwidth\": 2, \"linecolor\": \"white\", \"showbackground\": true, \"ticks\": \"\", \"zerolinecolor\": \"white\"}, \"yaxis\": {\"backgroundcolor\": \"#E5ECF6\", \"gridcolor\": \"white\", \"gridwidth\": 2, \"linecolor\": \"white\", \"showbackground\": true, \"ticks\": \"\", \"zerolinecolor\": \"white\"}, \"zaxis\": {\"backgroundcolor\": \"#E5ECF6\", \"gridcolor\": \"white\", \"gridwidth\": 2, \"linecolor\": \"white\", \"showbackground\": true, \"ticks\": \"\", \"zerolinecolor\": \"white\"}}, \"shapedefaults\": {\"line\": {\"color\": \"#2a3f5f\"}}, \"ternary\": {\"aaxis\": {\"gridcolor\": \"white\", \"linecolor\": \"white\", \"ticks\": \"\"}, \"baxis\": {\"gridcolor\": \"white\", \"linecolor\": \"white\", \"ticks\": \"\"}, \"bgcolor\": \"#E5ECF6\", \"caxis\": {\"gridcolor\": \"white\", \"linecolor\": \"white\", \"ticks\": \"\"}}, \"title\": {\"x\": 0.05}, \"xaxis\": {\"automargin\": true, \"gridcolor\": \"white\", \"linecolor\": \"white\", \"ticks\": \"\", \"title\": {\"standoff\": 15}, \"zerolinecolor\": \"white\", \"zerolinewidth\": 2}, \"yaxis\": {\"automargin\": true, \"gridcolor\": \"white\", \"linecolor\": \"white\", \"ticks\": \"\", \"title\": {\"standoff\": 15}, \"zerolinecolor\": \"white\", \"zerolinewidth\": 2}}}},\n",
              "                        {\"responsive\": true}\n",
              "                    ).then(function(){\n",
              "                            \n",
              "var gd = document.getElementById('399a8179-3090-45b9-807f-2c65d9a4a3ae');\n",
              "var x = new MutationObserver(function (mutations, observer) {{\n",
              "        var display = window.getComputedStyle(gd).display;\n",
              "        if (!display || display === 'none') {{\n",
              "            console.log([gd, 'removed!']);\n",
              "            Plotly.purge(gd);\n",
              "            observer.disconnect();\n",
              "        }}\n",
              "}});\n",
              "\n",
              "// Listen for the removal of the full notebook cells\n",
              "var notebookContainer = gd.closest('#notebook-container');\n",
              "if (notebookContainer) {{\n",
              "    x.observe(notebookContainer, {childList: true});\n",
              "}}\n",
              "\n",
              "// Listen for the clearing of the current output cell\n",
              "var outputEl = gd.closest('.output');\n",
              "if (outputEl) {{\n",
              "    x.observe(outputEl, {childList: true});\n",
              "}}\n",
              "\n",
              "                        })\n",
              "                };\n",
              "                \n",
              "            </script>\n",
              "        </div>\n",
              "</body>\n",
              "</html>"
            ]
          },
          "metadata": {
            "tags": []
          }
        }
      ]
    },
    {
      "cell_type": "markdown",
      "metadata": {
        "id": "WsTCHz6T1Zdv"
      },
      "source": [
        "주간 TOP 100 시각화"
      ]
    },
    {
      "cell_type": "code",
      "metadata": {
        "colab": {
          "base_uri": "https://localhost:8080/"
        },
        "id": "NKxxKuKo1XGW",
        "outputId": "85118d33-f29f-4a8d-f6d3-2dfc2e6b8ba7"
      },
      "source": [
        "df = pd.read_csv('/content/movie_my_data_63_W.csv',encoding='euc-kr')\n",
        "df.info()"
      ],
      "execution_count": 19,
      "outputs": [
        {
          "output_type": "stream",
          "text": [
            "<class 'pandas.core.frame.DataFrame'>\n",
            "RangeIndex: 63 entries, 0 to 62\n",
            "Data columns (total 5 columns):\n",
            " #   Column      Non-Null Count  Dtype \n",
            "---  ------      --------------  ----- \n",
            " 0   Unnamed: 0  63 non-null     int64 \n",
            " 1   제목          63 non-null     object\n",
            " 2   평점          63 non-null     int64 \n",
            " 3   장르          63 non-null     object\n",
            " 4   줄거리         63 non-null     object\n",
            "dtypes: int64(2), object(3)\n",
            "memory usage: 2.6+ KB\n"
          ],
          "name": "stdout"
        }
      ]
    },
    {
      "cell_type": "code",
      "metadata": {
        "colab": {
          "base_uri": "https://localhost:8080/",
          "height": 304
        },
        "id": "7uxo0Ejv1nB-",
        "outputId": "1f1c5b8c-5827-49f1-e564-a21f976e605d"
      },
      "source": [
        "df_score = df[df.평점 == 8.0]\n",
        "df_score.tail()"
      ],
      "execution_count": 20,
      "outputs": [
        {
          "output_type": "execute_result",
          "data": {
            "text/html": [
              "<div>\n",
              "<style scoped>\n",
              "    .dataframe tbody tr th:only-of-type {\n",
              "        vertical-align: middle;\n",
              "    }\n",
              "\n",
              "    .dataframe tbody tr th {\n",
              "        vertical-align: top;\n",
              "    }\n",
              "\n",
              "    .dataframe thead th {\n",
              "        text-align: right;\n",
              "    }\n",
              "</style>\n",
              "<table border=\"1\" class=\"dataframe\">\n",
              "  <thead>\n",
              "    <tr style=\"text-align: right;\">\n",
              "      <th></th>\n",
              "      <th>Unnamed: 0</th>\n",
              "      <th>제목</th>\n",
              "      <th>평점</th>\n",
              "      <th>장르</th>\n",
              "      <th>줄거리</th>\n",
              "    </tr>\n",
              "  </thead>\n",
              "  <tbody>\n",
              "    <tr>\n",
              "      <th>43</th>\n",
              "      <td>56</td>\n",
              "      <td>레디 플레이어 원</td>\n",
              "      <td>8</td>\n",
              "      <td>액션</td>\n",
              "      <td>2045년, 암울한 현실과 달리 가상현실 오아시스(OASIS)에서는 누구든 원하는 ...</td>\n",
              "    </tr>\n",
              "    <tr>\n",
              "      <th>44</th>\n",
              "      <td>57</td>\n",
              "      <td>바람의 검심 : 교토 대화재편</td>\n",
              "      <td>8</td>\n",
              "      <td>액션</td>\n",
              "      <td>세상을 뒤흔들 반란을 계획하고 있는 절대악 시시오와 그의 부하 십본도를 저지하기 위...</td>\n",
              "    </tr>\n",
              "    <tr>\n",
              "      <th>46</th>\n",
              "      <td>59</td>\n",
              "      <td>겨울왕국 2</td>\n",
              "      <td>8</td>\n",
              "      <td>액션</td>\n",
              "      <td>어느 날 부턴가 의문의 목소리가 엘사를 부르고, 평화로운 아렌델 왕국을 위협한다.트...</td>\n",
              "    </tr>\n",
              "    <tr>\n",
              "      <th>54</th>\n",
              "      <td>68</td>\n",
              "      <td>시카고</td>\n",
              "      <td>8</td>\n",
              "      <td>액션</td>\n",
              "      <td>화려한 무대 위 스타가 되길 꿈꾸는 ‘록시’는 우발적인 살인으로 교도소에 수감된다....</td>\n",
              "    </tr>\n",
              "    <tr>\n",
              "      <th>56</th>\n",
              "      <td>70</td>\n",
              "      <td>리틀 포레스트</td>\n",
              "      <td>8</td>\n",
              "      <td>드라마</td>\n",
              "      <td>시험, 연애, 취업… 뭐하나 뜻대로 되지 않는 일상을 잠시 멈추고고향으로 돌아온 혜...</td>\n",
              "    </tr>\n",
              "  </tbody>\n",
              "</table>\n",
              "</div>"
            ],
            "text/plain": [
              "    Unnamed: 0  ...                                                줄거리\n",
              "43          56  ...  2045년, 암울한 현실과 달리 가상현실 오아시스(OASIS)에서는 누구든 원하는 ...\n",
              "44          57  ...  세상을 뒤흔들 반란을 계획하고 있는 절대악 시시오와 그의 부하 십본도를 저지하기 위...\n",
              "46          59  ...  어느 날 부턴가 의문의 목소리가 엘사를 부르고, 평화로운 아렌델 왕국을 위협한다.트...\n",
              "54          68  ...  화려한 무대 위 스타가 되길 꿈꾸는 ‘록시’는 우발적인 살인으로 교도소에 수감된다....\n",
              "56          70  ...  시험, 연애, 취업… 뭐하나 뜻대로 되지 않는 일상을 잠시 멈추고고향으로 돌아온 혜...\n",
              "\n",
              "[5 rows x 5 columns]"
            ]
          },
          "metadata": {
            "tags": []
          },
          "execution_count": 20
        }
      ]
    },
    {
      "cell_type": "code",
      "metadata": {
        "colab": {
          "base_uri": "https://localhost:8080/",
          "height": 542
        },
        "id": "Es8oOt6210gz",
        "outputId": "309247ca-b0ed-4acf-d90b-be42e3b9a42e"
      },
      "source": [
        "fig = px.pie(df_score, values='평점', names='장르')\n",
        "fig.show()"
      ],
      "execution_count": 21,
      "outputs": [
        {
          "output_type": "display_data",
          "data": {
            "text/html": [
              "<html>\n",
              "<head><meta charset=\"utf-8\" /></head>\n",
              "<body>\n",
              "    <div>\n",
              "            <script src=\"https://cdnjs.cloudflare.com/ajax/libs/mathjax/2.7.5/MathJax.js?config=TeX-AMS-MML_SVG\"></script><script type=\"text/javascript\">if (window.MathJax) {MathJax.Hub.Config({SVG: {font: \"STIX-Web\"}});}</script>\n",
              "                <script type=\"text/javascript\">window.PlotlyConfig = {MathJaxConfig: 'local'};</script>\n",
              "        <script src=\"https://cdn.plot.ly/plotly-latest.min.js\"></script>    \n",
              "            <div id=\"fb6de359-d0e9-4d80-a44a-abca918594ea\" class=\"plotly-graph-div\" style=\"height:525px; width:100%;\"></div>\n",
              "            <script type=\"text/javascript\">\n",
              "                \n",
              "                    window.PLOTLYENV=window.PLOTLYENV || {};\n",
              "                    \n",
              "                if (document.getElementById(\"fb6de359-d0e9-4d80-a44a-abca918594ea\")) {\n",
              "                    Plotly.newPlot(\n",
              "                        'fb6de359-d0e9-4d80-a44a-abca918594ea',\n",
              "                        [{\"domain\": {\"x\": [0.0, 1.0], \"y\": [0.0, 1.0]}, \"hoverlabel\": {\"namelength\": 0}, \"hovertemplate\": \"\\uc7a5\\ub974=%{label}<br>\\ud3c9\\uc810=%{value}\", \"labels\": [\"\\uc561\\uc158\", \"\\uacf5\\ud3ec/\\uc2a4\\ub9b4\\ub7ec\", \"\\uc561\\uc158\", \"\\ub4dc\\ub77c\\ub9c8\", \"\\ub4dc\\ub77c\\ub9c8\", \"\\ub4dc\\ub77c\\ub9c8\", \"\\uc561\\uc158\", \"\\uc561\\uc158\", \"\\uc561\\uc158\", \"\\ucf54\\ubbf8\\ub514\", \"\\uba5c\\ub85c\", \"\\ub4dc\\ub77c\\ub9c8\", \"\\ub4dc\\ub77c\\ub9c8\", \"\\uc561\\uc158\", \"\\uc561\\uc158\", \"\\uc561\\uc158\", \"\\uc561\\uc158\", \"\\ub4dc\\ub77c\\ub9c8\"], \"legendgroup\": \"\", \"name\": \"\", \"showlegend\": true, \"type\": \"pie\", \"values\": [8, 8, 8, 8, 8, 8, 8, 8, 8, 8, 8, 8, 8, 8, 8, 8, 8, 8]}],\n",
              "                        {\"legend\": {\"tracegroupgap\": 0}, \"margin\": {\"t\": 60}, \"template\": {\"data\": {\"bar\": [{\"error_x\": {\"color\": \"#2a3f5f\"}, \"error_y\": {\"color\": \"#2a3f5f\"}, \"marker\": {\"line\": {\"color\": \"#E5ECF6\", \"width\": 0.5}}, \"type\": \"bar\"}], \"barpolar\": [{\"marker\": {\"line\": {\"color\": \"#E5ECF6\", \"width\": 0.5}}, \"type\": \"barpolar\"}], \"carpet\": [{\"aaxis\": {\"endlinecolor\": \"#2a3f5f\", \"gridcolor\": \"white\", \"linecolor\": \"white\", \"minorgridcolor\": \"white\", \"startlinecolor\": \"#2a3f5f\"}, \"baxis\": {\"endlinecolor\": \"#2a3f5f\", \"gridcolor\": \"white\", \"linecolor\": \"white\", \"minorgridcolor\": \"white\", \"startlinecolor\": \"#2a3f5f\"}, \"type\": \"carpet\"}], \"choropleth\": [{\"colorbar\": {\"outlinewidth\": 0, \"ticks\": \"\"}, \"type\": \"choropleth\"}], \"contour\": [{\"colorbar\": {\"outlinewidth\": 0, \"ticks\": \"\"}, \"colorscale\": [[0.0, \"#0d0887\"], [0.1111111111111111, \"#46039f\"], [0.2222222222222222, \"#7201a8\"], [0.3333333333333333, \"#9c179e\"], [0.4444444444444444, \"#bd3786\"], [0.5555555555555556, \"#d8576b\"], [0.6666666666666666, \"#ed7953\"], [0.7777777777777778, \"#fb9f3a\"], [0.8888888888888888, \"#fdca26\"], [1.0, \"#f0f921\"]], \"type\": \"contour\"}], \"contourcarpet\": [{\"colorbar\": {\"outlinewidth\": 0, \"ticks\": \"\"}, \"type\": \"contourcarpet\"}], \"heatmap\": [{\"colorbar\": {\"outlinewidth\": 0, \"ticks\": \"\"}, \"colorscale\": [[0.0, \"#0d0887\"], [0.1111111111111111, \"#46039f\"], [0.2222222222222222, \"#7201a8\"], [0.3333333333333333, \"#9c179e\"], [0.4444444444444444, \"#bd3786\"], [0.5555555555555556, \"#d8576b\"], [0.6666666666666666, \"#ed7953\"], [0.7777777777777778, \"#fb9f3a\"], [0.8888888888888888, \"#fdca26\"], [1.0, \"#f0f921\"]], \"type\": \"heatmap\"}], \"heatmapgl\": [{\"colorbar\": {\"outlinewidth\": 0, \"ticks\": \"\"}, \"colorscale\": [[0.0, \"#0d0887\"], [0.1111111111111111, \"#46039f\"], [0.2222222222222222, \"#7201a8\"], [0.3333333333333333, \"#9c179e\"], [0.4444444444444444, \"#bd3786\"], [0.5555555555555556, \"#d8576b\"], [0.6666666666666666, \"#ed7953\"], [0.7777777777777778, \"#fb9f3a\"], [0.8888888888888888, \"#fdca26\"], [1.0, \"#f0f921\"]], \"type\": \"heatmapgl\"}], \"histogram\": [{\"marker\": {\"colorbar\": {\"outlinewidth\": 0, \"ticks\": \"\"}}, \"type\": \"histogram\"}], \"histogram2d\": [{\"colorbar\": {\"outlinewidth\": 0, \"ticks\": \"\"}, \"colorscale\": [[0.0, \"#0d0887\"], [0.1111111111111111, \"#46039f\"], [0.2222222222222222, \"#7201a8\"], [0.3333333333333333, \"#9c179e\"], [0.4444444444444444, \"#bd3786\"], [0.5555555555555556, \"#d8576b\"], [0.6666666666666666, \"#ed7953\"], [0.7777777777777778, \"#fb9f3a\"], [0.8888888888888888, \"#fdca26\"], [1.0, \"#f0f921\"]], \"type\": \"histogram2d\"}], \"histogram2dcontour\": [{\"colorbar\": {\"outlinewidth\": 0, \"ticks\": \"\"}, \"colorscale\": [[0.0, \"#0d0887\"], [0.1111111111111111, \"#46039f\"], [0.2222222222222222, \"#7201a8\"], [0.3333333333333333, \"#9c179e\"], [0.4444444444444444, \"#bd3786\"], [0.5555555555555556, \"#d8576b\"], [0.6666666666666666, \"#ed7953\"], [0.7777777777777778, \"#fb9f3a\"], [0.8888888888888888, \"#fdca26\"], [1.0, \"#f0f921\"]], \"type\": \"histogram2dcontour\"}], \"mesh3d\": [{\"colorbar\": {\"outlinewidth\": 0, \"ticks\": \"\"}, \"type\": \"mesh3d\"}], \"parcoords\": [{\"line\": {\"colorbar\": {\"outlinewidth\": 0, \"ticks\": \"\"}}, \"type\": \"parcoords\"}], \"pie\": [{\"automargin\": true, \"type\": \"pie\"}], \"scatter\": [{\"marker\": {\"colorbar\": {\"outlinewidth\": 0, \"ticks\": \"\"}}, \"type\": \"scatter\"}], \"scatter3d\": [{\"line\": {\"colorbar\": {\"outlinewidth\": 0, \"ticks\": \"\"}}, \"marker\": {\"colorbar\": {\"outlinewidth\": 0, \"ticks\": \"\"}}, \"type\": \"scatter3d\"}], \"scattercarpet\": [{\"marker\": {\"colorbar\": {\"outlinewidth\": 0, \"ticks\": \"\"}}, \"type\": \"scattercarpet\"}], \"scattergeo\": [{\"marker\": {\"colorbar\": {\"outlinewidth\": 0, \"ticks\": \"\"}}, \"type\": \"scattergeo\"}], \"scattergl\": [{\"marker\": {\"colorbar\": {\"outlinewidth\": 0, \"ticks\": \"\"}}, \"type\": \"scattergl\"}], \"scattermapbox\": [{\"marker\": {\"colorbar\": {\"outlinewidth\": 0, \"ticks\": \"\"}}, \"type\": \"scattermapbox\"}], \"scatterpolar\": [{\"marker\": {\"colorbar\": {\"outlinewidth\": 0, \"ticks\": \"\"}}, \"type\": \"scatterpolar\"}], \"scatterpolargl\": [{\"marker\": {\"colorbar\": {\"outlinewidth\": 0, \"ticks\": \"\"}}, \"type\": \"scatterpolargl\"}], \"scatterternary\": [{\"marker\": {\"colorbar\": {\"outlinewidth\": 0, \"ticks\": \"\"}}, \"type\": \"scatterternary\"}], \"surface\": [{\"colorbar\": {\"outlinewidth\": 0, \"ticks\": \"\"}, \"colorscale\": [[0.0, \"#0d0887\"], [0.1111111111111111, \"#46039f\"], [0.2222222222222222, \"#7201a8\"], [0.3333333333333333, \"#9c179e\"], [0.4444444444444444, \"#bd3786\"], [0.5555555555555556, \"#d8576b\"], [0.6666666666666666, \"#ed7953\"], [0.7777777777777778, \"#fb9f3a\"], [0.8888888888888888, \"#fdca26\"], [1.0, \"#f0f921\"]], \"type\": \"surface\"}], \"table\": [{\"cells\": {\"fill\": {\"color\": \"#EBF0F8\"}, \"line\": {\"color\": \"white\"}}, \"header\": {\"fill\": {\"color\": \"#C8D4E3\"}, \"line\": {\"color\": \"white\"}}, \"type\": \"table\"}]}, \"layout\": {\"annotationdefaults\": {\"arrowcolor\": \"#2a3f5f\", \"arrowhead\": 0, \"arrowwidth\": 1}, \"coloraxis\": {\"colorbar\": {\"outlinewidth\": 0, \"ticks\": \"\"}}, \"colorscale\": {\"diverging\": [[0, \"#8e0152\"], [0.1, \"#c51b7d\"], [0.2, \"#de77ae\"], [0.3, \"#f1b6da\"], [0.4, \"#fde0ef\"], [0.5, \"#f7f7f7\"], [0.6, \"#e6f5d0\"], [0.7, \"#b8e186\"], [0.8, \"#7fbc41\"], [0.9, \"#4d9221\"], [1, \"#276419\"]], \"sequential\": [[0.0, \"#0d0887\"], [0.1111111111111111, \"#46039f\"], [0.2222222222222222, \"#7201a8\"], [0.3333333333333333, \"#9c179e\"], [0.4444444444444444, \"#bd3786\"], [0.5555555555555556, \"#d8576b\"], [0.6666666666666666, \"#ed7953\"], [0.7777777777777778, \"#fb9f3a\"], [0.8888888888888888, \"#fdca26\"], [1.0, \"#f0f921\"]], \"sequentialminus\": [[0.0, \"#0d0887\"], [0.1111111111111111, \"#46039f\"], [0.2222222222222222, \"#7201a8\"], [0.3333333333333333, \"#9c179e\"], [0.4444444444444444, \"#bd3786\"], [0.5555555555555556, \"#d8576b\"], [0.6666666666666666, \"#ed7953\"], [0.7777777777777778, \"#fb9f3a\"], [0.8888888888888888, \"#fdca26\"], [1.0, \"#f0f921\"]]}, \"colorway\": [\"#636efa\", \"#EF553B\", \"#00cc96\", \"#ab63fa\", \"#FFA15A\", \"#19d3f3\", \"#FF6692\", \"#B6E880\", \"#FF97FF\", \"#FECB52\"], \"font\": {\"color\": \"#2a3f5f\"}, \"geo\": {\"bgcolor\": \"white\", \"lakecolor\": \"white\", \"landcolor\": \"#E5ECF6\", \"showlakes\": true, \"showland\": true, \"subunitcolor\": \"white\"}, \"hoverlabel\": {\"align\": \"left\"}, \"hovermode\": \"closest\", \"mapbox\": {\"style\": \"light\"}, \"paper_bgcolor\": \"white\", \"plot_bgcolor\": \"#E5ECF6\", \"polar\": {\"angularaxis\": {\"gridcolor\": \"white\", \"linecolor\": \"white\", \"ticks\": \"\"}, \"bgcolor\": \"#E5ECF6\", \"radialaxis\": {\"gridcolor\": \"white\", \"linecolor\": \"white\", \"ticks\": \"\"}}, \"scene\": {\"xaxis\": {\"backgroundcolor\": \"#E5ECF6\", \"gridcolor\": \"white\", \"gridwidth\": 2, \"linecolor\": \"white\", \"showbackground\": true, \"ticks\": \"\", \"zerolinecolor\": \"white\"}, \"yaxis\": {\"backgroundcolor\": \"#E5ECF6\", \"gridcolor\": \"white\", \"gridwidth\": 2, \"linecolor\": \"white\", \"showbackground\": true, \"ticks\": \"\", \"zerolinecolor\": \"white\"}, \"zaxis\": {\"backgroundcolor\": \"#E5ECF6\", \"gridcolor\": \"white\", \"gridwidth\": 2, \"linecolor\": \"white\", \"showbackground\": true, \"ticks\": \"\", \"zerolinecolor\": \"white\"}}, \"shapedefaults\": {\"line\": {\"color\": \"#2a3f5f\"}}, \"ternary\": {\"aaxis\": {\"gridcolor\": \"white\", \"linecolor\": \"white\", \"ticks\": \"\"}, \"baxis\": {\"gridcolor\": \"white\", \"linecolor\": \"white\", \"ticks\": \"\"}, \"bgcolor\": \"#E5ECF6\", \"caxis\": {\"gridcolor\": \"white\", \"linecolor\": \"white\", \"ticks\": \"\"}}, \"title\": {\"x\": 0.05}, \"xaxis\": {\"automargin\": true, \"gridcolor\": \"white\", \"linecolor\": \"white\", \"ticks\": \"\", \"title\": {\"standoff\": 15}, \"zerolinecolor\": \"white\", \"zerolinewidth\": 2}, \"yaxis\": {\"automargin\": true, \"gridcolor\": \"white\", \"linecolor\": \"white\", \"ticks\": \"\", \"title\": {\"standoff\": 15}, \"zerolinecolor\": \"white\", \"zerolinewidth\": 2}}}},\n",
              "                        {\"responsive\": true}\n",
              "                    ).then(function(){\n",
              "                            \n",
              "var gd = document.getElementById('fb6de359-d0e9-4d80-a44a-abca918594ea');\n",
              "var x = new MutationObserver(function (mutations, observer) {{\n",
              "        var display = window.getComputedStyle(gd).display;\n",
              "        if (!display || display === 'none') {{\n",
              "            console.log([gd, 'removed!']);\n",
              "            Plotly.purge(gd);\n",
              "            observer.disconnect();\n",
              "        }}\n",
              "}});\n",
              "\n",
              "// Listen for the removal of the full notebook cells\n",
              "var notebookContainer = gd.closest('#notebook-container');\n",
              "if (notebookContainer) {{\n",
              "    x.observe(notebookContainer, {childList: true});\n",
              "}}\n",
              "\n",
              "// Listen for the clearing of the current output cell\n",
              "var outputEl = gd.closest('.output');\n",
              "if (outputEl) {{\n",
              "    x.observe(outputEl, {childList: true});\n",
              "}}\n",
              "\n",
              "                        })\n",
              "                };\n",
              "                \n",
              "            </script>\n",
              "        </div>\n",
              "</body>\n",
              "</html>"
            ]
          },
          "metadata": {
            "tags": []
          }
        }
      ]
    },
    {
      "cell_type": "code",
      "metadata": {
        "colab": {
          "base_uri": "https://localhost:8080/",
          "height": 542
        },
        "id": "RXfVJdZv2Gwo",
        "outputId": "c815b016-e0c1-412c-f012-c6d484575643"
      },
      "source": [
        "fig = px.bar(df, x='제목', y='평점', color='장르')\n",
        "fig.show()"
      ],
      "execution_count": 22,
      "outputs": [
        {
          "output_type": "display_data",
          "data": {
            "text/html": [
              "<html>\n",
              "<head><meta charset=\"utf-8\" /></head>\n",
              "<body>\n",
              "    <div>\n",
              "            <script src=\"https://cdnjs.cloudflare.com/ajax/libs/mathjax/2.7.5/MathJax.js?config=TeX-AMS-MML_SVG\"></script><script type=\"text/javascript\">if (window.MathJax) {MathJax.Hub.Config({SVG: {font: \"STIX-Web\"}});}</script>\n",
              "                <script type=\"text/javascript\">window.PlotlyConfig = {MathJaxConfig: 'local'};</script>\n",
              "        <script src=\"https://cdn.plot.ly/plotly-latest.min.js\"></script>    \n",
              "            <div id=\"7493bee9-c2de-42ef-a6a4-d87152f88cd1\" class=\"plotly-graph-div\" style=\"height:525px; width:100%;\"></div>\n",
              "            <script type=\"text/javascript\">\n",
              "                \n",
              "                    window.PLOTLYENV=window.PLOTLYENV || {};\n",
              "                    \n",
              "                if (document.getElementById(\"7493bee9-c2de-42ef-a6a4-d87152f88cd1\")) {\n",
              "                    Plotly.newPlot(\n",
              "                        '7493bee9-c2de-42ef-a6a4-d87152f88cd1',\n",
              "                        [{\"alignmentgroup\": \"True\", \"hoverlabel\": {\"namelength\": 0}, \"hovertemplate\": \"\\uc7a5\\ub974=\\uc560\\ub2c8\\uba54\\uc774\\uc158<br>\\uc81c\\ubaa9=%{x}<br>\\ud3c9\\uc810=%{y}\", \"legendgroup\": \"\\uc7a5\\ub974=\\uc560\\ub2c8\\uba54\\uc774\\uc158\", \"marker\": {\"color\": \"#636efa\"}, \"name\": \"\\uc7a5\\ub974=\\uc560\\ub2c8\\uba54\\uc774\\uc158\", \"offsetgroup\": \"\\uc7a5\\ub974=\\uc560\\ub2c8\\uba54\\uc774\\uc158\", \"orientation\": \"v\", \"showlegend\": true, \"textposition\": \"auto\", \"type\": \"bar\", \"x\": [\"\\uadf9\\uc7a5\\ud310 \\uadc0\\uba78\\uc758 \\uce7c\\ub0a0: \\ubb34\\ud55c\\uc5f4\\ucc28\\ud3b8\", \"\\uc18c\\uc6b8\", \"\\ub77c\\uc57c\\uc640 \\ub9c8\\uc9c0\\ub9c9 \\ub4dc\\ub798\\uace4\", \"\\ud558\\uc6b8\\uc758 \\uc6c0\\uc9c1\\uc774\\ub294 \\uc131\", \"\\ub098\\uc758 \\ud788\\uc5b4\\ub85c \\uc544\\uce74\\ub370\\ubbf8\\uc544 \\ub354 \\ubb34\\ube44: \\ub450 \\uba85\\uc758 \\ud788\\uc5b4\\ub85c\"], \"xaxis\": \"x\", \"y\": [9, 9, 9, 9, 9], \"yaxis\": \"y\"}, {\"alignmentgroup\": \"True\", \"hoverlabel\": {\"namelength\": 0}, \"hovertemplate\": \"\\uc7a5\\ub974=\\uacf5\\ud3ec/\\uc2a4\\ub9b4\\ub7ec<br>\\uc81c\\ubaa9=%{x}<br>\\ud3c9\\uc810=%{y}\", \"legendgroup\": \"\\uc7a5\\ub974=\\uacf5\\ud3ec/\\uc2a4\\ub9b4\\ub7ec\", \"marker\": {\"color\": \"#EF553B\"}, \"name\": \"\\uc7a5\\ub974=\\uacf5\\ud3ec/\\uc2a4\\ub9b4\\ub7ec\", \"offsetgroup\": \"\\uc7a5\\ub974=\\uacf5\\ud3ec/\\uc2a4\\ub9b4\\ub7ec\", \"orientation\": \"v\", \"showlegend\": true, \"textposition\": \"auto\", \"type\": \"bar\", \"x\": [\"\\ucf70\\uc774\\uc5b4\\ud2b8 \\ud50c\\ub808\\uc774\\uc2a4\", \"\\ub354 \\uc2a4\\ud30c\\uc774\", \"\\uadf8\\uac83: \\ub450 \\ubc88\\uc9f8 \\uc774\\uc57c\\uae30\"], \"xaxis\": \"x\", \"y\": [7, 8, 6], \"yaxis\": \"y\"}, {\"alignmentgroup\": \"True\", \"hoverlabel\": {\"namelength\": 0}, \"hovertemplate\": \"\\uc7a5\\ub974=\\uc561\\uc158<br>\\uc81c\\ubaa9=%{x}<br>\\ud3c9\\uc810=%{y}\", \"legendgroup\": \"\\uc7a5\\ub974=\\uc561\\uc158\", \"marker\": {\"color\": \"#00cc96\"}, \"name\": \"\\uc7a5\\ub974=\\uc561\\uc158\", \"offsetgroup\": \"\\uc7a5\\ub974=\\uc561\\uc158\", \"orientation\": \"v\", \"showlegend\": true, \"textposition\": \"auto\", \"type\": \"bar\", \"x\": [\"\\ud0ac\\ub7ec\\uc758 \\ubcf4\\ub514\\uac00\\ub4dc\", \"\\ud30c\\uc774\\ud504\\ub77c\\uc778\", \"\\ud06c\\ub8e8\\uc988 \\ud328\\ubc00\\ub9ac: \\ub274 \\uc5d0\\uc774\\uc9c0\", \"\\uc5b4\\ubca4\\uc838\\uc2a4: \\uc5d4\\ub4dc\\uac8c\\uc784\", \"\\ub178\\ubc14\\ub514 \", \"\\ud14c\\ub137\", \"\\uace0\\uc9c8\\ub77c VS. \\ucf69\", \"\\uc54c\\ub77c\\ub518\", \"\\ud5dd\\uac70\\uac8c\\uc784 : \\ub354 \\ud30c\\uc774\\ub110\", \"\\uc5b4\\ubca4\\uc838\\uc2a4: \\uc778\\ud53c\\ub2c8\\ud2f0 \\uc6cc\", \"\\uc7ad \\uc2a4\\ub098\\uc774\\ub354\\uc758 \\uc800\\uc2a4\\ud2f0\\uc2a4 \\ub9ac\\uadf8\", \"\\ucf54\\ucf54\", \"\\ub3c4\\uad74\", \"\\ubd84\\ub178\\uc758 \\uc9c8\\uc8fc: \\ud649\\uc2a4&\\uc1fc\", \"\\ub2e4\\ub9cc \\uc545\\uc5d0\\uc11c \\uad6c\\ud558\\uc18c\\uc11c\", \"\\uc544\\uc77c\\ub77c\", \"\\ubd84\\ub178\\uc758 \\uc9c8\\uc8fc: \\ub354 \\uc138\\ube10\", \"\\ud5dd\\uac70\\uac8c\\uc784:\\ubaa8\\ud0b9\\uc81c\\uc774\", \"\\ud574\\ub9ac \\ud3ec\\ud130\\uc640 \\ub9c8\\ubc95\\uc0ac\\uc758 \\ub3cc\", \"\\ub808\\ub514 \\ud50c\\ub808\\uc774\\uc5b4 \\uc6d0\", \"\\ubc14\\ub78c\\uc758 \\uac80\\uc2ec : \\uad50\\ud1a0 \\ub300\\ud654\\uc7ac\\ud3b8\", \"\\uaca8\\uc6b8\\uc655\\uad6d 2\", \"\\ucea1\\ud2f4 \\ub9c8\\ube14\", \"\\ub0b4\\uac00 \\uc8fd\\uae30\\ub97c \\ubc14\\ub77c\\ub294 \\uc790\\ub4e4\", \"\\ubca0\\ub188\", \"\\ubaa8\\uc544\\ub098\", \"\\uc2dc\\uce74\\uace0\", \"\\ud0dc\\uadf9\\uae30 \\ud718\\ub0a0\\ub9ac\\uba70\", \"\\uc18c\\ub144\\uc2dc\\uc808\\uc758 \\ub108\", \"101\\ub9c8\\ub9ac\\uc758 \\ub2ec\\ub9c8\\uc2dc\\uc548 \\uac1c\"], \"xaxis\": \"x\", \"y\": [8, 6, 9, 9, 8, 8, 8, 9, 7, 8, 0, 9, 7, 7, 7, 9, 9, 7, 9, 8, 8, 8, 6, 7, 7, 9, 8, 9, 9, 9], \"yaxis\": \"y\"}, {\"alignmentgroup\": \"True\", \"hoverlabel\": {\"namelength\": 0}, \"hovertemplate\": \"\\uc7a5\\ub974=\\ub4dc\\ub77c\\ub9c8<br>\\uc81c\\ubaa9=%{x}<br>\\ud3c9\\uc810=%{y}\", \"legendgroup\": \"\\uc7a5\\ub974=\\ub4dc\\ub77c\\ub9c8\", \"marker\": {\"color\": \"#ab63fa\"}, \"name\": \"\\uc7a5\\ub974=\\ub4dc\\ub77c\\ub9c8\", \"offsetgroup\": \"\\uc7a5\\ub974=\\ub4dc\\ub77c\\ub9c8\", \"orientation\": \"v\", \"showlegend\": true, \"textposition\": \"auto\", \"type\": \"bar\", \"x\": [\"\\ubbf8\\ub098\\ub9ac\", \"\\uc790\\uc0b0\\uc5b4\\ubcf4\", \"\\ud06c\\ub8e8\\uc5d8\\ub77c\", \"\\ub77c\\ub77c\\ub79c\\ub4dc\", \"\\ub178\\ub9e4\\ub4dc\\ub79c\\ub4dc\", \"\\uc870\\ucee4\", \"\\ub178\\ud2b8\\ubd81\", \"\\uace1\\uc131(\\u54ed\\u8072)\", \"\\ub108\\uc758 \\uc774\\ub984\\uc740.\", \"\\uc2a4\\ud0c0 \\uc774\\uc988 \\ubcf8\", \"\\uc704\\ub300\\ud55c \\uc1fc\\ub9e8\", \"\\uc544\\ub378\\ub77c\\uc778 : \\uba48\\ucdb0\\uc9c4 \\uc2dc\\uac04\", \"\\uc560\\ud504\\ud130\", \"\\uadf8\\ub9b0 \\ubd81\", \"\\uc6d0\\ub354\", \"\\ub9ac\\ud2c0 \\ud3ec\\ub808\\uc2a4\\ud2b8\", \"1987\"], \"xaxis\": \"x\", \"y\": [7, 9, 9, 8, 8, 8, 9, 7, 8, 9, 9, 8, 7, 9, 9, 8, 9], \"yaxis\": \"y\"}, {\"alignmentgroup\": \"True\", \"hoverlabel\": {\"namelength\": 0}, \"hovertemplate\": \"\\uc7a5\\ub974=\\ub2e4\\ud050\\uba58\\ud130\\ub9ac<br>\\uc81c\\ubaa9=%{x}<br>\\ud3c9\\uc810=%{y}\", \"legendgroup\": \"\\uc7a5\\ub974=\\ub2e4\\ud050\\uba58\\ud130\\ub9ac\", \"marker\": {\"color\": \"#FFA15A\"}, \"name\": \"\\uc7a5\\ub974=\\ub2e4\\ud050\\uba58\\ud130\\ub9ac\", \"offsetgroup\": \"\\uc7a5\\ub974=\\ub2e4\\ud050\\uba58\\ud130\\ub9ac\", \"orientation\": \"v\", \"showlegend\": true, \"textposition\": \"auto\", \"type\": \"bar\", \"x\": [\"\\ubc25\\uc815\", \"\\uc6b8\\uc9c0\\ub9c8 \\ud1a4\\uc988\"], \"xaxis\": \"x\", \"y\": [9, 9], \"yaxis\": \"y\"}, {\"alignmentgroup\": \"True\", \"hoverlabel\": {\"namelength\": 0}, \"hovertemplate\": \"\\uc7a5\\ub974=\\ucf54\\ubbf8\\ub514<br>\\uc81c\\ubaa9=%{x}<br>\\ud3c9\\uc810=%{y}\", \"legendgroup\": \"\\uc7a5\\ub974=\\ucf54\\ubbf8\\ub514\", \"marker\": {\"color\": \"#19d3f3\"}, \"name\": \"\\uc7a5\\ub974=\\ucf54\\ubbf8\\ub514\", \"offsetgroup\": \"\\uc7a5\\ub974=\\ucf54\\ubbf8\\ub514\", \"orientation\": \"v\", \"showlegend\": true, \"textposition\": \"auto\", \"type\": \"bar\", \"x\": [\"500\\uc77c\\uc758 \\uc378\\uba38\", \"\\ub0b4 \\uc774\\uc57c\\uae30!!\", \"\\ube44\\uae34 \\uc5b4\\uac8c\\uc778\", \"\\uc774\\ud504 \\uc628\\ub9ac\", \"\\uc778\\uc0ac\\uc774\\ub4dc \\uc544\\uc6c3\"], \"xaxis\": \"x\", \"y\": [8, 9, 9, 9, 9], \"yaxis\": \"y\"}, {\"alignmentgroup\": \"True\", \"hoverlabel\": {\"namelength\": 0}, \"hovertemplate\": \"\\uc7a5\\ub974=\\uba5c\\ub85c<br>\\uc81c\\ubaa9=%{x}<br>\\ud3c9\\uc810=%{y}\", \"legendgroup\": \"\\uc7a5\\ub974=\\uba5c\\ub85c\", \"marker\": {\"color\": \"#FF6692\"}, \"name\": \"\\uc7a5\\ub974=\\uba5c\\ub85c\", \"offsetgroup\": \"\\uc7a5\\ub974=\\uba5c\\ub85c\", \"orientation\": \"v\", \"showlegend\": true, \"textposition\": \"auto\", \"type\": \"bar\", \"x\": [\"\\uc560\\ud504\\ud130: \\uadf8 \\ud6c4\"], \"xaxis\": \"x\", \"y\": [8], \"yaxis\": \"y\"}],\n",
              "                        {\"barmode\": \"relative\", \"legend\": {\"tracegroupgap\": 0}, \"margin\": {\"t\": 60}, \"template\": {\"data\": {\"bar\": [{\"error_x\": {\"color\": \"#2a3f5f\"}, \"error_y\": {\"color\": \"#2a3f5f\"}, \"marker\": {\"line\": {\"color\": \"#E5ECF6\", \"width\": 0.5}}, \"type\": \"bar\"}], \"barpolar\": [{\"marker\": {\"line\": {\"color\": \"#E5ECF6\", \"width\": 0.5}}, \"type\": \"barpolar\"}], \"carpet\": [{\"aaxis\": {\"endlinecolor\": \"#2a3f5f\", \"gridcolor\": \"white\", \"linecolor\": \"white\", \"minorgridcolor\": \"white\", \"startlinecolor\": \"#2a3f5f\"}, \"baxis\": {\"endlinecolor\": \"#2a3f5f\", \"gridcolor\": \"white\", \"linecolor\": \"white\", \"minorgridcolor\": \"white\", \"startlinecolor\": \"#2a3f5f\"}, \"type\": \"carpet\"}], \"choropleth\": [{\"colorbar\": {\"outlinewidth\": 0, \"ticks\": \"\"}, \"type\": \"choropleth\"}], \"contour\": [{\"colorbar\": {\"outlinewidth\": 0, \"ticks\": \"\"}, \"colorscale\": [[0.0, \"#0d0887\"], [0.1111111111111111, \"#46039f\"], [0.2222222222222222, \"#7201a8\"], [0.3333333333333333, \"#9c179e\"], [0.4444444444444444, \"#bd3786\"], [0.5555555555555556, \"#d8576b\"], [0.6666666666666666, \"#ed7953\"], [0.7777777777777778, \"#fb9f3a\"], [0.8888888888888888, \"#fdca26\"], [1.0, \"#f0f921\"]], \"type\": \"contour\"}], \"contourcarpet\": [{\"colorbar\": {\"outlinewidth\": 0, \"ticks\": \"\"}, \"type\": \"contourcarpet\"}], \"heatmap\": [{\"colorbar\": {\"outlinewidth\": 0, \"ticks\": \"\"}, \"colorscale\": [[0.0, \"#0d0887\"], [0.1111111111111111, \"#46039f\"], [0.2222222222222222, \"#7201a8\"], [0.3333333333333333, \"#9c179e\"], [0.4444444444444444, \"#bd3786\"], [0.5555555555555556, \"#d8576b\"], [0.6666666666666666, \"#ed7953\"], [0.7777777777777778, \"#fb9f3a\"], [0.8888888888888888, \"#fdca26\"], [1.0, \"#f0f921\"]], \"type\": \"heatmap\"}], \"heatmapgl\": [{\"colorbar\": {\"outlinewidth\": 0, \"ticks\": \"\"}, \"colorscale\": [[0.0, \"#0d0887\"], [0.1111111111111111, \"#46039f\"], [0.2222222222222222, \"#7201a8\"], [0.3333333333333333, \"#9c179e\"], [0.4444444444444444, \"#bd3786\"], [0.5555555555555556, \"#d8576b\"], [0.6666666666666666, \"#ed7953\"], [0.7777777777777778, \"#fb9f3a\"], [0.8888888888888888, \"#fdca26\"], [1.0, \"#f0f921\"]], \"type\": \"heatmapgl\"}], \"histogram\": [{\"marker\": {\"colorbar\": {\"outlinewidth\": 0, \"ticks\": \"\"}}, \"type\": \"histogram\"}], \"histogram2d\": [{\"colorbar\": {\"outlinewidth\": 0, \"ticks\": \"\"}, \"colorscale\": [[0.0, \"#0d0887\"], [0.1111111111111111, \"#46039f\"], [0.2222222222222222, \"#7201a8\"], [0.3333333333333333, \"#9c179e\"], [0.4444444444444444, \"#bd3786\"], [0.5555555555555556, \"#d8576b\"], [0.6666666666666666, \"#ed7953\"], [0.7777777777777778, \"#fb9f3a\"], [0.8888888888888888, \"#fdca26\"], [1.0, \"#f0f921\"]], \"type\": \"histogram2d\"}], \"histogram2dcontour\": [{\"colorbar\": {\"outlinewidth\": 0, \"ticks\": \"\"}, \"colorscale\": [[0.0, \"#0d0887\"], [0.1111111111111111, \"#46039f\"], [0.2222222222222222, \"#7201a8\"], [0.3333333333333333, \"#9c179e\"], [0.4444444444444444, \"#bd3786\"], [0.5555555555555556, \"#d8576b\"], [0.6666666666666666, \"#ed7953\"], [0.7777777777777778, \"#fb9f3a\"], [0.8888888888888888, \"#fdca26\"], [1.0, \"#f0f921\"]], \"type\": \"histogram2dcontour\"}], \"mesh3d\": [{\"colorbar\": {\"outlinewidth\": 0, \"ticks\": \"\"}, \"type\": \"mesh3d\"}], \"parcoords\": [{\"line\": {\"colorbar\": {\"outlinewidth\": 0, \"ticks\": \"\"}}, \"type\": \"parcoords\"}], \"pie\": [{\"automargin\": true, \"type\": \"pie\"}], \"scatter\": [{\"marker\": {\"colorbar\": {\"outlinewidth\": 0, \"ticks\": \"\"}}, \"type\": \"scatter\"}], \"scatter3d\": [{\"line\": {\"colorbar\": {\"outlinewidth\": 0, \"ticks\": \"\"}}, \"marker\": {\"colorbar\": {\"outlinewidth\": 0, \"ticks\": \"\"}}, \"type\": \"scatter3d\"}], \"scattercarpet\": [{\"marker\": {\"colorbar\": {\"outlinewidth\": 0, \"ticks\": \"\"}}, \"type\": \"scattercarpet\"}], \"scattergeo\": [{\"marker\": {\"colorbar\": {\"outlinewidth\": 0, \"ticks\": \"\"}}, \"type\": \"scattergeo\"}], \"scattergl\": [{\"marker\": {\"colorbar\": {\"outlinewidth\": 0, \"ticks\": \"\"}}, \"type\": \"scattergl\"}], \"scattermapbox\": [{\"marker\": {\"colorbar\": {\"outlinewidth\": 0, \"ticks\": \"\"}}, \"type\": \"scattermapbox\"}], \"scatterpolar\": [{\"marker\": {\"colorbar\": {\"outlinewidth\": 0, \"ticks\": \"\"}}, \"type\": \"scatterpolar\"}], \"scatterpolargl\": [{\"marker\": {\"colorbar\": {\"outlinewidth\": 0, \"ticks\": \"\"}}, \"type\": \"scatterpolargl\"}], \"scatterternary\": [{\"marker\": {\"colorbar\": {\"outlinewidth\": 0, \"ticks\": \"\"}}, \"type\": \"scatterternary\"}], \"surface\": [{\"colorbar\": {\"outlinewidth\": 0, \"ticks\": \"\"}, \"colorscale\": [[0.0, \"#0d0887\"], [0.1111111111111111, \"#46039f\"], [0.2222222222222222, \"#7201a8\"], [0.3333333333333333, \"#9c179e\"], [0.4444444444444444, \"#bd3786\"], [0.5555555555555556, \"#d8576b\"], [0.6666666666666666, \"#ed7953\"], [0.7777777777777778, \"#fb9f3a\"], [0.8888888888888888, \"#fdca26\"], [1.0, \"#f0f921\"]], \"type\": \"surface\"}], \"table\": [{\"cells\": {\"fill\": {\"color\": \"#EBF0F8\"}, \"line\": {\"color\": \"white\"}}, \"header\": {\"fill\": {\"color\": \"#C8D4E3\"}, \"line\": {\"color\": \"white\"}}, \"type\": \"table\"}]}, \"layout\": {\"annotationdefaults\": {\"arrowcolor\": \"#2a3f5f\", \"arrowhead\": 0, \"arrowwidth\": 1}, \"coloraxis\": {\"colorbar\": {\"outlinewidth\": 0, \"ticks\": \"\"}}, \"colorscale\": {\"diverging\": [[0, \"#8e0152\"], [0.1, \"#c51b7d\"], [0.2, \"#de77ae\"], [0.3, \"#f1b6da\"], [0.4, \"#fde0ef\"], [0.5, \"#f7f7f7\"], [0.6, \"#e6f5d0\"], [0.7, \"#b8e186\"], [0.8, \"#7fbc41\"], [0.9, \"#4d9221\"], [1, \"#276419\"]], \"sequential\": [[0.0, \"#0d0887\"], [0.1111111111111111, \"#46039f\"], [0.2222222222222222, \"#7201a8\"], [0.3333333333333333, \"#9c179e\"], [0.4444444444444444, \"#bd3786\"], [0.5555555555555556, \"#d8576b\"], [0.6666666666666666, \"#ed7953\"], [0.7777777777777778, \"#fb9f3a\"], [0.8888888888888888, \"#fdca26\"], [1.0, \"#f0f921\"]], \"sequentialminus\": [[0.0, \"#0d0887\"], [0.1111111111111111, \"#46039f\"], [0.2222222222222222, \"#7201a8\"], [0.3333333333333333, \"#9c179e\"], [0.4444444444444444, \"#bd3786\"], [0.5555555555555556, \"#d8576b\"], [0.6666666666666666, \"#ed7953\"], [0.7777777777777778, \"#fb9f3a\"], [0.8888888888888888, \"#fdca26\"], [1.0, \"#f0f921\"]]}, \"colorway\": [\"#636efa\", \"#EF553B\", \"#00cc96\", \"#ab63fa\", \"#FFA15A\", \"#19d3f3\", \"#FF6692\", \"#B6E880\", \"#FF97FF\", \"#FECB52\"], \"font\": {\"color\": \"#2a3f5f\"}, \"geo\": {\"bgcolor\": \"white\", \"lakecolor\": \"white\", \"landcolor\": \"#E5ECF6\", \"showlakes\": true, \"showland\": true, \"subunitcolor\": \"white\"}, \"hoverlabel\": {\"align\": \"left\"}, \"hovermode\": \"closest\", \"mapbox\": {\"style\": \"light\"}, \"paper_bgcolor\": \"white\", \"plot_bgcolor\": \"#E5ECF6\", \"polar\": {\"angularaxis\": {\"gridcolor\": \"white\", \"linecolor\": \"white\", \"ticks\": \"\"}, \"bgcolor\": \"#E5ECF6\", \"radialaxis\": {\"gridcolor\": \"white\", \"linecolor\": \"white\", \"ticks\": \"\"}}, \"scene\": {\"xaxis\": {\"backgroundcolor\": \"#E5ECF6\", \"gridcolor\": \"white\", \"gridwidth\": 2, \"linecolor\": \"white\", \"showbackground\": true, \"ticks\": \"\", \"zerolinecolor\": \"white\"}, \"yaxis\": {\"backgroundcolor\": \"#E5ECF6\", \"gridcolor\": \"white\", \"gridwidth\": 2, \"linecolor\": \"white\", \"showbackground\": true, \"ticks\": \"\", \"zerolinecolor\": \"white\"}, \"zaxis\": {\"backgroundcolor\": \"#E5ECF6\", \"gridcolor\": \"white\", \"gridwidth\": 2, \"linecolor\": \"white\", \"showbackground\": true, \"ticks\": \"\", \"zerolinecolor\": \"white\"}}, \"shapedefaults\": {\"line\": {\"color\": \"#2a3f5f\"}}, \"ternary\": {\"aaxis\": {\"gridcolor\": \"white\", \"linecolor\": \"white\", \"ticks\": \"\"}, \"baxis\": {\"gridcolor\": \"white\", \"linecolor\": \"white\", \"ticks\": \"\"}, \"bgcolor\": \"#E5ECF6\", \"caxis\": {\"gridcolor\": \"white\", \"linecolor\": \"white\", \"ticks\": \"\"}}, \"title\": {\"x\": 0.05}, \"xaxis\": {\"automargin\": true, \"gridcolor\": \"white\", \"linecolor\": \"white\", \"ticks\": \"\", \"title\": {\"standoff\": 15}, \"zerolinecolor\": \"white\", \"zerolinewidth\": 2}, \"yaxis\": {\"automargin\": true, \"gridcolor\": \"white\", \"linecolor\": \"white\", \"ticks\": \"\", \"title\": {\"standoff\": 15}, \"zerolinecolor\": \"white\", \"zerolinewidth\": 2}}}, \"xaxis\": {\"anchor\": \"y\", \"domain\": [0.0, 1.0], \"title\": {\"text\": \"\\uc81c\\ubaa9\"}}, \"yaxis\": {\"anchor\": \"x\", \"domain\": [0.0, 1.0], \"title\": {\"text\": \"\\ud3c9\\uc810\"}}},\n",
              "                        {\"responsive\": true}\n",
              "                    ).then(function(){\n",
              "                            \n",
              "var gd = document.getElementById('7493bee9-c2de-42ef-a6a4-d87152f88cd1');\n",
              "var x = new MutationObserver(function (mutations, observer) {{\n",
              "        var display = window.getComputedStyle(gd).display;\n",
              "        if (!display || display === 'none') {{\n",
              "            console.log([gd, 'removed!']);\n",
              "            Plotly.purge(gd);\n",
              "            observer.disconnect();\n",
              "        }}\n",
              "}});\n",
              "\n",
              "// Listen for the removal of the full notebook cells\n",
              "var notebookContainer = gd.closest('#notebook-container');\n",
              "if (notebookContainer) {{\n",
              "    x.observe(notebookContainer, {childList: true});\n",
              "}}\n",
              "\n",
              "// Listen for the clearing of the current output cell\n",
              "var outputEl = gd.closest('.output');\n",
              "if (outputEl) {{\n",
              "    x.observe(outputEl, {childList: true});\n",
              "}}\n",
              "\n",
              "                        })\n",
              "                };\n",
              "                \n",
              "            </script>\n",
              "        </div>\n",
              "</body>\n",
              "</html>"
            ]
          },
          "metadata": {
            "tags": []
          }
        }
      ]
    },
    {
      "cell_type": "code",
      "metadata": {
        "colab": {
          "base_uri": "https://localhost:8080/",
          "height": 542
        },
        "id": "37ckPX8P2YKR",
        "outputId": "3d63d905-9331-4797-c5a9-8bdc26a80bb6"
      },
      "source": [
        "fig = px.bar(df, x='제목', y='평점')\n",
        "fig.show()"
      ],
      "execution_count": 23,
      "outputs": [
        {
          "output_type": "display_data",
          "data": {
            "text/html": [
              "<html>\n",
              "<head><meta charset=\"utf-8\" /></head>\n",
              "<body>\n",
              "    <div>\n",
              "            <script src=\"https://cdnjs.cloudflare.com/ajax/libs/mathjax/2.7.5/MathJax.js?config=TeX-AMS-MML_SVG\"></script><script type=\"text/javascript\">if (window.MathJax) {MathJax.Hub.Config({SVG: {font: \"STIX-Web\"}});}</script>\n",
              "                <script type=\"text/javascript\">window.PlotlyConfig = {MathJaxConfig: 'local'};</script>\n",
              "        <script src=\"https://cdn.plot.ly/plotly-latest.min.js\"></script>    \n",
              "            <div id=\"98fec2ec-d058-42a3-a1b1-e18e51a4ea57\" class=\"plotly-graph-div\" style=\"height:525px; width:100%;\"></div>\n",
              "            <script type=\"text/javascript\">\n",
              "                \n",
              "                    window.PLOTLYENV=window.PLOTLYENV || {};\n",
              "                    \n",
              "                if (document.getElementById(\"98fec2ec-d058-42a3-a1b1-e18e51a4ea57\")) {\n",
              "                    Plotly.newPlot(\n",
              "                        '98fec2ec-d058-42a3-a1b1-e18e51a4ea57',\n",
              "                        [{\"alignmentgroup\": \"True\", \"hoverlabel\": {\"namelength\": 0}, \"hovertemplate\": \"\\uc81c\\ubaa9=%{x}<br>\\ud3c9\\uc810=%{y}\", \"legendgroup\": \"\", \"marker\": {\"color\": \"#636efa\"}, \"name\": \"\", \"offsetgroup\": \"\", \"orientation\": \"v\", \"showlegend\": false, \"textposition\": \"auto\", \"type\": \"bar\", \"x\": [\"\\uadf9\\uc7a5\\ud310 \\uadc0\\uba78\\uc758 \\uce7c\\ub0a0: \\ubb34\\ud55c\\uc5f4\\ucc28\\ud3b8\", \"\\ucf70\\uc774\\uc5b4\\ud2b8 \\ud50c\\ub808\\uc774\\uc2a4\", \"\\ud0ac\\ub7ec\\uc758 \\ubcf4\\ub514\\uac00\\ub4dc\", \"\\ud30c\\uc774\\ud504\\ub77c\\uc778\", \"\\uc18c\\uc6b8\", \"\\ud06c\\ub8e8\\uc988 \\ud328\\ubc00\\ub9ac: \\ub274 \\uc5d0\\uc774\\uc9c0\", \"\\ubbf8\\ub098\\ub9ac\", \"\\ub354 \\uc2a4\\ud30c\\uc774\", \"\\uc790\\uc0b0\\uc5b4\\ubcf4\", \"\\uc5b4\\ubca4\\uc838\\uc2a4: \\uc5d4\\ub4dc\\uac8c\\uc784\", \"\\ub178\\ubc14\\ub514 \", \"\\ud06c\\ub8e8\\uc5d8\\ub77c\", \"\\ub77c\\ub77c\\ub79c\\ub4dc\", \"\\ub77c\\uc57c\\uc640 \\ub9c8\\uc9c0\\ub9c9 \\ub4dc\\ub798\\uace4\", \"\\ub178\\ub9e4\\ub4dc\\ub79c\\ub4dc\", \"\\uc870\\ucee4\", \"\\uadf8\\uac83: \\ub450 \\ubc88\\uc9f8 \\uc774\\uc57c\\uae30\", \"\\ud14c\\ub137\", \"\\uace0\\uc9c8\\ub77c VS. \\ucf69\", \"\\uc54c\\ub77c\\ub518\", \"\\ubc25\\uc815\", \"\\ud5dd\\uac70\\uac8c\\uc784 : \\ub354 \\ud30c\\uc774\\ub110\", \"\\uc5b4\\ubca4\\uc838\\uc2a4: \\uc778\\ud53c\\ub2c8\\ud2f0 \\uc6cc\", \"\\uc7ad \\uc2a4\\ub098\\uc774\\ub354\\uc758 \\uc800\\uc2a4\\ud2f0\\uc2a4 \\ub9ac\\uadf8\", \"\\ucf54\\ucf54\", \"500\\uc77c\\uc758 \\uc378\\uba38\", \"\\ub3c4\\uad74\", \"\\ubd84\\ub178\\uc758 \\uc9c8\\uc8fc: \\ud649\\uc2a4&\\uc1fc\", \"\\uc560\\ud504\\ud130: \\uadf8 \\ud6c4\", \"\\ub2e4\\ub9cc \\uc545\\uc5d0\\uc11c \\uad6c\\ud558\\uc18c\\uc11c\", \"\\ub178\\ud2b8\\ubd81\", \"\\uace1\\uc131(\\u54ed\\u8072)\", \"\\uc544\\uc77c\\ub77c\", \"\\ubd84\\ub178\\uc758 \\uc9c8\\uc8fc: \\ub354 \\uc138\\ube10\", \"\\ud5dd\\uac70\\uac8c\\uc784:\\ubaa8\\ud0b9\\uc81c\\uc774\", \"\\ub108\\uc758 \\uc774\\ub984\\uc740.\", \"\\ud574\\ub9ac \\ud3ec\\ud130\\uc640 \\ub9c8\\ubc95\\uc0ac\\uc758 \\ub3cc\", \"\\ub0b4 \\uc774\\uc57c\\uae30!!\", \"\\uc2a4\\ud0c0 \\uc774\\uc988 \\ubcf8\", \"\\uc704\\ub300\\ud55c \\uc1fc\\ub9e8\", \"\\ube44\\uae34 \\uc5b4\\uac8c\\uc778\", \"\\uc544\\ub378\\ub77c\\uc778 : \\uba48\\ucdb0\\uc9c4 \\uc2dc\\uac04\", \"\\uc6b8\\uc9c0\\ub9c8 \\ud1a4\\uc988\", \"\\ub808\\ub514 \\ud50c\\ub808\\uc774\\uc5b4 \\uc6d0\", \"\\ubc14\\ub78c\\uc758 \\uac80\\uc2ec : \\uad50\\ud1a0 \\ub300\\ud654\\uc7ac\\ud3b8\", \"\\uc560\\ud504\\ud130\", \"\\uaca8\\uc6b8\\uc655\\uad6d 2\", \"\\ucea1\\ud2f4 \\ub9c8\\ube14\", \"\\uc774\\ud504 \\uc628\\ub9ac\", \"\\ub0b4\\uac00 \\uc8fd\\uae30\\ub97c \\ubc14\\ub77c\\ub294 \\uc790\\ub4e4\", \"\\uadf8\\ub9b0 \\ubd81\", \"\\ubca0\\ub188\", \"\\ubaa8\\uc544\\ub098\", \"\\uc778\\uc0ac\\uc774\\ub4dc \\uc544\\uc6c3\", \"\\uc2dc\\uce74\\uace0\", \"\\uc6d0\\ub354\", \"\\ub9ac\\ud2c0 \\ud3ec\\ub808\\uc2a4\\ud2b8\", \"1987\", \"\\ud0dc\\uadf9\\uae30 \\ud718\\ub0a0\\ub9ac\\uba70\", \"\\uc18c\\ub144\\uc2dc\\uc808\\uc758 \\ub108\", \"\\ud558\\uc6b8\\uc758 \\uc6c0\\uc9c1\\uc774\\ub294 \\uc131\", \"101\\ub9c8\\ub9ac\\uc758 \\ub2ec\\ub9c8\\uc2dc\\uc548 \\uac1c\", \"\\ub098\\uc758 \\ud788\\uc5b4\\ub85c \\uc544\\uce74\\ub370\\ubbf8\\uc544 \\ub354 \\ubb34\\ube44: \\ub450 \\uba85\\uc758 \\ud788\\uc5b4\\ub85c\"], \"xaxis\": \"x\", \"y\": [9, 7, 8, 6, 9, 9, 7, 8, 9, 9, 8, 9, 8, 9, 8, 8, 6, 8, 8, 9, 9, 7, 8, 0, 9, 8, 7, 7, 8, 7, 9, 7, 9, 9, 7, 8, 9, 9, 9, 9, 9, 8, 9, 8, 8, 7, 8, 6, 9, 7, 9, 7, 9, 9, 8, 9, 8, 9, 9, 9, 9, 9, 9], \"yaxis\": \"y\"}],\n",
              "                        {\"barmode\": \"relative\", \"legend\": {\"tracegroupgap\": 0}, \"margin\": {\"t\": 60}, \"template\": {\"data\": {\"bar\": [{\"error_x\": {\"color\": \"#2a3f5f\"}, \"error_y\": {\"color\": \"#2a3f5f\"}, \"marker\": {\"line\": {\"color\": \"#E5ECF6\", \"width\": 0.5}}, \"type\": \"bar\"}], \"barpolar\": [{\"marker\": {\"line\": {\"color\": \"#E5ECF6\", \"width\": 0.5}}, \"type\": \"barpolar\"}], \"carpet\": [{\"aaxis\": {\"endlinecolor\": \"#2a3f5f\", \"gridcolor\": \"white\", \"linecolor\": \"white\", \"minorgridcolor\": \"white\", \"startlinecolor\": \"#2a3f5f\"}, \"baxis\": {\"endlinecolor\": \"#2a3f5f\", \"gridcolor\": \"white\", \"linecolor\": \"white\", \"minorgridcolor\": \"white\", \"startlinecolor\": \"#2a3f5f\"}, \"type\": \"carpet\"}], \"choropleth\": [{\"colorbar\": {\"outlinewidth\": 0, \"ticks\": \"\"}, \"type\": \"choropleth\"}], \"contour\": [{\"colorbar\": {\"outlinewidth\": 0, \"ticks\": \"\"}, \"colorscale\": [[0.0, \"#0d0887\"], [0.1111111111111111, \"#46039f\"], [0.2222222222222222, \"#7201a8\"], [0.3333333333333333, \"#9c179e\"], [0.4444444444444444, \"#bd3786\"], [0.5555555555555556, \"#d8576b\"], [0.6666666666666666, \"#ed7953\"], [0.7777777777777778, \"#fb9f3a\"], [0.8888888888888888, \"#fdca26\"], [1.0, \"#f0f921\"]], \"type\": \"contour\"}], \"contourcarpet\": [{\"colorbar\": {\"outlinewidth\": 0, \"ticks\": \"\"}, \"type\": \"contourcarpet\"}], \"heatmap\": [{\"colorbar\": {\"outlinewidth\": 0, \"ticks\": \"\"}, \"colorscale\": [[0.0, \"#0d0887\"], [0.1111111111111111, \"#46039f\"], [0.2222222222222222, \"#7201a8\"], [0.3333333333333333, \"#9c179e\"], [0.4444444444444444, \"#bd3786\"], [0.5555555555555556, \"#d8576b\"], [0.6666666666666666, \"#ed7953\"], [0.7777777777777778, \"#fb9f3a\"], [0.8888888888888888, \"#fdca26\"], [1.0, \"#f0f921\"]], \"type\": \"heatmap\"}], \"heatmapgl\": [{\"colorbar\": {\"outlinewidth\": 0, \"ticks\": \"\"}, \"colorscale\": [[0.0, \"#0d0887\"], [0.1111111111111111, \"#46039f\"], [0.2222222222222222, \"#7201a8\"], [0.3333333333333333, \"#9c179e\"], [0.4444444444444444, \"#bd3786\"], [0.5555555555555556, \"#d8576b\"], [0.6666666666666666, \"#ed7953\"], [0.7777777777777778, \"#fb9f3a\"], [0.8888888888888888, \"#fdca26\"], [1.0, \"#f0f921\"]], \"type\": \"heatmapgl\"}], \"histogram\": [{\"marker\": {\"colorbar\": {\"outlinewidth\": 0, \"ticks\": \"\"}}, \"type\": \"histogram\"}], \"histogram2d\": [{\"colorbar\": {\"outlinewidth\": 0, \"ticks\": \"\"}, \"colorscale\": [[0.0, \"#0d0887\"], [0.1111111111111111, \"#46039f\"], [0.2222222222222222, \"#7201a8\"], [0.3333333333333333, \"#9c179e\"], [0.4444444444444444, \"#bd3786\"], [0.5555555555555556, \"#d8576b\"], [0.6666666666666666, \"#ed7953\"], [0.7777777777777778, \"#fb9f3a\"], [0.8888888888888888, \"#fdca26\"], [1.0, \"#f0f921\"]], \"type\": \"histogram2d\"}], \"histogram2dcontour\": [{\"colorbar\": {\"outlinewidth\": 0, \"ticks\": \"\"}, \"colorscale\": [[0.0, \"#0d0887\"], [0.1111111111111111, \"#46039f\"], [0.2222222222222222, \"#7201a8\"], [0.3333333333333333, \"#9c179e\"], [0.4444444444444444, \"#bd3786\"], [0.5555555555555556, \"#d8576b\"], [0.6666666666666666, \"#ed7953\"], [0.7777777777777778, \"#fb9f3a\"], [0.8888888888888888, \"#fdca26\"], [1.0, \"#f0f921\"]], \"type\": \"histogram2dcontour\"}], \"mesh3d\": [{\"colorbar\": {\"outlinewidth\": 0, \"ticks\": \"\"}, \"type\": \"mesh3d\"}], \"parcoords\": [{\"line\": {\"colorbar\": {\"outlinewidth\": 0, \"ticks\": \"\"}}, \"type\": \"parcoords\"}], \"pie\": [{\"automargin\": true, \"type\": \"pie\"}], \"scatter\": [{\"marker\": {\"colorbar\": {\"outlinewidth\": 0, \"ticks\": \"\"}}, \"type\": \"scatter\"}], \"scatter3d\": [{\"line\": {\"colorbar\": {\"outlinewidth\": 0, \"ticks\": \"\"}}, \"marker\": {\"colorbar\": {\"outlinewidth\": 0, \"ticks\": \"\"}}, \"type\": \"scatter3d\"}], \"scattercarpet\": [{\"marker\": {\"colorbar\": {\"outlinewidth\": 0, \"ticks\": \"\"}}, \"type\": \"scattercarpet\"}], \"scattergeo\": [{\"marker\": {\"colorbar\": {\"outlinewidth\": 0, \"ticks\": \"\"}}, \"type\": \"scattergeo\"}], \"scattergl\": [{\"marker\": {\"colorbar\": {\"outlinewidth\": 0, \"ticks\": \"\"}}, \"type\": \"scattergl\"}], \"scattermapbox\": [{\"marker\": {\"colorbar\": {\"outlinewidth\": 0, \"ticks\": \"\"}}, \"type\": \"scattermapbox\"}], \"scatterpolar\": [{\"marker\": {\"colorbar\": {\"outlinewidth\": 0, \"ticks\": \"\"}}, \"type\": \"scatterpolar\"}], \"scatterpolargl\": [{\"marker\": {\"colorbar\": {\"outlinewidth\": 0, \"ticks\": \"\"}}, \"type\": \"scatterpolargl\"}], \"scatterternary\": [{\"marker\": {\"colorbar\": {\"outlinewidth\": 0, \"ticks\": \"\"}}, \"type\": \"scatterternary\"}], \"surface\": [{\"colorbar\": {\"outlinewidth\": 0, \"ticks\": \"\"}, \"colorscale\": [[0.0, \"#0d0887\"], [0.1111111111111111, \"#46039f\"], [0.2222222222222222, \"#7201a8\"], [0.3333333333333333, \"#9c179e\"], [0.4444444444444444, \"#bd3786\"], [0.5555555555555556, \"#d8576b\"], [0.6666666666666666, \"#ed7953\"], [0.7777777777777778, \"#fb9f3a\"], [0.8888888888888888, \"#fdca26\"], [1.0, \"#f0f921\"]], \"type\": \"surface\"}], \"table\": [{\"cells\": {\"fill\": {\"color\": \"#EBF0F8\"}, \"line\": {\"color\": \"white\"}}, \"header\": {\"fill\": {\"color\": \"#C8D4E3\"}, \"line\": {\"color\": \"white\"}}, \"type\": \"table\"}]}, \"layout\": {\"annotationdefaults\": {\"arrowcolor\": \"#2a3f5f\", \"arrowhead\": 0, \"arrowwidth\": 1}, \"coloraxis\": {\"colorbar\": {\"outlinewidth\": 0, \"ticks\": \"\"}}, \"colorscale\": {\"diverging\": [[0, \"#8e0152\"], [0.1, \"#c51b7d\"], [0.2, \"#de77ae\"], [0.3, \"#f1b6da\"], [0.4, \"#fde0ef\"], [0.5, \"#f7f7f7\"], [0.6, \"#e6f5d0\"], [0.7, \"#b8e186\"], [0.8, \"#7fbc41\"], [0.9, \"#4d9221\"], [1, \"#276419\"]], \"sequential\": [[0.0, \"#0d0887\"], [0.1111111111111111, \"#46039f\"], [0.2222222222222222, \"#7201a8\"], [0.3333333333333333, \"#9c179e\"], [0.4444444444444444, \"#bd3786\"], [0.5555555555555556, \"#d8576b\"], [0.6666666666666666, \"#ed7953\"], [0.7777777777777778, \"#fb9f3a\"], [0.8888888888888888, \"#fdca26\"], [1.0, \"#f0f921\"]], \"sequentialminus\": [[0.0, \"#0d0887\"], [0.1111111111111111, \"#46039f\"], [0.2222222222222222, \"#7201a8\"], [0.3333333333333333, \"#9c179e\"], [0.4444444444444444, \"#bd3786\"], [0.5555555555555556, \"#d8576b\"], [0.6666666666666666, \"#ed7953\"], [0.7777777777777778, \"#fb9f3a\"], [0.8888888888888888, \"#fdca26\"], [1.0, \"#f0f921\"]]}, \"colorway\": [\"#636efa\", \"#EF553B\", \"#00cc96\", \"#ab63fa\", \"#FFA15A\", \"#19d3f3\", \"#FF6692\", \"#B6E880\", \"#FF97FF\", \"#FECB52\"], \"font\": {\"color\": \"#2a3f5f\"}, \"geo\": {\"bgcolor\": \"white\", \"lakecolor\": \"white\", \"landcolor\": \"#E5ECF6\", \"showlakes\": true, \"showland\": true, \"subunitcolor\": \"white\"}, \"hoverlabel\": {\"align\": \"left\"}, \"hovermode\": \"closest\", \"mapbox\": {\"style\": \"light\"}, \"paper_bgcolor\": \"white\", \"plot_bgcolor\": \"#E5ECF6\", \"polar\": {\"angularaxis\": {\"gridcolor\": \"white\", \"linecolor\": \"white\", \"ticks\": \"\"}, \"bgcolor\": \"#E5ECF6\", \"radialaxis\": {\"gridcolor\": \"white\", \"linecolor\": \"white\", \"ticks\": \"\"}}, \"scene\": {\"xaxis\": {\"backgroundcolor\": \"#E5ECF6\", \"gridcolor\": \"white\", \"gridwidth\": 2, \"linecolor\": \"white\", \"showbackground\": true, \"ticks\": \"\", \"zerolinecolor\": \"white\"}, \"yaxis\": {\"backgroundcolor\": \"#E5ECF6\", \"gridcolor\": \"white\", \"gridwidth\": 2, \"linecolor\": \"white\", \"showbackground\": true, \"ticks\": \"\", \"zerolinecolor\": \"white\"}, \"zaxis\": {\"backgroundcolor\": \"#E5ECF6\", \"gridcolor\": \"white\", \"gridwidth\": 2, \"linecolor\": \"white\", \"showbackground\": true, \"ticks\": \"\", \"zerolinecolor\": \"white\"}}, \"shapedefaults\": {\"line\": {\"color\": \"#2a3f5f\"}}, \"ternary\": {\"aaxis\": {\"gridcolor\": \"white\", \"linecolor\": \"white\", \"ticks\": \"\"}, \"baxis\": {\"gridcolor\": \"white\", \"linecolor\": \"white\", \"ticks\": \"\"}, \"bgcolor\": \"#E5ECF6\", \"caxis\": {\"gridcolor\": \"white\", \"linecolor\": \"white\", \"ticks\": \"\"}}, \"title\": {\"x\": 0.05}, \"xaxis\": {\"automargin\": true, \"gridcolor\": \"white\", \"linecolor\": \"white\", \"ticks\": \"\", \"title\": {\"standoff\": 15}, \"zerolinecolor\": \"white\", \"zerolinewidth\": 2}, \"yaxis\": {\"automargin\": true, \"gridcolor\": \"white\", \"linecolor\": \"white\", \"ticks\": \"\", \"title\": {\"standoff\": 15}, \"zerolinecolor\": \"white\", \"zerolinewidth\": 2}}}, \"xaxis\": {\"anchor\": \"y\", \"domain\": [0.0, 1.0], \"title\": {\"text\": \"\\uc81c\\ubaa9\"}}, \"yaxis\": {\"anchor\": \"x\", \"domain\": [0.0, 1.0], \"title\": {\"text\": \"\\ud3c9\\uc810\"}}},\n",
              "                        {\"responsive\": true}\n",
              "                    ).then(function(){\n",
              "                            \n",
              "var gd = document.getElementById('98fec2ec-d058-42a3-a1b1-e18e51a4ea57');\n",
              "var x = new MutationObserver(function (mutations, observer) {{\n",
              "        var display = window.getComputedStyle(gd).display;\n",
              "        if (!display || display === 'none') {{\n",
              "            console.log([gd, 'removed!']);\n",
              "            Plotly.purge(gd);\n",
              "            observer.disconnect();\n",
              "        }}\n",
              "}});\n",
              "\n",
              "// Listen for the removal of the full notebook cells\n",
              "var notebookContainer = gd.closest('#notebook-container');\n",
              "if (notebookContainer) {{\n",
              "    x.observe(notebookContainer, {childList: true});\n",
              "}}\n",
              "\n",
              "// Listen for the clearing of the current output cell\n",
              "var outputEl = gd.closest('.output');\n",
              "if (outputEl) {{\n",
              "    x.observe(outputEl, {childList: true});\n",
              "}}\n",
              "\n",
              "                        })\n",
              "                };\n",
              "                \n",
              "            </script>\n",
              "        </div>\n",
              "</body>\n",
              "</html>"
            ]
          },
          "metadata": {
            "tags": []
          }
        }
      ]
    },
    {
      "cell_type": "code",
      "metadata": {
        "colab": {
          "base_uri": "https://localhost:8080/",
          "height": 542
        },
        "id": "C5SOyc7_2dmV",
        "outputId": "f8fbfccc-9d61-4149-fdd8-1f3653fe18bf"
      },
      "source": [
        "fig = px.pie(df, values='평점', names='장르')\n",
        "fig.show()"
      ],
      "execution_count": 24,
      "outputs": [
        {
          "output_type": "display_data",
          "data": {
            "text/html": [
              "<html>\n",
              "<head><meta charset=\"utf-8\" /></head>\n",
              "<body>\n",
              "    <div>\n",
              "            <script src=\"https://cdnjs.cloudflare.com/ajax/libs/mathjax/2.7.5/MathJax.js?config=TeX-AMS-MML_SVG\"></script><script type=\"text/javascript\">if (window.MathJax) {MathJax.Hub.Config({SVG: {font: \"STIX-Web\"}});}</script>\n",
              "                <script type=\"text/javascript\">window.PlotlyConfig = {MathJaxConfig: 'local'};</script>\n",
              "        <script src=\"https://cdn.plot.ly/plotly-latest.min.js\"></script>    \n",
              "            <div id=\"72d27619-8879-4f3b-982c-0376ed6ff669\" class=\"plotly-graph-div\" style=\"height:525px; width:100%;\"></div>\n",
              "            <script type=\"text/javascript\">\n",
              "                \n",
              "                    window.PLOTLYENV=window.PLOTLYENV || {};\n",
              "                    \n",
              "                if (document.getElementById(\"72d27619-8879-4f3b-982c-0376ed6ff669\")) {\n",
              "                    Plotly.newPlot(\n",
              "                        '72d27619-8879-4f3b-982c-0376ed6ff669',\n",
              "                        [{\"domain\": {\"x\": [0.0, 1.0], \"y\": [0.0, 1.0]}, \"hoverlabel\": {\"namelength\": 0}, \"hovertemplate\": \"\\uc7a5\\ub974=%{label}<br>\\ud3c9\\uc810=%{value}\", \"labels\": [\"\\uc560\\ub2c8\\uba54\\uc774\\uc158\", \"\\uacf5\\ud3ec/\\uc2a4\\ub9b4\\ub7ec\", \"\\uc561\\uc158\", \"\\uc561\\uc158\", \"\\uc560\\ub2c8\\uba54\\uc774\\uc158\", \"\\uc561\\uc158\", \"\\ub4dc\\ub77c\\ub9c8\", \"\\uacf5\\ud3ec/\\uc2a4\\ub9b4\\ub7ec\", \"\\ub4dc\\ub77c\\ub9c8\", \"\\uc561\\uc158\", \"\\uc561\\uc158\", \"\\ub4dc\\ub77c\\ub9c8\", \"\\ub4dc\\ub77c\\ub9c8\", \"\\uc560\\ub2c8\\uba54\\uc774\\uc158\", \"\\ub4dc\\ub77c\\ub9c8\", \"\\ub4dc\\ub77c\\ub9c8\", \"\\uacf5\\ud3ec/\\uc2a4\\ub9b4\\ub7ec\", \"\\uc561\\uc158\", \"\\uc561\\uc158\", \"\\uc561\\uc158\", \"\\ub2e4\\ud050\\uba58\\ud130\\ub9ac\", \"\\uc561\\uc158\", \"\\uc561\\uc158\", \"\\uc561\\uc158\", \"\\uc561\\uc158\", \"\\ucf54\\ubbf8\\ub514\", \"\\uc561\\uc158\", \"\\uc561\\uc158\", \"\\uba5c\\ub85c\", \"\\uc561\\uc158\", \"\\ub4dc\\ub77c\\ub9c8\", \"\\ub4dc\\ub77c\\ub9c8\", \"\\uc561\\uc158\", \"\\uc561\\uc158\", \"\\uc561\\uc158\", \"\\ub4dc\\ub77c\\ub9c8\", \"\\uc561\\uc158\", \"\\ucf54\\ubbf8\\ub514\", \"\\ub4dc\\ub77c\\ub9c8\", \"\\ub4dc\\ub77c\\ub9c8\", \"\\ucf54\\ubbf8\\ub514\", \"\\ub4dc\\ub77c\\ub9c8\", \"\\ub2e4\\ud050\\uba58\\ud130\\ub9ac\", \"\\uc561\\uc158\", \"\\uc561\\uc158\", \"\\ub4dc\\ub77c\\ub9c8\", \"\\uc561\\uc158\", \"\\uc561\\uc158\", \"\\ucf54\\ubbf8\\ub514\", \"\\uc561\\uc158\", \"\\ub4dc\\ub77c\\ub9c8\", \"\\uc561\\uc158\", \"\\uc561\\uc158\", \"\\ucf54\\ubbf8\\ub514\", \"\\uc561\\uc158\", \"\\ub4dc\\ub77c\\ub9c8\", \"\\ub4dc\\ub77c\\ub9c8\", \"\\ub4dc\\ub77c\\ub9c8\", \"\\uc561\\uc158\", \"\\uc561\\uc158\", \"\\uc560\\ub2c8\\uba54\\uc774\\uc158\", \"\\uc561\\uc158\", \"\\uc560\\ub2c8\\uba54\\uc774\\uc158\"], \"legendgroup\": \"\", \"name\": \"\", \"showlegend\": true, \"type\": \"pie\", \"values\": [9, 7, 8, 6, 9, 9, 7, 8, 9, 9, 8, 9, 8, 9, 8, 8, 6, 8, 8, 9, 9, 7, 8, 0, 9, 8, 7, 7, 8, 7, 9, 7, 9, 9, 7, 8, 9, 9, 9, 9, 9, 8, 9, 8, 8, 7, 8, 6, 9, 7, 9, 7, 9, 9, 8, 9, 8, 9, 9, 9, 9, 9, 9]}],\n",
              "                        {\"legend\": {\"tracegroupgap\": 0}, \"margin\": {\"t\": 60}, \"template\": {\"data\": {\"bar\": [{\"error_x\": {\"color\": \"#2a3f5f\"}, \"error_y\": {\"color\": \"#2a3f5f\"}, \"marker\": {\"line\": {\"color\": \"#E5ECF6\", \"width\": 0.5}}, \"type\": \"bar\"}], \"barpolar\": [{\"marker\": {\"line\": {\"color\": \"#E5ECF6\", \"width\": 0.5}}, \"type\": \"barpolar\"}], \"carpet\": [{\"aaxis\": {\"endlinecolor\": \"#2a3f5f\", \"gridcolor\": \"white\", \"linecolor\": \"white\", \"minorgridcolor\": \"white\", \"startlinecolor\": \"#2a3f5f\"}, \"baxis\": {\"endlinecolor\": \"#2a3f5f\", \"gridcolor\": \"white\", \"linecolor\": \"white\", \"minorgridcolor\": \"white\", \"startlinecolor\": \"#2a3f5f\"}, \"type\": \"carpet\"}], \"choropleth\": [{\"colorbar\": {\"outlinewidth\": 0, \"ticks\": \"\"}, \"type\": \"choropleth\"}], \"contour\": [{\"colorbar\": {\"outlinewidth\": 0, \"ticks\": \"\"}, \"colorscale\": [[0.0, \"#0d0887\"], [0.1111111111111111, \"#46039f\"], [0.2222222222222222, \"#7201a8\"], [0.3333333333333333, \"#9c179e\"], [0.4444444444444444, \"#bd3786\"], [0.5555555555555556, \"#d8576b\"], [0.6666666666666666, \"#ed7953\"], [0.7777777777777778, \"#fb9f3a\"], [0.8888888888888888, \"#fdca26\"], [1.0, \"#f0f921\"]], \"type\": \"contour\"}], \"contourcarpet\": [{\"colorbar\": {\"outlinewidth\": 0, \"ticks\": \"\"}, \"type\": \"contourcarpet\"}], \"heatmap\": [{\"colorbar\": {\"outlinewidth\": 0, \"ticks\": \"\"}, \"colorscale\": [[0.0, \"#0d0887\"], [0.1111111111111111, \"#46039f\"], [0.2222222222222222, \"#7201a8\"], [0.3333333333333333, \"#9c179e\"], [0.4444444444444444, \"#bd3786\"], [0.5555555555555556, \"#d8576b\"], [0.6666666666666666, \"#ed7953\"], [0.7777777777777778, \"#fb9f3a\"], [0.8888888888888888, \"#fdca26\"], [1.0, \"#f0f921\"]], \"type\": \"heatmap\"}], \"heatmapgl\": [{\"colorbar\": {\"outlinewidth\": 0, \"ticks\": \"\"}, \"colorscale\": [[0.0, \"#0d0887\"], [0.1111111111111111, \"#46039f\"], [0.2222222222222222, \"#7201a8\"], [0.3333333333333333, \"#9c179e\"], [0.4444444444444444, \"#bd3786\"], [0.5555555555555556, \"#d8576b\"], [0.6666666666666666, \"#ed7953\"], [0.7777777777777778, \"#fb9f3a\"], [0.8888888888888888, \"#fdca26\"], [1.0, \"#f0f921\"]], \"type\": \"heatmapgl\"}], \"histogram\": [{\"marker\": {\"colorbar\": {\"outlinewidth\": 0, \"ticks\": \"\"}}, \"type\": \"histogram\"}], \"histogram2d\": [{\"colorbar\": {\"outlinewidth\": 0, \"ticks\": \"\"}, \"colorscale\": [[0.0, \"#0d0887\"], [0.1111111111111111, \"#46039f\"], [0.2222222222222222, \"#7201a8\"], [0.3333333333333333, \"#9c179e\"], [0.4444444444444444, \"#bd3786\"], [0.5555555555555556, \"#d8576b\"], [0.6666666666666666, \"#ed7953\"], [0.7777777777777778, \"#fb9f3a\"], [0.8888888888888888, \"#fdca26\"], [1.0, \"#f0f921\"]], \"type\": \"histogram2d\"}], \"histogram2dcontour\": [{\"colorbar\": {\"outlinewidth\": 0, \"ticks\": \"\"}, \"colorscale\": [[0.0, \"#0d0887\"], [0.1111111111111111, \"#46039f\"], [0.2222222222222222, \"#7201a8\"], [0.3333333333333333, \"#9c179e\"], [0.4444444444444444, \"#bd3786\"], [0.5555555555555556, \"#d8576b\"], [0.6666666666666666, \"#ed7953\"], [0.7777777777777778, \"#fb9f3a\"], [0.8888888888888888, \"#fdca26\"], [1.0, \"#f0f921\"]], \"type\": \"histogram2dcontour\"}], \"mesh3d\": [{\"colorbar\": {\"outlinewidth\": 0, \"ticks\": \"\"}, \"type\": \"mesh3d\"}], \"parcoords\": [{\"line\": {\"colorbar\": {\"outlinewidth\": 0, \"ticks\": \"\"}}, \"type\": \"parcoords\"}], \"pie\": [{\"automargin\": true, \"type\": \"pie\"}], \"scatter\": [{\"marker\": {\"colorbar\": {\"outlinewidth\": 0, \"ticks\": \"\"}}, \"type\": \"scatter\"}], \"scatter3d\": [{\"line\": {\"colorbar\": {\"outlinewidth\": 0, \"ticks\": \"\"}}, \"marker\": {\"colorbar\": {\"outlinewidth\": 0, \"ticks\": \"\"}}, \"type\": \"scatter3d\"}], \"scattercarpet\": [{\"marker\": {\"colorbar\": {\"outlinewidth\": 0, \"ticks\": \"\"}}, \"type\": \"scattercarpet\"}], \"scattergeo\": [{\"marker\": {\"colorbar\": {\"outlinewidth\": 0, \"ticks\": \"\"}}, \"type\": \"scattergeo\"}], \"scattergl\": [{\"marker\": {\"colorbar\": {\"outlinewidth\": 0, \"ticks\": \"\"}}, \"type\": \"scattergl\"}], \"scattermapbox\": [{\"marker\": {\"colorbar\": {\"outlinewidth\": 0, \"ticks\": \"\"}}, \"type\": \"scattermapbox\"}], \"scatterpolar\": [{\"marker\": {\"colorbar\": {\"outlinewidth\": 0, \"ticks\": \"\"}}, \"type\": \"scatterpolar\"}], \"scatterpolargl\": [{\"marker\": {\"colorbar\": {\"outlinewidth\": 0, \"ticks\": \"\"}}, \"type\": \"scatterpolargl\"}], \"scatterternary\": [{\"marker\": {\"colorbar\": {\"outlinewidth\": 0, \"ticks\": \"\"}}, \"type\": \"scatterternary\"}], \"surface\": [{\"colorbar\": {\"outlinewidth\": 0, \"ticks\": \"\"}, \"colorscale\": [[0.0, \"#0d0887\"], [0.1111111111111111, \"#46039f\"], [0.2222222222222222, \"#7201a8\"], [0.3333333333333333, \"#9c179e\"], [0.4444444444444444, \"#bd3786\"], [0.5555555555555556, \"#d8576b\"], [0.6666666666666666, \"#ed7953\"], [0.7777777777777778, \"#fb9f3a\"], [0.8888888888888888, \"#fdca26\"], [1.0, \"#f0f921\"]], \"type\": \"surface\"}], \"table\": [{\"cells\": {\"fill\": {\"color\": \"#EBF0F8\"}, \"line\": {\"color\": \"white\"}}, \"header\": {\"fill\": {\"color\": \"#C8D4E3\"}, \"line\": {\"color\": \"white\"}}, \"type\": \"table\"}]}, \"layout\": {\"annotationdefaults\": {\"arrowcolor\": \"#2a3f5f\", \"arrowhead\": 0, \"arrowwidth\": 1}, \"coloraxis\": {\"colorbar\": {\"outlinewidth\": 0, \"ticks\": \"\"}}, \"colorscale\": {\"diverging\": [[0, \"#8e0152\"], [0.1, \"#c51b7d\"], [0.2, \"#de77ae\"], [0.3, \"#f1b6da\"], [0.4, \"#fde0ef\"], [0.5, \"#f7f7f7\"], [0.6, \"#e6f5d0\"], [0.7, \"#b8e186\"], [0.8, \"#7fbc41\"], [0.9, \"#4d9221\"], [1, \"#276419\"]], \"sequential\": [[0.0, \"#0d0887\"], [0.1111111111111111, \"#46039f\"], [0.2222222222222222, \"#7201a8\"], [0.3333333333333333, \"#9c179e\"], [0.4444444444444444, \"#bd3786\"], [0.5555555555555556, \"#d8576b\"], [0.6666666666666666, \"#ed7953\"], [0.7777777777777778, \"#fb9f3a\"], [0.8888888888888888, \"#fdca26\"], [1.0, \"#f0f921\"]], \"sequentialminus\": [[0.0, \"#0d0887\"], [0.1111111111111111, \"#46039f\"], [0.2222222222222222, \"#7201a8\"], [0.3333333333333333, \"#9c179e\"], [0.4444444444444444, \"#bd3786\"], [0.5555555555555556, \"#d8576b\"], [0.6666666666666666, \"#ed7953\"], [0.7777777777777778, \"#fb9f3a\"], [0.8888888888888888, \"#fdca26\"], [1.0, \"#f0f921\"]]}, \"colorway\": [\"#636efa\", \"#EF553B\", \"#00cc96\", \"#ab63fa\", \"#FFA15A\", \"#19d3f3\", \"#FF6692\", \"#B6E880\", \"#FF97FF\", \"#FECB52\"], \"font\": {\"color\": \"#2a3f5f\"}, \"geo\": {\"bgcolor\": \"white\", \"lakecolor\": \"white\", \"landcolor\": \"#E5ECF6\", \"showlakes\": true, \"showland\": true, \"subunitcolor\": \"white\"}, \"hoverlabel\": {\"align\": \"left\"}, \"hovermode\": \"closest\", \"mapbox\": {\"style\": \"light\"}, \"paper_bgcolor\": \"white\", \"plot_bgcolor\": \"#E5ECF6\", \"polar\": {\"angularaxis\": {\"gridcolor\": \"white\", \"linecolor\": \"white\", \"ticks\": \"\"}, \"bgcolor\": \"#E5ECF6\", \"radialaxis\": {\"gridcolor\": \"white\", \"linecolor\": \"white\", \"ticks\": \"\"}}, \"scene\": {\"xaxis\": {\"backgroundcolor\": \"#E5ECF6\", \"gridcolor\": \"white\", \"gridwidth\": 2, \"linecolor\": \"white\", \"showbackground\": true, \"ticks\": \"\", \"zerolinecolor\": \"white\"}, \"yaxis\": {\"backgroundcolor\": \"#E5ECF6\", \"gridcolor\": \"white\", \"gridwidth\": 2, \"linecolor\": \"white\", \"showbackground\": true, \"ticks\": \"\", \"zerolinecolor\": \"white\"}, \"zaxis\": {\"backgroundcolor\": \"#E5ECF6\", \"gridcolor\": \"white\", \"gridwidth\": 2, \"linecolor\": \"white\", \"showbackground\": true, \"ticks\": \"\", \"zerolinecolor\": \"white\"}}, \"shapedefaults\": {\"line\": {\"color\": \"#2a3f5f\"}}, \"ternary\": {\"aaxis\": {\"gridcolor\": \"white\", \"linecolor\": \"white\", \"ticks\": \"\"}, \"baxis\": {\"gridcolor\": \"white\", \"linecolor\": \"white\", \"ticks\": \"\"}, \"bgcolor\": \"#E5ECF6\", \"caxis\": {\"gridcolor\": \"white\", \"linecolor\": \"white\", \"ticks\": \"\"}}, \"title\": {\"x\": 0.05}, \"xaxis\": {\"automargin\": true, \"gridcolor\": \"white\", \"linecolor\": \"white\", \"ticks\": \"\", \"title\": {\"standoff\": 15}, \"zerolinecolor\": \"white\", \"zerolinewidth\": 2}, \"yaxis\": {\"automargin\": true, \"gridcolor\": \"white\", \"linecolor\": \"white\", \"ticks\": \"\", \"title\": {\"standoff\": 15}, \"zerolinecolor\": \"white\", \"zerolinewidth\": 2}}}},\n",
              "                        {\"responsive\": true}\n",
              "                    ).then(function(){\n",
              "                            \n",
              "var gd = document.getElementById('72d27619-8879-4f3b-982c-0376ed6ff669');\n",
              "var x = new MutationObserver(function (mutations, observer) {{\n",
              "        var display = window.getComputedStyle(gd).display;\n",
              "        if (!display || display === 'none') {{\n",
              "            console.log([gd, 'removed!']);\n",
              "            Plotly.purge(gd);\n",
              "            observer.disconnect();\n",
              "        }}\n",
              "}});\n",
              "\n",
              "// Listen for the removal of the full notebook cells\n",
              "var notebookContainer = gd.closest('#notebook-container');\n",
              "if (notebookContainer) {{\n",
              "    x.observe(notebookContainer, {childList: true});\n",
              "}}\n",
              "\n",
              "// Listen for the clearing of the current output cell\n",
              "var outputEl = gd.closest('.output');\n",
              "if (outputEl) {{\n",
              "    x.observe(outputEl, {childList: true});\n",
              "}}\n",
              "\n",
              "                        })\n",
              "                };\n",
              "                \n",
              "            </script>\n",
              "        </div>\n",
              "</body>\n",
              "</html>"
            ]
          },
          "metadata": {
            "tags": []
          }
        }
      ]
    },
    {
      "cell_type": "markdown",
      "metadata": {
        "id": "20Y6OcbU2kTF"
      },
      "source": [
        "월간 TOP 100 시각화"
      ]
    },
    {
      "cell_type": "code",
      "metadata": {
        "colab": {
          "base_uri": "https://localhost:8080/"
        },
        "id": "8BZKV8WV2ffm",
        "outputId": "a9943e94-4f07-46e2-f920-090fb1731f41"
      },
      "source": [
        "df = pd.read_csv('/content/movie_my_data_64_M.csv',encoding='euc-kr')\n",
        "df.info()"
      ],
      "execution_count": 26,
      "outputs": [
        {
          "output_type": "stream",
          "text": [
            "<class 'pandas.core.frame.DataFrame'>\n",
            "RangeIndex: 64 entries, 0 to 63\n",
            "Data columns (total 5 columns):\n",
            " #   Column      Non-Null Count  Dtype \n",
            "---  ------      --------------  ----- \n",
            " 0   Unnamed: 0  64 non-null     int64 \n",
            " 1   제목          64 non-null     object\n",
            " 2   평점          64 non-null     int64 \n",
            " 3   장르          64 non-null     object\n",
            " 4   줄거리         64 non-null     object\n",
            "dtypes: int64(2), object(3)\n",
            "memory usage: 2.6+ KB\n"
          ],
          "name": "stdout"
        }
      ]
    },
    {
      "cell_type": "code",
      "metadata": {
        "colab": {
          "base_uri": "https://localhost:8080/",
          "height": 304
        },
        "id": "5NkSe4xo2ijb",
        "outputId": "2d5e685e-a012-49e4-b3a2-bbc993546db0"
      },
      "source": [
        "df_score = df[df.평점 >= 7.0]\n",
        "df_score.tail()"
      ],
      "execution_count": 27,
      "outputs": [
        {
          "output_type": "execute_result",
          "data": {
            "text/html": [
              "<div>\n",
              "<style scoped>\n",
              "    .dataframe tbody tr th:only-of-type {\n",
              "        vertical-align: middle;\n",
              "    }\n",
              "\n",
              "    .dataframe tbody tr th {\n",
              "        vertical-align: top;\n",
              "    }\n",
              "\n",
              "    .dataframe thead th {\n",
              "        text-align: right;\n",
              "    }\n",
              "</style>\n",
              "<table border=\"1\" class=\"dataframe\">\n",
              "  <thead>\n",
              "    <tr style=\"text-align: right;\">\n",
              "      <th></th>\n",
              "      <th>Unnamed: 0</th>\n",
              "      <th>제목</th>\n",
              "      <th>평점</th>\n",
              "      <th>장르</th>\n",
              "      <th>줄거리</th>\n",
              "    </tr>\n",
              "  </thead>\n",
              "  <tbody>\n",
              "    <tr>\n",
              "      <th>57</th>\n",
              "      <td>69</td>\n",
              "      <td>메이즈 러너: 데스 큐어</td>\n",
              "      <td>7</td>\n",
              "      <td>액션</td>\n",
              "      <td>미스터리한 조직 ‘위키드’에게 잡힌 ‘민호’(이기홍)를 구하기 위해 ‘토마스’(딜런...</td>\n",
              "    </tr>\n",
              "    <tr>\n",
              "      <th>59</th>\n",
              "      <td>71</td>\n",
              "      <td>위대한 쇼맨</td>\n",
              "      <td>9</td>\n",
              "      <td>드라마</td>\n",
              "      <td>쇼 비즈니스의 창시자이자, 꿈의 무대로 전세계를 매료시킨 남자‘바넘’의 이야기에서 ...</td>\n",
              "    </tr>\n",
              "    <tr>\n",
              "      <th>60</th>\n",
              "      <td>73</td>\n",
              "      <td>어바웃 타임</td>\n",
              "      <td>9</td>\n",
              "      <td>코미디</td>\n",
              "      <td>모태솔로 팀(돔놀 글리슨)은 성인이 된 날, 아버지(빌 나이)로부터 놀랄만한 가문의...</td>\n",
              "    </tr>\n",
              "    <tr>\n",
              "      <th>61</th>\n",
              "      <td>74</td>\n",
              "      <td>어벤져스</td>\n",
              "      <td>8</td>\n",
              "      <td>액션</td>\n",
              "      <td>지구의 안보가 위협당하는 위기의 상황에서 슈퍼히어로들을 불러모아 세상을 구하는, 일...</td>\n",
              "    </tr>\n",
              "    <tr>\n",
              "      <th>62</th>\n",
              "      <td>75</td>\n",
              "      <td>해리 포터와 비밀의 방</td>\n",
              "      <td>8</td>\n",
              "      <td>액션</td>\n",
              "      <td>해리 포터에겐 이번 여름방학이 별로 즐겁질 못했다. 마법이라면 질색을 하는 페투니아...</td>\n",
              "    </tr>\n",
              "  </tbody>\n",
              "</table>\n",
              "</div>"
            ],
            "text/plain": [
              "    Unnamed: 0  ...                                                줄거리\n",
              "57          69  ...  미스터리한 조직 ‘위키드’에게 잡힌 ‘민호’(이기홍)를 구하기 위해 ‘토마스’(딜런...\n",
              "59          71  ...  쇼 비즈니스의 창시자이자, 꿈의 무대로 전세계를 매료시킨 남자‘바넘’의 이야기에서 ...\n",
              "60          73  ...  모태솔로 팀(돔놀 글리슨)은 성인이 된 날, 아버지(빌 나이)로부터 놀랄만한 가문의...\n",
              "61          74  ...  지구의 안보가 위협당하는 위기의 상황에서 슈퍼히어로들을 불러모아 세상을 구하는, 일...\n",
              "62          75  ...  해리 포터에겐 이번 여름방학이 별로 즐겁질 못했다. 마법이라면 질색을 하는 페투니아...\n",
              "\n",
              "[5 rows x 5 columns]"
            ]
          },
          "metadata": {
            "tags": []
          },
          "execution_count": 27
        }
      ]
    },
    {
      "cell_type": "code",
      "metadata": {
        "colab": {
          "base_uri": "https://localhost:8080/",
          "height": 542
        },
        "id": "Xlikns9H2zES",
        "outputId": "4cdd75bb-a2ec-4757-b931-37063d3788c9"
      },
      "source": [
        "fig = px.pie(df_score, values='평점', names='장르')\n",
        "fig.show()"
      ],
      "execution_count": 28,
      "outputs": [
        {
          "output_type": "display_data",
          "data": {
            "text/html": [
              "<html>\n",
              "<head><meta charset=\"utf-8\" /></head>\n",
              "<body>\n",
              "    <div>\n",
              "            <script src=\"https://cdnjs.cloudflare.com/ajax/libs/mathjax/2.7.5/MathJax.js?config=TeX-AMS-MML_SVG\"></script><script type=\"text/javascript\">if (window.MathJax) {MathJax.Hub.Config({SVG: {font: \"STIX-Web\"}});}</script>\n",
              "                <script type=\"text/javascript\">window.PlotlyConfig = {MathJaxConfig: 'local'};</script>\n",
              "        <script src=\"https://cdn.plot.ly/plotly-latest.min.js\"></script>    \n",
              "            <div id=\"0fa6f0ca-6af1-4921-be42-bcd73158fc01\" class=\"plotly-graph-div\" style=\"height:525px; width:100%;\"></div>\n",
              "            <script type=\"text/javascript\">\n",
              "                \n",
              "                    window.PLOTLYENV=window.PLOTLYENV || {};\n",
              "                    \n",
              "                if (document.getElementById(\"0fa6f0ca-6af1-4921-be42-bcd73158fc01\")) {\n",
              "                    Plotly.newPlot(\n",
              "                        '0fa6f0ca-6af1-4921-be42-bcd73158fc01',\n",
              "                        [{\"domain\": {\"x\": [0.0, 1.0], \"y\": [0.0, 1.0]}, \"hoverlabel\": {\"namelength\": 0}, \"hovertemplate\": \"\\uc7a5\\ub974=%{label}<br>\\ud3c9\\uc810=%{value}\", \"labels\": [\"\\ub4dc\\ub77c\\ub9c8\", \"\\uc561\\uc158\", \"\\ub4dc\\ub77c\\ub9c8\", \"\\uc560\\ub2c8\\uba54\\uc774\\uc158\", \"\\uc560\\ub2c8\\uba54\\uc774\\uc158\", \"\\uc561\\uc158\", \"\\uc561\\uc158\", \"\\ub4dc\\ub77c\\ub9c8\", \"\\uc561\\uc158\", \"\\ub4dc\\ub77c\\ub9c8\", \"\\uc561\\uc158\", \"\\uc561\\uc158\", \"\\uba5c\\ub85c\", \"\\ub4dc\\ub77c\\ub9c8\", \"\\uc561\\uc158\", \"\\uacf5\\ud3ec/\\uc2a4\\ub9b4\\ub7ec\", \"\\ub4dc\\ub77c\\ub9c8\", \"\\ub4dc\\ub77c\\ub9c8\", \"\\ucf54\\ubbf8\\ub514\", \"\\uc561\\uc158\", \"\\ub4dc\\ub77c\\ub9c8\", \"\\uc561\\uc158\", \"\\uc561\\uc158\", \"\\uacf5\\ud3ec/\\uc2a4\\ub9b4\\ub7ec\", \"\\uc561\\uc158\", \"\\uacf5\\uc5f0\\uc2e4\\ud669\", \"\\ucf54\\ubbf8\\ub514\", \"\\uac10\\ub3c5\\ud14c\\uc544 \\uc0e4\\ub85d\", \"\\ub4dc\\ub77c\\ub9c8\", \"\\uc561\\uc158\", \"\\ub4dc\\ub77c\\ub9c8\", \"\\uc561\\uc158\", \"\\uc561\\uc158\", \"\\uc561\\uc158\", \"\\uc561\\uc158\", \"\\uc561\\uc158\", \"\\uc561\\uc158\", \"\\ub4dc\\ub77c\\ub9c8\", \"\\uc561\\uc158\", \"\\ub4dc\\ub77c\\ub9c8\", \"\\uc561\\uc158\", \"\\uc561\\uc158\", \"\\uc561\\uc158\", \"\\uc561\\uc158\", \"\\ub4dc\\ub77c\\ub9c8\", \"\\ucf54\\ubbf8\\ub514\", \"\\uc561\\uc158\", \"\\ucf54\\ubbf8\\ub514\", \"\\ucf54\\ubbf8\\ub514\", \"\\uc561\\uc158\", \"\\uc561\\uc158\", \"\\ub4dc\\ub77c\\ub9c8\", \"\\ub4dc\\ub77c\\ub9c8\", \"\\uc561\\uc158\", \"\\ub4dc\\ub77c\\ub9c8\", \"\\ucf54\\ubbf8\\ub514\", \"\\uc561\\uc158\", \"\\uc561\\uc158\"], \"legendgroup\": \"\", \"name\": \"\", \"showlegend\": true, \"type\": \"pie\", \"values\": [7, 8, 9, 9, 9, 8, 9, 8, 9, 8, 7, 8, 8, 8, 8, 7, 8, 7, 9, 9, 8, 8, 8, 7, 8, 9, 9, 8, 9, 8, 9, 8, 7, 7, 7, 8, 9, 8, 8, 8, 9, 7, 8, 9, 9, 8, 8, 9, 8, 7, 9, 9, 9, 7, 9, 9, 8, 8]}],\n",
              "                        {\"legend\": {\"tracegroupgap\": 0}, \"margin\": {\"t\": 60}, \"template\": {\"data\": {\"bar\": [{\"error_x\": {\"color\": \"#2a3f5f\"}, \"error_y\": {\"color\": \"#2a3f5f\"}, \"marker\": {\"line\": {\"color\": \"#E5ECF6\", \"width\": 0.5}}, \"type\": \"bar\"}], \"barpolar\": [{\"marker\": {\"line\": {\"color\": \"#E5ECF6\", \"width\": 0.5}}, \"type\": \"barpolar\"}], \"carpet\": [{\"aaxis\": {\"endlinecolor\": \"#2a3f5f\", \"gridcolor\": \"white\", \"linecolor\": \"white\", \"minorgridcolor\": \"white\", \"startlinecolor\": \"#2a3f5f\"}, \"baxis\": {\"endlinecolor\": \"#2a3f5f\", \"gridcolor\": \"white\", \"linecolor\": \"white\", \"minorgridcolor\": \"white\", \"startlinecolor\": \"#2a3f5f\"}, \"type\": \"carpet\"}], \"choropleth\": [{\"colorbar\": {\"outlinewidth\": 0, \"ticks\": \"\"}, \"type\": \"choropleth\"}], \"contour\": [{\"colorbar\": {\"outlinewidth\": 0, \"ticks\": \"\"}, \"colorscale\": [[0.0, \"#0d0887\"], [0.1111111111111111, \"#46039f\"], [0.2222222222222222, \"#7201a8\"], [0.3333333333333333, \"#9c179e\"], [0.4444444444444444, \"#bd3786\"], [0.5555555555555556, \"#d8576b\"], [0.6666666666666666, \"#ed7953\"], [0.7777777777777778, \"#fb9f3a\"], [0.8888888888888888, \"#fdca26\"], [1.0, \"#f0f921\"]], \"type\": \"contour\"}], \"contourcarpet\": [{\"colorbar\": {\"outlinewidth\": 0, \"ticks\": \"\"}, \"type\": \"contourcarpet\"}], \"heatmap\": [{\"colorbar\": {\"outlinewidth\": 0, \"ticks\": \"\"}, \"colorscale\": [[0.0, \"#0d0887\"], [0.1111111111111111, \"#46039f\"], [0.2222222222222222, \"#7201a8\"], [0.3333333333333333, \"#9c179e\"], [0.4444444444444444, \"#bd3786\"], [0.5555555555555556, \"#d8576b\"], [0.6666666666666666, \"#ed7953\"], [0.7777777777777778, \"#fb9f3a\"], [0.8888888888888888, \"#fdca26\"], [1.0, \"#f0f921\"]], \"type\": \"heatmap\"}], \"heatmapgl\": [{\"colorbar\": {\"outlinewidth\": 0, \"ticks\": \"\"}, \"colorscale\": [[0.0, \"#0d0887\"], [0.1111111111111111, \"#46039f\"], [0.2222222222222222, \"#7201a8\"], [0.3333333333333333, \"#9c179e\"], [0.4444444444444444, \"#bd3786\"], [0.5555555555555556, \"#d8576b\"], [0.6666666666666666, \"#ed7953\"], [0.7777777777777778, \"#fb9f3a\"], [0.8888888888888888, \"#fdca26\"], [1.0, \"#f0f921\"]], \"type\": \"heatmapgl\"}], \"histogram\": [{\"marker\": {\"colorbar\": {\"outlinewidth\": 0, \"ticks\": \"\"}}, \"type\": \"histogram\"}], \"histogram2d\": [{\"colorbar\": {\"outlinewidth\": 0, \"ticks\": \"\"}, \"colorscale\": [[0.0, \"#0d0887\"], [0.1111111111111111, \"#46039f\"], [0.2222222222222222, \"#7201a8\"], [0.3333333333333333, \"#9c179e\"], [0.4444444444444444, \"#bd3786\"], [0.5555555555555556, \"#d8576b\"], [0.6666666666666666, \"#ed7953\"], [0.7777777777777778, \"#fb9f3a\"], [0.8888888888888888, \"#fdca26\"], [1.0, \"#f0f921\"]], \"type\": \"histogram2d\"}], \"histogram2dcontour\": [{\"colorbar\": {\"outlinewidth\": 0, \"ticks\": \"\"}, \"colorscale\": [[0.0, \"#0d0887\"], [0.1111111111111111, \"#46039f\"], [0.2222222222222222, \"#7201a8\"], [0.3333333333333333, \"#9c179e\"], [0.4444444444444444, \"#bd3786\"], [0.5555555555555556, \"#d8576b\"], [0.6666666666666666, \"#ed7953\"], [0.7777777777777778, \"#fb9f3a\"], [0.8888888888888888, \"#fdca26\"], [1.0, \"#f0f921\"]], \"type\": \"histogram2dcontour\"}], \"mesh3d\": [{\"colorbar\": {\"outlinewidth\": 0, \"ticks\": \"\"}, \"type\": \"mesh3d\"}], \"parcoords\": [{\"line\": {\"colorbar\": {\"outlinewidth\": 0, \"ticks\": \"\"}}, \"type\": \"parcoords\"}], \"pie\": [{\"automargin\": true, \"type\": \"pie\"}], \"scatter\": [{\"marker\": {\"colorbar\": {\"outlinewidth\": 0, \"ticks\": \"\"}}, \"type\": \"scatter\"}], \"scatter3d\": [{\"line\": {\"colorbar\": {\"outlinewidth\": 0, \"ticks\": \"\"}}, \"marker\": {\"colorbar\": {\"outlinewidth\": 0, \"ticks\": \"\"}}, \"type\": \"scatter3d\"}], \"scattercarpet\": [{\"marker\": {\"colorbar\": {\"outlinewidth\": 0, \"ticks\": \"\"}}, \"type\": \"scattercarpet\"}], \"scattergeo\": [{\"marker\": {\"colorbar\": {\"outlinewidth\": 0, \"ticks\": \"\"}}, \"type\": \"scattergeo\"}], \"scattergl\": [{\"marker\": {\"colorbar\": {\"outlinewidth\": 0, \"ticks\": \"\"}}, \"type\": \"scattergl\"}], \"scattermapbox\": [{\"marker\": {\"colorbar\": {\"outlinewidth\": 0, \"ticks\": \"\"}}, \"type\": \"scattermapbox\"}], \"scatterpolar\": [{\"marker\": {\"colorbar\": {\"outlinewidth\": 0, \"ticks\": \"\"}}, \"type\": \"scatterpolar\"}], \"scatterpolargl\": [{\"marker\": {\"colorbar\": {\"outlinewidth\": 0, \"ticks\": \"\"}}, \"type\": \"scatterpolargl\"}], \"scatterternary\": [{\"marker\": {\"colorbar\": {\"outlinewidth\": 0, \"ticks\": \"\"}}, \"type\": \"scatterternary\"}], \"surface\": [{\"colorbar\": {\"outlinewidth\": 0, \"ticks\": \"\"}, \"colorscale\": [[0.0, \"#0d0887\"], [0.1111111111111111, \"#46039f\"], [0.2222222222222222, \"#7201a8\"], [0.3333333333333333, \"#9c179e\"], [0.4444444444444444, \"#bd3786\"], [0.5555555555555556, \"#d8576b\"], [0.6666666666666666, \"#ed7953\"], [0.7777777777777778, \"#fb9f3a\"], [0.8888888888888888, \"#fdca26\"], [1.0, \"#f0f921\"]], \"type\": \"surface\"}], \"table\": [{\"cells\": {\"fill\": {\"color\": \"#EBF0F8\"}, \"line\": {\"color\": \"white\"}}, \"header\": {\"fill\": {\"color\": \"#C8D4E3\"}, \"line\": {\"color\": \"white\"}}, \"type\": \"table\"}]}, \"layout\": {\"annotationdefaults\": {\"arrowcolor\": \"#2a3f5f\", \"arrowhead\": 0, \"arrowwidth\": 1}, \"coloraxis\": {\"colorbar\": {\"outlinewidth\": 0, \"ticks\": \"\"}}, \"colorscale\": {\"diverging\": [[0, \"#8e0152\"], [0.1, \"#c51b7d\"], [0.2, \"#de77ae\"], [0.3, \"#f1b6da\"], [0.4, \"#fde0ef\"], [0.5, \"#f7f7f7\"], [0.6, \"#e6f5d0\"], [0.7, \"#b8e186\"], [0.8, \"#7fbc41\"], [0.9, \"#4d9221\"], [1, \"#276419\"]], \"sequential\": [[0.0, \"#0d0887\"], [0.1111111111111111, \"#46039f\"], [0.2222222222222222, \"#7201a8\"], [0.3333333333333333, \"#9c179e\"], [0.4444444444444444, \"#bd3786\"], [0.5555555555555556, \"#d8576b\"], [0.6666666666666666, \"#ed7953\"], [0.7777777777777778, \"#fb9f3a\"], [0.8888888888888888, \"#fdca26\"], [1.0, \"#f0f921\"]], \"sequentialminus\": [[0.0, \"#0d0887\"], [0.1111111111111111, \"#46039f\"], [0.2222222222222222, \"#7201a8\"], [0.3333333333333333, \"#9c179e\"], [0.4444444444444444, \"#bd3786\"], [0.5555555555555556, \"#d8576b\"], [0.6666666666666666, \"#ed7953\"], [0.7777777777777778, \"#fb9f3a\"], [0.8888888888888888, \"#fdca26\"], [1.0, \"#f0f921\"]]}, \"colorway\": [\"#636efa\", \"#EF553B\", \"#00cc96\", \"#ab63fa\", \"#FFA15A\", \"#19d3f3\", \"#FF6692\", \"#B6E880\", \"#FF97FF\", \"#FECB52\"], \"font\": {\"color\": \"#2a3f5f\"}, \"geo\": {\"bgcolor\": \"white\", \"lakecolor\": \"white\", \"landcolor\": \"#E5ECF6\", \"showlakes\": true, \"showland\": true, \"subunitcolor\": \"white\"}, \"hoverlabel\": {\"align\": \"left\"}, \"hovermode\": \"closest\", \"mapbox\": {\"style\": \"light\"}, \"paper_bgcolor\": \"white\", \"plot_bgcolor\": \"#E5ECF6\", \"polar\": {\"angularaxis\": {\"gridcolor\": \"white\", \"linecolor\": \"white\", \"ticks\": \"\"}, \"bgcolor\": \"#E5ECF6\", \"radialaxis\": {\"gridcolor\": \"white\", \"linecolor\": \"white\", \"ticks\": \"\"}}, \"scene\": {\"xaxis\": {\"backgroundcolor\": \"#E5ECF6\", \"gridcolor\": \"white\", \"gridwidth\": 2, \"linecolor\": \"white\", \"showbackground\": true, \"ticks\": \"\", \"zerolinecolor\": \"white\"}, \"yaxis\": {\"backgroundcolor\": \"#E5ECF6\", \"gridcolor\": \"white\", \"gridwidth\": 2, \"linecolor\": \"white\", \"showbackground\": true, \"ticks\": \"\", \"zerolinecolor\": \"white\"}, \"zaxis\": {\"backgroundcolor\": \"#E5ECF6\", \"gridcolor\": \"white\", \"gridwidth\": 2, \"linecolor\": \"white\", \"showbackground\": true, \"ticks\": \"\", \"zerolinecolor\": \"white\"}}, \"shapedefaults\": {\"line\": {\"color\": \"#2a3f5f\"}}, \"ternary\": {\"aaxis\": {\"gridcolor\": \"white\", \"linecolor\": \"white\", \"ticks\": \"\"}, \"baxis\": {\"gridcolor\": \"white\", \"linecolor\": \"white\", \"ticks\": \"\"}, \"bgcolor\": \"#E5ECF6\", \"caxis\": {\"gridcolor\": \"white\", \"linecolor\": \"white\", \"ticks\": \"\"}}, \"title\": {\"x\": 0.05}, \"xaxis\": {\"automargin\": true, \"gridcolor\": \"white\", \"linecolor\": \"white\", \"ticks\": \"\", \"title\": {\"standoff\": 15}, \"zerolinecolor\": \"white\", \"zerolinewidth\": 2}, \"yaxis\": {\"automargin\": true, \"gridcolor\": \"white\", \"linecolor\": \"white\", \"ticks\": \"\", \"title\": {\"standoff\": 15}, \"zerolinecolor\": \"white\", \"zerolinewidth\": 2}}}},\n",
              "                        {\"responsive\": true}\n",
              "                    ).then(function(){\n",
              "                            \n",
              "var gd = document.getElementById('0fa6f0ca-6af1-4921-be42-bcd73158fc01');\n",
              "var x = new MutationObserver(function (mutations, observer) {{\n",
              "        var display = window.getComputedStyle(gd).display;\n",
              "        if (!display || display === 'none') {{\n",
              "            console.log([gd, 'removed!']);\n",
              "            Plotly.purge(gd);\n",
              "            observer.disconnect();\n",
              "        }}\n",
              "}});\n",
              "\n",
              "// Listen for the removal of the full notebook cells\n",
              "var notebookContainer = gd.closest('#notebook-container');\n",
              "if (notebookContainer) {{\n",
              "    x.observe(notebookContainer, {childList: true});\n",
              "}}\n",
              "\n",
              "// Listen for the clearing of the current output cell\n",
              "var outputEl = gd.closest('.output');\n",
              "if (outputEl) {{\n",
              "    x.observe(outputEl, {childList: true});\n",
              "}}\n",
              "\n",
              "                        })\n",
              "                };\n",
              "                \n",
              "            </script>\n",
              "        </div>\n",
              "</body>\n",
              "</html>"
            ]
          },
          "metadata": {
            "tags": []
          }
        }
      ]
    },
    {
      "cell_type": "code",
      "metadata": {
        "colab": {
          "base_uri": "https://localhost:8080/",
          "height": 542
        },
        "id": "NLo8n_0C21CF",
        "outputId": "68b2e1c5-66df-4c66-fb8d-9afb5da825c3"
      },
      "source": [
        "fig = px.bar(df, x='제목', y='평점', color='장르')\n",
        "fig.show()"
      ],
      "execution_count": 29,
      "outputs": [
        {
          "output_type": "display_data",
          "data": {
            "text/html": [
              "<html>\n",
              "<head><meta charset=\"utf-8\" /></head>\n",
              "<body>\n",
              "    <div>\n",
              "            <script src=\"https://cdnjs.cloudflare.com/ajax/libs/mathjax/2.7.5/MathJax.js?config=TeX-AMS-MML_SVG\"></script><script type=\"text/javascript\">if (window.MathJax) {MathJax.Hub.Config({SVG: {font: \"STIX-Web\"}});}</script>\n",
              "                <script type=\"text/javascript\">window.PlotlyConfig = {MathJaxConfig: 'local'};</script>\n",
              "        <script src=\"https://cdn.plot.ly/plotly-latest.min.js\"></script>    \n",
              "            <div id=\"1f8174c9-c57b-4e44-ad42-cfd824f3da57\" class=\"plotly-graph-div\" style=\"height:525px; width:100%;\"></div>\n",
              "            <script type=\"text/javascript\">\n",
              "                \n",
              "                    window.PLOTLYENV=window.PLOTLYENV || {};\n",
              "                    \n",
              "                if (document.getElementById(\"1f8174c9-c57b-4e44-ad42-cfd824f3da57\")) {\n",
              "                    Plotly.newPlot(\n",
              "                        '1f8174c9-c57b-4e44-ad42-cfd824f3da57',\n",
              "                        [{\"alignmentgroup\": \"True\", \"hoverlabel\": {\"namelength\": 0}, \"hovertemplate\": \"\\uc7a5\\ub974=\\ub4dc\\ub77c\\ub9c8<br>\\uc81c\\ubaa9=%{x}<br>\\ud3c9\\uc810=%{y}\", \"legendgroup\": \"\\uc7a5\\ub974=\\ub4dc\\ub77c\\ub9c8\", \"marker\": {\"color\": \"#636efa\"}, \"name\": \"\\uc7a5\\ub974=\\ub4dc\\ub77c\\ub9c8\", \"offsetgroup\": \"\\uc7a5\\ub974=\\ub4dc\\ub77c\\ub9c8\", \"orientation\": \"v\", \"showlegend\": true, \"textposition\": \"auto\", \"type\": \"bar\", \"x\": [\"\\ubbf8\\ub098\\ub9ac\", \"\\uc790\\uc0b0\\uc5b4\\ubcf4\", \"\\ub178\\ub9e4\\ub4dc\\ub79c\\ub4dc\", \"\\ub77c\\ub77c\\ub79c\\ub4dc\", \"\\uc870\\ucee4\", \"\\ub2e4\\ud06c \\uc6cc\\ud130\\uc2a4\", \"\\uc560\\ud504\\ud130\", \"\\ub354 \\ud30c\\ub354\", \"\\ub178\\ud2b8\\ubd81\", \"\\uc2a4\\ud0c0 \\uc774\\uc988 \\ubcf8\", \"\\uae30\\uc0dd\\ucda9\", \"\\ub108\\uc758 \\uc774\\ub984\\uc740.\", \"\\ube44\\uc640 \\ub2f9\\uc2e0\\uc758 \\uc774\\uc57c\\uae30\", \"\\uadf8\\ub9b0 \\ubd81\", \"\\ubdf0\\ud2f0\\ud480 \\ub9c8\\uc778\\ub4dc\", \"\\uc6d0\\ub354\", \"\\uc5ec\\ubc30\\uc6b0\\ub4e4\", \"\\uc704\\ub300\\ud55c \\uc1fc\\ub9e8\"], \"xaxis\": \"x\", \"y\": [7, 9, 8, 8, 8, 8, 7, 8, 9, 9, 8, 8, 6, 9, 9, 9, 6, 9], \"yaxis\": \"y\"}, {\"alignmentgroup\": \"True\", \"hoverlabel\": {\"namelength\": 0}, \"hovertemplate\": \"\\uc7a5\\ub974=\\uc561\\uc158<br>\\uc81c\\ubaa9=%{x}<br>\\ud3c9\\uc810=%{y}\", \"legendgroup\": \"\\uc7a5\\ub974=\\uc561\\uc158\", \"marker\": {\"color\": \"#EF553B\"}, \"name\": \"\\uc7a5\\ub974=\\uc561\\uc158\", \"offsetgroup\": \"\\uc7a5\\ub974=\\uc561\\uc158\", \"orientation\": \"v\", \"showlegend\": true, \"textposition\": \"auto\", \"type\": \"bar\", \"x\": [\"\\ub178\\ubc14\\ub514 \", \"\\uace0\\uc9c8\\ub77c VS. \\ucf69\", \"\\uc5b4\\ubca4\\uc838\\uc2a4: \\uc5d4\\ub4dc\\uac8c\\uc784\", \"\\uc7ad \\uc2a4\\ub098\\uc774\\ub354\\uc758 \\uc800\\uc2a4\\ud2f0\\uc2a4 \\ub9ac\\uadf8\", \"\\ubd84\\ub178\\uc758 \\uc9c8\\uc8fc: \\ub354 \\uc138\\ube10\", \"\\ubd84\\ub178\\uc758 \\uc9c8\\uc8fc: \\ud649\\uc2a4&\\uc1fc\", \"\\ud14c\\ub137\", \"\\ubd84\\ub178\\uc758 \\uc9c8\\uc8fc: \\ub354 \\uc775\\uc2a4\\ud2b8\\ub9bc\", \"\\uc54c\\ub77c\\ub518\", \"\\ubd84\\ub178\\uc758 \\uc9c8\\uc8fc: \\uc5b8\\ub9ac\\ubbf8\\ud2f0\\ub4dc\", \"\\ubd84\\ub178\\uc758 \\uc9c8\\uc8fc: \\ub354 \\ub9e5\\uc2dc\\uba48\", \"\\ubd84\\ub178\\uc758 \\uc9c8\\uc8fc: \\ub354 \\uc624\\ub9ac\\uc9c0\\ub110\", \"\\ub808\\ub514 \\ud50c\\ub808\\uc774\\uc5b4 \\uc6d0\", \"\\uc5b4\\ubca4\\uc838\\uc2a4: \\uc778\\ud53c\\ub2c8\\ud2f0 \\uc6cc\", \"\\ub3c4\\uad74\", \"\\ud328\\uc2a4\\ud2b8 & \\ud4e8\\ub9ac\\uc5b4\\uc2a4 - \\ub3c4\\ucfc4 \\ub4dc\\ub9ac\\ud504\\ud2b8\", \"\\ubca0\\ub188\", \"\\ud328\\uc2a4\\ud2b8 & \\ud4e8\\ub9ac\\uc5b4\\uc2a4 2\", \"\\ucf54\\ucf54\", \"\\ubd84\\ub178\\uc758 \\uc9c8\\uc8fc\", \"\\ud574\\ub9ac \\ud3ec\\ud130\\uc640 \\ub9c8\\ubc95\\uc0ac\\uc758 \\ub3cc\", \"\\ub2e4\\ub9cc \\uc545\\uc5d0\\uc11c \\uad6c\\ud558\\uc18c\\uc11c\", \"\\uc2dc\\uce74\\uace0\", \"\\uc544\\uc77c\\ub77c\", \"\\uaca8\\uc6b8\\uc655\\uad6d 2\", \"\\ub514.\\uc774.\\ube44.\\uc5d0\\uc2a4.\", \"\\ud5dd\\uac70\\uac8c\\uc784 : \\ub354 \\ud30c\\uc774\\ub110\", \"\\uc18c\\ub144\\uc2dc\\uc808\\uc758 \\ub108\", \"\\uba54\\uc774\\uc988 \\ub7ec\\ub108: \\ub370\\uc2a4 \\ud050\\uc5b4\", \"\\uc5b4\\ubca4\\uc838\\uc2a4\", \"\\ud574\\ub9ac \\ud3ec\\ud130\\uc640 \\ube44\\ubc00\\uc758 \\ubc29\", \"\\uc6d0\\ub354 \\uc6b0\\uba3c 1984\"], \"xaxis\": \"x\", \"y\": [8, 8, 9, 0, 9, 7, 8, 8, 9, 8, 8, 8, 8, 8, 7, 7, 7, 8, 9, 8, 9, 7, 8, 9, 8, 4, 7, 9, 7, 8, 8, 5], \"yaxis\": \"y\"}, {\"alignmentgroup\": \"True\", \"hoverlabel\": {\"namelength\": 0}, \"hovertemplate\": \"\\uc7a5\\ub974=\\uc560\\ub2c8\\uba54\\uc774\\uc158<br>\\uc81c\\ubaa9=%{x}<br>\\ud3c9\\uc810=%{y}\", \"legendgroup\": \"\\uc7a5\\ub974=\\uc560\\ub2c8\\uba54\\uc774\\uc158\", \"marker\": {\"color\": \"#00cc96\"}, \"name\": \"\\uc7a5\\ub974=\\uc560\\ub2c8\\uba54\\uc774\\uc158\", \"offsetgroup\": \"\\uc7a5\\ub974=\\uc560\\ub2c8\\uba54\\uc774\\uc158\", \"orientation\": \"v\", \"showlegend\": true, \"textposition\": \"auto\", \"type\": \"bar\", \"x\": [\"\\ub77c\\uc57c\\uc640 \\ub9c8\\uc9c0\\ub9c9 \\ub4dc\\ub798\\uace4\", \"\\uc18c\\uc6b8\", \"\\uba85\\ud0d0\\uc815 \\ucf54\\ub09c : \\ube44\\uc0c9\\uc758 \\ubd80\\uc7ac\\uc99d\\uba85\"], \"xaxis\": \"x\", \"y\": [9, 9, 0], \"yaxis\": \"y\"}, {\"alignmentgroup\": \"True\", \"hoverlabel\": {\"namelength\": 0}, \"hovertemplate\": \"\\uc7a5\\ub974=\\uba5c\\ub85c<br>\\uc81c\\ubaa9=%{x}<br>\\ud3c9\\uc810=%{y}\", \"legendgroup\": \"\\uc7a5\\ub974=\\uba5c\\ub85c\", \"marker\": {\"color\": \"#ab63fa\"}, \"name\": \"\\uc7a5\\ub974=\\uba5c\\ub85c\", \"offsetgroup\": \"\\uc7a5\\ub974=\\uba5c\\ub85c\", \"orientation\": \"v\", \"showlegend\": true, \"textposition\": \"auto\", \"type\": \"bar\", \"x\": [\"\\uc560\\ud504\\ud130: \\uadf8 \\ud6c4\"], \"xaxis\": \"x\", \"y\": [8], \"yaxis\": \"y\"}, {\"alignmentgroup\": \"True\", \"hoverlabel\": {\"namelength\": 0}, \"hovertemplate\": \"\\uc7a5\\ub974=\\uacf5\\ud3ec/\\uc2a4\\ub9b4\\ub7ec<br>\\uc81c\\ubaa9=%{x}<br>\\ud3c9\\uc810=%{y}\", \"legendgroup\": \"\\uc7a5\\ub974=\\uacf5\\ud3ec/\\uc2a4\\ub9b4\\ub7ec\", \"marker\": {\"color\": \"#FFA15A\"}, \"name\": \"\\uc7a5\\ub974=\\uacf5\\ud3ec/\\uc2a4\\ub9b4\\ub7ec\", \"offsetgroup\": \"\\uc7a5\\ub974=\\uacf5\\ud3ec/\\uc2a4\\ub9b4\\ub7ec\", \"orientation\": \"v\", \"showlegend\": true, \"textposition\": \"auto\", \"type\": \"bar\", \"x\": [\"\\ub0b4\\uc77c\\uc758 \\uae30\\uc5b5\", \"\\ucf70\\uc774\\uc5b4\\ud2b8 \\ud50c\\ub808\\uc774\\uc2a4\"], \"xaxis\": \"x\", \"y\": [7, 7], \"yaxis\": \"y\"}, {\"alignmentgroup\": \"True\", \"hoverlabel\": {\"namelength\": 0}, \"hovertemplate\": \"\\uc7a5\\ub974=\\ucf54\\ubbf8\\ub514<br>\\uc81c\\ubaa9=%{x}<br>\\ud3c9\\uc810=%{y}\", \"legendgroup\": \"\\uc7a5\\ub974=\\ucf54\\ubbf8\\ub514\", \"marker\": {\"color\": \"#19d3f3\"}, \"name\": \"\\uc7a5\\ub974=\\ucf54\\ubbf8\\ub514\", \"offsetgroup\": \"\\uc7a5\\ub974=\\ucf54\\ubbf8\\ub514\", \"orientation\": \"v\", \"showlegend\": true, \"textposition\": \"auto\", \"type\": \"bar\", \"x\": [\"\\ube44\\uae34 \\uc5b4\\uac8c\\uc778\", \"\\uc774\\ud504 \\uc628\\ub9ac\", \"\\uc2e0\\ub370\\ub810\\ub77c \\uc2a4\\ud1a0\\ub9ac\", \"\\uc778\\uc0ac\\uc774\\ub4dc \\uc544\\uc6c3\", \"500\\uc77c\\uc758 \\uc378\\uba38\", \"\\uc5b4\\ubc14\\uc6c3 \\ud0c0\\uc784\"], \"xaxis\": \"x\", \"y\": [9, 9, 8, 9, 8, 9], \"yaxis\": \"y\"}, {\"alignmentgroup\": \"True\", \"hoverlabel\": {\"namelength\": 0}, \"hovertemplate\": \"\\uc7a5\\ub974=\\uacf5\\uc5f0\\uc2e4\\ud669<br>\\uc81c\\ubaa9=%{x}<br>\\ud3c9\\uc810=%{y}\", \"legendgroup\": \"\\uc7a5\\ub974=\\uacf5\\uc5f0\\uc2e4\\ud669\", \"marker\": {\"color\": \"#FF6692\"}, \"name\": \"\\uc7a5\\ub974=\\uacf5\\uc5f0\\uc2e4\\ud669\", \"offsetgroup\": \"\\uc7a5\\ub974=\\uacf5\\uc5f0\\uc2e4\\ud669\", \"orientation\": \"v\", \"showlegend\": true, \"textposition\": \"auto\", \"type\": \"bar\", \"x\": [\"\\ubaac\\ud14c\\ud06c\\ub9ac\\uc2a4\\ud1a0: \\ub354 \\ubba4\\uc9c0\\uceec \\ub77c\\uc774\\ube0c\"], \"xaxis\": \"x\", \"y\": [9], \"yaxis\": \"y\"}, {\"alignmentgroup\": \"True\", \"hoverlabel\": {\"namelength\": 0}, \"hovertemplate\": \"\\uc7a5\\ub974=\\uac10\\ub3c5\\ud14c\\uc544 \\uc0e4\\ub85d<br>\\uc81c\\ubaa9=%{x}<br>\\ud3c9\\uc810=%{y}\", \"legendgroup\": \"\\uc7a5\\ub974=\\uac10\\ub3c5\\ud14c\\uc544 \\uc0e4\\ub85d\", \"marker\": {\"color\": \"#B6E880\"}, \"name\": \"\\uc7a5\\ub974=\\uac10\\ub3c5\\ud14c\\uc544 \\uc0e4\\ub85d\", \"offsetgroup\": \"\\uc7a5\\ub974=\\uac10\\ub3c5\\ud14c\\uc544 \\uc0e4\\ub85d\", \"orientation\": \"v\", \"showlegend\": true, \"textposition\": \"auto\", \"type\": \"bar\", \"x\": [\"\\ubbf8 \\ube44\\ud3ec \\uc720\"], \"xaxis\": \"x\", \"y\": [8], \"yaxis\": \"y\"}],\n",
              "                        {\"barmode\": \"relative\", \"legend\": {\"tracegroupgap\": 0}, \"margin\": {\"t\": 60}, \"template\": {\"data\": {\"bar\": [{\"error_x\": {\"color\": \"#2a3f5f\"}, \"error_y\": {\"color\": \"#2a3f5f\"}, \"marker\": {\"line\": {\"color\": \"#E5ECF6\", \"width\": 0.5}}, \"type\": \"bar\"}], \"barpolar\": [{\"marker\": {\"line\": {\"color\": \"#E5ECF6\", \"width\": 0.5}}, \"type\": \"barpolar\"}], \"carpet\": [{\"aaxis\": {\"endlinecolor\": \"#2a3f5f\", \"gridcolor\": \"white\", \"linecolor\": \"white\", \"minorgridcolor\": \"white\", \"startlinecolor\": \"#2a3f5f\"}, \"baxis\": {\"endlinecolor\": \"#2a3f5f\", \"gridcolor\": \"white\", \"linecolor\": \"white\", \"minorgridcolor\": \"white\", \"startlinecolor\": \"#2a3f5f\"}, \"type\": \"carpet\"}], \"choropleth\": [{\"colorbar\": {\"outlinewidth\": 0, \"ticks\": \"\"}, \"type\": \"choropleth\"}], \"contour\": [{\"colorbar\": {\"outlinewidth\": 0, \"ticks\": \"\"}, \"colorscale\": [[0.0, \"#0d0887\"], [0.1111111111111111, \"#46039f\"], [0.2222222222222222, \"#7201a8\"], [0.3333333333333333, \"#9c179e\"], [0.4444444444444444, \"#bd3786\"], [0.5555555555555556, \"#d8576b\"], [0.6666666666666666, \"#ed7953\"], [0.7777777777777778, \"#fb9f3a\"], [0.8888888888888888, \"#fdca26\"], [1.0, \"#f0f921\"]], \"type\": \"contour\"}], \"contourcarpet\": [{\"colorbar\": {\"outlinewidth\": 0, \"ticks\": \"\"}, \"type\": \"contourcarpet\"}], \"heatmap\": [{\"colorbar\": {\"outlinewidth\": 0, \"ticks\": \"\"}, \"colorscale\": [[0.0, \"#0d0887\"], [0.1111111111111111, \"#46039f\"], [0.2222222222222222, \"#7201a8\"], [0.3333333333333333, \"#9c179e\"], [0.4444444444444444, \"#bd3786\"], [0.5555555555555556, \"#d8576b\"], [0.6666666666666666, \"#ed7953\"], [0.7777777777777778, \"#fb9f3a\"], [0.8888888888888888, \"#fdca26\"], [1.0, \"#f0f921\"]], \"type\": \"heatmap\"}], \"heatmapgl\": [{\"colorbar\": {\"outlinewidth\": 0, \"ticks\": \"\"}, \"colorscale\": [[0.0, \"#0d0887\"], [0.1111111111111111, \"#46039f\"], [0.2222222222222222, \"#7201a8\"], [0.3333333333333333, \"#9c179e\"], [0.4444444444444444, \"#bd3786\"], [0.5555555555555556, \"#d8576b\"], [0.6666666666666666, \"#ed7953\"], [0.7777777777777778, \"#fb9f3a\"], [0.8888888888888888, \"#fdca26\"], [1.0, \"#f0f921\"]], \"type\": \"heatmapgl\"}], \"histogram\": [{\"marker\": {\"colorbar\": {\"outlinewidth\": 0, \"ticks\": \"\"}}, \"type\": \"histogram\"}], \"histogram2d\": [{\"colorbar\": {\"outlinewidth\": 0, \"ticks\": \"\"}, \"colorscale\": [[0.0, \"#0d0887\"], [0.1111111111111111, \"#46039f\"], [0.2222222222222222, \"#7201a8\"], [0.3333333333333333, \"#9c179e\"], [0.4444444444444444, \"#bd3786\"], [0.5555555555555556, \"#d8576b\"], [0.6666666666666666, \"#ed7953\"], [0.7777777777777778, \"#fb9f3a\"], [0.8888888888888888, \"#fdca26\"], [1.0, \"#f0f921\"]], \"type\": \"histogram2d\"}], \"histogram2dcontour\": [{\"colorbar\": {\"outlinewidth\": 0, \"ticks\": \"\"}, \"colorscale\": [[0.0, \"#0d0887\"], [0.1111111111111111, \"#46039f\"], [0.2222222222222222, \"#7201a8\"], [0.3333333333333333, \"#9c179e\"], [0.4444444444444444, \"#bd3786\"], [0.5555555555555556, \"#d8576b\"], [0.6666666666666666, \"#ed7953\"], [0.7777777777777778, \"#fb9f3a\"], [0.8888888888888888, \"#fdca26\"], [1.0, \"#f0f921\"]], \"type\": \"histogram2dcontour\"}], \"mesh3d\": [{\"colorbar\": {\"outlinewidth\": 0, \"ticks\": \"\"}, \"type\": \"mesh3d\"}], \"parcoords\": [{\"line\": {\"colorbar\": {\"outlinewidth\": 0, \"ticks\": \"\"}}, \"type\": \"parcoords\"}], \"pie\": [{\"automargin\": true, \"type\": \"pie\"}], \"scatter\": [{\"marker\": {\"colorbar\": {\"outlinewidth\": 0, \"ticks\": \"\"}}, \"type\": \"scatter\"}], \"scatter3d\": [{\"line\": {\"colorbar\": {\"outlinewidth\": 0, \"ticks\": \"\"}}, \"marker\": {\"colorbar\": {\"outlinewidth\": 0, \"ticks\": \"\"}}, \"type\": \"scatter3d\"}], \"scattercarpet\": [{\"marker\": {\"colorbar\": {\"outlinewidth\": 0, \"ticks\": \"\"}}, \"type\": \"scattercarpet\"}], \"scattergeo\": [{\"marker\": {\"colorbar\": {\"outlinewidth\": 0, \"ticks\": \"\"}}, \"type\": \"scattergeo\"}], \"scattergl\": [{\"marker\": {\"colorbar\": {\"outlinewidth\": 0, \"ticks\": \"\"}}, \"type\": \"scattergl\"}], \"scattermapbox\": [{\"marker\": {\"colorbar\": {\"outlinewidth\": 0, \"ticks\": \"\"}}, \"type\": \"scattermapbox\"}], \"scatterpolar\": [{\"marker\": {\"colorbar\": {\"outlinewidth\": 0, \"ticks\": \"\"}}, \"type\": \"scatterpolar\"}], \"scatterpolargl\": [{\"marker\": {\"colorbar\": {\"outlinewidth\": 0, \"ticks\": \"\"}}, \"type\": \"scatterpolargl\"}], \"scatterternary\": [{\"marker\": {\"colorbar\": {\"outlinewidth\": 0, \"ticks\": \"\"}}, \"type\": \"scatterternary\"}], \"surface\": [{\"colorbar\": {\"outlinewidth\": 0, \"ticks\": \"\"}, \"colorscale\": [[0.0, \"#0d0887\"], [0.1111111111111111, \"#46039f\"], [0.2222222222222222, \"#7201a8\"], [0.3333333333333333, \"#9c179e\"], [0.4444444444444444, \"#bd3786\"], [0.5555555555555556, \"#d8576b\"], [0.6666666666666666, \"#ed7953\"], [0.7777777777777778, \"#fb9f3a\"], [0.8888888888888888, \"#fdca26\"], [1.0, \"#f0f921\"]], \"type\": \"surface\"}], \"table\": [{\"cells\": {\"fill\": {\"color\": \"#EBF0F8\"}, \"line\": {\"color\": \"white\"}}, \"header\": {\"fill\": {\"color\": \"#C8D4E3\"}, \"line\": {\"color\": \"white\"}}, \"type\": \"table\"}]}, \"layout\": {\"annotationdefaults\": {\"arrowcolor\": \"#2a3f5f\", \"arrowhead\": 0, \"arrowwidth\": 1}, \"coloraxis\": {\"colorbar\": {\"outlinewidth\": 0, \"ticks\": \"\"}}, \"colorscale\": {\"diverging\": [[0, \"#8e0152\"], [0.1, \"#c51b7d\"], [0.2, \"#de77ae\"], [0.3, \"#f1b6da\"], [0.4, \"#fde0ef\"], [0.5, \"#f7f7f7\"], [0.6, \"#e6f5d0\"], [0.7, \"#b8e186\"], [0.8, \"#7fbc41\"], [0.9, \"#4d9221\"], [1, \"#276419\"]], \"sequential\": [[0.0, \"#0d0887\"], [0.1111111111111111, \"#46039f\"], [0.2222222222222222, \"#7201a8\"], [0.3333333333333333, \"#9c179e\"], [0.4444444444444444, \"#bd3786\"], [0.5555555555555556, \"#d8576b\"], [0.6666666666666666, \"#ed7953\"], [0.7777777777777778, \"#fb9f3a\"], [0.8888888888888888, \"#fdca26\"], [1.0, \"#f0f921\"]], \"sequentialminus\": [[0.0, \"#0d0887\"], [0.1111111111111111, \"#46039f\"], [0.2222222222222222, \"#7201a8\"], [0.3333333333333333, \"#9c179e\"], [0.4444444444444444, \"#bd3786\"], [0.5555555555555556, \"#d8576b\"], [0.6666666666666666, \"#ed7953\"], [0.7777777777777778, \"#fb9f3a\"], [0.8888888888888888, \"#fdca26\"], [1.0, \"#f0f921\"]]}, \"colorway\": [\"#636efa\", \"#EF553B\", \"#00cc96\", \"#ab63fa\", \"#FFA15A\", \"#19d3f3\", \"#FF6692\", \"#B6E880\", \"#FF97FF\", \"#FECB52\"], \"font\": {\"color\": \"#2a3f5f\"}, \"geo\": {\"bgcolor\": \"white\", \"lakecolor\": \"white\", \"landcolor\": \"#E5ECF6\", \"showlakes\": true, \"showland\": true, \"subunitcolor\": \"white\"}, \"hoverlabel\": {\"align\": \"left\"}, \"hovermode\": \"closest\", \"mapbox\": {\"style\": \"light\"}, \"paper_bgcolor\": \"white\", \"plot_bgcolor\": \"#E5ECF6\", \"polar\": {\"angularaxis\": {\"gridcolor\": \"white\", \"linecolor\": \"white\", \"ticks\": \"\"}, \"bgcolor\": \"#E5ECF6\", \"radialaxis\": {\"gridcolor\": \"white\", \"linecolor\": \"white\", \"ticks\": \"\"}}, \"scene\": {\"xaxis\": {\"backgroundcolor\": \"#E5ECF6\", \"gridcolor\": \"white\", \"gridwidth\": 2, \"linecolor\": \"white\", \"showbackground\": true, \"ticks\": \"\", \"zerolinecolor\": \"white\"}, \"yaxis\": {\"backgroundcolor\": \"#E5ECF6\", \"gridcolor\": \"white\", \"gridwidth\": 2, \"linecolor\": \"white\", \"showbackground\": true, \"ticks\": \"\", \"zerolinecolor\": \"white\"}, \"zaxis\": {\"backgroundcolor\": \"#E5ECF6\", \"gridcolor\": \"white\", \"gridwidth\": 2, \"linecolor\": \"white\", \"showbackground\": true, \"ticks\": \"\", \"zerolinecolor\": \"white\"}}, \"shapedefaults\": {\"line\": {\"color\": \"#2a3f5f\"}}, \"ternary\": {\"aaxis\": {\"gridcolor\": \"white\", \"linecolor\": \"white\", \"ticks\": \"\"}, \"baxis\": {\"gridcolor\": \"white\", \"linecolor\": \"white\", \"ticks\": \"\"}, \"bgcolor\": \"#E5ECF6\", \"caxis\": {\"gridcolor\": \"white\", \"linecolor\": \"white\", \"ticks\": \"\"}}, \"title\": {\"x\": 0.05}, \"xaxis\": {\"automargin\": true, \"gridcolor\": \"white\", \"linecolor\": \"white\", \"ticks\": \"\", \"title\": {\"standoff\": 15}, \"zerolinecolor\": \"white\", \"zerolinewidth\": 2}, \"yaxis\": {\"automargin\": true, \"gridcolor\": \"white\", \"linecolor\": \"white\", \"ticks\": \"\", \"title\": {\"standoff\": 15}, \"zerolinecolor\": \"white\", \"zerolinewidth\": 2}}}, \"xaxis\": {\"anchor\": \"y\", \"domain\": [0.0, 1.0], \"title\": {\"text\": \"\\uc81c\\ubaa9\"}}, \"yaxis\": {\"anchor\": \"x\", \"domain\": [0.0, 1.0], \"title\": {\"text\": \"\\ud3c9\\uc810\"}}},\n",
              "                        {\"responsive\": true}\n",
              "                    ).then(function(){\n",
              "                            \n",
              "var gd = document.getElementById('1f8174c9-c57b-4e44-ad42-cfd824f3da57');\n",
              "var x = new MutationObserver(function (mutations, observer) {{\n",
              "        var display = window.getComputedStyle(gd).display;\n",
              "        if (!display || display === 'none') {{\n",
              "            console.log([gd, 'removed!']);\n",
              "            Plotly.purge(gd);\n",
              "            observer.disconnect();\n",
              "        }}\n",
              "}});\n",
              "\n",
              "// Listen for the removal of the full notebook cells\n",
              "var notebookContainer = gd.closest('#notebook-container');\n",
              "if (notebookContainer) {{\n",
              "    x.observe(notebookContainer, {childList: true});\n",
              "}}\n",
              "\n",
              "// Listen for the clearing of the current output cell\n",
              "var outputEl = gd.closest('.output');\n",
              "if (outputEl) {{\n",
              "    x.observe(outputEl, {childList: true});\n",
              "}}\n",
              "\n",
              "                        })\n",
              "                };\n",
              "                \n",
              "            </script>\n",
              "        </div>\n",
              "</body>\n",
              "</html>"
            ]
          },
          "metadata": {
            "tags": []
          }
        }
      ]
    },
    {
      "cell_type": "code",
      "metadata": {
        "colab": {
          "base_uri": "https://localhost:8080/",
          "height": 542
        },
        "id": "5HU4WAhl23I_",
        "outputId": "e52b6c25-8853-486b-b23a-5f84401639cc"
      },
      "source": [
        "fig = px.bar(df, x='제목', y='평점')\n",
        "fig.show()\n"
      ],
      "execution_count": 30,
      "outputs": [
        {
          "output_type": "display_data",
          "data": {
            "text/html": [
              "<html>\n",
              "<head><meta charset=\"utf-8\" /></head>\n",
              "<body>\n",
              "    <div>\n",
              "            <script src=\"https://cdnjs.cloudflare.com/ajax/libs/mathjax/2.7.5/MathJax.js?config=TeX-AMS-MML_SVG\"></script><script type=\"text/javascript\">if (window.MathJax) {MathJax.Hub.Config({SVG: {font: \"STIX-Web\"}});}</script>\n",
              "                <script type=\"text/javascript\">window.PlotlyConfig = {MathJaxConfig: 'local'};</script>\n",
              "        <script src=\"https://cdn.plot.ly/plotly-latest.min.js\"></script>    \n",
              "            <div id=\"a8a86090-8cc7-458b-859d-51a8319255fd\" class=\"plotly-graph-div\" style=\"height:525px; width:100%;\"></div>\n",
              "            <script type=\"text/javascript\">\n",
              "                \n",
              "                    window.PLOTLYENV=window.PLOTLYENV || {};\n",
              "                    \n",
              "                if (document.getElementById(\"a8a86090-8cc7-458b-859d-51a8319255fd\")) {\n",
              "                    Plotly.newPlot(\n",
              "                        'a8a86090-8cc7-458b-859d-51a8319255fd',\n",
              "                        [{\"alignmentgroup\": \"True\", \"hoverlabel\": {\"namelength\": 0}, \"hovertemplate\": \"\\uc81c\\ubaa9=%{x}<br>\\ud3c9\\uc810=%{y}\", \"legendgroup\": \"\", \"marker\": {\"color\": \"#636efa\"}, \"name\": \"\", \"offsetgroup\": \"\", \"orientation\": \"v\", \"showlegend\": false, \"textposition\": \"auto\", \"type\": \"bar\", \"x\": [\"\\ubbf8\\ub098\\ub9ac\", \"\\ub178\\ubc14\\ub514 \", \"\\uc790\\uc0b0\\uc5b4\\ubcf4\", \"\\ub77c\\uc57c\\uc640 \\ub9c8\\uc9c0\\ub9c9 \\ub4dc\\ub798\\uace4\", \"\\uc18c\\uc6b8\", \"\\uace0\\uc9c8\\ub77c VS. \\ucf69\", \"\\uc5b4\\ubca4\\uc838\\uc2a4: \\uc5d4\\ub4dc\\uac8c\\uc784\", \"\\uc7ad \\uc2a4\\ub098\\uc774\\ub354\\uc758 \\uc800\\uc2a4\\ud2f0\\uc2a4 \\ub9ac\\uadf8\", \"\\ub178\\ub9e4\\ub4dc\\ub79c\\ub4dc\", \"\\ubd84\\ub178\\uc758 \\uc9c8\\uc8fc: \\ub354 \\uc138\\ube10\", \"\\ub77c\\ub77c\\ub79c\\ub4dc\", \"\\ubd84\\ub178\\uc758 \\uc9c8\\uc8fc: \\ud649\\uc2a4&\\uc1fc\", \"\\ud14c\\ub137\", \"\\uc560\\ud504\\ud130: \\uadf8 \\ud6c4\", \"\\uc870\\ucee4\", \"\\ubd84\\ub178\\uc758 \\uc9c8\\uc8fc: \\ub354 \\uc775\\uc2a4\\ud2b8\\ub9bc\", \"\\ub0b4\\uc77c\\uc758 \\uae30\\uc5b5\", \"\\ub2e4\\ud06c \\uc6cc\\ud130\\uc2a4\", \"\\uc560\\ud504\\ud130\", \"\\ube44\\uae34 \\uc5b4\\uac8c\\uc778\", \"\\uc54c\\ub77c\\ub518\", \"\\ub354 \\ud30c\\ub354\", \"\\ubd84\\ub178\\uc758 \\uc9c8\\uc8fc: \\uc5b8\\ub9ac\\ubbf8\\ud2f0\\ub4dc\", \"\\ubd84\\ub178\\uc758 \\uc9c8\\uc8fc: \\ub354 \\ub9e5\\uc2dc\\uba48\", \"\\ucf70\\uc774\\uc5b4\\ud2b8 \\ud50c\\ub808\\uc774\\uc2a4\", \"\\ubd84\\ub178\\uc758 \\uc9c8\\uc8fc: \\ub354 \\uc624\\ub9ac\\uc9c0\\ub110\", \"\\ubaac\\ud14c\\ud06c\\ub9ac\\uc2a4\\ud1a0: \\ub354 \\ubba4\\uc9c0\\uceec \\ub77c\\uc774\\ube0c\", \"\\uc774\\ud504 \\uc628\\ub9ac\", \"\\ubbf8 \\ube44\\ud3ec \\uc720\", \"\\ub178\\ud2b8\\ubd81\", \"\\ub808\\ub514 \\ud50c\\ub808\\uc774\\uc5b4 \\uc6d0\", \"\\uc2a4\\ud0c0 \\uc774\\uc988 \\ubcf8\", \"\\uc5b4\\ubca4\\uc838\\uc2a4: \\uc778\\ud53c\\ub2c8\\ud2f0 \\uc6cc\", \"\\ub3c4\\uad74\", \"\\ud328\\uc2a4\\ud2b8 & \\ud4e8\\ub9ac\\uc5b4\\uc2a4 - \\ub3c4\\ucfc4 \\ub4dc\\ub9ac\\ud504\\ud2b8\", \"\\ubca0\\ub188\", \"\\ud328\\uc2a4\\ud2b8 & \\ud4e8\\ub9ac\\uc5b4\\uc2a4 2\", \"\\ucf54\\ucf54\", \"\\uba85\\ud0d0\\uc815 \\ucf54\\ub09c : \\ube44\\uc0c9\\uc758 \\ubd80\\uc7ac\\uc99d\\uba85\", \"\\uae30\\uc0dd\\ucda9\", \"\\ubd84\\ub178\\uc758 \\uc9c8\\uc8fc\", \"\\ub108\\uc758 \\uc774\\ub984\\uc740.\", \"\\ud574\\ub9ac \\ud3ec\\ud130\\uc640 \\ub9c8\\ubc95\\uc0ac\\uc758 \\ub3cc\", \"\\ube44\\uc640 \\ub2f9\\uc2e0\\uc758 \\uc774\\uc57c\\uae30\", \"\\ub2e4\\ub9cc \\uc545\\uc5d0\\uc11c \\uad6c\\ud558\\uc18c\\uc11c\", \"\\uc2dc\\uce74\\uace0\", \"\\uc544\\uc77c\\ub77c\", \"\\uadf8\\ub9b0 \\ubd81\", \"\\uc2e0\\ub370\\ub810\\ub77c \\uc2a4\\ud1a0\\ub9ac\", \"\\uaca8\\uc6b8\\uc655\\uad6d 2\", \"\\uc778\\uc0ac\\uc774\\ub4dc \\uc544\\uc6c3\", \"500\\uc77c\\uc758 \\uc378\\uba38\", \"\\ub514.\\uc774.\\ube44.\\uc5d0\\uc2a4.\", \"\\ud5dd\\uac70\\uac8c\\uc784 : \\ub354 \\ud30c\\uc774\\ub110\", \"\\uc18c\\ub144\\uc2dc\\uc808\\uc758 \\ub108\", \"\\ubdf0\\ud2f0\\ud480 \\ub9c8\\uc778\\ub4dc\", \"\\uc6d0\\ub354\", \"\\uba54\\uc774\\uc988 \\ub7ec\\ub108: \\ub370\\uc2a4 \\ud050\\uc5b4\", \"\\uc5ec\\ubc30\\uc6b0\\ub4e4\", \"\\uc704\\ub300\\ud55c \\uc1fc\\ub9e8\", \"\\uc5b4\\ubc14\\uc6c3 \\ud0c0\\uc784\", \"\\uc5b4\\ubca4\\uc838\\uc2a4\", \"\\ud574\\ub9ac \\ud3ec\\ud130\\uc640 \\ube44\\ubc00\\uc758 \\ubc29\", \"\\uc6d0\\ub354 \\uc6b0\\uba3c 1984\"], \"xaxis\": \"x\", \"y\": [7, 8, 9, 9, 9, 8, 9, 0, 8, 9, 8, 7, 8, 8, 8, 8, 7, 8, 7, 9, 9, 8, 8, 8, 7, 8, 9, 9, 8, 9, 8, 9, 8, 7, 7, 7, 8, 9, 0, 8, 8, 8, 9, 6, 7, 8, 9, 9, 8, 8, 9, 8, 4, 7, 9, 9, 9, 7, 6, 9, 9, 8, 8, 5], \"yaxis\": \"y\"}],\n",
              "                        {\"barmode\": \"relative\", \"legend\": {\"tracegroupgap\": 0}, \"margin\": {\"t\": 60}, \"template\": {\"data\": {\"bar\": [{\"error_x\": {\"color\": \"#2a3f5f\"}, \"error_y\": {\"color\": \"#2a3f5f\"}, \"marker\": {\"line\": {\"color\": \"#E5ECF6\", \"width\": 0.5}}, \"type\": \"bar\"}], \"barpolar\": [{\"marker\": {\"line\": {\"color\": \"#E5ECF6\", \"width\": 0.5}}, \"type\": \"barpolar\"}], \"carpet\": [{\"aaxis\": {\"endlinecolor\": \"#2a3f5f\", \"gridcolor\": \"white\", \"linecolor\": \"white\", \"minorgridcolor\": \"white\", \"startlinecolor\": \"#2a3f5f\"}, \"baxis\": {\"endlinecolor\": \"#2a3f5f\", \"gridcolor\": \"white\", \"linecolor\": \"white\", \"minorgridcolor\": \"white\", \"startlinecolor\": \"#2a3f5f\"}, \"type\": \"carpet\"}], \"choropleth\": [{\"colorbar\": {\"outlinewidth\": 0, \"ticks\": \"\"}, \"type\": \"choropleth\"}], \"contour\": [{\"colorbar\": {\"outlinewidth\": 0, \"ticks\": \"\"}, \"colorscale\": [[0.0, \"#0d0887\"], [0.1111111111111111, \"#46039f\"], [0.2222222222222222, \"#7201a8\"], [0.3333333333333333, \"#9c179e\"], [0.4444444444444444, \"#bd3786\"], [0.5555555555555556, \"#d8576b\"], [0.6666666666666666, \"#ed7953\"], [0.7777777777777778, \"#fb9f3a\"], [0.8888888888888888, \"#fdca26\"], [1.0, \"#f0f921\"]], \"type\": \"contour\"}], \"contourcarpet\": [{\"colorbar\": {\"outlinewidth\": 0, \"ticks\": \"\"}, \"type\": \"contourcarpet\"}], \"heatmap\": [{\"colorbar\": {\"outlinewidth\": 0, \"ticks\": \"\"}, \"colorscale\": [[0.0, \"#0d0887\"], [0.1111111111111111, \"#46039f\"], [0.2222222222222222, \"#7201a8\"], [0.3333333333333333, \"#9c179e\"], [0.4444444444444444, \"#bd3786\"], [0.5555555555555556, \"#d8576b\"], [0.6666666666666666, \"#ed7953\"], [0.7777777777777778, \"#fb9f3a\"], [0.8888888888888888, \"#fdca26\"], [1.0, \"#f0f921\"]], \"type\": \"heatmap\"}], \"heatmapgl\": [{\"colorbar\": {\"outlinewidth\": 0, \"ticks\": \"\"}, \"colorscale\": [[0.0, \"#0d0887\"], [0.1111111111111111, \"#46039f\"], [0.2222222222222222, \"#7201a8\"], [0.3333333333333333, \"#9c179e\"], [0.4444444444444444, \"#bd3786\"], [0.5555555555555556, \"#d8576b\"], [0.6666666666666666, \"#ed7953\"], [0.7777777777777778, \"#fb9f3a\"], [0.8888888888888888, \"#fdca26\"], [1.0, \"#f0f921\"]], \"type\": \"heatmapgl\"}], \"histogram\": [{\"marker\": {\"colorbar\": {\"outlinewidth\": 0, \"ticks\": \"\"}}, \"type\": \"histogram\"}], \"histogram2d\": [{\"colorbar\": {\"outlinewidth\": 0, \"ticks\": \"\"}, \"colorscale\": [[0.0, \"#0d0887\"], [0.1111111111111111, \"#46039f\"], [0.2222222222222222, \"#7201a8\"], [0.3333333333333333, \"#9c179e\"], [0.4444444444444444, \"#bd3786\"], [0.5555555555555556, \"#d8576b\"], [0.6666666666666666, \"#ed7953\"], [0.7777777777777778, \"#fb9f3a\"], [0.8888888888888888, \"#fdca26\"], [1.0, \"#f0f921\"]], \"type\": \"histogram2d\"}], \"histogram2dcontour\": [{\"colorbar\": {\"outlinewidth\": 0, \"ticks\": \"\"}, \"colorscale\": [[0.0, \"#0d0887\"], [0.1111111111111111, \"#46039f\"], [0.2222222222222222, \"#7201a8\"], [0.3333333333333333, \"#9c179e\"], [0.4444444444444444, \"#bd3786\"], [0.5555555555555556, \"#d8576b\"], [0.6666666666666666, \"#ed7953\"], [0.7777777777777778, \"#fb9f3a\"], [0.8888888888888888, \"#fdca26\"], [1.0, \"#f0f921\"]], \"type\": \"histogram2dcontour\"}], \"mesh3d\": [{\"colorbar\": {\"outlinewidth\": 0, \"ticks\": \"\"}, \"type\": \"mesh3d\"}], \"parcoords\": [{\"line\": {\"colorbar\": {\"outlinewidth\": 0, \"ticks\": \"\"}}, \"type\": \"parcoords\"}], \"pie\": [{\"automargin\": true, \"type\": \"pie\"}], \"scatter\": [{\"marker\": {\"colorbar\": {\"outlinewidth\": 0, \"ticks\": \"\"}}, \"type\": \"scatter\"}], \"scatter3d\": [{\"line\": {\"colorbar\": {\"outlinewidth\": 0, \"ticks\": \"\"}}, \"marker\": {\"colorbar\": {\"outlinewidth\": 0, \"ticks\": \"\"}}, \"type\": \"scatter3d\"}], \"scattercarpet\": [{\"marker\": {\"colorbar\": {\"outlinewidth\": 0, \"ticks\": \"\"}}, \"type\": \"scattercarpet\"}], \"scattergeo\": [{\"marker\": {\"colorbar\": {\"outlinewidth\": 0, \"ticks\": \"\"}}, \"type\": \"scattergeo\"}], \"scattergl\": [{\"marker\": {\"colorbar\": {\"outlinewidth\": 0, \"ticks\": \"\"}}, \"type\": \"scattergl\"}], \"scattermapbox\": [{\"marker\": {\"colorbar\": {\"outlinewidth\": 0, \"ticks\": \"\"}}, \"type\": \"scattermapbox\"}], \"scatterpolar\": [{\"marker\": {\"colorbar\": {\"outlinewidth\": 0, \"ticks\": \"\"}}, \"type\": \"scatterpolar\"}], \"scatterpolargl\": [{\"marker\": {\"colorbar\": {\"outlinewidth\": 0, \"ticks\": \"\"}}, \"type\": \"scatterpolargl\"}], \"scatterternary\": [{\"marker\": {\"colorbar\": {\"outlinewidth\": 0, \"ticks\": \"\"}}, \"type\": \"scatterternary\"}], \"surface\": [{\"colorbar\": {\"outlinewidth\": 0, \"ticks\": \"\"}, \"colorscale\": [[0.0, \"#0d0887\"], [0.1111111111111111, \"#46039f\"], [0.2222222222222222, \"#7201a8\"], [0.3333333333333333, \"#9c179e\"], [0.4444444444444444, \"#bd3786\"], [0.5555555555555556, \"#d8576b\"], [0.6666666666666666, \"#ed7953\"], [0.7777777777777778, \"#fb9f3a\"], [0.8888888888888888, \"#fdca26\"], [1.0, \"#f0f921\"]], \"type\": \"surface\"}], \"table\": [{\"cells\": {\"fill\": {\"color\": \"#EBF0F8\"}, \"line\": {\"color\": \"white\"}}, \"header\": {\"fill\": {\"color\": \"#C8D4E3\"}, \"line\": {\"color\": \"white\"}}, \"type\": \"table\"}]}, \"layout\": {\"annotationdefaults\": {\"arrowcolor\": \"#2a3f5f\", \"arrowhead\": 0, \"arrowwidth\": 1}, \"coloraxis\": {\"colorbar\": {\"outlinewidth\": 0, \"ticks\": \"\"}}, \"colorscale\": {\"diverging\": [[0, \"#8e0152\"], [0.1, \"#c51b7d\"], [0.2, \"#de77ae\"], [0.3, \"#f1b6da\"], [0.4, \"#fde0ef\"], [0.5, \"#f7f7f7\"], [0.6, \"#e6f5d0\"], [0.7, \"#b8e186\"], [0.8, \"#7fbc41\"], [0.9, \"#4d9221\"], [1, \"#276419\"]], \"sequential\": [[0.0, \"#0d0887\"], [0.1111111111111111, \"#46039f\"], [0.2222222222222222, \"#7201a8\"], [0.3333333333333333, \"#9c179e\"], [0.4444444444444444, \"#bd3786\"], [0.5555555555555556, \"#d8576b\"], [0.6666666666666666, \"#ed7953\"], [0.7777777777777778, \"#fb9f3a\"], [0.8888888888888888, \"#fdca26\"], [1.0, \"#f0f921\"]], \"sequentialminus\": [[0.0, \"#0d0887\"], [0.1111111111111111, \"#46039f\"], [0.2222222222222222, \"#7201a8\"], [0.3333333333333333, \"#9c179e\"], [0.4444444444444444, \"#bd3786\"], [0.5555555555555556, \"#d8576b\"], [0.6666666666666666, \"#ed7953\"], [0.7777777777777778, \"#fb9f3a\"], [0.8888888888888888, \"#fdca26\"], [1.0, \"#f0f921\"]]}, \"colorway\": [\"#636efa\", \"#EF553B\", \"#00cc96\", \"#ab63fa\", \"#FFA15A\", \"#19d3f3\", \"#FF6692\", \"#B6E880\", \"#FF97FF\", \"#FECB52\"], \"font\": {\"color\": \"#2a3f5f\"}, \"geo\": {\"bgcolor\": \"white\", \"lakecolor\": \"white\", \"landcolor\": \"#E5ECF6\", \"showlakes\": true, \"showland\": true, \"subunitcolor\": \"white\"}, \"hoverlabel\": {\"align\": \"left\"}, \"hovermode\": \"closest\", \"mapbox\": {\"style\": \"light\"}, \"paper_bgcolor\": \"white\", \"plot_bgcolor\": \"#E5ECF6\", \"polar\": {\"angularaxis\": {\"gridcolor\": \"white\", \"linecolor\": \"white\", \"ticks\": \"\"}, \"bgcolor\": \"#E5ECF6\", \"radialaxis\": {\"gridcolor\": \"white\", \"linecolor\": \"white\", \"ticks\": \"\"}}, \"scene\": {\"xaxis\": {\"backgroundcolor\": \"#E5ECF6\", \"gridcolor\": \"white\", \"gridwidth\": 2, \"linecolor\": \"white\", \"showbackground\": true, \"ticks\": \"\", \"zerolinecolor\": \"white\"}, \"yaxis\": {\"backgroundcolor\": \"#E5ECF6\", \"gridcolor\": \"white\", \"gridwidth\": 2, \"linecolor\": \"white\", \"showbackground\": true, \"ticks\": \"\", \"zerolinecolor\": \"white\"}, \"zaxis\": {\"backgroundcolor\": \"#E5ECF6\", \"gridcolor\": \"white\", \"gridwidth\": 2, \"linecolor\": \"white\", \"showbackground\": true, \"ticks\": \"\", \"zerolinecolor\": \"white\"}}, \"shapedefaults\": {\"line\": {\"color\": \"#2a3f5f\"}}, \"ternary\": {\"aaxis\": {\"gridcolor\": \"white\", \"linecolor\": \"white\", \"ticks\": \"\"}, \"baxis\": {\"gridcolor\": \"white\", \"linecolor\": \"white\", \"ticks\": \"\"}, \"bgcolor\": \"#E5ECF6\", \"caxis\": {\"gridcolor\": \"white\", \"linecolor\": \"white\", \"ticks\": \"\"}}, \"title\": {\"x\": 0.05}, \"xaxis\": {\"automargin\": true, \"gridcolor\": \"white\", \"linecolor\": \"white\", \"ticks\": \"\", \"title\": {\"standoff\": 15}, \"zerolinecolor\": \"white\", \"zerolinewidth\": 2}, \"yaxis\": {\"automargin\": true, \"gridcolor\": \"white\", \"linecolor\": \"white\", \"ticks\": \"\", \"title\": {\"standoff\": 15}, \"zerolinecolor\": \"white\", \"zerolinewidth\": 2}}}, \"xaxis\": {\"anchor\": \"y\", \"domain\": [0.0, 1.0], \"title\": {\"text\": \"\\uc81c\\ubaa9\"}}, \"yaxis\": {\"anchor\": \"x\", \"domain\": [0.0, 1.0], \"title\": {\"text\": \"\\ud3c9\\uc810\"}}},\n",
              "                        {\"responsive\": true}\n",
              "                    ).then(function(){\n",
              "                            \n",
              "var gd = document.getElementById('a8a86090-8cc7-458b-859d-51a8319255fd');\n",
              "var x = new MutationObserver(function (mutations, observer) {{\n",
              "        var display = window.getComputedStyle(gd).display;\n",
              "        if (!display || display === 'none') {{\n",
              "            console.log([gd, 'removed!']);\n",
              "            Plotly.purge(gd);\n",
              "            observer.disconnect();\n",
              "        }}\n",
              "}});\n",
              "\n",
              "// Listen for the removal of the full notebook cells\n",
              "var notebookContainer = gd.closest('#notebook-container');\n",
              "if (notebookContainer) {{\n",
              "    x.observe(notebookContainer, {childList: true});\n",
              "}}\n",
              "\n",
              "// Listen for the clearing of the current output cell\n",
              "var outputEl = gd.closest('.output');\n",
              "if (outputEl) {{\n",
              "    x.observe(outputEl, {childList: true});\n",
              "}}\n",
              "\n",
              "                        })\n",
              "                };\n",
              "                \n",
              "            </script>\n",
              "        </div>\n",
              "</body>\n",
              "</html>"
            ]
          },
          "metadata": {
            "tags": []
          }
        }
      ]
    },
    {
      "cell_type": "code",
      "metadata": {
        "colab": {
          "base_uri": "https://localhost:8080/",
          "height": 542
        },
        "id": "WV4l7aEn25Ta",
        "outputId": "44176a4f-4155-495d-e12c-a125903d8e3c"
      },
      "source": [
        "fig = px.pie(df, values='평점', names='장르')\n",
        "fig.show()"
      ],
      "execution_count": 31,
      "outputs": [
        {
          "output_type": "display_data",
          "data": {
            "text/html": [
              "<html>\n",
              "<head><meta charset=\"utf-8\" /></head>\n",
              "<body>\n",
              "    <div>\n",
              "            <script src=\"https://cdnjs.cloudflare.com/ajax/libs/mathjax/2.7.5/MathJax.js?config=TeX-AMS-MML_SVG\"></script><script type=\"text/javascript\">if (window.MathJax) {MathJax.Hub.Config({SVG: {font: \"STIX-Web\"}});}</script>\n",
              "                <script type=\"text/javascript\">window.PlotlyConfig = {MathJaxConfig: 'local'};</script>\n",
              "        <script src=\"https://cdn.plot.ly/plotly-latest.min.js\"></script>    \n",
              "            <div id=\"a109864d-61bb-4b5b-9ccb-aa7e78cec380\" class=\"plotly-graph-div\" style=\"height:525px; width:100%;\"></div>\n",
              "            <script type=\"text/javascript\">\n",
              "                \n",
              "                    window.PLOTLYENV=window.PLOTLYENV || {};\n",
              "                    \n",
              "                if (document.getElementById(\"a109864d-61bb-4b5b-9ccb-aa7e78cec380\")) {\n",
              "                    Plotly.newPlot(\n",
              "                        'a109864d-61bb-4b5b-9ccb-aa7e78cec380',\n",
              "                        [{\"domain\": {\"x\": [0.0, 1.0], \"y\": [0.0, 1.0]}, \"hoverlabel\": {\"namelength\": 0}, \"hovertemplate\": \"\\uc7a5\\ub974=%{label}<br>\\ud3c9\\uc810=%{value}\", \"labels\": [\"\\ub4dc\\ub77c\\ub9c8\", \"\\uc561\\uc158\", \"\\ub4dc\\ub77c\\ub9c8\", \"\\uc560\\ub2c8\\uba54\\uc774\\uc158\", \"\\uc560\\ub2c8\\uba54\\uc774\\uc158\", \"\\uc561\\uc158\", \"\\uc561\\uc158\", \"\\uc561\\uc158\", \"\\ub4dc\\ub77c\\ub9c8\", \"\\uc561\\uc158\", \"\\ub4dc\\ub77c\\ub9c8\", \"\\uc561\\uc158\", \"\\uc561\\uc158\", \"\\uba5c\\ub85c\", \"\\ub4dc\\ub77c\\ub9c8\", \"\\uc561\\uc158\", \"\\uacf5\\ud3ec/\\uc2a4\\ub9b4\\ub7ec\", \"\\ub4dc\\ub77c\\ub9c8\", \"\\ub4dc\\ub77c\\ub9c8\", \"\\ucf54\\ubbf8\\ub514\", \"\\uc561\\uc158\", \"\\ub4dc\\ub77c\\ub9c8\", \"\\uc561\\uc158\", \"\\uc561\\uc158\", \"\\uacf5\\ud3ec/\\uc2a4\\ub9b4\\ub7ec\", \"\\uc561\\uc158\", \"\\uacf5\\uc5f0\\uc2e4\\ud669\", \"\\ucf54\\ubbf8\\ub514\", \"\\uac10\\ub3c5\\ud14c\\uc544 \\uc0e4\\ub85d\", \"\\ub4dc\\ub77c\\ub9c8\", \"\\uc561\\uc158\", \"\\ub4dc\\ub77c\\ub9c8\", \"\\uc561\\uc158\", \"\\uc561\\uc158\", \"\\uc561\\uc158\", \"\\uc561\\uc158\", \"\\uc561\\uc158\", \"\\uc561\\uc158\", \"\\uc560\\ub2c8\\uba54\\uc774\\uc158\", \"\\ub4dc\\ub77c\\ub9c8\", \"\\uc561\\uc158\", \"\\ub4dc\\ub77c\\ub9c8\", \"\\uc561\\uc158\", \"\\ub4dc\\ub77c\\ub9c8\", \"\\uc561\\uc158\", \"\\uc561\\uc158\", \"\\uc561\\uc158\", \"\\ub4dc\\ub77c\\ub9c8\", \"\\ucf54\\ubbf8\\ub514\", \"\\uc561\\uc158\", \"\\ucf54\\ubbf8\\ub514\", \"\\ucf54\\ubbf8\\ub514\", \"\\uc561\\uc158\", \"\\uc561\\uc158\", \"\\uc561\\uc158\", \"\\ub4dc\\ub77c\\ub9c8\", \"\\ub4dc\\ub77c\\ub9c8\", \"\\uc561\\uc158\", \"\\ub4dc\\ub77c\\ub9c8\", \"\\ub4dc\\ub77c\\ub9c8\", \"\\ucf54\\ubbf8\\ub514\", \"\\uc561\\uc158\", \"\\uc561\\uc158\", \"\\uc561\\uc158\"], \"legendgroup\": \"\", \"name\": \"\", \"showlegend\": true, \"type\": \"pie\", \"values\": [7, 8, 9, 9, 9, 8, 9, 0, 8, 9, 8, 7, 8, 8, 8, 8, 7, 8, 7, 9, 9, 8, 8, 8, 7, 8, 9, 9, 8, 9, 8, 9, 8, 7, 7, 7, 8, 9, 0, 8, 8, 8, 9, 6, 7, 8, 9, 9, 8, 8, 9, 8, 4, 7, 9, 9, 9, 7, 6, 9, 9, 8, 8, 5]}],\n",
              "                        {\"legend\": {\"tracegroupgap\": 0}, \"margin\": {\"t\": 60}, \"template\": {\"data\": {\"bar\": [{\"error_x\": {\"color\": \"#2a3f5f\"}, \"error_y\": {\"color\": \"#2a3f5f\"}, \"marker\": {\"line\": {\"color\": \"#E5ECF6\", \"width\": 0.5}}, \"type\": \"bar\"}], \"barpolar\": [{\"marker\": {\"line\": {\"color\": \"#E5ECF6\", \"width\": 0.5}}, \"type\": \"barpolar\"}], \"carpet\": [{\"aaxis\": {\"endlinecolor\": \"#2a3f5f\", \"gridcolor\": \"white\", \"linecolor\": \"white\", \"minorgridcolor\": \"white\", \"startlinecolor\": \"#2a3f5f\"}, \"baxis\": {\"endlinecolor\": \"#2a3f5f\", \"gridcolor\": \"white\", \"linecolor\": \"white\", \"minorgridcolor\": \"white\", \"startlinecolor\": \"#2a3f5f\"}, \"type\": \"carpet\"}], \"choropleth\": [{\"colorbar\": {\"outlinewidth\": 0, \"ticks\": \"\"}, \"type\": \"choropleth\"}], \"contour\": [{\"colorbar\": {\"outlinewidth\": 0, \"ticks\": \"\"}, \"colorscale\": [[0.0, \"#0d0887\"], [0.1111111111111111, \"#46039f\"], [0.2222222222222222, \"#7201a8\"], [0.3333333333333333, \"#9c179e\"], [0.4444444444444444, \"#bd3786\"], [0.5555555555555556, \"#d8576b\"], [0.6666666666666666, \"#ed7953\"], [0.7777777777777778, \"#fb9f3a\"], [0.8888888888888888, \"#fdca26\"], [1.0, \"#f0f921\"]], \"type\": \"contour\"}], \"contourcarpet\": [{\"colorbar\": {\"outlinewidth\": 0, \"ticks\": \"\"}, \"type\": \"contourcarpet\"}], \"heatmap\": [{\"colorbar\": {\"outlinewidth\": 0, \"ticks\": \"\"}, \"colorscale\": [[0.0, \"#0d0887\"], [0.1111111111111111, \"#46039f\"], [0.2222222222222222, \"#7201a8\"], [0.3333333333333333, \"#9c179e\"], [0.4444444444444444, \"#bd3786\"], [0.5555555555555556, \"#d8576b\"], [0.6666666666666666, \"#ed7953\"], [0.7777777777777778, \"#fb9f3a\"], [0.8888888888888888, \"#fdca26\"], [1.0, \"#f0f921\"]], \"type\": \"heatmap\"}], \"heatmapgl\": [{\"colorbar\": {\"outlinewidth\": 0, \"ticks\": \"\"}, \"colorscale\": [[0.0, \"#0d0887\"], [0.1111111111111111, \"#46039f\"], [0.2222222222222222, \"#7201a8\"], [0.3333333333333333, \"#9c179e\"], [0.4444444444444444, \"#bd3786\"], [0.5555555555555556, \"#d8576b\"], [0.6666666666666666, \"#ed7953\"], [0.7777777777777778, \"#fb9f3a\"], [0.8888888888888888, \"#fdca26\"], [1.0, \"#f0f921\"]], \"type\": \"heatmapgl\"}], \"histogram\": [{\"marker\": {\"colorbar\": {\"outlinewidth\": 0, \"ticks\": \"\"}}, \"type\": \"histogram\"}], \"histogram2d\": [{\"colorbar\": {\"outlinewidth\": 0, \"ticks\": \"\"}, \"colorscale\": [[0.0, \"#0d0887\"], [0.1111111111111111, \"#46039f\"], [0.2222222222222222, \"#7201a8\"], [0.3333333333333333, \"#9c179e\"], [0.4444444444444444, \"#bd3786\"], [0.5555555555555556, \"#d8576b\"], [0.6666666666666666, \"#ed7953\"], [0.7777777777777778, \"#fb9f3a\"], [0.8888888888888888, \"#fdca26\"], [1.0, \"#f0f921\"]], \"type\": \"histogram2d\"}], \"histogram2dcontour\": [{\"colorbar\": {\"outlinewidth\": 0, \"ticks\": \"\"}, \"colorscale\": [[0.0, \"#0d0887\"], [0.1111111111111111, \"#46039f\"], [0.2222222222222222, \"#7201a8\"], [0.3333333333333333, \"#9c179e\"], [0.4444444444444444, \"#bd3786\"], [0.5555555555555556, \"#d8576b\"], [0.6666666666666666, \"#ed7953\"], [0.7777777777777778, \"#fb9f3a\"], [0.8888888888888888, \"#fdca26\"], [1.0, \"#f0f921\"]], \"type\": \"histogram2dcontour\"}], \"mesh3d\": [{\"colorbar\": {\"outlinewidth\": 0, \"ticks\": \"\"}, \"type\": \"mesh3d\"}], \"parcoords\": [{\"line\": {\"colorbar\": {\"outlinewidth\": 0, \"ticks\": \"\"}}, \"type\": \"parcoords\"}], \"pie\": [{\"automargin\": true, \"type\": \"pie\"}], \"scatter\": [{\"marker\": {\"colorbar\": {\"outlinewidth\": 0, \"ticks\": \"\"}}, \"type\": \"scatter\"}], \"scatter3d\": [{\"line\": {\"colorbar\": {\"outlinewidth\": 0, \"ticks\": \"\"}}, \"marker\": {\"colorbar\": {\"outlinewidth\": 0, \"ticks\": \"\"}}, \"type\": \"scatter3d\"}], \"scattercarpet\": [{\"marker\": {\"colorbar\": {\"outlinewidth\": 0, \"ticks\": \"\"}}, \"type\": \"scattercarpet\"}], \"scattergeo\": [{\"marker\": {\"colorbar\": {\"outlinewidth\": 0, \"ticks\": \"\"}}, \"type\": \"scattergeo\"}], \"scattergl\": [{\"marker\": {\"colorbar\": {\"outlinewidth\": 0, \"ticks\": \"\"}}, \"type\": \"scattergl\"}], \"scattermapbox\": [{\"marker\": {\"colorbar\": {\"outlinewidth\": 0, \"ticks\": \"\"}}, \"type\": \"scattermapbox\"}], \"scatterpolar\": [{\"marker\": {\"colorbar\": {\"outlinewidth\": 0, \"ticks\": \"\"}}, \"type\": \"scatterpolar\"}], \"scatterpolargl\": [{\"marker\": {\"colorbar\": {\"outlinewidth\": 0, \"ticks\": \"\"}}, \"type\": \"scatterpolargl\"}], \"scatterternary\": [{\"marker\": {\"colorbar\": {\"outlinewidth\": 0, \"ticks\": \"\"}}, \"type\": \"scatterternary\"}], \"surface\": [{\"colorbar\": {\"outlinewidth\": 0, \"ticks\": \"\"}, \"colorscale\": [[0.0, \"#0d0887\"], [0.1111111111111111, \"#46039f\"], [0.2222222222222222, \"#7201a8\"], [0.3333333333333333, \"#9c179e\"], [0.4444444444444444, \"#bd3786\"], [0.5555555555555556, \"#d8576b\"], [0.6666666666666666, \"#ed7953\"], [0.7777777777777778, \"#fb9f3a\"], [0.8888888888888888, \"#fdca26\"], [1.0, \"#f0f921\"]], \"type\": \"surface\"}], \"table\": [{\"cells\": {\"fill\": {\"color\": \"#EBF0F8\"}, \"line\": {\"color\": \"white\"}}, \"header\": {\"fill\": {\"color\": \"#C8D4E3\"}, \"line\": {\"color\": \"white\"}}, \"type\": \"table\"}]}, \"layout\": {\"annotationdefaults\": {\"arrowcolor\": \"#2a3f5f\", \"arrowhead\": 0, \"arrowwidth\": 1}, \"coloraxis\": {\"colorbar\": {\"outlinewidth\": 0, \"ticks\": \"\"}}, \"colorscale\": {\"diverging\": [[0, \"#8e0152\"], [0.1, \"#c51b7d\"], [0.2, \"#de77ae\"], [0.3, \"#f1b6da\"], [0.4, \"#fde0ef\"], [0.5, \"#f7f7f7\"], [0.6, \"#e6f5d0\"], [0.7, \"#b8e186\"], [0.8, \"#7fbc41\"], [0.9, \"#4d9221\"], [1, \"#276419\"]], \"sequential\": [[0.0, \"#0d0887\"], [0.1111111111111111, \"#46039f\"], [0.2222222222222222, \"#7201a8\"], [0.3333333333333333, \"#9c179e\"], [0.4444444444444444, \"#bd3786\"], [0.5555555555555556, \"#d8576b\"], [0.6666666666666666, \"#ed7953\"], [0.7777777777777778, \"#fb9f3a\"], [0.8888888888888888, \"#fdca26\"], [1.0, \"#f0f921\"]], \"sequentialminus\": [[0.0, \"#0d0887\"], [0.1111111111111111, \"#46039f\"], [0.2222222222222222, \"#7201a8\"], [0.3333333333333333, \"#9c179e\"], [0.4444444444444444, \"#bd3786\"], [0.5555555555555556, \"#d8576b\"], [0.6666666666666666, \"#ed7953\"], [0.7777777777777778, \"#fb9f3a\"], [0.8888888888888888, \"#fdca26\"], [1.0, \"#f0f921\"]]}, \"colorway\": [\"#636efa\", \"#EF553B\", \"#00cc96\", \"#ab63fa\", \"#FFA15A\", \"#19d3f3\", \"#FF6692\", \"#B6E880\", \"#FF97FF\", \"#FECB52\"], \"font\": {\"color\": \"#2a3f5f\"}, \"geo\": {\"bgcolor\": \"white\", \"lakecolor\": \"white\", \"landcolor\": \"#E5ECF6\", \"showlakes\": true, \"showland\": true, \"subunitcolor\": \"white\"}, \"hoverlabel\": {\"align\": \"left\"}, \"hovermode\": \"closest\", \"mapbox\": {\"style\": \"light\"}, \"paper_bgcolor\": \"white\", \"plot_bgcolor\": \"#E5ECF6\", \"polar\": {\"angularaxis\": {\"gridcolor\": \"white\", \"linecolor\": \"white\", \"ticks\": \"\"}, \"bgcolor\": \"#E5ECF6\", \"radialaxis\": {\"gridcolor\": \"white\", \"linecolor\": \"white\", \"ticks\": \"\"}}, \"scene\": {\"xaxis\": {\"backgroundcolor\": \"#E5ECF6\", \"gridcolor\": \"white\", \"gridwidth\": 2, \"linecolor\": \"white\", \"showbackground\": true, \"ticks\": \"\", \"zerolinecolor\": \"white\"}, \"yaxis\": {\"backgroundcolor\": \"#E5ECF6\", \"gridcolor\": \"white\", \"gridwidth\": 2, \"linecolor\": \"white\", \"showbackground\": true, \"ticks\": \"\", \"zerolinecolor\": \"white\"}, \"zaxis\": {\"backgroundcolor\": \"#E5ECF6\", \"gridcolor\": \"white\", \"gridwidth\": 2, \"linecolor\": \"white\", \"showbackground\": true, \"ticks\": \"\", \"zerolinecolor\": \"white\"}}, \"shapedefaults\": {\"line\": {\"color\": \"#2a3f5f\"}}, \"ternary\": {\"aaxis\": {\"gridcolor\": \"white\", \"linecolor\": \"white\", \"ticks\": \"\"}, \"baxis\": {\"gridcolor\": \"white\", \"linecolor\": \"white\", \"ticks\": \"\"}, \"bgcolor\": \"#E5ECF6\", \"caxis\": {\"gridcolor\": \"white\", \"linecolor\": \"white\", \"ticks\": \"\"}}, \"title\": {\"x\": 0.05}, \"xaxis\": {\"automargin\": true, \"gridcolor\": \"white\", \"linecolor\": \"white\", \"ticks\": \"\", \"title\": {\"standoff\": 15}, \"zerolinecolor\": \"white\", \"zerolinewidth\": 2}, \"yaxis\": {\"automargin\": true, \"gridcolor\": \"white\", \"linecolor\": \"white\", \"ticks\": \"\", \"title\": {\"standoff\": 15}, \"zerolinecolor\": \"white\", \"zerolinewidth\": 2}}}},\n",
              "                        {\"responsive\": true}\n",
              "                    ).then(function(){\n",
              "                            \n",
              "var gd = document.getElementById('a109864d-61bb-4b5b-9ccb-aa7e78cec380');\n",
              "var x = new MutationObserver(function (mutations, observer) {{\n",
              "        var display = window.getComputedStyle(gd).display;\n",
              "        if (!display || display === 'none') {{\n",
              "            console.log([gd, 'removed!']);\n",
              "            Plotly.purge(gd);\n",
              "            observer.disconnect();\n",
              "        }}\n",
              "}});\n",
              "\n",
              "// Listen for the removal of the full notebook cells\n",
              "var notebookContainer = gd.closest('#notebook-container');\n",
              "if (notebookContainer) {{\n",
              "    x.observe(notebookContainer, {childList: true});\n",
              "}}\n",
              "\n",
              "// Listen for the clearing of the current output cell\n",
              "var outputEl = gd.closest('.output');\n",
              "if (outputEl) {{\n",
              "    x.observe(outputEl, {childList: true});\n",
              "}}\n",
              "\n",
              "                        })\n",
              "                };\n",
              "                \n",
              "            </script>\n",
              "        </div>\n",
              "</body>\n",
              "</html>"
            ]
          },
          "metadata": {
            "tags": []
          }
        }
      ]
    }
  ]
}