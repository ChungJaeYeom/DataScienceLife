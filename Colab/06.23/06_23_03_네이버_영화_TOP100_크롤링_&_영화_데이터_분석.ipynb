{
  "nbformat": 4,
  "nbformat_minor": 0,
  "metadata": {
    "colab": {
      "name": "06.23_03_네이버 영화 TOP100 크롤링 & 영화 데이터 분석.ipynb",
      "provenance": [],
      "collapsed_sections": []
    },
    "kernelspec": {
      "name": "python3",
      "display_name": "Python 3"
    },
    "language_info": {
      "name": "python"
    }
  },
  "cells": [
    {
      "cell_type": "markdown",
      "metadata": {
        "id": "ijvbM--2oF7X"
      },
      "source": [
        "링크 수집을 위한 라이브러리 설치"
      ]
    },
    {
      "cell_type": "code",
      "metadata": {
        "colab": {
          "base_uri": "https://localhost:8080/"
        },
        "id": "nGQB1rXtmDPA",
        "outputId": "b9febe51-9668-4689-84ac-6adf5974c690"
      },
      "source": [
        "!pip install selenium"
      ],
      "execution_count": null,
      "outputs": [
        {
          "output_type": "stream",
          "text": [
            "Collecting selenium\n",
            "\u001b[?25l  Downloading https://files.pythonhosted.org/packages/80/d6/4294f0b4bce4de0abf13e17190289f9d0613b0a44e5dd6a7f5ca98459853/selenium-3.141.0-py2.py3-none-any.whl (904kB)\n",
            "\u001b[K     |████████████████████████████████| 911kB 4.0MB/s \n",
            "\u001b[?25hRequirement already satisfied: urllib3 in /usr/local/lib/python3.7/dist-packages (from selenium) (1.24.3)\n",
            "Installing collected packages: selenium\n",
            "Successfully installed selenium-3.141.0\n"
          ],
          "name": "stdout"
        }
      ]
    },
    {
      "cell_type": "markdown",
      "metadata": {
        "id": "q3Ktvmkcn-JG"
      },
      "source": [
        "라이브러리 임포트"
      ]
    },
    {
      "cell_type": "code",
      "metadata": {
        "id": "qkEQ1TUqoesg"
      },
      "source": [
        "from bs4 import BeautifulSoup\n",
        "import requests\n",
        "from selenium import webdriver as wd\n",
        "from selenium.webdriver.common.keys import Keys\n",
        "import time\n",
        "import re\n",
        "import pandas as pd"
      ],
      "execution_count": null,
      "outputs": []
    },
    {
      "cell_type": "code",
      "metadata": {
        "id": "yVvWM7_go4mY"
      },
      "source": [
        "# install chromium, its driver, and selenium\n",
        "!apt-get update\n",
        "!apt install chromium-chromedriver\n",
        "!cp /usr/lib/chromium-browser/chromedriver /usr/bin\n",
        "!pip install selenium\n",
        "# set options to be headless, ..\n",
        "from selenium import webdriver\n",
        "options = webdriver.ChromeOptions()\n",
        "options.add_argument('--headless')\n",
        "options.add_argument('--no-sandbox')\n",
        "options.add_argument('--disable-dev-shm-usage')\n",
        "\n",
        "driver = webdriver.Chrome('chromedriver',options=options)"
      ],
      "execution_count": null,
      "outputs": []
    },
    {
      "cell_type": "markdown",
      "metadata": {
        "id": "j7kCKTpssJYi"
      },
      "source": [
        "분석할 데이터 모으기(크롤링) <br>\n",
        "네이버 영화 TOP100 페이지 별 링크 수집"
      ]
    },
    {
      "cell_type": "code",
      "metadata": {
        "id": "uzzveJDFpF5u"
      },
      "source": [
        "#https://serieson.naver.com/movie/top100List.nhn?&rankingTypeCode=PC_R&page=실시간\n",
        "#https://serieson.naver.com/movie/top100List.nhn?&rankingTypeCode=PC_R&page=주간\n",
        "#https://serieson.naver.com/movie/top100List.nhn?&rankingTypeCode=PC_R&page=일간\n",
        "#https://serieson.naver.com/movie/top100List.nhn?&rankingTypeCode=PC_R&page=월간"
      ],
      "execution_count": null,
      "outputs": []
    },
    {
      "cell_type": "code",
      "metadata": {
        "id": "GClOjY7Osrxq"
      },
      "source": [
        "def getPageLinksWantRange(startPageNo, lastPageNo):\n",
        "  links = [] # 100개의 영화 링크를 수집할 리스트 변수 선언\n",
        "\n",
        "  for pageNo in range(startPageNo -1, lastPageNo):\n",
        "    #실시간 TOP 100 영화 링크 수집\n",
        "    url = \"https://serieson.naver.com/movie/top100List.nhn?&rankingTypeCode=PC_R&page=\" +str(pageNo+1)\n",
        "\n",
        "    req = requests.get(url) # 페이지 접속\n",
        "    soup = BeautifulSoup(req.text,'lxml') #html 파싱을 위한 객체 생성\n",
        "    movielinks = soup.select('div.lst_thum_wrap ul li a[href]') # 순서대로 div 안에 있는 li 안에 있는 a 안에 있는\n",
        "                                                                #<div class=\"lst_thum_wrap\"> -> <ul> -> <li> -> <a href =\"\">\n",
        "    for movielink in movielinks:\n",
        "      link = str(movielink.get('href'))\n",
        "      links.append(\"https://series.naver.com\"+link) \n",
        "\n",
        "  return links"
      ],
      "execution_count": null,
      "outputs": []
    },
    {
      "cell_type": "markdown",
      "metadata": {
        "id": "a7ktK49RypNo"
      },
      "source": [
        "네이버 영화 제목, 평점, 장르, 줄거리 크롤링"
      ]
    },
    {
      "cell_type": "code",
      "metadata": {
        "id": "6363KG46ymKG"
      },
      "source": [
        "def getMovieDataFromNaverSeries(links):\n",
        "  title_infos = [] # 제목\n",
        "  content_infos = [] # 줄거리\n",
        "  genre_infos = [] # 장르\n",
        "  score_infos = [] # 평점\n",
        "  date_infos = [] # 개봉일\n",
        "\n",
        "  url2 = \"https://www.naver.com\"\n",
        "\n",
        "  driver = webdriver.Chrome('chromedriver',options=options)\n",
        "  driver.get(url2)\n",
        "  time.sleep(3.0) #3초 sleep 사람이 진짜 보는 것처럼 만들기 위해 / 잠깐 쉬는 시간\n",
        "\n",
        "  driver.find_element_by_css_selector('body').send_keys(Keys.CONTROL + \"t\")\n",
        "\n",
        "  for link in links:\n",
        "    print(link + ' 수집 중......')\n",
        "    driver.switch_to_window(driver.window_handles[-1])\n",
        "    time.sleep(0.1)\n",
        "    driver.get(link)\n",
        "    time.sleep(0.1)\n",
        "    #새로운 창 활성화\n",
        "    driver.switch_to_window(driver.window_handles[0])\n",
        "    time.sleep(3.0)\n",
        "\n",
        "    html_source = driver.page_source # req.text 같은 동작\n",
        "    html_soup = BeautifulSoup(html_source, 'lxml')\n",
        "\n",
        "    # 청소년관람불가 영화 크롤링 할 경우 -> 인증 -> 수집 제외\n",
        "    # 청소년관람불가 영화 크롤링 할 경우, 로그인 필요한 부분 check\n",
        "    flag = html_soup.text[0:10]\n",
        "    newflag = \"\".join(flag)\n",
        "    newflag = newflag.replace('\\n', '')\n",
        "\n",
        "    if newflag == '네이버':\n",
        "      time.sleep(1.0)\n",
        "\n",
        "      #평점 수집\n",
        "      score = driver.find_element_by_css_selector('div.score_area > em')\n",
        "      score = float(score.text)\n",
        "      score = int(score)\n",
        "      score_infos.append(score)\n",
        "      #print(score)\n",
        "\n",
        "      #장르 수집\n",
        "      genre = driver.find_element_by_css_selector('li.info_lst > ul > li:nth-child(4)').get_attribute('textContent')\n",
        "      genre = genre.replace('장르' ,'')\n",
        "      genre = genre.replace('\\n','')\n",
        "      genre = genre.replace('\\t','')\n",
        "      genre_infos.append(genre)\n",
        "      #print(genre)\n",
        "\n",
        "      #제목, 줄거리\n",
        "      try:\n",
        "        movieInfoUrl = driver.find_element_by_css_selector('li.info_lst > ul > li:nth-child(7) > a').get_attribute('href')\n",
        "      except:\n",
        "        movieInfoUrl = driver.find_element_by_css_selector('li.info_lst > ul > li:nth-child(6) > a').get_attribute('href')\n",
        "\n",
        "      #영화 상세보기 페이지로 이동\n",
        "      movie_req = requests.get(movieInfoUrl)\n",
        "\n",
        "      #제목 수집\n",
        "      movie_soup = BeautifulSoup(movie_req.text, 'lxml')\n",
        "      title = movie_soup.head.find(\"meta\", {\"property\":\"og:title\"}).get('content')\n",
        "      title_infos.append(title)\n",
        "      #print(title)\n",
        "\n",
        "      #줄거리 수집\n",
        "      contents_texts = movie_soup.select('div.story_area > p.con_tx')\n",
        "\n",
        "      if len(contents_texts) == 0:\n",
        "        content_infos.append(\"줄거리 오류\")\n",
        "\n",
        "      else:\n",
        "        for contents in contents_texts:\n",
        "          #줄거리 데이터 클랜징 작업\n",
        "          temp = contents.text\n",
        "          temp = temp.replace('\\r','') #줄바꿈 제거\n",
        "          temp = temp.replace('\\xa0','') #공백 제거\n",
        "          content_infos.append(temp)\n",
        "\n",
        "    elif newflag == '':\n",
        "        print('청불 영화로 데이터 수집하지 않습니다.')\n",
        "  print('수집 완료 합니다.....')\n",
        "  print(len(score_infos),len(genre_infos),len(content_infos))\n",
        "  driver.close()\n",
        "\n",
        "  movie_dic = {\"제목\":title_infos, \"평점\":score_infos, \"장르\":genre_infos, \"줄거리\":content_infos}\n",
        "  #딕셔너리 -> DataFrame\n",
        "  movie_df = pd.DataFrame(movie_dic)\n",
        "\n",
        "  #수집된 정보 중에 중복 데이터 삭제\n",
        "  movie_df2 = movie_df.drop_duplicates(\"줄거리\",keep='first') #줄거리 비교해서, 중복된 영화를 삭제 (첫 번째 수집 영화만 남김)\n",
        "\n",
        "  return movie_df2\n",
        "    "
      ],
      "execution_count": null,
      "outputs": []
    },
    {
      "cell_type": "markdown",
      "metadata": {
        "id": "3uoHi0blLQUc"
      },
      "source": [
        "CSV 파일로 저장"
      ]
    },
    {
      "cell_type": "code",
      "metadata": {
        "id": "tHT9KkKEF2Er"
      },
      "source": [
        "def dftoCsv(movie_df,num):\n",
        "  try:\n",
        "    movie_df.to_csv(('movie_my_data_'+str(num)+'csv'),\n",
        "                    sep=',',na_rep='NaN',encoding='euc-kr')\n",
        "  except:\n",
        "    print(\"Error\")"
      ],
      "execution_count": null,
      "outputs": []
    },
    {
      "cell_type": "code",
      "metadata": {
        "colab": {
          "base_uri": "https://localhost:8080/"
        },
        "id": "Wt7zQ7jiLtSh",
        "outputId": "73e1852f-7b76-41a6-b531-c9f0307ec6ce"
      },
      "source": [
        "#1. 크롤링 할 링크 생성\n",
        "links = getPageLinksWantRange(1,5)\n",
        "\n",
        "#2. 영화 상세 정보 수집\n",
        "movie_df2 = getMovieDataFromNaverSeries(links)\n",
        "\n",
        "#3. csv 파일 저장\n",
        "dftoCsv(movie_df2,len(movie_df2))"
      ],
      "execution_count": null,
      "outputs": [
        {
          "output_type": "stream",
          "text": [
            "https://series.naver.com/movie/detail.nhn?productNo=3400212 수집 중......\n"
          ],
          "name": "stdout"
        },
        {
          "output_type": "stream",
          "text": [
            "/usr/local/lib/python3.7/dist-packages/ipykernel_launcher.py:18: DeprecationWarning: use driver.switch_to.window instead\n",
            "/usr/local/lib/python3.7/dist-packages/ipykernel_launcher.py:23: DeprecationWarning: use driver.switch_to.window instead\n"
          ],
          "name": "stderr"
        },
        {
          "output_type": "stream",
          "text": [
            "https://series.naver.com/movie/detail.nhn?productNo=6291892 수집 중......\n",
            "https://series.naver.com/movie/detail.nhn?productNo=3024534 수집 중......\n",
            "https://series.naver.com/movie/detail.nhn?productNo=6315371 수집 중......\n",
            "https://series.naver.com/movie/detail.nhn?productNo=4579842 수집 중......\n",
            "https://series.naver.com/movie/detail.nhn?productNo=2822635 수집 중......\n",
            "청불 영화로 데이터 수집하지 않습니다.\n",
            "https://series.naver.com/movie/detail.nhn?productNo=6243813 수집 중......\n",
            "https://series.naver.com/movie/detail.nhn?productNo=6023769 수집 중......\n",
            "https://series.naver.com/movie/detail.nhn?productNo=3639460 수집 중......\n",
            "청불 영화로 데이터 수집하지 않습니다.\n",
            "https://series.naver.com/movie/detail.nhn?productNo=6176165 수집 중......\n",
            "https://series.naver.com/movie/detail.nhn?productNo=6119777 수집 중......\n",
            "https://series.naver.com/movie/detail.nhn?productNo=5843892 수집 중......\n",
            "https://series.naver.com/movie/detail.nhn?productNo=4356726 수집 중......\n",
            "https://series.naver.com/movie/detail.nhn?productNo=6039515 수집 중......\n",
            "https://series.naver.com/movie/detail.nhn?productNo=6257268 수집 중......\n",
            "https://series.naver.com/movie/detail.nhn?productNo=6158879 수집 중......\n",
            "https://series.naver.com/movie/detail.nhn?productNo=6139375 수집 중......\n",
            "https://series.naver.com/movie/detail.nhn?productNo=5751044 수집 중......\n",
            "https://series.naver.com/movie/detail.nhn?productNo=4517752 수집 중......\n",
            "https://series.naver.com/movie/detail.nhn?productNo=3400211 수집 중......\n",
            "https://series.naver.com/movie/detail.nhn?productNo=3406719 수집 중......\n",
            "https://series.naver.com/movie/detail.nhn?productNo=6063434 수집 중......\n",
            "https://series.naver.com/movie/detail.nhn?productNo=4881160 수집 중......\n",
            "https://series.naver.com/movie/detail.nhn?productNo=1405968 수집 중......\n",
            "청불 영화로 데이터 수집하지 않습니다.\n",
            "https://series.naver.com/movie/detail.nhn?productNo=6176166 수집 중......\n",
            "https://series.naver.com/movie/detail.nhn?productNo=6283379 수집 중......\n",
            "청불 영화로 데이터 수집하지 않습니다.\n",
            "https://series.naver.com/movie/detail.nhn?productNo=6322783 수집 중......\n",
            "청불 영화로 데이터 수집하지 않습니다.\n",
            "https://series.naver.com/movie/detail.nhn?productNo=6283368 수집 중......\n",
            "https://series.naver.com/movie/detail.nhn?productNo=6253746 수집 중......\n",
            "https://series.naver.com/movie/detail.nhn?productNo=6225301 수집 중......\n",
            "https://series.naver.com/movie/detail.nhn?productNo=6143439 수집 중......\n",
            "https://series.naver.com/movie/detail.nhn?productNo=5962389 수집 중......\n",
            "https://series.naver.com/movie/detail.nhn?productNo=5607754 수집 중......\n",
            "https://series.naver.com/movie/detail.nhn?productNo=5563449 수집 중......\n",
            "https://series.naver.com/movie/detail.nhn?productNo=5176403 수집 중......\n",
            "https://series.naver.com/movie/detail.nhn?productNo=4291079 수집 중......\n",
            "https://series.naver.com/movie/detail.nhn?productNo=3478547 수집 중......\n",
            "https://series.naver.com/movie/detail.nhn?productNo=3488371 수집 중......\n",
            "청불 영화로 데이터 수집하지 않습니다.\n",
            "https://series.naver.com/movie/detail.nhn?productNo=3532815 수집 중......\n",
            "https://series.naver.com/movie/detail.nhn?productNo=3448644 수집 중......\n",
            "https://series.naver.com/movie/detail.nhn?productNo=3293948 수집 중......\n",
            "청불 영화로 데이터 수집하지 않습니다.\n",
            "https://series.naver.com/movie/detail.nhn?productNo=2173885 수집 중......\n",
            "https://series.naver.com/movie/detail.nhn?productNo=1833976 수집 중......\n",
            "청불 영화로 데이터 수집하지 않습니다.\n",
            "https://series.naver.com/movie/detail.nhn?productNo=1760739 수집 중......\n",
            "https://series.naver.com/movie/detail.nhn?productNo=1435765 수집 중......\n",
            "https://series.naver.com/movie/detail.nhn?productNo=1126516 수집 중......\n",
            "https://series.naver.com/movie/detail.nhn?productNo=3509734 수집 중......\n",
            "https://series.naver.com/movie/detail.nhn?productNo=1814755 수집 중......\n",
            "https://series.naver.com/movie/detail.nhn?productNo=1619627 수집 중......\n",
            "https://series.naver.com/movie/detail.nhn?productNo=5544842 수집 중......\n",
            "https://series.naver.com/movie/detail.nhn?productNo=6067525 수집 중......\n",
            "https://series.naver.com/movie/detail.nhn?productNo=2046885 수집 중......\n",
            "청불 영화로 데이터 수집하지 않습니다.\n",
            "https://series.naver.com/movie/detail.nhn?productNo=6304666 수집 중......\n",
            "https://series.naver.com/movie/detail.nhn?productNo=6304665 수집 중......\n",
            "https://series.naver.com/movie/detail.nhn?productNo=6283369 수집 중......\n",
            "https://series.naver.com/movie/detail.nhn?productNo=6239179 수집 중......\n",
            "https://series.naver.com/movie/detail.nhn?productNo=6261838 수집 중......\n",
            "https://series.naver.com/movie/detail.nhn?productNo=6210992 수집 중......\n",
            "https://series.naver.com/movie/detail.nhn?productNo=6210983 수집 중......\n",
            "https://series.naver.com/movie/detail.nhn?productNo=6176542 수집 중......\n",
            "https://series.naver.com/movie/detail.nhn?productNo=6176518 수집 중......\n",
            "청불 영화로 데이터 수집하지 않습니다.\n",
            "https://series.naver.com/movie/detail.nhn?productNo=6176543 수집 중......\n",
            "https://series.naver.com/movie/detail.nhn?productNo=6147091 수집 중......\n",
            "https://series.naver.com/movie/detail.nhn?productNo=6147667 수집 중......\n",
            "https://series.naver.com/movie/detail.nhn?productNo=6139377 수집 중......\n",
            "https://series.naver.com/movie/detail.nhn?productNo=6071065 수집 중......\n",
            "https://series.naver.com/movie/detail.nhn?productNo=6078990 수집 중......\n",
            "https://series.naver.com/movie/detail.nhn?productNo=6210977 수집 중......\n",
            "https://series.naver.com/movie/detail.nhn?productNo=6098871 수집 중......\n",
            "https://series.naver.com/movie/detail.nhn?productNo=6051637 수집 중......\n",
            "https://series.naver.com/movie/detail.nhn?productNo=5928179 수집 중......\n",
            "https://series.naver.com/movie/detail.nhn?productNo=6139376 수집 중......\n",
            "https://series.naver.com/movie/detail.nhn?productNo=5928177 수집 중......\n",
            "https://series.naver.com/movie/detail.nhn?productNo=5843915 수집 중......\n",
            "https://series.naver.com/movie/detail.nhn?productNo=5586481 수집 중......\n",
            "https://series.naver.com/movie/detail.nhn?productNo=5673193 수집 중......\n",
            "https://series.naver.com/movie/detail.nhn?productNo=5575353 수집 중......\n",
            "https://series.naver.com/movie/detail.nhn?productNo=5677287 수집 중......\n",
            "https://series.naver.com/movie/detail.nhn?productNo=5568384 수집 중......\n",
            "https://series.naver.com/movie/detail.nhn?productNo=5404435 수집 중......\n",
            "https://series.naver.com/movie/detail.nhn?productNo=5316666 수집 중......\n",
            "https://series.naver.com/movie/detail.nhn?productNo=5224989 수집 중......\n",
            "https://series.naver.com/movie/detail.nhn?productNo=5181570 수집 중......\n",
            "https://series.naver.com/movie/detail.nhn?productNo=5110447 수집 중......\n",
            "https://series.naver.com/movie/detail.nhn?productNo=2113323 수집 중......\n",
            "https://series.naver.com/movie/detail.nhn?productNo=5077509 수집 중......\n",
            "https://series.naver.com/movie/detail.nhn?productNo=4948106 수집 중......\n",
            "청불 영화로 데이터 수집하지 않습니다.\n",
            "https://series.naver.com/movie/detail.nhn?productNo=4844447 수집 중......\n",
            "https://series.naver.com/movie/detail.nhn?productNo=4711570 수집 중......\n",
            "https://series.naver.com/movie/detail.nhn?productNo=4561487 수집 중......\n",
            "https://series.naver.com/movie/detail.nhn?productNo=4685705 수집 중......\n",
            "https://series.naver.com/movie/detail.nhn?productNo=4517655 수집 중......\n",
            "https://series.naver.com/movie/detail.nhn?productNo=5007403 수집 중......\n",
            "https://series.naver.com/movie/detail.nhn?productNo=4459847 수집 중......\n",
            "https://series.naver.com/movie/detail.nhn?productNo=4455722 수집 중......\n",
            "https://series.naver.com/movie/detail.nhn?productNo=4406211 수집 중......\n",
            "https://series.naver.com/movie/detail.nhn?productNo=4568635 수집 중......\n",
            "청불 영화로 데이터 수집하지 않습니다.\n",
            "https://series.naver.com/movie/detail.nhn?productNo=4517739 수집 중......\n",
            "https://series.naver.com/movie/detail.nhn?productNo=4322028 수집 중......\n",
            "청불 영화로 데이터 수집하지 않습니다.\n",
            "https://series.naver.com/movie/detail.nhn?productNo=4406203 수집 중......\n",
            "청불 영화로 데이터 수집하지 않습니다.\n",
            "수집 완료 합니다.....\n",
            "86 86 86\n"
          ],
          "name": "stdout"
        }
      ]
    },
    {
      "cell_type": "code",
      "metadata": {
        "id": "sx0iB69EMQZE"
      },
      "source": [
        ""
      ],
      "execution_count": null,
      "outputs": []
    }
  ]
}